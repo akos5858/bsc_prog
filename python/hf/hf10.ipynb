{
 "cells": [
  {
   "cell_type": "code",
   "execution_count": 56,
   "metadata": {},
   "outputs": [],
   "source": [
    "import numpy as np\n",
    "import matplotlib.pyplot as plt\n",
    "import ipytest\n",
    "from itertools import combinations\n",
    "ipytest.autoconfig()"
   ]
  },
  {
   "cell_type": "code",
   "execution_count": 57,
   "metadata": {},
   "outputs": [],
   "source": [
    "def Point(x, y):\n",
    "    return np.array([x,y])\n",
    "\n",
    "def rotate90(x):\n",
    "    return np.flip(x, -1)*np.array([-1, 1])\n",
    "\n",
    "def is_even(n):\n",
    "    return bool(n%2==0)\n",
    "\n",
    "def zero_or_one(t: float) -> bool:\n",
    "    return (t==0) or (t==1)\n",
    "\n",
    "Vec = Point\n",
    "\n",
    "\n",
    "class Polygon:\n",
    "\n",
    "    def __init__(self, nodes):\n",
    "        self.nodes = nodes\n",
    "        if not self.is_polygon():\n",
    "            raise ValueError('Not a polygon')\n",
    "\n",
    "    def is_polygon(self):\n",
    "        if len(set((tuple(node) for node in self.nodes)))<len(self.nodes):\n",
    "            return False\n",
    "        edges = list(self.edge_lines())\n",
    "        for (i1, e1), (i2, e2) in combinations(enumerate(edges), 2):\n",
    "            if (i2==i1+1) or (i1==0 and i2==len(edges)-1):\n",
    "                continue \n",
    "            s, t = e1.intersection(e2)\n",
    "            if 0<=s<=1 and 0<=t<=1:\n",
    "                return False\n",
    "        return True\n",
    "\n",
    "    def is_convex(self):\n",
    "        nodes = np.array(self.nodes + self.nodes[:1])\n",
    "        edges = np.diff(nodes, axis=0)\n",
    "        idx = np.array([ i % len(edges) for i in range(1, len(edges)+1) ])\n",
    "        edges1 = edges[idx]\n",
    "        sgn = (rotate90(edges) * edges1).sum(axis=1)\n",
    "        return (min(sgn)*max(sgn)>=0)\n",
    "\n",
    "    def is_inner(self, point, return_line=False):\n",
    "        edges = list(self.edge_lines())\n",
    "        while True:\n",
    "            line = Line(point, np.random.normal(size=2))\n",
    "            while any(line.is_parallel(edge) for edge in edges):\n",
    "                line = Line(point, np.random.normal(size=2))\n",
    "            t_values =[edge.intersection(line) for edge in edges]\n",
    "            if all(not zero_or_one(t) for (t, s) in t_values):\n",
    "                break\n",
    "        points = [edge.point(t) for edge, (t, s) in zip(edges, t_values) if (0<t<1) and (s>=0)]\n",
    "        is_inner = not is_even(len(points)) \n",
    "        if return_line:\n",
    "            return is_inner, line, points\n",
    "        return is_inner\n",
    "    \n",
    "    def edge_lines(self):\n",
    "        for i, p in enumerate(self.nodes):\n",
    "            next_p = self.nodes[(i+1) % len(self.nodes)]\n",
    "            yield Line(p, next_p-p)\n",
    "\n",
    "    def area(self):\n",
    "        if self.is_convex():\n",
    "            nodes = np.array(self.nodes)\n",
    "            nodes = nodes-nodes[0]\n",
    "            area = 0\n",
    "            for v1, v2 in zip(nodes[1:], nodes[2:]):\n",
    "                area += abs(v1[0]*v2[1]-v1[1]*v2[0])\n",
    "            return area\n",
    "        else:\n",
    "            raise NotImplementedError\n",
    "            \n",
    "    def perimeter(self):\n",
    "        total = 0\n",
    "        for i, p in enumerate(self.nodes, 1):\n",
    "            j = i % len(self.nodes)\n",
    "            total += np.linalg.norm(self.nodes[j]-p)\n",
    "        return total\n",
    "\n",
    "    def draw(self, *args, fill=False, **kwargs):\n",
    "        for i, p0 in enumerate(self.nodes):\n",
    "            p1 = self.nodes[(i+1) % len(self.nodes)]\n",
    "        x, y = np.concatenate((self.nodes, self.nodes[:1]), axis=0).T\n",
    "        if fill:\n",
    "            plt.fill(x, y, alpha=0.5)\n",
    "        plt.plot(x, y, *args, **kwargs) \n",
    "        plt.axis('equal')\n",
    "    \n",
    "    def __repr__(self):\n",
    "        return f'{type(self).__name__}({[tuple(x) for x in self.nodes]})'\n",
    "\n",
    "\n",
    "class Rectangle(Polygon):\n",
    "    \n",
    "    def __init__(self, P1, P2, r):\n",
    "        \"\"\"\n",
    "        Assuming that e is P1P2 rotated counterclockwise by 90 degree\n",
    "        P1, P2, P2+r e, P1+re\n",
    "        \"\"\"\n",
    "        v = rotate90(P2-P1)*r\n",
    "        super(Rectangle, self).__init__([P1, P2, P2+v, P1+v])\n",
    "        \n",
    "    \n",
    "class Square(Rectangle):\n",
    "\n",
    "    def __init__(self, P1, P2):\n",
    "        super(Square, self).__init__(P1, P2, 1)\n",
    "\n",
    "\n",
    "class Line:\n",
    "    \n",
    "    def __init__(self, p: np.ndarray, e: np.ndarray):\n",
    "        if (e==0).all():\n",
    "            raise ValueError\n",
    "        self.p = p\n",
    "        self.e = e\n",
    "\n",
    "    def is_parallel(self, other) -> bool:\n",
    "        return np.linalg.det(np.stack((self.e, other.e))) == 0\n",
    "    \n",
    "    def intersection(self, other) -> float:\n",
    "        if self.is_parallel(other):\n",
    "            return np.array([np.Inf,np.Inf])\n",
    "        a = np.column_stack((self.e, -other.e))\n",
    "        b = other.p - self.p\n",
    "        return np.linalg.solve(a, b)\n",
    "    \n",
    "    def point(self, t: float):\n",
    "        return self.p + t*self.e\n",
    "    \n",
    "    def draw(self, half_line=False):\n",
    "        if not half_line:\n",
    "            plt.axline(self.p, self.p+self.e)\n",
    "        else:\n",
    "            x0, x1 = plt.xlim()\n",
    "            y0, y1 = plt.ylim()\n",
    "            for edge in [\n",
    "                Line(Point(x0, y0), Vec(0,y1-y0)),\n",
    "                Line(Point(x1, y0), Vec(0,y1-y0)),\n",
    "                Line(Point(x0, y0), Vec(x1-x0,0)),\n",
    "                Line(Point(x0, y1), Vec(x1-x0,0))                \n",
    "            ]:\n",
    "                t, s = self.intersection(edge)\n",
    "                if t>0 and (0<=s<=1):\n",
    "                    break\n",
    "            p = edge.point(s)\n",
    "\n",
    "            plt.plot(*np.stack((self.p, p), axis=1) )\n",
    "            plt.xlim(x0, x1)\n",
    "            plt.ylim(y0, y1)"
   ]
  },
  {
   "cell_type": "code",
   "execution_count": 58,
   "metadata": {},
   "outputs": [
    {
     "name": "stdout",
     "output_type": "stream",
     "text": [
      "\u001b[32m.\u001b[0m\u001b[32m.\u001b[0m\u001b[32m                                                                                           [100%]\u001b[0m\n",
      "\u001b[32m\u001b[32m\u001b[1m2 passed\u001b[0m\u001b[32m in 0.01s\u001b[0m\u001b[0m\n"
     ]
    }
   ],
   "source": [
    "%%ipytest\n",
    "\n",
    "def test_is_p():\n",
    "    p = Square(Point(0,0),Point(1,0))\n",
    "    assert p.is_convex() == True\n",
    "    assert p.is_polygon() == True\n",
    "    with pt.raises(ValueError):\n",
    "        Polygon([Point(0,0), Point(0,1), Point(1,0), Point(1,1)])\n",
    "        Polygon([Point(0,0), Point(1,2), Point(2,3), Point(0,0)])\n",
    "    p = Polygon(np.array([[0,0], [-1,3], [0,2], [1,3]]))\n",
    "    assert p.is_convex() == False\n",
    "    assert p.is_polygon() == True\n",
    "    with pt.raises(NotImplementedError):\n",
    "        p.area()\n",
    "        \n",
    "def test_Line():\n",
    "    p0 = np.array([1,0])\n",
    "    p1 = np.array([0,1])\n",
    "    l0 = Line(p0, p1)\n",
    "    l1 = Line(p1, p1)\n",
    "    l2 = Line(p1, p0)\n",
    "    \n",
    "    assert l0.is_parallel(l1) == True\n",
    "    assert l0.is_parallel(l2) == False\n",
    "    assert tuple(l0.intersection(l2)) == (1, 1)"
   ]
  },
  {
   "cell_type": "code",
   "execution_count": 59,
   "metadata": {},
   "outputs": [
    {
     "data": {
      "image/png": "[encoded data removed]",
      "text/plain": [
       "<Figure size 640x480 with 1 Axes>"
      ]
     },
     "metadata": {},
     "output_type": "display_data"
    }
   ],
   "source": [
    "points = np.array([[0,0], [1,1]])\n",
    "s = Square(points[0], points[1])\n",
    "s.draw(fill=True)"
   ]
  },
  {
   "cell_type": "code",
   "execution_count": 60,
   "metadata": {},
   "outputs": [
    {
     "data": {
      "image/png": "[encoded data removed]",
      "text/plain": [
       "<Figure size 640x480 with 1 Axes>"
      ]
     },
     "metadata": {},
     "output_type": "display_data"
    }
   ],
   "source": [
    "points = np.array([[0,0], [-1,3], [0,2], [1,3]])\n",
    "s = Polygon(points)\n",
    "s.draw(fill=True)"
   ]
  }
 ],
 "metadata": {
  "kernelspec": {
   "display_name": "Python 3.9.12 ('base')",
   "language": "python",
   "name": "python3"
  },
  "language_info": {
   "codemirror_mode": {
    "name": "ipython",
    "version": 3
   },
   "file_extension": ".py",
   "mimetype": "text/x-python",
   "name": "python",
   "nbconvert_exporter": "python",
   "pygments_lexer": "ipython3",
   "version": "3.9.12"
  },
  "orig_nbformat": 4,
  "vscode": {
   "interpreter": {
    "hash": "9429e3d8733c1ac76f5c3b0c6cdd2706acd1fd7b4f8c91f27a242412c8600fc4"
   }
  }
 },
 "nbformat": 4,
 "nbformat_minor": 2
}
