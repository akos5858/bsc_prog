{
  "cells": [
    {
      "cell_type": "markdown",
      "id": "4f4eaa6a",
      "metadata": {
        "id": "4f4eaa6a"
      },
      "source": [
        "[![Open In Colab](https://colab.research.google.com/assets/colab-badge.svg)](https://colab.research.google.com/github/prokaj/elte-python/blob/main/1-gyakorlat.ipynb)\n",
        "\n",
        "### Értékek és típusok\n",
        "\n",
        "Egy programozási nyelvnek fel kell tudnia ismerni különböző típusú értékeket. A Pythonban négy alapvető értékfajta (adattípus) van: egész (int), valós (float), karakterlánc vagy sztring (string) és logikai (bool).\n",
        "Egy érték típusára rákérdezhetünk a type függvénnyel.\n"
      ]
    },
    {
      "cell_type": "code",
      "execution_count": null,
      "id": "c2299973",
      "metadata": {
        "id": "c2299973",
        "outputId": "66c8879c-a27e-42c3-b6e7-bdc06c50083c"
      },
      "outputs": [
        {
          "data": {
            "text/plain": [
              "(int, float, str, bool)"
            ]
          },
          "execution_count": 2,
          "metadata": {},
          "output_type": "execute_result"
        }
      ],
      "source": [
        "a = 1 # int\n",
        "b = 1.232 # float\n",
        "c = \"alma\" # str\n",
        "d = True # or False bool\n",
        "type(a), type(b), type(c), type(d)"
      ]
    },
    {
      "cell_type": "code",
      "execution_count": null,
      "id": "c4c53f12",
      "metadata": {
        "scrolled": true,
        "id": "c4c53f12",
        "outputId": "f912c983-0d80-4d84-ed1e-373f3db8a1f6"
      },
      "outputs": [
        {
          "data": {
            "text/plain": [
              "int"
            ]
          },
          "execution_count": 133,
          "metadata": {},
          "output_type": "execute_result"
        }
      ],
      "source": [
        "type(12)"
      ]
    },
    {
      "cell_type": "markdown",
      "id": "892bb29f",
      "metadata": {
        "id": "892bb29f"
      },
      "source": [
        "Egy egész lehet pozitív és negatív is, tizedespont nélkül írjuk, és nagyságukra nincs korlát, de nem kezdhetjük nullával."
      ]
    },
    {
      "cell_type": "code",
      "execution_count": null,
      "id": "d9135e24",
      "metadata": {
        "id": "d9135e24",
        "outputId": "f75aa532-7758-4c18-eac4-b021befeefae"
      },
      "outputs": [
        {
          "ename": "SyntaxError",
          "evalue": "leading zeros in decimal integer literals are not permitted; use an 0o prefix for octal integers (690730769.py, line 1)",
          "output_type": "error",
          "traceback": [
            "\u001b[0;36m  Input \u001b[0;32mIn [1]\u001b[0;36m\u001b[0m\n\u001b[0;31m    09\u001b[0m\n\u001b[0m     ^\u001b[0m\n\u001b[0;31mSyntaxError\u001b[0m\u001b[0;31m:\u001b[0m leading zeros in decimal integer literals are not permitted; use an 0o prefix for octal integers\n"
          ]
        }
      ],
      "source": [
        "09"
      ]
    },
    {
      "cell_type": "markdown",
      "id": "b3281e4f",
      "metadata": {
        "id": "b3281e4f"
      },
      "source": [
        "A valós (float) számot tizedesponttal írjuk. (Ezek máshogy tárolódnak, mint az egészek, a valós számokkal végzett műveletek több memóriát is igényelnek.)"
      ]
    },
    {
      "cell_type": "markdown",
      "id": "ac319572",
      "metadata": {
        "id": "ac319572"
      },
      "source": [
        "Egész számokat ezres blokkokba csoportosítva is megadhatjuk:"
      ]
    },
    {
      "cell_type": "code",
      "execution_count": null,
      "id": "d518a8f2",
      "metadata": {
        "id": "d518a8f2",
        "outputId": "19ef9555-93d0-4cdb-d831-9a1fb295a523"
      },
      "outputs": [
        {
          "data": {
            "text/plain": [
              "1000456123"
            ]
          },
          "execution_count": 135,
          "metadata": {},
          "output_type": "execute_result"
        }
      ],
      "source": [
        "1_000_456_123"
      ]
    },
    {
      "cell_type": "code",
      "execution_count": null,
      "id": "59cad1ba",
      "metadata": {
        "id": "59cad1ba",
        "outputId": "03996a86-3f7f-4a72-db3b-057abbdb6f9a"
      },
      "outputs": [
        {
          "data": {
            "text/plain": [
              "float"
            ]
          },
          "execution_count": 136,
          "metadata": {},
          "output_type": "execute_result"
        }
      ],
      "source": [
        "type(5.8)"
      ]
    },
    {
      "cell_type": "code",
      "execution_count": null,
      "id": "fe1b5d40",
      "metadata": {
        "id": "fe1b5d40",
        "outputId": "5fd22763-bff7-40da-8f3b-c854aae5b95f"
      },
      "outputs": [
        {
          "data": {
            "text/plain": [
              "float"
            ]
          },
          "execution_count": 137,
          "metadata": {},
          "output_type": "execute_result"
        }
      ],
      "source": [
        "type(2.0)"
      ]
    },
    {
      "cell_type": "code",
      "execution_count": null,
      "id": "68b4caa7",
      "metadata": {
        "id": "68b4caa7",
        "outputId": "6a4108ca-714b-4b81-bdbd-102f9ac12f40"
      },
      "outputs": [
        {
          "data": {
            "text/plain": [
              "float"
            ]
          },
          "execution_count": 138,
          "metadata": {},
          "output_type": "execute_result"
        }
      ],
      "source": [
        "type(0.8)"
      ]
    },
    {
      "cell_type": "code",
      "execution_count": null,
      "id": "1d535090",
      "metadata": {
        "id": "1d535090",
        "outputId": "500a5482-85b3-4634-bafd-1c9107d49be9"
      },
      "outputs": [
        {
          "data": {
            "text/plain": [
              "float"
            ]
          },
          "execution_count": 139,
          "metadata": {},
          "output_type": "execute_result"
        }
      ],
      "source": [
        "type(.8)"
      ]
    },
    {
      "cell_type": "code",
      "execution_count": null,
      "id": "85f1c44e",
      "metadata": {
        "scrolled": true,
        "id": "85f1c44e",
        "outputId": "de430c6f-2f03-4d87-b531-2fddd8d53862"
      },
      "outputs": [
        {
          "data": {
            "text/plain": [
              "float"
            ]
          },
          "execution_count": 140,
          "metadata": {},
          "output_type": "execute_result"
        }
      ],
      "source": [
        "type(056.4)"
      ]
    },
    {
      "cell_type": "markdown",
      "id": "0583423c",
      "metadata": {
        "id": "0583423c"
      },
      "source": [
        "Mint látjuk, a valós szám kezdhető nullával, és nulla egész rész esetén a nulla elhagyható. A float is lehet negatív vagy pozitív. Használható a normálalak is:"
      ]
    },
    {
      "cell_type": "code",
      "execution_count": null,
      "id": "8a5c61da",
      "metadata": {
        "id": "8a5c61da",
        "outputId": "c64a2be3-6f62-4c78-ab68-94e0705de803"
      },
      "outputs": [
        {
          "data": {
            "text/plain": [
              "float"
            ]
          },
          "execution_count": 141,
          "metadata": {},
          "output_type": "execute_result"
        }
      ],
      "source": [
        "type(1.25e+12)"
      ]
    },
    {
      "cell_type": "markdown",
      "id": "d2206696",
      "metadata": {
        "id": "d2206696"
      },
      "source": [
        "A harmadik fontos adattípus a sztring, amely idézőjelek közötti szöveges adatot jelent. Szimpla, dupla, vagy akár tripla, ' vagy \" típusú idézőjel is használható. A többféle idézőjel jól jöhet olyan szöveg esetén, amely maga is tartalmaz idézőjelet. Pl.:"
      ]
    },
    {
      "cell_type": "code",
      "execution_count": null,
      "id": "fc00bbaf",
      "metadata": {
        "id": "fc00bbaf",
        "outputId": "82414755-3fd8-4669-b62e-96e5866b46be"
      },
      "outputs": [
        {
          "data": {
            "text/plain": [
              "\"Azt mondta: 'hello'.\""
            ]
          },
          "execution_count": 142,
          "metadata": {},
          "output_type": "execute_result"
        }
      ],
      "source": [
        "\"Azt mondta: 'hello'.\""
      ]
    },
    {
      "cell_type": "markdown",
      "id": "f9a62e8f",
      "metadata": {
        "id": "f9a62e8f"
      },
      "source": [
        "Megfigyelhetjük, hogy az interaktív Python shell az érték beírására visszaadja az értéket."
      ]
    },
    {
      "cell_type": "code",
      "execution_count": null,
      "id": "26b5cfd5",
      "metadata": {
        "id": "26b5cfd5",
        "outputId": "1a6f493d-479a-4b11-cf71-1b48dcdc0842"
      },
      "outputs": [
        {
          "data": {
            "text/plain": [
              "1250000000000.0"
            ]
          },
          "execution_count": 143,
          "metadata": {},
          "output_type": "execute_result"
        }
      ],
      "source": [
        "1.25e+12"
      ]
    },
    {
      "cell_type": "code",
      "execution_count": null,
      "id": "524c84a9",
      "metadata": {
        "id": "524c84a9",
        "outputId": "362d13aa-840c-4008-d441-4b1063d9245b"
      },
      "outputs": [
        {
          "data": {
            "text/plain": [
              "'Szia!'"
            ]
          },
          "execution_count": 144,
          "metadata": {},
          "output_type": "execute_result"
        }
      ],
      "source": [
        "\"Szia!\""
      ]
    },
    {
      "cell_type": "markdown",
      "id": "82337f70",
      "metadata": {
        "id": "82337f70"
      },
      "source": [
        "A negyedik adattípussal, a logikaival később foglalkozunk."
      ]
    },
    {
      "cell_type": "markdown",
      "id": "90b3dc10",
      "metadata": {
        "id": "90b3dc10"
      },
      "source": [
        "### Változók\n",
        "\n",
        "A változó egy név, amely egy értékre utal, hasonlóan egy címkéhez. Úgy is tekinthetünk rá, hogy eltárolunk benne egy értéket, hogy később rákérdezhessünk vagy dolgozhassunk vele. Amikor egy értéket eltárolunk egy változóban, azt értékadásnak nevezzük. Ez = jellel történik."
      ]
    },
    {
      "cell_type": "code",
      "execution_count": null,
      "id": "cbdf158f",
      "metadata": {
        "id": "cbdf158f"
      },
      "outputs": [],
      "source": [
        "n = 25"
      ]
    },
    {
      "cell_type": "markdown",
      "id": "cd3749fc",
      "metadata": {
        "id": "cd3749fc"
      },
      "source": [
        "A fenti sorral létrehoztuk az n nevű változót, amelynek a 25 értéket adtuk. Vigyázat, az egyenlőség két oldala nem cserélhető fel, a 25 = n egyenlőség a gép számára értelmezhetetlen. A változó a bal, az érték a jobb oldalon álljon! A változó nevének a beírásával visszakapjuk az értékét interaktív módban. Később, ha programban akarunk rákérdezni egy változó értékére, akkor a print függvényt kell használnunk (print(valtozonev)), ami persze itt is működik.  "
      ]
    },
    {
      "cell_type": "code",
      "execution_count": null,
      "id": "af49ee16",
      "metadata": {
        "id": "af49ee16",
        "outputId": "b39fabd9-e871-474c-9023-95534af0ce11"
      },
      "outputs": [
        {
          "data": {
            "text/plain": [
              "25"
            ]
          },
          "execution_count": 146,
          "metadata": {},
          "output_type": "execute_result"
        }
      ],
      "source": [
        "n"
      ]
    },
    {
      "cell_type": "code",
      "execution_count": null,
      "id": "0129621c",
      "metadata": {
        "id": "0129621c",
        "outputId": "5273ab31-5b3c-45d8-9b0c-91ca58e9bb11"
      },
      "outputs": [
        {
          "name": "stdout",
          "output_type": "stream",
          "text": [
            "25\n"
          ]
        }
      ],
      "source": [
        "print(n)"
      ]
    },
    {
      "cell_type": "markdown",
      "id": "71bfea06",
      "metadata": {
        "id": "71bfea06"
      },
      "source": [
        "Egy változó értékét meg is változtathatjuk, pl. egyszerűen felülírhatjuk (akár más típusú értékkel is), vagy pl. hozzáadhatunk 1-et. "
      ]
    },
    {
      "cell_type": "code",
      "execution_count": null,
      "id": "9fd15b8a",
      "metadata": {
        "id": "9fd15b8a",
        "outputId": "0ec9489a-a192-4cdb-e820-019a23d96230"
      },
      "outputs": [
        {
          "data": {
            "text/plain": [
              "40"
            ]
          },
          "execution_count": 148,
          "metadata": {},
          "output_type": "execute_result"
        }
      ],
      "source": [
        "x = 40\n",
        "x"
      ]
    },
    {
      "cell_type": "code",
      "execution_count": null,
      "id": "de478a76",
      "metadata": {
        "id": "de478a76",
        "outputId": "7f3a2d1c-bb4d-4d56-f402-65bc31578e43"
      },
      "outputs": [
        {
          "data": {
            "text/plain": [
              "41"
            ]
          },
          "execution_count": 149,
          "metadata": {},
          "output_type": "execute_result"
        }
      ],
      "source": [
        "x = x + 1\n",
        "x"
      ]
    },
    {
      "cell_type": "code",
      "execution_count": null,
      "id": "f9b4b3f1",
      "metadata": {
        "id": "f9b4b3f1",
        "outputId": "b825fd4b-d00c-4922-fbb7-cf541ba6c9cd"
      },
      "outputs": [
        {
          "data": {
            "text/plain": [
              "50"
            ]
          },
          "execution_count": 150,
          "metadata": {},
          "output_type": "execute_result"
        }
      ],
      "source": [
        "x = 50\n",
        "x"
      ]
    },
    {
      "cell_type": "code",
      "execution_count": null,
      "id": "dbd8611e",
      "metadata": {
        "id": "dbd8611e",
        "outputId": "a2809a96-a79f-4cfb-b6fb-0e4752631241"
      },
      "outputs": [
        {
          "data": {
            "text/plain": [
              "'kutya'"
            ]
          },
          "execution_count": 151,
          "metadata": {},
          "output_type": "execute_result"
        }
      ],
      "source": [
        "x = 'kutya'\n",
        "x"
      ]
    },
    {
      "cell_type": "markdown",
      "id": "5e5f7388",
      "metadata": {
        "id": "5e5f7388"
      },
      "source": [
        "Az int, float, str és bool függvényként is használatos, amikor valamely változó értékét át akarjuk alakítani más típusúvá (ún. típuskonverziós függvények). Pl. a 2022 egész számot át szeretnénk konvertálni szöveggé: '2022', vagy fordítva:"
      ]
    },
    {
      "cell_type": "code",
      "execution_count": null,
      "id": "1b2342ef",
      "metadata": {
        "id": "1b2342ef",
        "outputId": "b6d67872-23e8-4306-af3a-7bdf6feb6765"
      },
      "outputs": [
        {
          "data": {
            "text/plain": [
              "('2022', 2022)"
            ]
          },
          "execution_count": 152,
          "metadata": {},
          "output_type": "execute_result"
        }
      ],
      "source": [
        "str(2022), int('2022')"
      ]
    },
    {
      "cell_type": "code",
      "execution_count": null,
      "id": "cc41425f",
      "metadata": {
        "id": "cc41425f",
        "outputId": "bd267738-c80b-4a00-d44a-a3b30c619186"
      },
      "outputs": [
        {
          "data": {
            "text/plain": [
              "(str, 19, 19.0)"
            ]
          },
          "execution_count": 153,
          "metadata": {},
          "output_type": "execute_result"
        }
      ],
      "source": [
        "kor = '19'\n",
        "type(kor), int(kor), float(kor)"
      ]
    },
    {
      "cell_type": "markdown",
      "id": "370fdbde",
      "metadata": {
        "id": "370fdbde"
      },
      "source": [
        "### Műveletek, help\n",
        "\n",
        "Milyen műveleteket végezhetünk egy adott típussal? Több lehetőségünk van.\n",
        "\n",
        "```\n",
        "dir(int)\n",
        "```\n",
        "vagy általánosabban `dir(x)`, ahol x helyére tetszőleges python változó ill. típus kerülhet. "
      ]
    },
    {
      "cell_type": "code",
      "execution_count": null,
      "id": "662644df",
      "metadata": {
        "id": "662644df",
        "outputId": "1e7d1303-97ec-4cdf-e46f-3f8d5285fac2"
      },
      "outputs": [
        {
          "name": "stdout",
          "output_type": "stream",
          "text": [
            "['__add__', '__class__', '__contains__', '__delattr__', '__dir__', '__doc__', '__eq__', '__format__', '__ge__', '__getattribute__', '__getitem__', '__getnewargs__', '__gt__', '__hash__', '__init__', '__init_subclass__', '__iter__', '__le__', '__len__', '__lt__', '__mod__', '__mul__', '__ne__', '__new__', '__reduce__', '__reduce_ex__', '__repr__', '__rmod__', '__rmul__', '__setattr__', '__sizeof__', '__str__', '__subclasshook__', 'capitalize', 'casefold', 'center', 'count', 'encode', 'endswith', 'expandtabs', 'find', 'format', 'format_map', 'index', 'isalnum', 'isalpha', 'isascii', 'isdecimal', 'isdigit', 'isidentifier', 'islower', 'isnumeric', 'isprintable', 'isspace', 'istitle', 'isupper', 'join', 'ljust', 'lower', 'lstrip', 'maketrans', 'partition', 'replace', 'rfind', 'rindex', 'rjust', 'rpartition', 'rsplit', 'rstrip', 'split', 'splitlines', 'startswith', 'strip', 'swapcase', 'title', 'translate', 'upper', 'zfill']\n",
            "['capitalize', 'casefold', 'center', 'count', 'encode', 'endswith', 'expandtabs', 'find', 'format', 'format_map', 'index', 'isalnum', 'isalpha', 'isascii', 'isdecimal', 'isdigit', 'isidentifier', 'islower', 'isnumeric', 'isprintable', 'isspace', 'istitle', 'isupper', 'join', 'ljust', 'lower', 'lstrip', 'maketrans', 'partition', 'replace', 'rfind', 'rindex', 'rjust', 'rpartition', 'rsplit', 'rstrip', 'split', 'splitlines', 'startswith', 'strip', 'swapcase', 'title', 'translate', 'upper', 'zfill']\n"
          ]
        }
      ],
      "source": [
        "print(dir(str))\n",
        "\n",
        "## nem rejtett metódusok listázása\n",
        "## később kiderül mi is történik itt\n",
        "print([ name for name in dir(str) if name[0]!=\"_\"])"
      ]
    },
    {
      "cell_type": "code",
      "execution_count": null,
      "id": "b1e4b16b",
      "metadata": {
        "id": "b1e4b16b",
        "outputId": "7fb6b32b-65e7-4f42-e10f-2293318d2717"
      },
      "outputs": [
        {
          "name": "stdout",
          "output_type": "stream",
          "text": [
            "\u001b[0;31mSignature:\u001b[0m \u001b[0mstr\u001b[0m\u001b[0;34m.\u001b[0m\u001b[0mstrip\u001b[0m\u001b[0;34m(\u001b[0m\u001b[0mself\u001b[0m\u001b[0;34m,\u001b[0m \u001b[0mchars\u001b[0m\u001b[0;34m=\u001b[0m\u001b[0;32mNone\u001b[0m\u001b[0;34m,\u001b[0m \u001b[0;34m/\u001b[0m\u001b[0;34m)\u001b[0m\u001b[0;34m\u001b[0m\u001b[0;34m\u001b[0m\u001b[0m\n",
            "\u001b[0;31mDocstring:\u001b[0m\n",
            "Return a copy of the string with leading and trailing whitespace removed.\n",
            "\n",
            "If chars is given and not None, remove characters in chars instead.\n",
            "\u001b[0;31mType:\u001b[0m      method_descriptor\n"
          ]
        }
      ],
      "source": [
        "## Egy kérdőjel a sor végén az adott objektum doksiját hozza elő!\n",
        "str.strip?"
      ]
    },
    {
      "cell_type": "code",
      "execution_count": null,
      "id": "c854486a",
      "metadata": {
        "id": "c854486a",
        "outputId": "ddcaeb81-bc14-4627-af4d-a0655a41da84"
      },
      "outputs": [
        {
          "name": "stdout",
          "output_type": "stream",
          "text": [
            "\u001b[0;31mSignature:\u001b[0m \u001b[0mf\u001b[0m\u001b[0;34m(\u001b[0m\u001b[0;34m)\u001b[0m\u001b[0;34m\u001b[0m\u001b[0;34m\u001b[0m\u001b[0m\n",
            "\u001b[0;31mDocstring:\u001b[0m <no docstring>\n",
            "\u001b[0;31mSource:\u001b[0m   \n",
            "\u001b[0;32mdef\u001b[0m \u001b[0mf\u001b[0m\u001b[0;34m(\u001b[0m\u001b[0;34m)\u001b[0m\u001b[0;34m:\u001b[0m\u001b[0;34m\u001b[0m\n",
            "\u001b[0;34m\u001b[0m    \u001b[0;32mpass\u001b[0m\u001b[0;34m\u001b[0m\u001b[0;34m\u001b[0m\u001b[0m\n",
            "\u001b[0;31mFile:\u001b[0m      /tmp/ipykernel_275441/2090659091.py\n",
            "\u001b[0;31mType:\u001b[0m      function\n"
          ]
        }
      ],
      "source": [
        "def f():\n",
        "    pass\n",
        "## Két kérdőjel a sor végén az adott objektum forrás kódját hozza elő!\n",
        "f??"
      ]
    },
    {
      "cell_type": "markdown",
      "id": "a3984e4f",
      "metadata": {
        "id": "a3984e4f"
      },
      "source": [
        "### Műveletek számokkal"
      ]
    },
    {
      "cell_type": "markdown",
      "id": "7a4fc98b",
      "metadata": {
        "id": "7a4fc98b"
      },
      "source": [
        "Az előadáson volt szó az aritmetikai művelekről (+, -, *, **, \\/, \\%). Ehhez néhány kiegészítés: \n",
        "Ha float szerepel egy kifejezésben, akkor az eredmény is float lesz:"
      ]
    },
    {
      "cell_type": "code",
      "execution_count": null,
      "id": "022d436f",
      "metadata": {
        "id": "022d436f",
        "outputId": "b80b53bb-4f6b-4cdd-a5dc-96e1276a2438"
      },
      "outputs": [
        {
          "data": {
            "text/plain": [
              "3.0"
            ]
          },
          "execution_count": 157,
          "metadata": {},
          "output_type": "execute_result"
        }
      ],
      "source": [
        "5-2.0"
      ]
    },
    {
      "cell_type": "markdown",
      "id": "a0ff212e",
      "metadata": {
        "id": "a0ff212e"
      },
      "source": [
        "A hatványozás két * jellel történik, amelyek között nem lehet szóköz."
      ]
    },
    {
      "cell_type": "code",
      "execution_count": null,
      "id": "9d86f1f4",
      "metadata": {
        "id": "9d86f1f4",
        "outputId": "d1749b1f-829d-4ec1-a44d-c2c0446490a2"
      },
      "outputs": [
        {
          "data": {
            "text/plain": [
              "8"
            ]
          },
          "execution_count": 158,
          "metadata": {},
          "output_type": "execute_result"
        }
      ],
      "source": [
        "2 ** 3"
      ]
    },
    {
      "cell_type": "markdown",
      "id": "225f0eba",
      "metadata": {
        "id": "225f0eba"
      },
      "source": [
        "Sokszor hasznos a // jellel végzett egész osztás: a // b megadja, hogy a-ban hányszor van meg b, továbbá a \\% jellel végzett maradékos osztás: a \\% b megadja, hogy a-t b-vel osztva mennyi a maradék."
      ]
    },
    {
      "cell_type": "code",
      "execution_count": null,
      "id": "8a636d34",
      "metadata": {
        "id": "8a636d34",
        "outputId": "92d7e643-b320-48d1-e2c0-0f000482a354"
      },
      "outputs": [
        {
          "data": {
            "text/plain": [
              "3"
            ]
          },
          "execution_count": 159,
          "metadata": {},
          "output_type": "execute_result"
        }
      ],
      "source": [
        "10 // 3"
      ]
    },
    {
      "cell_type": "code",
      "execution_count": null,
      "id": "bc63d0ca",
      "metadata": {
        "id": "bc63d0ca",
        "outputId": "a8b05194-c653-4fd4-da34-a01e8bc8fa22"
      },
      "outputs": [
        {
          "data": {
            "text/plain": [
              "1"
            ]
          },
          "execution_count": 160,
          "metadata": {},
          "output_type": "execute_result"
        }
      ],
      "source": [
        "10 % 3"
      ]
    },
    {
      "cell_type": "markdown",
      "id": "79208679",
      "metadata": {
        "id": "79208679"
      },
      "source": [
        "Példák:\n",
        "1) Számítsuk ki, hogy x (pl. x = 10000) másodperc hány óra, perc ill. nap."
      ]
    },
    {
      "cell_type": "code",
      "execution_count": null,
      "id": "1c11b552",
      "metadata": {
        "id": "1c11b552"
      },
      "outputs": [],
      "source": [
        "x = 10000\n",
        "orak = x // 3600\n",
        "megmaradt_masodpercek = x % 3600\n",
        "percek = megmaradt_masodpercek // 60\n",
        "masodpercek = megmaradt_masodpercek % 60"
      ]
    },
    {
      "cell_type": "code",
      "execution_count": null,
      "id": "84969acc",
      "metadata": {
        "id": "84969acc",
        "outputId": "1fd3819a-971d-4f25-8a22-46da740039a8"
      },
      "outputs": [
        {
          "data": {
            "text/plain": [
              "(2, 46, 40)"
            ]
          },
          "execution_count": 162,
          "metadata": {},
          "output_type": "execute_result"
        }
      ],
      "source": [
        "orak, percek, masodpercek"
      ]
    },
    {
      "cell_type": "code",
      "execution_count": null,
      "id": "28b05a10",
      "metadata": {
        "id": "28b05a10",
        "outputId": "119f82ef-5cd3-494d-8700-4881bb1c6cbb"
      },
      "outputs": [
        {
          "data": {
            "text/plain": [
              "10000"
            ]
          },
          "execution_count": 163,
          "metadata": {},
          "output_type": "execute_result"
        }
      ],
      "source": [
        "2*3600 + 46*60 + 40"
      ]
    },
    {
      "cell_type": "markdown",
      "id": "e9636638",
      "metadata": {
        "id": "e9636638"
      },
      "source": [
        "2) Határozzuk meg egy egész szám (pl. n = 12896) a) utolsó, b) utolsó kettő, c) utolsó három számjegyét."
      ]
    },
    {
      "cell_type": "code",
      "execution_count": null,
      "id": "7d958a88",
      "metadata": {
        "id": "7d958a88",
        "outputId": "a5c45ff0-f0eb-4ca8-da1f-7ba3f77885a2"
      },
      "outputs": [
        {
          "data": {
            "text/plain": [
              "(6, 96, 896)"
            ]
          },
          "execution_count": 164,
          "metadata": {},
          "output_type": "execute_result"
        }
      ],
      "source": [
        "x = 12896\n",
        "utolso_szamjegy = x % 10\n",
        "utolso_ket_szamjegy = x % 100\n",
        "utolso_harom_szamjegy = x % 1000\n",
        "utolso_szamjegy, utolso_ket_szamjegy, utolso_harom_szamjegy"
      ]
    },
    {
      "cell_type": "markdown",
      "id": "bfcb29f0",
      "metadata": {
        "id": "bfcb29f0"
      },
      "source": [
        "3) Hogyan vizsgálhatjuk meg, hogy egy k szám páros vagy páratlan-e?\n",
        "Ha k % 2  0-t ad eredményül, akkor páros, ha pedig 1-et, akkor páratlan."
      ]
    },
    {
      "cell_type": "code",
      "execution_count": null,
      "id": "2887054d",
      "metadata": {
        "id": "2887054d",
        "outputId": "e589efa8-020e-4306-ba47-3e73e645d795"
      },
      "outputs": [
        {
          "data": {
            "text/plain": [
              "1"
            ]
          },
          "execution_count": 165,
          "metadata": {},
          "output_type": "execute_result"
        }
      ],
      "source": [
        "k = 89\n",
        "k % 2"
      ]
    },
    {
      "cell_type": "code",
      "execution_count": null,
      "id": "06e216c5",
      "metadata": {
        "scrolled": true,
        "id": "06e216c5",
        "outputId": "e9c5ac34-7bf3-4df3-a30c-b7ee9618beee"
      },
      "outputs": [
        {
          "data": {
            "text/plain": [
              "0"
            ]
          },
          "execution_count": 166,
          "metadata": {},
          "output_type": "execute_result"
        }
      ],
      "source": [
        "k = 90\n",
        "k % 2"
      ]
    },
    {
      "cell_type": "markdown",
      "id": "2291e492",
      "metadata": {
        "id": "2291e492"
      },
      "source": [
        "### Bit műveletek\n",
        "\n",
        "Ha egész számaink vannak, akkor azt a gép kettes számrendszerben tárolja, pl. 13=1+4+8, így a gépben tárolt érték\n",
        "egy olyan bit sorozat, aminek a vége 1101. Ha megakarjuk nézni egy szám kettes számrendszerbeli alakját, akkor a `bin`\n",
        "függvényt használhatjuk  \n",
        "\n",
        "    Signature: bin(number, /)\n",
        "    Docstring:\n",
        "    Return the binary representation of an integer.\n",
        "\n",
        "    >>> bin(2796202)\n",
        "    '0b1010101010101010101010'\n",
        "    Type:      builtin_function_or_method"
      ]
    },
    {
      "cell_type": "code",
      "execution_count": null,
      "id": "60aa7ca0",
      "metadata": {
        "id": "60aa7ca0",
        "outputId": "7891765e-10c9-4d9b-855b-10457eac8b83"
      },
      "outputs": [
        {
          "data": {
            "text/plain": [
              "'0b1101'"
            ]
          },
          "execution_count": 167,
          "metadata": {},
          "output_type": "execute_result"
        }
      ],
      "source": [
        "bin(13)"
      ]
    },
    {
      "cell_type": "markdown",
      "id": "b7174852",
      "metadata": {
        "id": "b7174852"
      },
      "source": [
        "A biteket lehet ,,shiftelni\" "
      ]
    },
    {
      "cell_type": "code",
      "execution_count": null,
      "id": "30d8fd76",
      "metadata": {
        "id": "30d8fd76",
        "outputId": "a9722540-8be6-44d3-c97c-de03670450f6"
      },
      "outputs": [
        {
          "data": {
            "text/plain": [
              "(26, '0b1101', '0b11010')"
            ]
          },
          "execution_count": 168,
          "metadata": {},
          "output_type": "execute_result"
        }
      ],
      "source": [
        "13<<1, bin(13), bin(13<<1)"
      ]
    },
    {
      "cell_type": "code",
      "execution_count": null,
      "id": "29fea2ac",
      "metadata": {
        "id": "29fea2ac",
        "outputId": "086c628c-0fdb-4a0d-8b62-d2f800746d36"
      },
      "outputs": [
        {
          "data": {
            "text/plain": [
              "(6, '0b1101', '0b110')"
            ]
          },
          "execution_count": 169,
          "metadata": {},
          "output_type": "execute_result"
        }
      ],
      "source": [
        "13>>1, bin(13), bin(13>>1)"
      ]
    },
    {
      "cell_type": "markdown",
      "id": "74f0df65",
      "metadata": {
        "id": "74f0df65"
      },
      "source": [
        "A bináris alakból visszalehet konvertálni, ha a számrendszer alapját is megadjuk az `int` függvénynek"
      ]
    },
    {
      "cell_type": "code",
      "execution_count": null,
      "id": "f8190f62",
      "metadata": {
        "id": "f8190f62",
        "outputId": "4da96570-78de-4967-d4bb-f35a64557692"
      },
      "outputs": [
        {
          "data": {
            "text/plain": [
              "('0b11010', 26)"
            ]
          },
          "execution_count": 170,
          "metadata": {},
          "output_type": "execute_result"
        }
      ],
      "source": [
        "bin(26), int(bin(26), base=2)"
      ]
    },
    {
      "cell_type": "markdown",
      "id": "535f63e1",
      "metadata": {
        "id": "535f63e1"
      },
      "source": [
        "Végül a bitenkénti műveleteket is végezhetünk. \n",
        "\n",
        "- és, AND: &\n",
        "- vagy, OR: |\n",
        "- kizáró vagy: ^\n",
        "- komplementer: ~\n",
        "\n",
        "Ha a bitsorozatra egy halmaz indikátoraként gondolunk, akkor metszet, únió és szimmetrikus differencia az első három művelet."
      ]
    },
    {
      "cell_type": "code",
      "execution_count": null,
      "id": "16858cb4",
      "metadata": {
        "id": "16858cb4",
        "outputId": "4669f1fc-c31f-4c2e-b977-45d0d2be66f8"
      },
      "outputs": [
        {
          "data": {
            "text/plain": [
              "('0b11001', 1)"
            ]
          },
          "execution_count": 171,
          "metadata": {},
          "output_type": "execute_result"
        }
      ],
      "source": [
        "n = 25\n",
        "bin(n), ((n) & (-n))"
      ]
    },
    {
      "cell_type": "code",
      "execution_count": null,
      "id": "4b81575c",
      "metadata": {
        "id": "4b81575c",
        "outputId": "14350967-38e6-4e95-ee74-7e05f7adda68"
      },
      "outputs": [
        {
          "data": {
            "text/plain": [
              "('0b1100', '0b1001')"
            ]
          },
          "execution_count": 172,
          "metadata": {},
          "output_type": "execute_result"
        }
      ],
      "source": [
        "bin(12), bin(9)"
      ]
    },
    {
      "cell_type": "code",
      "execution_count": null,
      "id": "ba7830a5",
      "metadata": {
        "id": "ba7830a5",
        "outputId": "45cd8c80-621d-4009-c70c-e3b5cf10d4b2"
      },
      "outputs": [
        {
          "data": {
            "text/plain": [
              "('0b1000', '0b1001', '0b1101', '0b1100', '0b101')"
            ]
          },
          "execution_count": 1,
          "metadata": {},
          "output_type": "execute_result"
        }
      ],
      "source": [
        "# & nem ugyanaz, mint and, | nem ugyanaz, mint or \n",
        "bin(12 & 9), bin(12 and 9), bin(12 | 9), bin(12 or 9), bin(12 ^ 9)"
      ]
    },
    {
      "cell_type": "code",
      "execution_count": null,
      "id": "c7dfbf8a",
      "metadata": {
        "id": "c7dfbf8a",
        "outputId": "440c8c53-684e-4050-b793-050a3046e560"
      },
      "outputs": [
        {
          "name": "stdout",
          "output_type": "stream",
          "text": [
            "0\n",
            "1\n",
            "2\n",
            "False\n"
          ]
        }
      ],
      "source": [
        "def f(i):\n",
        "    print(i)\n",
        "    return i\n",
        "\n",
        "print((f(0)<2) and (f(1)<2) and (f(2)<2) and (f(3)<2)) # a sort a vegtelensegig foytathatank"
      ]
    },
    {
      "cell_type": "code",
      "execution_count": null,
      "id": "360bf8be",
      "metadata": {
        "id": "360bf8be"
      },
      "outputs": [],
      "source": []
    },
    {
      "cell_type": "markdown",
      "id": "e42a5533",
      "metadata": {
        "id": "e42a5533"
      },
      "source": [
        "Ha hexadecimális alakot akarunk, akkor a `hex` függvény kell nekünk.\n",
        "\n",
        "    Signature: hex(number, /)\n",
        "    Docstring:\n",
        "    Return the hexadecimal representation of an integer.\n",
        "\n",
        "    >>> hex(12648430)\n",
        "    '0xc0ffee'"
      ]
    },
    {
      "cell_type": "code",
      "execution_count": null,
      "id": "2ac906fa",
      "metadata": {
        "id": "2ac906fa",
        "outputId": "00f18248-f9e3-4e24-eb97-3d4bfab49dde"
      },
      "outputs": [
        {
          "data": {
            "text/plain": [
              "('0x70', 112)"
            ]
          },
          "execution_count": 174,
          "metadata": {},
          "output_type": "execute_result"
        }
      ],
      "source": [
        "hex(112), int(hex(112), base=16)"
      ]
    },
    {
      "cell_type": "markdown",
      "id": "dafe6617",
      "metadata": {
        "id": "dafe6617"
      },
      "source": [
        "### Negatív számok:\n",
        "\n",
        "Itt a `bin` függvény nem fedi fel teljesen a képet."
      ]
    },
    {
      "cell_type": "code",
      "execution_count": null,
      "id": "50eb2063",
      "metadata": {
        "id": "50eb2063",
        "outputId": "06bfc600-2330-46ec-88e0-11f4d2ebe835"
      },
      "outputs": [
        {
          "name": "stdout",
          "output_type": "stream",
          "text": [
            "[1, 1, 1, 1, 1, 1, 1, 1, 1, 1, 1, 1, 1, 1, 1]\n",
            "[1, 1, 1, 1, 1, 1, 1, 1, 1, 1, 1, 1, 1, 1, 1]\n"
          ]
        }
      ],
      "source": [
        "print([(-1& (1<< i))>>i for i in range(15)])\n",
        "print([(-1& (1<< i))>>i for i in range(64,64+15)])\n"
      ]
    },
    {
      "cell_type": "markdown",
      "id": "547d1349",
      "metadata": {
        "id": "547d1349"
      },
      "source": [
        "A -1-re úgy gondolhatunk, hogy minden bitje 1-es.\n",
        "\n",
        "Azaz tetszőleges pozitív $n$ esetén $-n-1$ az a szám, amivel az összeg bitjei mind 1-esek, vagyis `~`$n$. "
      ]
    },
    {
      "cell_type": "markdown",
      "id": "f69ef415",
      "metadata": {
        "id": "f69ef415"
      },
      "source": [
        "## Sztringkezelő műveletek\n",
        "\n",
        "A sztringekre az aritmetikai műveletek általában nem alkalmazhatók, de a + és a * jel működik, a következőképpen:"
      ]
    },
    {
      "cell_type": "code",
      "execution_count": null,
      "id": "9c6ac34d",
      "metadata": {
        "id": "9c6ac34d",
        "outputId": "d52c4ad5-85f1-4f47-c3c1-22779e7c3faf"
      },
      "outputs": [
        {
          "name": "stdout",
          "output_type": "stream",
          "text": [
            "['__add__', '__class__', '__contains__', '__delattr__', '__dir__', '__doc__', '__eq__', '__format__', '__ge__', '__getattribute__', '__getitem__', '__getnewargs__', '__gt__', '__hash__', '__init__', '__init_subclass__', '__iter__', '__le__', '__len__', '__lt__', '__mod__', '__mul__', '__ne__', '__new__', '__reduce__', '__reduce_ex__', '__repr__', '__rmod__', '__rmul__', '__setattr__', '__sizeof__', '__str__', '__subclasshook__', 'capitalize', 'casefold', 'center', 'count', 'encode', 'endswith', 'expandtabs', 'find', 'format', 'format_map', 'index', 'isalnum', 'isalpha', 'isascii', 'isdecimal', 'isdigit', 'isidentifier', 'islower', 'isnumeric', 'isprintable', 'isspace', 'istitle', 'isupper', 'join', 'ljust', 'lower', 'lstrip', 'maketrans', 'partition', 'replace', 'rfind', 'rindex', 'rjust', 'rpartition', 'rsplit', 'rstrip', 'split', 'splitlines', 'startswith', 'strip', 'swapcase', 'title', 'translate', 'upper', 'zfill']\n"
          ]
        }
      ],
      "source": [
        "print(dir(str))"
      ]
    },
    {
      "cell_type": "code",
      "execution_count": null,
      "id": "ba511e4c",
      "metadata": {
        "id": "ba511e4c",
        "outputId": "9886c14d-1a78-4e7d-8188-2db4b5c3e212"
      },
      "outputs": [
        {
          "data": {
            "text/plain": [
              "('haha',)"
            ]
          },
          "execution_count": 177,
          "metadata": {},
          "output_type": "execute_result"
        }
      ],
      "source": [
        "'ha' + 'ha', "
      ]
    },
    {
      "cell_type": "code",
      "execution_count": null,
      "id": "3b42fe64",
      "metadata": {
        "id": "3b42fe64",
        "outputId": "8e6378c9-dff7-4e07-ae49-4cd2765b5917"
      },
      "outputs": [
        {
          "data": {
            "text/plain": [
              "'haha'"
            ]
          },
          "execution_count": 178,
          "metadata": {},
          "output_type": "execute_result"
        }
      ],
      "source": [
        "'ha' * 2"
      ]
    },
    {
      "cell_type": "markdown",
      "id": "06dd7ea9",
      "metadata": {
        "id": "06dd7ea9"
      },
      "source": [
        "A sztring karaktereinek indexe is van, az indexelés a 0-val kezdődik. Adott indexű karakter lekérdezése a sztring neve után szögletes zárójelbe tett indexszel történik."
      ]
    },
    {
      "cell_type": "code",
      "execution_count": null,
      "id": "6d1a8560",
      "metadata": {
        "id": "6d1a8560",
        "outputId": "5cb8c800-95f6-442d-fc4e-a4d755bf9c32"
      },
      "outputs": [
        {
          "data": {
            "text/plain": [
              "'k'"
            ]
          },
          "execution_count": 179,
          "metadata": {},
          "output_type": "execute_result"
        }
      ],
      "source": [
        "szoveg = 'kutya'\n",
        "szoveg[0]"
      ]
    },
    {
      "cell_type": "code",
      "execution_count": null,
      "id": "22cf59df",
      "metadata": {
        "id": "22cf59df",
        "outputId": "fae6078f-9fbe-4acb-903d-439981b88b42"
      },
      "outputs": [
        {
          "data": {
            "text/plain": [
              "'u'"
            ]
          },
          "execution_count": 180,
          "metadata": {},
          "output_type": "execute_result"
        }
      ],
      "source": [
        "szoveg[1]"
      ]
    },
    {
      "cell_type": "markdown",
      "id": "a7276392",
      "metadata": {
        "id": "a7276392"
      },
      "source": [
        "Pl. tároljuk el egy-egy változóba a kereszt- és a vezetéknevünket. Ezekből rakjuk össze a teljes nevünket szóközzel elválasztva, valamint a monogramunkat. Készítsünk egy becenevet is a vezetéknév első két betűjének a megkettőzésével."
      ]
    },
    {
      "cell_type": "code",
      "execution_count": null,
      "id": "8cb79250",
      "metadata": {
        "id": "8cb79250"
      },
      "outputs": [],
      "source": [
        "vezeteknev = 'Nagy'\n",
        "keresztnev = 'Ibolya'"
      ]
    },
    {
      "cell_type": "code",
      "execution_count": null,
      "id": "221a2e20",
      "metadata": {
        "id": "221a2e20",
        "outputId": "015f6dfb-cbf7-4c12-f48c-37c16066d56c"
      },
      "outputs": [
        {
          "data": {
            "text/plain": [
              "'Nagy Ibolya'"
            ]
          },
          "execution_count": 182,
          "metadata": {},
          "output_type": "execute_result"
        }
      ],
      "source": [
        "teljes_nev = vezeteknev + ' ' + keresztnev\n",
        "teljes_nev"
      ]
    },
    {
      "cell_type": "code",
      "execution_count": null,
      "id": "f3d2a4b7",
      "metadata": {
        "id": "f3d2a4b7",
        "outputId": "744a560e-0ea7-40e6-b6e9-8e43fe42135c"
      },
      "outputs": [
        {
          "data": {
            "text/plain": [
              "'N. I.'"
            ]
          },
          "execution_count": 183,
          "metadata": {},
          "output_type": "execute_result"
        }
      ],
      "source": [
        "monogram = vezeteknev[0] + '. ' + keresztnev[0] + '.'\n",
        "monogram"
      ]
    },
    {
      "cell_type": "code",
      "execution_count": null,
      "id": "abc2ed2a",
      "metadata": {
        "id": "abc2ed2a",
        "outputId": "71b24cdc-f8ea-4674-9865-4bd6b073fa3a"
      },
      "outputs": [
        {
          "data": {
            "text/plain": [
              "'NaNa'"
            ]
          },
          "execution_count": 184,
          "metadata": {},
          "output_type": "execute_result"
        }
      ],
      "source": [
        "becenev = vezeteknev[0:2]*2\n",
        "becenev"
      ]
    },
    {
      "cell_type": "markdown",
      "id": "c3f68bfb",
      "metadata": {
        "id": "c3f68bfb"
      },
      "source": [
        "Az utóbbi megoldása nem tökéletes: csak a kezdőbetűt szeretnénk nagynak látni a becenévben. A sztringeken számos ún. metódus van értelmezve. Ezek olyan függvények, amelyek közvetlenül az adott sztringhez férnek hozzá, a sztring után tett pontot követően adjuk meg őket. Pl. a lower(), upper(), capitalize() metódusokkal a sztringből előáll annak kisbetűs, nagybetűs ill. nagy kezdőbetűs változata. (Közben az eredeti sztring változatlan marad.)"
      ]
    },
    {
      "cell_type": "code",
      "execution_count": null,
      "id": "eefc69da",
      "metadata": {
        "id": "eefc69da",
        "outputId": "86698431-69e3-48b4-a031-e90fefe2e563"
      },
      "outputs": [
        {
          "data": {
            "text/plain": [
              "('KUTYA', 'kutya', 'Kutya')"
            ]
          },
          "execution_count": 185,
          "metadata": {},
          "output_type": "execute_result"
        }
      ],
      "source": [
        "szo = 'kuTYa'\n",
        "szo.upper(), szo.lower(), szo.capitalize()"
      ]
    },
    {
      "cell_type": "code",
      "execution_count": null,
      "id": "e12ef7da",
      "metadata": {
        "id": "e12ef7da",
        "outputId": "3a62ebe3-4bcd-4bb1-d234-07934746ec42"
      },
      "outputs": [
        {
          "data": {
            "text/plain": [
              "'Nana'"
            ]
          },
          "execution_count": 186,
          "metadata": {},
          "output_type": "execute_result"
        }
      ],
      "source": [
        "becenev = (vezeteknev[0:2]*2).capitalize()\n",
        "becenev"
      ]
    },
    {
      "cell_type": "code",
      "execution_count": null,
      "id": "da0a1511",
      "metadata": {
        "id": "da0a1511",
        "outputId": "7f1a2521-a2b4-4249-953a-863aa9d52867"
      },
      "outputs": [
        {
          "data": {
            "text/plain": [
              "('Ib', 'Ibolya', 'Ibo', 'lya')"
            ]
          },
          "execution_count": 187,
          "metadata": {},
          "output_type": "execute_result"
        }
      ],
      "source": [
        "keresztnev[0:2], keresztnev[:10], keresztnev[:-3], keresztnev[-3:]"
      ]
    },
    {
      "cell_type": "markdown",
      "id": "f3052477",
      "metadata": {
        "id": "f3052477"
      },
      "source": [
        "### Konvertálás egyik típusból a másikba (casting)"
      ]
    },
    {
      "cell_type": "code",
      "execution_count": null,
      "id": "c9439321",
      "metadata": {
        "id": "c9439321",
        "outputId": "e8dddf6e-face-4d06-b7b0-19ed0c975588"
      },
      "outputs": [
        {
          "data": {
            "text/plain": [
              "(1236, '1236', '1236', True, True, False, False)"
            ]
          },
          "execution_count": 188,
          "metadata": {},
          "output_type": "execute_result"
        }
      ],
      "source": [
        "text = \"1236\"\n",
        "int(text), str(int(text)), repr(int(text)), bool(text), bool(int(text)), bool(0), bool(\"\")"
      ]
    },
    {
      "cell_type": "code",
      "execution_count": null,
      "id": "e4e4764b",
      "metadata": {
        "id": "e4e4764b",
        "outputId": "9485f8bd-763c-4ab0-b3bd-cd166545e2b1"
      },
      "outputs": [
        {
          "data": {
            "text/plain": [
              "(3.14, '3.14')"
            ]
          },
          "execution_count": 189,
          "metadata": {},
          "output_type": "execute_result"
        }
      ],
      "source": [
        "text = \"3.14\"\n",
        "float(text), str(float(text))"
      ]
    },
    {
      "cell_type": "code",
      "execution_count": null,
      "id": "3bab2df1",
      "metadata": {
        "id": "3bab2df1",
        "outputId": "b8f6b71d-a7ba-4d5e-d5b2-86250becaf07"
      },
      "outputs": [
        {
          "ename": "ValueError",
          "evalue": "invalid literal for int() with base 10: '3.14'",
          "output_type": "error",
          "traceback": [
            "\u001b[0;31m---------------------------------------------------------------------------\u001b[0m",
            "\u001b[0;31mValueError\u001b[0m                                Traceback (most recent call last)",
            "\u001b[1;32m/home/prokaj/vgy/22-23i/canvas/code/notebooks/gyak01.ipynb Cell 92\u001b[0m in \u001b[0;36m<cell line: 2>\u001b[0;34m()\u001b[0m\n\u001b[1;32m      <a href='vscode-notebook-cell:/home/prokaj/vgy/22-23i/canvas/code/notebooks/gyak01.ipynb#Y152sZmlsZQ%3D%3D?line=0'>1</a>\u001b[0m \u001b[39m# de\u001b[39;00m\n\u001b[0;32m----> <a href='vscode-notebook-cell:/home/prokaj/vgy/22-23i/canvas/code/notebooks/gyak01.ipynb#Y152sZmlsZQ%3D%3D?line=1'>2</a>\u001b[0m \u001b[39mint\u001b[39;49m(text)\n",
            "\u001b[0;31mValueError\u001b[0m: invalid literal for int() with base 10: '3.14'"
          ]
        }
      ],
      "source": [
        "# de\n",
        "int(text)"
      ]
    },
    {
      "cell_type": "markdown",
      "id": "437d4056",
      "metadata": {
        "id": "437d4056"
      },
      "source": [
        "### Beolvasás, kiírás\n",
        "\n",
        "standard input: bemenet \n",
        "standard output: kimenet\n",
        "standard error: hibaüzenetek helye\n",
        "\n",
        "Alapértelmezésben az `input` függvény egy sornyi szöveget (`str`) olvas be, a `print` függvény pedig kiír egy sort."
      ]
    },
    {
      "cell_type": "code",
      "execution_count": null,
      "id": "c1a83ba7",
      "metadata": {
        "id": "c1a83ba7",
        "outputId": "19cba9ee-43d1-4215-bad0-d06885dfb1d4"
      },
      "outputs": [
        {
          "name": "stdout",
          "output_type": "stream",
          "text": [
            "text='input text'\n"
          ]
        }
      ],
      "source": [
        "text = input()\n",
        "print(f\"{text=}\")"
      ]
    },
    {
      "cell_type": "markdown",
      "id": "45a177c8",
      "metadata": {
        "id": "45a177c8"
      },
      "source": [
        "### Szöveg formázása\n",
        "\n",
        "Talán a legegyszerűbb a formázott sztring használata:\n",
        "\n",
        "`f\"{name} egyéb szöveg\"`\n",
        "\n",
        "Ekkor a `name` helyettesítődik az aktuális értékével. A `name` helyére nem csak változó nevet, hanem tetszőleges python kifejezést tehetünk. Ekkor az kiértékelődik és az eredmény ,,szöveges\" alakja kerül `{name}` helyére. Pl.  "
      ]
    },
    {
      "cell_type": "code",
      "execution_count": null,
      "id": "71fa97b2",
      "metadata": {
        "id": "71fa97b2",
        "outputId": "20078f90-c9cd-4824-8131-03aedc444d20"
      },
      "outputs": [
        {
          "name": "stdout",
          "output_type": "stream",
          "text": [
            "`a` is a  <class 'int'>: 12\n",
            "`b` is a  <class 'float'>: 3.146879789454565\n",
            "`c` is a  <class 'str'>: alma\n",
            "`d` is a  <class 'bool'>: True\n"
          ]
        }
      ],
      "source": [
        "a = 12\n",
        "b = 3.14687978945456487895464645454\n",
        "c = \"alma\"\n",
        "d = True\n",
        "print(f\"`a` is a  {type(a)}: {a}\")\n",
        "print(f\"`b` is a  {type(b)}: {b}\")\n",
        "print(f\"`c` is a  {type(c)}: {c}\")\n",
        "print(f\"`d` is a  {type(d)}: {d}\")\n"
      ]
    },
    {
      "cell_type": "markdown",
      "id": "f577ad2a",
      "metadata": {
        "id": "f577ad2a"
      },
      "source": [
        "#### Feladat\n",
        "\n",
        "Állítsuk elő a korábban szerepelt teljes nevet és monogrammot `f-string`-gel.\n",
        "Próbáljuk meg elérni, hogy a keresztnév és a vezetéknév is egy 15 karakter széles mező jobb oldalára kerüljön."
      ]
    },
    {
      "cell_type": "code",
      "execution_count": null,
      "id": "d5f83308",
      "metadata": {
        "id": "d5f83308"
      },
      "outputs": [],
      "source": []
    },
    {
      "cell_type": "code",
      "execution_count": null,
      "id": "a48e233c",
      "metadata": {
        "id": "a48e233c"
      },
      "outputs": [],
      "source": []
    },
    {
      "cell_type": "markdown",
      "id": "ba93dbbe",
      "metadata": {
        "id": "ba93dbbe"
      },
      "source": [
        "### Több érték beolvasása egy sorból.\n",
        "\n",
        "Mit kapunk az alábbi sorokkal?\n",
        "```\n",
        "a, b = \"12 34\".split()\n",
        "c, d = map(int, \"12 34\".split())\n",
        "\n",
        "```\n",
        "Le tudjuk-e írni mi is történt itt?\n",
        "\n",
        "Nem kell izgulni, később a hátterét is látni fogjuk."
      ]
    },
    {
      "cell_type": "code",
      "execution_count": null,
      "id": "7b49a44e",
      "metadata": {
        "id": "7b49a44e"
      },
      "outputs": [],
      "source": []
    },
    {
      "cell_type": "markdown",
      "id": "b1505d1f",
      "metadata": {
        "id": "b1505d1f"
      },
      "source": [
        "### `printf`-szerű formázás , ill. `format`\n"
      ]
    },
    {
      "cell_type": "code",
      "execution_count": null,
      "id": "3ab6a26f",
      "metadata": {
        "id": "3ab6a26f",
        "outputId": "7987d2dc-3177-4b37-b5d6-935a80a81031"
      },
      "outputs": [
        {
          "data": {
            "text/plain": [
              "('2 egy szam', '\"alma\" egy szoveg', '002 egy szam', \"'  alma' egy szoveg\")"
            ]
          },
          "execution_count": 194,
          "metadata": {},
          "output_type": "execute_result"
        }
      ],
      "source": [
        "\n",
        "(\n",
        "    \"%d egy szam\" % 2, \n",
        "    \"\\\"%s\\\" egy szoveg\" % \"alma\", \n",
        "    \"%03d egy szam\" % 2, \n",
        "    \"'% 6s' egy szoveg\" % \"alma\"\n",
        ")"
      ]
    },
    {
      "cell_type": "code",
      "execution_count": null,
      "id": "4c68cf4a",
      "metadata": {
        "id": "4c68cf4a",
        "outputId": "62fd53b9-2596-48e2-e875-0b007aacaecb"
      },
      "outputs": [
        {
          "data": {
            "text/plain": [
              "('2 egy szam', '\"alma\" egy szoveg', '002 egy szam', \"'  alma' egy szoveg\")"
            ]
          },
          "execution_count": 195,
          "metadata": {},
          "output_type": "execute_result"
        }
      ],
      "source": [
        "(\n",
        "    \"{a} egy szam\".format(a=2), \n",
        "    \"\\\"{s}\\\" egy szoveg\".format(s=\"alma\"), \n",
        "    \"{0:03d} egy szam\".format(2), \n",
        "    \"'{0:>6}' egy szoveg\".format(\"alma\")\n",
        ")"
      ]
    },
    {
      "cell_type": "markdown",
      "id": "3e48c11a",
      "metadata": {
        "id": "3e48c11a"
      },
      "source": [
        "### Megoldottam a házi feladatot jupyter notebookban. Hogyan lesz ebből beadandó állomány?\n",
        "\n",
        "- Copy Paste a kedvenc editorunkba és mentés a megfelelő névvel.\n",
        "- A jupyter egyik `magic` parancsának segítségével.\n",
        "  \n",
        "  A következő cella futtatásakor a cella tartalma a megadott fileba íródik.\n"
      ]
    },
    {
      "cell_type": "code",
      "execution_count": null,
      "id": "616c6ddf",
      "metadata": {
        "id": "616c6ddf",
        "outputId": "8706e82c-06dc-4d02-cfe0-d6d4fdb9a038"
      },
      "outputs": [
        {
          "name": "stdout",
          "output_type": "stream",
          "text": [
            "Overwriting hf.py\n"
          ]
        }
      ],
      "source": [
        "%%writefile hf.py\n",
        "## hf.py\n",
        "## Mondjuk ez megoldas\n",
        "\n",
        "a = input()\n",
        "b = int(a)//2\n",
        "print(b)"
      ]
    },
    {
      "cell_type": "code",
      "execution_count": null,
      "id": "49258095",
      "metadata": {
        "id": "49258095",
        "outputId": "6108bad1-c64a-4536-a05f-dc95431d49e4"
      },
      "outputs": [
        {
          "name": "stdout",
          "output_type": "stream",
          "text": [
            "hf.py\n",
            "--------------------------------------------------\n",
            "## hf.py\n",
            "## Mondjuk ez megoldas\n",
            "\n",
            "a = input()\n",
            "b = int(a)//2\n",
            "print(b)\n",
            "--------------------------------------------------\n"
          ]
        }
      ],
      "source": [
        "! ls hf.py -t\n",
        "print(\"-\"*50)\n",
        "! cat hf.py\n",
        "print(\"-\"*50)\n"
      ]
    }
  ],
  "metadata": {
    "kernelspec": {
      "display_name": "Python 3 (ipykernel)",
      "language": "python",
      "name": "python3"
    },
    "language_info": {
      "codemirror_mode": {
        "name": "ipython",
        "version": 3
      },
      "file_extension": ".py",
      "mimetype": "text/x-python",
      "name": "python",
      "nbconvert_exporter": "python",
      "pygments_lexer": "ipython3",
      "version": "3.8.13"
    },
    "vscode": {
      "interpreter": {
        "hash": "d8b53ac59aeb7dd99955ed1c7af180cec0b2adbd03b0a8162d4077beb5f10154"
      }
    },
    "colab": {
      "provenance": []
    }
  },
  "nbformat": 4,
  "nbformat_minor": 5
}