{
 "cells": [
  {
   "cell_type": "code",
   "execution_count": 4,
   "metadata": {},
   "outputs": [
    {
     "name": "stdout",
     "output_type": "stream",
     "text": [
      "tests succeded\n",
      "1200\n"
     ]
    }
   ],
   "source": [
    "def arabize(r: str) -> int:\n",
    "    \n",
    "    w1 = ['ⅯⅯⅯⅯ', 'MMMM', 'ⅭⅭⅭⅭ', 'CCCC', 'ⅩⅩⅩⅩ', 'XXXX', 'ⅠⅠⅠⅠ', 'IIII']\n",
    "    for e in w1:    \n",
    "        if e in r:\n",
    "            return f\"Can't convert {r} into arabic\" #raise ValueError\n",
    "\n",
    "    w2 = ['Ⅾ', 'D', 'Ⅼ', 'L', 'Ⅴ', 'V']\n",
    "    for i, j in [[x, r.count(x)] for x in set(r)]:\n",
    "        if i in w2 and j > 1:\n",
    "            return f\"Can't convert {r} into arabic\" #raise ValueError\n",
    "\n",
    "    d = {'Ⅿ':1000, 'M':1000, 'Ⅾ':500, 'D':500, 'Ⅽ':100, 'C':100, 'Ⅼ':50, 'L':50, 'Ⅹ':10, 'X':10, 'Ⅴ':5, 'V':5, 'Ⅰ':1, 'I':1}\n",
    "    l = []\n",
    "    cache = 0\n",
    "    for i in range(0, len(r)):\n",
    "        l.append(d.get(r[i], 0))\n",
    "    \n",
    "    i = 0\n",
    "    while i < len(l) - 1:\n",
    "        if l[i] < l[i+1]:\n",
    "            cache = cache + l[i+1] - l[i]\n",
    "            i = i + 2\n",
    "        else:\n",
    "            cache = cache + l[i]\n",
    "            i = i + 1\n",
    "\n",
    "    if i == len(l):\n",
    "        if l[i-2] == l[i-1]: cache = cache + l[i-1]\n",
    "    else: cache = cache + l[i]\n",
    "\n",
    "    if 0 < cache < 4000 : return cache\n",
    "    else: return f\"Can't convert {r} into arabic\" #raise ValueError\n",
    "\n",
    "def test_arabize():\n",
    "    assert arabize('I') == arabize('Ⅰ') == 1\n",
    "    assert arabize('ⅯⅭⅭ') == arabize('MCC') == 1200\n",
    "    assert arabize('ⅯⅮⅭⅬⅩⅤⅠ') == arabize('MDCLXVI') == 1666\n",
    "    assert arabize('ⅯⅮⅮ') == \"Can't convert ⅯⅮⅮ into arabic\" \n",
    "    assert arabize('ⅯⅮⅭⅭⅭⅭⅬ') == \"Can't convert ⅯⅮⅭⅭⅭⅭⅬ into arabic\" \n",
    "    assert arabize('ⅯⅮⅯⅮⅯⅮⅯⅮⅯⅮⅯⅮ') == \"Can't convert ⅯⅮⅯⅮⅯⅮⅯⅮⅯⅮⅯⅮ into arabic\" \n",
    "\n",
    "\n",
    "try: test_arabize()\n",
    "except AssertionError: print('test failed')\n",
    "else: print('tests succeded')\n",
    "\n",
    "x = input() \n",
    "print(arabize(x))"
   ]
  },
  {
   "cell_type": "code",
   "execution_count": 5,
   "metadata": {},
   "outputs": [
    {
     "name": "stdout",
     "output_type": "stream",
     "text": [
      "tests succeded\n",
      "ⅯⅭⅭⅩⅩⅩⅠⅤ\n"
     ]
    }
   ],
   "source": [
    "def romanize(n: int) -> str:\n",
    "\n",
    "    if 0 < n < 4000: \n",
    "        E = [\"\", \"Ⅿ\", \"ⅯⅯ\", \"ⅯⅯⅯ\"]\n",
    "        s = [\"\", \"Ⅽ\", \"ⅭⅭ\", \"ⅭⅭⅭ\", \"ⅭⅮ\", \"Ⅾ\", \"ⅮⅭ\", \"ⅮⅭⅭ\", \"ⅮⅭⅭⅭ\", \"ⅭⅯ \"]\n",
    "        t = [\"\", \"Ⅹ\", \"ⅩⅩ\", \"ⅩⅩⅩ\", \"ⅩⅬ\", \"Ⅼ\", \"ⅬⅩ\", \"ⅬⅩⅩ\", \"ⅬⅩⅩⅩ\", \"ⅩⅭ\"]\n",
    "        e = [\"\", \"Ⅰ\", \"ⅠⅠ\", \"ⅠⅠⅠ\", \"ⅠⅤ\", \"Ⅴ\", \"ⅤⅠ\", \"ⅤⅠⅠ\", \"ⅤⅠⅠⅠ\", \"ⅠⅩ\"]\n",
    "\n",
    "        E = E[n // 1000]\n",
    "        s = s[(n % 1000) // 100]\n",
    "        t = t[(n % 100) // 10]\n",
    "        e = e[n % 10]\n",
    "        \n",
    "        return str(E + s + t + e).replace(\" \",\"\")\n",
    "\n",
    "    else: return f\"Can't convert {n} into roman\" #raise ValueError\n",
    "\n",
    "def test_romanize():\n",
    "    assert romanize(3454) == 'ⅯⅯⅯⅭⅮⅬⅠⅤ'\n",
    "    assert romanize(999)  == 'ⅭⅯⅩⅭⅠⅩ'\n",
    "    assert romanize(1)    == 'Ⅰ'\n",
    "    assert romanize(4444) == \"Can't convert 4444 into roman\"\n",
    "    assert romanize(-20)  == \"Can't convert -20 into roman\"\n",
    "    \n",
    "if __name__ == \"__main__\":\n",
    "    try: test_romanize()\n",
    "    except AssertionError: print('test failed')\n",
    "    else: print('tests succeded')\n",
    "\n",
    "    x = int(input()) #1666\n",
    "    print(romanize(x))"
   ]
  }
 ],
 "metadata": {
  "kernelspec": {
   "display_name": "Python 3.9.12 ('base')",
   "language": "python",
   "name": "python3"
  },
  "language_info": {
   "codemirror_mode": {
    "name": "ipython",
    "version": 3
   },
   "file_extension": ".py",
   "mimetype": "text/x-python",
   "name": "python",
   "nbconvert_exporter": "python",
   "pygments_lexer": "ipython3",
   "version": "3.9.12"
  },
  "orig_nbformat": 4,
  "vscode": {
   "interpreter": {
    "hash": "9429e3d8733c1ac76f5c3b0c6cdd2706acd1fd7b4f8c91f27a242412c8600fc4"
   }
  }
 },
 "nbformat": 4,
 "nbformat_minor": 2
}
