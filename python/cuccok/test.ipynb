{
 "cells": [
  {
   "cell_type": "code",
   "execution_count": 14,
   "metadata": {},
   "outputs": [
    {
     "data": {
      "text/plain": [
       "1"
      ]
     },
     "execution_count": 14,
     "metadata": {},
     "output_type": "execute_result"
    }
   ],
   "source": [
    "def subset_sum_powers_of_two(a, b):\n",
    "\n",
    "    dp = [0] * (b + 1)\n",
    "    dp[0] = 1\n",
    "    \n",
    "    for num in a:\n",
    "        for x in range(b, num - 1, -1):\n",
    "            if dp[x - num]: dp[x] = 1\n",
    "        #print(dp)\n",
    "    \n",
    "    return dp[b]\n",
    "\n",
    "# Example usage\n",
    "a = [1] * 10000 \n",
    "b = 10000\n",
    "subset_sum_powers_of_two(a, b)\n"
   ]
  },
  {
   "cell_type": "code",
   "execution_count": 7,
   "metadata": {},
   "outputs": [
    {
     "data": {
      "text/plain": [
       "[10, 9, 8, 7, 6, 5, 4]"
      ]
     },
     "execution_count": 7,
     "metadata": {},
     "output_type": "execute_result"
    }
   ],
   "source": [
    "list(range(10, 4 - 1, -1))"
   ]
  }
 ],
 "metadata": {
  "kernelspec": {
   "display_name": "base",
   "language": "python",
   "name": "python3"
  },
  "language_info": {
   "codemirror_mode": {
    "name": "ipython",
    "version": 3
   },
   "file_extension": ".py",
   "mimetype": "text/x-python",
   "name": "python",
   "nbconvert_exporter": "python",
   "pygments_lexer": "ipython3",
   "version": "3.9.12"
  }
 },
 "nbformat": 4,
 "nbformat_minor": 2
}
