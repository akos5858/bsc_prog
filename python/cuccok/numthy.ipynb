{
 "cells": [
  {
   "attachments": {},
   "cell_type": "markdown",
   "metadata": {},
   "source": [
    "Number Theory"
   ]
  },
  {
   "cell_type": "code",
   "execution_count": 3,
   "metadata": {},
   "outputs": [],
   "source": [
    "from math import sqrt, factorial\n",
    "from time import time\n",
    "from collections import defaultdict"
   ]
  },
  {
   "cell_type": "code",
   "execution_count": 47,
   "metadata": {},
   "outputs": [],
   "source": [
    "def gcd(a: int, b: int) -> int:\n",
    "    \"\"\"computes the greatest common divisor\"\"\"\n",
    "    if b == 0: return a\n",
    "    return gcd(b, a % b)"
   ]
  },
  {
   "cell_type": "code",
   "execution_count": 1,
   "metadata": {},
   "outputs": [],
   "source": [
    "def lincon(a, b, m):\n",
    "    \"\"\"solves ax ≡ b linear congruence for x\"\"\"\n",
    "\n",
    "    if b == 0:\n",
    "        return 0\n",
    "\n",
    "    if a < 0:\n",
    "        a = -a\n",
    "        b = -b\n",
    "\n",
    "    b %= m \n",
    "\n",
    "    while a > m:\n",
    "        a -= m\n",
    "\n",
    "    return (m * lincon(m, -b, a) + b) // a"
   ]
  },
  {
   "cell_type": "code",
   "execution_count": 4,
   "metadata": {},
   "outputs": [],
   "source": [
    "def prime_printer(n: int):\n",
    "    \"\"\"prints the primes till n\"\"\"\n",
    "\n",
    "    lst = [True]*n\n",
    "    p = []\n",
    "    t = time()\n",
    "    \n",
    "    for i in range(2, int(sqrt(n))): \n",
    "        if lst[i]:\n",
    "            for j in range(i**2, n, i):\n",
    "                lst[j] = False\n",
    "\n",
    "    for i in range(2, n): \n",
    "        if lst[i]: \n",
    "            p.append(i)\n",
    "\n",
    "    \"\"\"\n",
    "    with open(f'primestill{a}.txt', \"w+\") as f:\n",
    "        for i in range(2, a):\n",
    "            if lst[i]:\n",
    "                l = [str(i), \"\\n\"]\n",
    "                f.writelines(l)\n",
    "    \"\"\"\n",
    "    \n",
    "    print(f'ended in {time()-t} s')\n",
    "    return p"
   ]
  },
  {
   "cell_type": "code",
   "execution_count": 6,
   "metadata": {},
   "outputs": [],
   "source": [
    "def is_prime(n: int) -> bool: \n",
    "    \"\"\"checks if n is prime\"\"\"\n",
    "\n",
    "    n = abs(n)\n",
    "    \n",
    "    if n == 2: return True\n",
    "    if n < 2 or n % 2 == 0: return False\n",
    "\n",
    "    return all(n % i != 0 for i in range(3, int(sqrt(n)+1), 2))"
   ]
  },
  {
   "cell_type": "code",
   "execution_count": 4,
   "metadata": {},
   "outputs": [
    {
     "ename": "KeyboardInterrupt",
     "evalue": "",
     "output_type": "error",
     "traceback": [
      "\u001b[1;31m---------------------------------------------------------------------------\u001b[0m",
      "\u001b[1;31mKeyboardInterrupt\u001b[0m                         Traceback (most recent call last)",
      "Input \u001b[1;32mIn [4]\u001b[0m, in \u001b[0;36m<cell line: 16>\u001b[1;34m()\u001b[0m\n\u001b[0;32m     12\u001b[0m     num \u001b[38;5;241m+\u001b[39m\u001b[38;5;241m=\u001b[39m \u001b[38;5;241m2\u001b[39m\n\u001b[0;32m     14\u001b[0m     \u001b[38;5;28;01mreturn\u001b[39;00m prime_list[\u001b[38;5;241m-\u001b[39m\u001b[38;5;241m1\u001b[39m]\n\u001b[1;32m---> 16\u001b[0m \u001b[43mnth_prime\u001b[49m\u001b[43m(\u001b[49m\u001b[38;5;241;43m10\u001b[39;49m\u001b[43m)\u001b[49m\n",
      "Input \u001b[1;32mIn [4]\u001b[0m, in \u001b[0;36mnth_prime\u001b[1;34m(n)\u001b[0m\n\u001b[0;32m      7\u001b[0m \u001b[38;5;28;01mfor\u001b[39;00m p \u001b[38;5;129;01min\u001b[39;00m prime_list:\n\u001b[0;32m      8\u001b[0m     \u001b[38;5;28;01mif\u001b[39;00m num \u001b[38;5;241m%\u001b[39m p \u001b[38;5;241m==\u001b[39m \u001b[38;5;241m0\u001b[39m:\n\u001b[1;32m----> 9\u001b[0m         \u001b[38;5;28;01mbreak\u001b[39;00m\n\u001b[0;32m     10\u001b[0m \u001b[38;5;28;01melse\u001b[39;00m:\n\u001b[0;32m     11\u001b[0m     prime_list\u001b[38;5;241m.\u001b[39mappend(num)\n",
      "\u001b[1;31mKeyboardInterrupt\u001b[0m: "
     ]
    }
   ],
   "source": [
    "def nth_prime(n):\n",
    "\n",
    "    primes = [2]\n",
    "    num = 3\n",
    "    lst = [1 for _ in range(n)]\n",
    "\n",
    "    for i in range(n):\n",
    "        if lst[i]\n",
    "\n",
    "\n",
    "    num += 2\n",
    "\n",
    "    return primes[-1]\n",
    "\n",
    "nth_prime(10)"
   ]
  },
  {
   "cell_type": "code",
   "execution_count": 51,
   "metadata": {},
   "outputs": [],
   "source": [
    "def fact(n: int) -> list:\n",
    "    \"\"\"computes the prime factors of n\"\"\"\n",
    "\n",
    "    n = abs(n)\n",
    "    lst = []\n",
    "    \n",
    "    if n == 0: return lst\n",
    "    if n == 1: lst.append(n)\n",
    "\n",
    "    f = 2\n",
    "    while n % f == 0:\n",
    "        lst.append(f)\n",
    "        n //= f\n",
    "\n",
    "    f = 3\n",
    "    while f ** 2 <= n:\n",
    "        if n % f == 0:\n",
    "            lst.append(f)\n",
    "            n //= f\n",
    "        else:\n",
    "            f += 2\n",
    "            \n",
    "    if n != 1: lst.append(n)\n",
    "\n",
    "    return lst"
   ]
  },
  {
   "cell_type": "code",
   "execution_count": 1,
   "metadata": {},
   "outputs": [],
   "source": [
    "def combino(n: int):\n",
    "    \"\"\"checks if n is prime and computes the prime factors of n\"\"\"\n",
    "    \n",
    "    #print('started')\n",
    "    t = time()\n",
    "\n",
    "    if is_prime(n) == True: \n",
    "        print(f\"{n} is prime.\")\n",
    "    else: \n",
    "        print(f\"{n} is not prime\")\n",
    "        #print(f\"{time()-t} s\")\n",
    "        #t = time()\n",
    "        print(fact(n))\n",
    "        \n",
    "    print(f\"{time()-t} s\")"
   ]
  },
  {
   "cell_type": "code",
   "execution_count": 53,
   "metadata": {},
   "outputs": [],
   "source": [
    "def exponents(n: int) -> dict:\n",
    "    \"\"\"stores the prime factors in a dictionary\"\"\"\n",
    "\n",
    "    lst = fact(n)\n",
    "    dic = defaultdict(int)\n",
    "\n",
    "    for i in lst:\n",
    "        dic[i] += 1\n",
    "        \n",
    "    return dict(dic)"
   ]
  },
  {
   "cell_type": "code",
   "execution_count": 54,
   "metadata": {},
   "outputs": [],
   "source": [
    "def d(n: int) -> int:\n",
    "    \"\"\" d(n) \"\"\"\n",
    "    \"\"\"computes the number of divisors\"\"\"\n",
    "\n",
    "    dic = exponents(n)\n",
    "    cache = 1\n",
    "\n",
    "    for i in dic.values():\n",
    "        cache *= i+1\n",
    "        \n",
    "    return cache"
   ]
  },
  {
   "cell_type": "code",
   "execution_count": 55,
   "metadata": {},
   "outputs": [],
   "source": [
    "def sigma(n: int) -> int:\n",
    "    \"\"\" σ(n) \"\"\"\n",
    "    \"\"\" computes the sum of the divisors \"\"\"\n",
    "\n",
    "    dic = exponents(n)\n",
    "    cache = 1\n",
    "\n",
    "    for prime, exponent in dic.items():\n",
    "        cache *= ((prime ** (exponent + 1) - 1) // (prime - 1))\n",
    "        \n",
    "    return cache "
   ]
  },
  {
   "cell_type": "code",
   "execution_count": 56,
   "metadata": {},
   "outputs": [],
   "source": [
    "def omega(n: int) -> int:\n",
    "    \"\"\" ω(n) \"\"\"\n",
    "    \"\"\" computes the number of prime divisors \"\"\"\n",
    "    \n",
    "    return len(exponents(n))"
   ]
  },
  {
   "cell_type": "code",
   "execution_count": 57,
   "metadata": {},
   "outputs": [],
   "source": [
    "def OMEGA(n: int) -> int:\n",
    "    \"\"\" Ω(n) \"\"\"\n",
    "    \"\"\" computes the sum of the exponents \"\"\"\n",
    "    \n",
    "    dic = exponents(n)\n",
    "    return sum(dic.values())\n"
   ]
  },
  {
   "cell_type": "code",
   "execution_count": 58,
   "metadata": {},
   "outputs": [],
   "source": [
    "def mu(n: int) -> int:\n",
    "    \"\"\" Möbius - function: μ(n) \n",
    "        checks if n is square-free \"\"\"\n",
    "    \n",
    "    dic = exponents(n)\n",
    "\n",
    "    if n == 1: return 1\n",
    "    \n",
    "    for exponent in dic.values():\n",
    "        if exponent != 1: return 0\n",
    "        else: return (-1)**(omega(n))"
   ]
  },
  {
   "cell_type": "code",
   "execution_count": 59,
   "metadata": {},
   "outputs": [],
   "source": [
    "def phi(n: int) -> int:\n",
    "    \"\"\" Euler's totient function: φ(n) \n",
    "        computes the number of relative primes to n \"\"\"\n",
    "\n",
    "    if n == 1: return 1\n",
    "    \n",
    "    dic = exponents(n)\n",
    "    cache = 1\n",
    "\n",
    "    for prime, exponent in dic.items():\n",
    "        cache *= (prime**exponent)*(1-1/prime)\n",
    "        \n",
    "    return round(cache)"
   ]
  },
  {
   "cell_type": "code",
   "execution_count": 58,
   "metadata": {},
   "outputs": [],
   "source": [
    "def wilson(n: int):\n",
    "    \"\"\"prints the Wilson-primes till n\"\"\"\n",
    "\n",
    "    lst = [True]*n\n",
    "    p = []\n",
    "    t = time()\n",
    "    \n",
    "    for i in range(2, int(sqrt(n))): \n",
    "        if lst[i]:\n",
    "            for j in range(i**2, n, i):\n",
    "                lst[j] = False\n",
    "\n",
    "    for i in range(2, n): \n",
    "        if lst[i] and (factorial(i-1) + 1) % i**2 == 0: \n",
    "            p.append(i)\n",
    "    \n",
    "    print(p)\n",
    "    print(f'ended in {time()-t} s')"
   ]
  }
 ],
 "metadata": {
  "kernelspec": {
   "display_name": "Python 3.9.12 ('base')",
   "language": "python",
   "name": "python3"
  },
  "language_info": {
   "codemirror_mode": {
    "name": "ipython",
    "version": 3
   },
   "file_extension": ".py",
   "mimetype": "text/x-python",
   "name": "python",
   "nbconvert_exporter": "python",
   "pygments_lexer": "ipython3",
   "version": "3.9.12"
  },
  "orig_nbformat": 4,
  "vscode": {
   "interpreter": {
    "hash": "9429e3d8733c1ac76f5c3b0c6cdd2706acd1fd7b4f8c91f27a242412c8600fc4"
   }
  }
 },
 "nbformat": 4,
 "nbformat_minor": 2
}
