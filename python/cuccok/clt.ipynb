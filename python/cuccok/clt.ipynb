{
 "cells": [
  {
   "cell_type": "code",
   "execution_count": 1,
   "metadata": {},
   "outputs": [],
   "source": [
    "import numpy as np\n",
    "import matplotlib.pyplot as plt\n",
    "from numpy import random as rd\n",
    "from math import sqrt\n",
    "import ipytest as ipy\n",
    "ipy.autoconfig()\n"
   ]
  },
  {
   "cell_type": "code",
   "execution_count": 41,
   "metadata": {},
   "outputs": [
    {
     "data": {
      "text/plain": [
       "1.02"
      ]
     },
     "execution_count": 41,
     "metadata": {},
     "output_type": "execute_result"
    }
   ],
   "source": [
    "n = 1000\n",
    "\n",
    "def distr(n: int):\n",
    "    matrix = rd.binomial(10, p=0.1, size=n)\n",
    "    return sum(matrix)/n\n",
    "\n",
    "d = distr(100)\n",
    "d"
   ]
  },
  {
   "cell_type": "code",
   "execution_count": 131,
   "metadata": {},
   "outputs": [
    {
     "name": "stdout",
     "output_type": "stream",
     "text": [
      "10209\n"
     ]
    }
   ],
   "source": [
    "eps = 0.0001\n",
    "i = 10000\n",
    "\n",
    "while abs(1-d) > eps:\n",
    "    d = distr(i)\n",
    "    if abs(1-d) == 0:\n",
    "        d = 0\n",
    "    i += 1\n",
    "\n",
    "d = 0\n",
    "\n",
    "print(i)"
   ]
  }
 ],
 "metadata": {
  "kernelspec": {
   "display_name": "base",
   "language": "python",
   "name": "python3"
  },
  "language_info": {
   "codemirror_mode": {
    "name": "ipython",
    "version": 3
   },
   "file_extension": ".py",
   "mimetype": "text/x-python",
   "name": "python",
   "nbconvert_exporter": "python",
   "pygments_lexer": "ipython3",
   "version": "3.9.12"
  }
 },
 "nbformat": 4,
 "nbformat_minor": 2
}
