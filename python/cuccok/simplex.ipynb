{
 "cells": [
  {
   "cell_type": "code",
   "execution_count": 1,
   "metadata": {},
   "outputs": [],
   "source": [
    "from fractions import Fraction\n",
    "from decimal import Decimal\n",
    "import numpy as np"
   ]
  },
  {
   "cell_type": "code",
   "execution_count": 87,
   "metadata": {},
   "outputs": [],
   "source": [
    "def read():\n",
    "    n = int(input())\n",
    "    m = int(input())\n",
    " \n",
    "    A = np.zeros(m)\n",
    "    b = np.zeros(m)\n",
    "\n",
    "    for row in range(m):\n",
    "        Ai_input = list(map(Fraction, input().split()))\n",
    "        print(Ai_input)\n",
    "        b[row] = Ai_input.pop(-1)\n",
    "        print(Ai_input)\n",
    "        Ai_input = np.array(Ai_input)\n",
    "        #A[row] = Ai_input\n",
    "\n",
    "    #c_input = np.array(input().split())\n",
    "    #c = []\n",
    "    #for c_i in c_input:\n",
    "    #    c.append(Fraction(Decimal(c_i)))\n",
    "    #np.array(c)\n",
    "    \n",
    "    return n, m, A, b"
   ]
  },
  {
   "cell_type": "code",
   "execution_count": 88,
   "metadata": {},
   "outputs": [
    {
     "name": "stdout",
     "output_type": "stream",
     "text": [
      "[Fraction(2, 1), Fraction(3, 1), Fraction(4, 1)]\n",
      "[Fraction(2, 1), Fraction(3, 1)]\n",
      "[Fraction(2, 1), Fraction(4, 1), Fraction(5, 1)]\n",
      "[Fraction(2, 1), Fraction(4, 1)]\n"
     ]
    },
    {
     "data": {
      "text/plain": [
       "(2, 2, array([0., 0.]), array([4., 5.]))"
      ]
     },
     "execution_count": 88,
     "metadata": {},
     "output_type": "execute_result"
    }
   ],
   "source": [
    "read()"
   ]
  },
  {
   "cell_type": "code",
   "execution_count": null,
   "metadata": {},
   "outputs": [],
   "source": [
    "def SecondPhase(A, b, c, B):\n",
    "\n",
    "    B_inv = np.linalg.inv(B)\n",
    "    x = b @ B_inv\n",
    "    y = c_B @ B_inv\n"
   ]
  },
  {
   "cell_type": "code",
   "execution_count": null,
   "metadata": {},
   "outputs": [],
   "source": []
  }
 ],
 "metadata": {
  "kernelspec": {
   "display_name": "base",
   "language": "python",
   "name": "python3"
  },
  "language_info": {
   "codemirror_mode": {
    "name": "ipython",
    "version": 3
   },
   "file_extension": ".py",
   "mimetype": "text/x-python",
   "name": "python",
   "nbconvert_exporter": "python",
   "pygments_lexer": "ipython3",
   "version": "3.9.12"
  }
 },
 "nbformat": 4,
 "nbformat_minor": 2
}
