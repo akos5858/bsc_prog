{
 "cells": [
  {
   "cell_type": "code",
   "execution_count": 17,
   "metadata": {},
   "outputs": [],
   "source": [
    "import numpy"
   ]
  },
  {
   "cell_type": "code",
   "execution_count": 22,
   "metadata": {},
   "outputs": [
    {
     "name": "stdout",
     "output_type": "stream",
     "text": [
      "[Polynomial([0.], domain=[-1.,  1.], window=[-1.,  1.])\n",
      " Polynomial([1., 0., 2.], domain=[-1.,  1.], window=[-1.,  1.])]\n"
     ]
    }
   ],
   "source": [
    "a = numpy.polynomial.Polynomial([1, 0, 2])\n",
    "\n",
    "print(numpy.polynomial.polynomial.polyint(a))"
   ]
  }
 ],
 "metadata": {
  "kernelspec": {
   "display_name": "base",
   "language": "python",
   "name": "python3"
  },
  "language_info": {
   "codemirror_mode": {
    "name": "ipython",
    "version": 3
   },
   "file_extension": ".py",
   "mimetype": "text/x-python",
   "name": "python",
   "nbconvert_exporter": "python",
   "pygments_lexer": "ipython3",
   "version": "3.9.12"
  }
 },
 "nbformat": 4,
 "nbformat_minor": 2
}
