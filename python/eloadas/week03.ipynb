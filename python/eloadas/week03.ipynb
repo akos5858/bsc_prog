{
 "cells": [
  {
   "cell_type": "markdown",
   "id": "3ac85f4a",
   "metadata": {
    "slideshow": {
     "slide_type": "slide"
    }
   },
   "source": [
    "# Függvények (functions)"
   ]
  },
  {
   "cell_type": "markdown",
   "id": "af0a3a08",
   "metadata": {
    "slideshow": {
     "slide_type": "subslide"
    }
   },
   "source": [
    "Valamilyen jól elkülöníthető, vagy ismétlődő kódrészletet gyakran függvényekbe szervezünk. Egy függvénynek vannak *paraméter*ei, az átadott *argumentum*okkal valamilyen műveleteket végzünk a függvény törzsében, majd visszatérünk 0, 1, vagy akár több *visszatérési érték*kel.\n",
    "\n",
    "Ez a függvény nem olyan, mint a matematikai értelemben vett függvény. Matematikában egy $x$ inputra az $f$ függvény az $y = f(x)$ értéket adja minden egyes alkalommal, ahol az $y$ output az $x$ input által egyértelműen meg van határozva. \n",
    "\n",
    "Programozási nyelvekben ez nem feltétlenül igaz. A függvény akár mutálhat, megváltoztathat függvényen kívüli változókat is, mellékhatásokat (side effect) idézve elő."
   ]
  },
  {
   "cell_type": "code",
   "execution_count": 1,
   "id": "fa384796",
   "metadata": {
    "slideshow": {
     "slide_type": "subslide"
    }
   },
   "outputs": [],
   "source": [
    "# A függvény neve `f`, a függvény paraméterei `a` és `b`\n",
    "\n",
    "def f(a, b):\n",
    "    c = a + b\n",
    "    return 2 * c"
   ]
  },
  {
   "cell_type": "code",
   "execution_count": 2,
   "id": "97444688",
   "metadata": {
    "slideshow": {
     "slide_type": "fragment"
    }
   },
   "outputs": [
    {
     "name": "stdout",
     "output_type": "stream",
     "text": [
      "6\n"
     ]
    }
   ],
   "source": [
    "# Az `f` függvényt az a=1 és b=2 argumentumokkal hívtuk meg.\n",
    "\n",
    "result = f(1, 2)\n",
    "\n",
    "print(result)"
   ]
  },
  {
   "cell_type": "code",
   "execution_count": 3,
   "id": "43d25d42",
   "metadata": {
    "slideshow": {
     "slide_type": "subslide"
    }
   },
   "outputs": [],
   "source": [
    "def simplest_possible_function():\n",
    "    pass"
   ]
  },
  {
   "cell_type": "code",
   "execution_count": 4,
   "id": "fe06acd7",
   "metadata": {
    "slideshow": {
     "slide_type": "fragment"
    }
   },
   "outputs": [],
   "source": [
    "def fahrenheit_to_celsius(fahrenheit):\n",
    "    return (fahrenheit - 32) / 1.8"
   ]
  },
  {
   "cell_type": "code",
   "execution_count": 5,
   "id": "f31a9edc",
   "metadata": {
    "slideshow": {
     "slide_type": "fragment"
    }
   },
   "outputs": [
    {
     "data": {
      "text/plain": [
       "37.77777777777778"
      ]
     },
     "execution_count": 5,
     "metadata": {},
     "output_type": "execute_result"
    }
   ],
   "source": [
    "fahrenheit_to_celsius(100)"
   ]
  },
  {
   "cell_type": "code",
   "execution_count": 6,
   "id": "d5ec99e9",
   "metadata": {
    "slideshow": {
     "slide_type": "subslide"
    }
   },
   "outputs": [
    {
     "name": "stdout",
     "output_type": "stream",
     "text": [
      "5\n",
      "15\n"
     ]
    }
   ],
   "source": [
    "# Egy fuggveny eleri a kivul definialt valtozokat es fuggvenyeket is\n",
    "\n",
    "a = 5\n",
    "\n",
    "def g(x):\n",
    "    result = x + a\n",
    "    return result\n",
    "\n",
    "\n",
    "print(a)\n",
    "print(g(10))"
   ]
  },
  {
   "cell_type": "code",
   "execution_count": 7,
   "id": "f860c5f7",
   "metadata": {
    "slideshow": {
     "slide_type": "subslide"
    }
   },
   "outputs": [],
   "source": [
    "# Egy függvény törzsében több return utasítás is lehet\n",
    "def calc_absolute_value(x):\n",
    "    if x < 0:\n",
    "        return -x\n",
    "    \n",
    "    elif x > 0:\n",
    "        return x\n",
    "    \n",
    "    else:\n",
    "        return 0\n",
    "\n",
    "    \n",
    "def better_absolute_value(x):\n",
    "    if x < 0:\n",
    "        return -x\n",
    "    \n",
    "    return x\n",
    "\n",
    "# abs(x)"
   ]
  },
  {
   "cell_type": "code",
   "execution_count": 8,
   "id": "16161fd1",
   "metadata": {
    "slideshow": {
     "slide_type": "subslide"
    }
   },
   "outputs": [
    {
     "name": "stdout",
     "output_type": "stream",
     "text": [
      "1\n"
     ]
    }
   ],
   "source": [
    "def f(x):\n",
    "    return x\n",
    "\n",
    "    y = 2 * x\n",
    "    print(\"Dead code, never reachable.\")\n",
    "    return 100\n",
    "    \n",
    "\n",
    "print(f(1))"
   ]
  },
  {
   "cell_type": "code",
   "execution_count": 9,
   "id": "283808f9",
   "metadata": {
    "slideshow": {
     "slide_type": "subslide"
    }
   },
   "outputs": [
    {
     "name": "stdout",
     "output_type": "stream",
     "text": [
      "Hello!\n"
     ]
    }
   ],
   "source": [
    "# nulla darab input argumentum, nulla darab output, persze ilyenkor is visszatérünk valamivel\n",
    "\n",
    "def greet():\n",
    "    print(\"Hello!\")\n",
    "\n",
    "\n",
    "greet()"
   ]
  },
  {
   "cell_type": "code",
   "execution_count": 10,
   "id": "dbbb653b",
   "metadata": {
    "slideshow": {
     "slide_type": "fragment"
    }
   },
   "outputs": [
    {
     "name": "stdout",
     "output_type": "stream",
     "text": [
      "Hello!\n",
      "None\n",
      "<class 'NoneType'>\n"
     ]
    }
   ],
   "source": [
    "result = greet()\n",
    "\n",
    "print(result)\n",
    "\n",
    "print(type(None))"
   ]
  },
  {
   "cell_type": "markdown",
   "id": "cedc3559",
   "metadata": {
    "slideshow": {
     "slide_type": "slide"
    }
   },
   "source": [
    "Meg lehet adni alapértelmezett értékeket is, illetve meg lehet hívni a függvényt a paraméter neve alapján is. Annyi megkötés van, hogy először a pozíció szerint álló argumentumok jönnek, utána a név alapján álló argumentumok."
   ]
  },
  {
   "cell_type": "code",
   "execution_count": 11,
   "id": "914b5af3",
   "metadata": {
    "slideshow": {
     "slide_type": "fragment"
    }
   },
   "outputs": [],
   "source": [
    "def f(a, b, c):\n",
    "    return a + 2*b + 3*c"
   ]
  },
  {
   "cell_type": "code",
   "execution_count": 12,
   "id": "bd9327d6",
   "metadata": {
    "slideshow": {
     "slide_type": "fragment"
    }
   },
   "outputs": [
    {
     "data": {
      "text/plain": [
       "14"
      ]
     },
     "execution_count": 12,
     "metadata": {},
     "output_type": "execute_result"
    }
   ],
   "source": [
    "f(1, 2, 3)"
   ]
  },
  {
   "cell_type": "code",
   "execution_count": 13,
   "id": "b08685b6",
   "metadata": {
    "slideshow": {
     "slide_type": "fragment"
    }
   },
   "outputs": [
    {
     "data": {
      "text/plain": [
       "14"
      ]
     },
     "execution_count": 13,
     "metadata": {},
     "output_type": "execute_result"
    }
   ],
   "source": [
    "f(a=1, c=3, b=2)"
   ]
  },
  {
   "cell_type": "code",
   "execution_count": 14,
   "id": "19c3a831",
   "metadata": {
    "slideshow": {
     "slide_type": "slide"
    }
   },
   "outputs": [],
   "source": [
    "def f(a, b, c=0):\n",
    "    return a + 2*b + 3*c"
   ]
  },
  {
   "cell_type": "code",
   "execution_count": 15,
   "id": "142480d4",
   "metadata": {
    "slideshow": {
     "slide_type": "fragment"
    }
   },
   "outputs": [
    {
     "data": {
      "text/plain": [
       "14"
      ]
     },
     "execution_count": 15,
     "metadata": {},
     "output_type": "execute_result"
    }
   ],
   "source": [
    "f(1, 2, 3)"
   ]
  },
  {
   "cell_type": "code",
   "execution_count": 16,
   "id": "7a85ea61",
   "metadata": {
    "slideshow": {
     "slide_type": "fragment"
    }
   },
   "outputs": [
    {
     "data": {
      "text/plain": [
       "5"
      ]
     },
     "execution_count": 16,
     "metadata": {},
     "output_type": "execute_result"
    }
   ],
   "source": [
    "f(1, 2)"
   ]
  },
  {
   "cell_type": "code",
   "execution_count": 17,
   "id": "68452d55",
   "metadata": {
    "slideshow": {
     "slide_type": "fragment"
    }
   },
   "outputs": [],
   "source": [
    "# Ez nem megy, mert név szerint hivatkozott argumentum után nem állhat pozíció szerinti argumentum\n",
    "\n",
    "#f(a=1, 2)"
   ]
  },
  {
   "cell_type": "markdown",
   "id": "ef15cbfb",
   "metadata": {
    "slideshow": {
     "slide_type": "slide"
    }
   },
   "source": [
    "Azt is ki lehet kényszeríteni, hogy egy függvényt bizonyos argumentumait csak név szerint lehessen átadni. Megfordítva, el lehet érni, hogy bizonyos argumentumokat csak pozíció alapján lehessen átadni a függvénynek."
   ]
  },
  {
   "cell_type": "code",
   "execution_count": 18,
   "id": "5dfbd828",
   "metadata": {
    "slideshow": {
     "slide_type": "fragment"
    }
   },
   "outputs": [],
   "source": [
    "def f(a, b, *, c):\n",
    "    return a + b + c"
   ]
  },
  {
   "cell_type": "code",
   "execution_count": 19,
   "id": "147d1da0",
   "metadata": {
    "slideshow": {
     "slide_type": "fragment"
    }
   },
   "outputs": [
    {
     "ename": "TypeError",
     "evalue": "f() takes 2 positional arguments but 3 were given",
     "output_type": "error",
     "traceback": [
      "\u001b[1;31m---------------------------------------------------------------------------\u001b[0m",
      "\u001b[1;31mTypeError\u001b[0m                                 Traceback (most recent call last)",
      "Input \u001b[1;32mIn [19]\u001b[0m, in \u001b[0;36m<cell line: 1>\u001b[1;34m()\u001b[0m\n\u001b[1;32m----> 1\u001b[0m \u001b[43mf\u001b[49m\u001b[43m(\u001b[49m\u001b[38;5;241;43m1\u001b[39;49m\u001b[43m,\u001b[49m\u001b[43m \u001b[49m\u001b[38;5;241;43m2\u001b[39;49m\u001b[43m,\u001b[49m\u001b[43m \u001b[49m\u001b[38;5;241;43m3\u001b[39;49m\u001b[43m)\u001b[49m\n",
      "\u001b[1;31mTypeError\u001b[0m: f() takes 2 positional arguments but 3 were given"
     ]
    }
   ],
   "source": [
    "f(1, 2, 3)"
   ]
  },
  {
   "cell_type": "code",
   "execution_count": null,
   "id": "31ec7076",
   "metadata": {
    "slideshow": {
     "slide_type": "slide"
    }
   },
   "outputs": [],
   "source": [
    "def g(a, /, b, c):\n",
    "    return a + b + c"
   ]
  },
  {
   "cell_type": "code",
   "execution_count": null,
   "id": "f48df7f2",
   "metadata": {
    "slideshow": {
     "slide_type": "fragment"
    }
   },
   "outputs": [],
   "source": [
    "g(a=1, b=2, c=3)"
   ]
  },
  {
   "cell_type": "markdown",
   "id": "976bb929",
   "metadata": {
    "slideshow": {
     "slide_type": "slide"
    }
   },
   "source": [
    "Feladat: Írjunk egy függvényt, amely adott $n$ inputra megmondja, hogy hány 9-es szerepel 1 és n között a számokban."
   ]
  },
  {
   "cell_type": "code",
   "execution_count": null,
   "id": "75c4673d",
   "metadata": {
    "slideshow": {
     "slide_type": "fragment"
    }
   },
   "outputs": [],
   "source": [
    "# def count_nr_of_nines(n):\n",
    "#     count = 0\n",
    "#     for k in range(1, n+1):\n",
    "#         for char in str(k):\n",
    "#             if char == \"9\":\n",
    "#                 count += 1\n",
    "#     return count   \n",
    "\n",
    "\n",
    "def count_nr_of_nines(n):\n",
    "    count = 0\n",
    "    for k in range(1, n+1):\n",
    "        s = str(k)\n",
    "        count += s.count(\"9\")\n",
    "    return count \n",
    "\n",
    "\n",
    "count_nr_of_nines(100)"
   ]
  },
  {
   "cell_type": "code",
   "execution_count": null,
   "id": "f9ea4cf4",
   "metadata": {
    "slideshow": {
     "slide_type": "slide"
    }
   },
   "outputs": [],
   "source": [
    "# Ha több visszatérési érték van, az eredmény egy tuple, erre hamarosan visszatérünk\n",
    "\n",
    "def f(a):\n",
    "    return -a, a, 2*a"
   ]
  },
  {
   "cell_type": "code",
   "execution_count": null,
   "id": "d60ced15",
   "metadata": {
    "slideshow": {
     "slide_type": "fragment"
    }
   },
   "outputs": [],
   "source": [
    "result = f(10)\n",
    "\n",
    "print(result)\n",
    "print(type(result))"
   ]
  },
  {
   "cell_type": "code",
   "execution_count": null,
   "id": "5595b48e",
   "metadata": {
    "slideshow": {
     "slide_type": "fragment"
    }
   },
   "outputs": [],
   "source": [
    "x, y, z = f(10) \n",
    "\n",
    "print(x)\n",
    "print(x)\n",
    "print(z)"
   ]
  },
  {
   "cell_type": "markdown",
   "id": "c747f026",
   "metadata": {
    "slideshow": {
     "slide_type": "slide"
    }
   },
   "source": [
    "## Rekurzió (recursion)"
   ]
  },
  {
   "cell_type": "code",
   "execution_count": null,
   "id": "c6c9b41e",
   "metadata": {
    "slideshow": {
     "slide_type": "slide"
    }
   },
   "outputs": [],
   "source": [
    "# Egy függvény saját magát is meghívhatja a törzsében. \n",
    "\n",
    "# x ** k = x * (x ** (k - 1))\n",
    "def calc_integer_power(x, k):\n",
    "    if k == 0:\n",
    "        return 1\n",
    "    \n",
    "    return x * calc_integer_power(x, k - 1)"
   ]
  },
  {
   "cell_type": "markdown",
   "id": "294dd48f",
   "metadata": {
    "slideshow": {
     "slide_type": "fragment"
    }
   },
   "source": [
    "**HF**: módosítsuk a fenti függvényt, hogy negatív k-ra is működjön"
   ]
  },
  {
   "cell_type": "code",
   "execution_count": null,
   "id": "4f86ff9b",
   "metadata": {
    "slideshow": {
     "slide_type": "fragment"
    }
   },
   "outputs": [],
   "source": [
    "calc_integer_power(2, 4)"
   ]
  },
  {
   "cell_type": "code",
   "execution_count": null,
   "id": "9624af2c",
   "metadata": {
    "slideshow": {
     "slide_type": "slide"
    }
   },
   "outputs": [],
   "source": [
    "def endless_recursion():\n",
    "    return endless_recursion()\n",
    "\n",
    "\n",
    "endless_recursion()"
   ]
  },
  {
   "cell_type": "code",
   "execution_count": null,
   "id": "38ff4e18",
   "metadata": {
    "slideshow": {
     "slide_type": "slide"
    }
   },
   "outputs": [],
   "source": [
    "def factorial(n):\n",
    "    if n == 0 or n == 1:\n",
    "        return 1\n",
    "    \n",
    "    return n * factorial(n - 1)"
   ]
  },
  {
   "cell_type": "markdown",
   "id": "5f378f11",
   "metadata": {
    "slideshow": {
     "slide_type": "slide"
    }
   },
   "source": [
    "```\n",
    "factorial(5) \n",
    "    = 5 * factorial(4)\n",
    "    = 5 * (4 * factorial(3))\n",
    "    = 5 * (4 * (3 * factorial(2)))\n",
    "    = 5 * (4 * (3 * (2 * factorial(1))))\n",
    "    = 5 * (4 * (3 * (2 * (1)))))\n",
    "    = 120\n",
    "```"
   ]
  },
  {
   "cell_type": "code",
   "execution_count": null,
   "id": "c8a12070",
   "metadata": {
    "slideshow": {
     "slide_type": "fragment"
    }
   },
   "outputs": [],
   "source": [
    "factorial(5)"
   ]
  },
  {
   "cell_type": "code",
   "execution_count": null,
   "id": "2cb01764",
   "metadata": {
    "slideshow": {
     "slide_type": "slide"
    }
   },
   "outputs": [],
   "source": [
    "# Függvények törzsében lehet belső függvényeket definiálni\n",
    "\n",
    "def another_factorial(n):\n",
    "    def loop(accumulator, k):\n",
    "        if k > n:\n",
    "            return accumulator\n",
    "        \n",
    "        return loop(accumulator * k, k + 1)\n",
    "    \n",
    "    return loop(1, 1)"
   ]
  },
  {
   "cell_type": "markdown",
   "id": "37593a0c",
   "metadata": {
    "slideshow": {
     "slide_type": "slide"
    }
   },
   "source": [
    "```\n",
    "another_factorial(5) \n",
    "    = loop(1, 1)\n",
    "    = loop(1, 2)\n",
    "    = loop(2, 3)\n",
    "    = loop(6, 4)\n",
    "    = loop(24, 5)\n",
    "    = loop(120, 6)\n",
    "    = 120\n",
    "```\n",
    "\n",
    "Sajnos Python-ban nincs kihasználva az a tény, hogy ez a megoldás ugyan továbbra is rekurzív (a `loop` függvény rekurzív), de a rekurzió mélysége mindig pontosan 1."
   ]
  },
  {
   "cell_type": "code",
   "execution_count": null,
   "id": "6b26a196",
   "metadata": {
    "slideshow": {
     "slide_type": "fragment"
    }
   },
   "outputs": [],
   "source": [
    "another_factorial(5)"
   ]
  },
  {
   "cell_type": "markdown",
   "id": "d064e7f9",
   "metadata": {
    "slideshow": {
     "slide_type": "subslide"
    }
   },
   "source": [
    "**HF**: Írjuk meg a faktoriális függvényt rekurzió nélkül.\n",
    "\n",
    "```python\n",
    "def factorial(n):    \n",
    "    pass\n",
    "```"
   ]
  },
  {
   "cell_type": "markdown",
   "id": "931aa104",
   "metadata": {
    "slideshow": {
     "slide_type": "slide"
    }
   },
   "source": [
    "## Névtelen függvények (anonymous functions, lambda-functions)"
   ]
  },
  {
   "cell_type": "markdown",
   "id": "ace58188",
   "metadata": {
    "slideshow": {
     "slide_type": "slide"
    }
   },
   "source": [
    "Vannak olyan esetek, amikor egy függvénynek nem szükséges nevet adnunk. Csak az érdekel minket, hogy mit mire képez le. Csak egyszerű esetekben lehet használni, a függvény törzse egyetlen kifejezésből állhat."
   ]
  },
  {
   "cell_type": "markdown",
   "id": "2f346689",
   "metadata": {
    "slideshow": {
     "slide_type": "fragment"
    }
   },
   "source": [
    "Például az $x\\mapsto 2x$ hozzárendelésnek megfelelő névtelen függvény Pythonban így néz ki:\n",
    "```python\n",
    "lambda x: 2*x\n",
    "```"
   ]
  },
  {
   "cell_type": "code",
   "execution_count": null,
   "id": "b5896e8a",
   "metadata": {
    "slideshow": {
     "slide_type": "fragment"
    }
   },
   "outputs": [],
   "source": [
    "(lambda x: 2 * x)(10)"
   ]
  },
  {
   "cell_type": "code",
   "execution_count": null,
   "id": "aeb74c22",
   "metadata": {
    "slideshow": {
     "slide_type": "fragment"
    }
   },
   "outputs": [],
   "source": [
    "functions = [lambda x: x + 1, lambda x: 2*x, lambda y: y // 2]\n",
    "\n",
    "\n",
    "for f in functions:\n",
    "    print(f(10))"
   ]
  },
  {
   "cell_type": "markdown",
   "id": "98fae8a5",
   "metadata": {
    "slideshow": {
     "slide_type": "slide"
    }
   },
   "source": [
    "A függvények Pythonban elsőrendű állampolgároknak minősülnek (first-class citizens), azaz ugyanolyan jogokkal rendelkeznek, mint akármilyen más nyelvi konstrukció. Listába tehetők, változók értékeinek adhatók, függvény paramétere lehet egy függvény, függvény visszatérési értéke is lehet egy függvény, stb."
   ]
  },
  {
   "cell_type": "code",
   "execution_count": null,
   "id": "c0bcde57",
   "metadata": {
    "slideshow": {
     "slide_type": "fragment"
    }
   },
   "outputs": [],
   "source": [
    "def create_multiplier(k):\n",
    "    return lambda x: k * x\n",
    "\n",
    "\n",
    "ten_times = create_multiplier(10)\n",
    "\n",
    "\n",
    "print(type(ten_times))\n",
    "print(ten_times(5))"
   ]
  },
  {
   "cell_type": "code",
   "execution_count": null,
   "id": "f44f31c2",
   "metadata": {
    "slideshow": {
     "slide_type": "subslide"
    }
   },
   "outputs": [],
   "source": [
    "# lambda függvény helyett egy hagyományosan definiált függvényt is visszaadhatunk\n",
    "\n",
    "def create_multiplier(k):\n",
    "    def inner(x):\n",
    "        return k * x\n",
    "    \n",
    "    return inner\n",
    "\n",
    "\n",
    "ten_times = create_multiplier(10)\n",
    "\n",
    "\n",
    "print(type(ten_times))\n",
    "print(ten_times(5))"
   ]
  },
  {
   "cell_type": "markdown",
   "id": "e29b0b6d",
   "metadata": {
    "slideshow": {
     "slide_type": "slide"
    }
   },
   "source": [
    "**HF**: írjunk egy függvényt, amely inputként vár két függvényt és az output az a függvény, amelyik a két input összege.\n",
    "\n",
    "Azaz ha $f$ és $g$ függvények (pl. $f(x) = x + 1$, $g(x) = 2x + 1$), akkor az output legyen az a $h$ függvény, melyre $h(x) = f(x) + g(x)$.\n",
    "\n",
    "```python\n",
    "def add_two_functions(f, g):\n",
    "    pass\n",
    "```"
   ]
  },
  {
   "cell_type": "markdown",
   "id": "df5d9750",
   "metadata": {
    "slideshow": {
     "slide_type": "subslide"
    }
   },
   "source": [
    "**HF**: írjunk egy függvényt, amely inputként vár két függvényt és az output az a függvény, amelyik a két input kompozíciója.\n",
    "\n",
    "Azaz ha $f$ és $g$ függvények (pl. $f(x) = x + 1$, $g(x) = 2x + 1$), akkor az output legyen az a $h$ függvény, melyre $h(x) = f(g(x)$.\n",
    "\n",
    "```python\n",
    "def compose(f, g):\n",
    "    pass\n",
    "```"
   ]
  },
  {
   "cell_type": "markdown",
   "id": "30dfd6ad",
   "metadata": {
    "slideshow": {
     "slide_type": "slide"
    }
   },
   "source": [
    "# A Python beépített adatszerkezetei (Python collections)"
   ]
  },
  {
   "cell_type": "markdown",
   "id": "9edb5949",
   "metadata": {
    "slideshow": {
     "slide_type": "subslide"
    }
   },
   "source": [
    "# Lista (list)"
   ]
  },
  {
   "cell_type": "markdown",
   "id": "2f6eff87",
   "metadata": {
    "slideshow": {
     "slide_type": "subslide"
    }
   },
   "source": [
    "A Python egyik legalapvetőbb adatszerkezete a lista. \n",
    "\n",
    "Egy Python lista egy lineáris adatszerkezet, bármilyen típusú elemekből állhat. A legtöbb esetben azért jellemzően mégis csak azonos típusú elemek kerülnek egy listába. Az elemeket index alapján is el lehet érni, ahol az elérés sebessége gyors. \n",
    "\n",
    "Később algoritmuselméleti, bonyolultságelméleti órákon tanulni fogtok algoritmusok műveletigényéről, egyelőre legyen elég annyi, hogy egy tetszőleges lista tetszőleges elemének index alapján történő elérése gyors, konstans idejű, nem függ a lista hosszától.\n",
    "\n",
    "Listákra már láttunk példát korábban.\n",
    "```python\n",
    "[\"alma\", \"körte\", \"meggy\"]\n",
    "```"
   ]
  },
  {
   "cell_type": "markdown",
   "id": "0a44494a",
   "metadata": {
    "slideshow": {
     "slide_type": "subslide"
    }
   },
   "source": [
    "A lista típusa `list`, ami egyben egy függvény is, amely listát tud konstruálni egy másik adatszerkezetből. Ha az elemek adottak, akkor vesszővel elválasztva soroljuk fel a lista elemeit, melyet szögletes zárójelek határolnak. Az utolsó elem után tett vessző opcionális."
   ]
  },
  {
   "cell_type": "code",
   "execution_count": null,
   "id": "dad6a6cb",
   "metadata": {
    "slideshow": {
     "slide_type": "fragment"
    }
   },
   "outputs": [],
   "source": [
    "lst = [1, \"Hello\", int]"
   ]
  },
  {
   "cell_type": "code",
   "execution_count": null,
   "id": "ed5606ae",
   "metadata": {
    "slideshow": {
     "slide_type": "fragment"
    }
   },
   "outputs": [],
   "source": [
    "2 in lst"
   ]
  },
  {
   "cell_type": "code",
   "execution_count": null,
   "id": "09fe963a",
   "metadata": {
    "slideshow": {
     "slide_type": "fragment"
    }
   },
   "outputs": [],
   "source": [
    "\"Hello\" in lst"
   ]
  },
  {
   "cell_type": "code",
   "execution_count": null,
   "id": "916ab429",
   "metadata": {
    "slideshow": {
     "slide_type": "fragment"
    }
   },
   "outputs": [],
   "source": [
    "len(lst)"
   ]
  },
  {
   "cell_type": "code",
   "execution_count": null,
   "id": "c2f9a431",
   "metadata": {
    "slideshow": {
     "slide_type": "fragment"
    }
   },
   "outputs": [],
   "source": [
    "\"World\" not in lst"
   ]
  },
  {
   "cell_type": "markdown",
   "id": "1960ba78",
   "metadata": {
    "slideshow": {
     "slide_type": "slide"
    }
   },
   "source": [
    "A lista **mutable**, azaz módosíthatók az elemei, ettől még ugyanarról a listáról beszélünk, ugyanaz az objektum. Emlékszünk, a string adatszerkezet **immutable**, azaz karakterláncot nem lehet módosítani, illetve a rajta definiált metódusok egy új stringgel térnek vissza."
   ]
  },
  {
   "cell_type": "code",
   "execution_count": null,
   "id": "d21a37d2",
   "metadata": {
    "slideshow": {
     "slide_type": "fragment"
    }
   },
   "outputs": [],
   "source": [
    "print(id(lst))\n",
    "\n",
    "lst[0] = 100\n",
    "\n",
    "print(id(lst))\n",
    "print(lst)\n",
    "\n",
    "lst.append(0)\n",
    "print(id(lst))\n",
    "print(lst)"
   ]
  },
  {
   "cell_type": "code",
   "execution_count": null,
   "id": "bba968d3",
   "metadata": {
    "slideshow": {
     "slide_type": "fragment"
    }
   },
   "outputs": [],
   "source": [
    "[\"Hello\"] * 4"
   ]
  },
  {
   "cell_type": "code",
   "execution_count": null,
   "id": "ccf4c4fb",
   "metadata": {
    "slideshow": {
     "slide_type": "slide"
    }
   },
   "outputs": [],
   "source": [
    "xs1 = [1, 2, 3]\n",
    "\n",
    "xs2 = [11, 12, 13, 14, 15]\n",
    "\n",
    "xs1 + xs2"
   ]
  },
  {
   "cell_type": "markdown",
   "id": "69233b70",
   "metadata": {
    "slideshow": {
     "slide_type": "slide"
    }
   },
   "source": [
    "A lista Pythonban nem olyan, mint mondjuk egy tömb (array) C-ben. Egy tömb azonos típusú elemeket tartalmaz, míg egy Python listában bármi lehet. Ezenkívül egy tömb mérete a keletkezésekor eldől és az nem változik, ezzel szemben egy Python lista mérete futás közben dinamikusan tud változni (elemeket vehetünk hozzá, illetve elemeket törölhetünk belőle).\n",
    "\n",
    "Ennek az adatszerkezetnek a neve **dinamikus tömb** (dynamic array), vagy **dinamikusan átméretezhető tömb** (resizeable array), ha esetleg egy későbbi algoritmuselméleti órán találkoznátok vele, akkor a Python lista éppen ilyen."
   ]
  },
  {
   "cell_type": "markdown",
   "id": "f9c787c4",
   "metadata": {
    "slideshow": {
     "slide_type": "subslide"
    }
   },
   "source": [
    "Listán is többféle metódus értelmezett, a két legfontosabb az\n",
    "\n",
    "* `append`, ami hozzávesz a listához egy elemet\n",
    "* `pop`, ami törli a lista megadott indexű elemét\n",
    "\n",
    "```python\n",
    "xs = [1, 2, 3]\n",
    "xs.append(200)   # -> xs = [1, 2, 3, 200]\n",
    "xs.pop(-1)       # -> xs = [1, 2, 3]\n",
    "```"
   ]
  },
  {
   "cell_type": "code",
   "execution_count": null,
   "id": "74cc622b",
   "metadata": {
    "slideshow": {
     "slide_type": "slide"
    }
   },
   "outputs": [],
   "source": [
    "lst = [10, 15, 20]\n",
    "\n",
    "for x in lst:\n",
    "    print(x)"
   ]
  },
  {
   "cell_type": "code",
   "execution_count": null,
   "id": "7fd1e12b",
   "metadata": {
    "slideshow": {
     "slide_type": "fragment"
    }
   },
   "outputs": [],
   "source": [
    "# Gyakran szükségünk lehet az elemre ÉS annak indexére is.\n",
    "\n",
    "for ix, x in enumerate(lst):\n",
    "    print(f\"Element {ix} equals to {x}.\") "
   ]
  },
  {
   "cell_type": "code",
   "execution_count": null,
   "id": "42d2b1e2",
   "metadata": {
    "slideshow": {
     "slide_type": "slide"
    }
   },
   "outputs": [],
   "source": [
    "names = [\"Ann\", \"Ben\", \"Cecil\"]\n",
    "ages = [20, 30, 60]\n",
    "\n",
    "\n",
    "for name, age in zip(names, ages):\n",
    "    print(f\"{name} is {age} years old.\")"
   ]
  },
  {
   "cell_type": "code",
   "execution_count": null,
   "id": "4383cc6c",
   "metadata": {
    "slideshow": {
     "slide_type": "subslide"
    }
   },
   "outputs": [],
   "source": [
    "pairs = [(name, age) for name, age in zip(names, ages)]\n",
    "\n",
    "pairs"
   ]
  },
  {
   "cell_type": "code",
   "execution_count": null,
   "id": "afe42627",
   "metadata": {
    "slideshow": {
     "slide_type": "fragment"
    }
   },
   "outputs": [],
   "source": [
    "names, ages = zip(*pairs)\n",
    "\n",
    "print(names)\n",
    "print(ages)"
   ]
  },
  {
   "cell_type": "code",
   "execution_count": null,
   "id": "5299409a",
   "metadata": {
    "slideshow": {
     "slide_type": "subslide"
    }
   },
   "outputs": [],
   "source": [
    "lst = [1, 2, 3]\n",
    "\n",
    "def f(x):\n",
    "    lst.append(x)\n",
    "    return x\n",
    "\n",
    "\n",
    "print(lst)\n",
    "print(f(10))\n",
    "print(lst)"
   ]
  },
  {
   "cell_type": "code",
   "execution_count": null,
   "id": "d45224da",
   "metadata": {
    "slideshow": {
     "slide_type": "subslide"
    }
   },
   "outputs": [],
   "source": [
    "lst = [1, 2, 3]\n",
    "\n",
    "\n",
    "def f(x):\n",
    "    lst.append(x)\n",
    "    return x + len(lst)\n",
    "\n",
    "\n",
    "print(f(1))\n",
    "print(f(1))"
   ]
  },
  {
   "cell_type": "code",
   "execution_count": null,
   "id": "005b6d63",
   "metadata": {
    "slideshow": {
     "slide_type": "subslide"
    }
   },
   "outputs": [],
   "source": [
    "text = \"I think this is the beginning of a beautiful friendship.\"\n",
    "\n",
    "words = text.split()\n",
    "\n",
    "words"
   ]
  },
  {
   "cell_type": "code",
   "execution_count": null,
   "id": "e3ae0929",
   "metadata": {
    "slideshow": {
     "slide_type": "fragment"
    }
   },
   "outputs": [],
   "source": [
    "\" \".join(words)"
   ]
  },
  {
   "cell_type": "markdown",
   "id": "3d3b5bb9",
   "metadata": {
    "slideshow": {
     "slide_type": "slide"
    }
   },
   "source": [
    "## Indexelés (slicing)"
   ]
  },
  {
   "cell_type": "code",
   "execution_count": null,
   "id": "6b5dcc72",
   "metadata": {
    "slideshow": {
     "slide_type": "slide"
    }
   },
   "outputs": [],
   "source": [
    "lst = [1, 2, 3, 5, 3, 8, 2, 2, 0, 4]"
   ]
  },
  {
   "cell_type": "code",
   "execution_count": null,
   "id": "f7ef093d",
   "metadata": {
    "slideshow": {
     "slide_type": "fragment"
    }
   },
   "outputs": [],
   "source": [
    "lst[0]"
   ]
  },
  {
   "cell_type": "code",
   "execution_count": null,
   "id": "a84601df",
   "metadata": {
    "slideshow": {
     "slide_type": "fragment"
    }
   },
   "outputs": [],
   "source": [
    "lst[-1]"
   ]
  },
  {
   "cell_type": "code",
   "execution_count": null,
   "id": "ff69e5e0",
   "metadata": {
    "slideshow": {
     "slide_type": "fragment"
    }
   },
   "outputs": [],
   "source": [
    "lst[-3]"
   ]
  },
  {
   "cell_type": "code",
   "execution_count": null,
   "id": "b8191c54",
   "metadata": {
    "slideshow": {
     "slide_type": "fragment"
    }
   },
   "outputs": [],
   "source": [
    "lst[:3]"
   ]
  },
  {
   "cell_type": "code",
   "execution_count": null,
   "id": "63d2fe36",
   "metadata": {
    "slideshow": {
     "slide_type": "slide"
    }
   },
   "outputs": [],
   "source": [
    "lst[0:3]"
   ]
  },
  {
   "cell_type": "code",
   "execution_count": null,
   "id": "d52f2ac7",
   "metadata": {
    "slideshow": {
     "slide_type": "fragment"
    }
   },
   "outputs": [],
   "source": [
    "lst[4:6]"
   ]
  },
  {
   "cell_type": "code",
   "execution_count": null,
   "id": "221a1d6a",
   "metadata": {
    "slideshow": {
     "slide_type": "fragment"
    }
   },
   "outputs": [],
   "source": [
    "lst[5:]"
   ]
  },
  {
   "cell_type": "code",
   "execution_count": null,
   "id": "9faac97a",
   "metadata": {
    "slideshow": {
     "slide_type": "fragment"
    }
   },
   "outputs": [],
   "source": [
    "lst[-2:]"
   ]
  },
  {
   "cell_type": "code",
   "execution_count": null,
   "id": "36657de7",
   "metadata": {
    "slideshow": {
     "slide_type": "fragment"
    }
   },
   "outputs": [],
   "source": [
    "lst[3:8:2]"
   ]
  },
  {
   "cell_type": "code",
   "execution_count": null,
   "id": "3e10b61b",
   "metadata": {
    "slideshow": {
     "slide_type": "fragment"
    }
   },
   "outputs": [],
   "source": [
    "lst[slice(3, 8, 2)]"
   ]
  },
  {
   "cell_type": "code",
   "execution_count": null,
   "id": "b280e3d9",
   "metadata": {
    "slideshow": {
     "slide_type": "slide"
    }
   },
   "outputs": [],
   "source": [
    "lst = [1, 2, 3, 5, 3, 8, 2, 2, 0, 4]"
   ]
  },
  {
   "cell_type": "code",
   "execution_count": null,
   "id": "b9cedc73",
   "metadata": {
    "slideshow": {
     "slide_type": "fragment"
    }
   },
   "outputs": [],
   "source": [
    "lst.remove(0)\n",
    "\n",
    "print(lst)"
   ]
  },
  {
   "cell_type": "code",
   "execution_count": null,
   "id": "e3446385",
   "metadata": {
    "slideshow": {
     "slide_type": "fragment"
    }
   },
   "outputs": [],
   "source": [
    "lst.index(5)"
   ]
  },
  {
   "cell_type": "code",
   "execution_count": null,
   "id": "1f86cee9",
   "metadata": {
    "slideshow": {
     "slide_type": "fragment"
    }
   },
   "outputs": [],
   "source": [
    "lst.index(11)"
   ]
  },
  {
   "cell_type": "code",
   "execution_count": null,
   "id": "8ea2e758",
   "metadata": {
    "slideshow": {
     "slide_type": "slide"
    }
   },
   "outputs": [],
   "source": [
    "lst"
   ]
  },
  {
   "cell_type": "code",
   "execution_count": null,
   "id": "dcd886f1",
   "metadata": {
    "slideshow": {
     "slide_type": "fragment"
    }
   },
   "outputs": [],
   "source": [
    "lst.append(100)\n",
    "\n",
    "print(lst)"
   ]
  },
  {
   "cell_type": "code",
   "execution_count": null,
   "id": "db4b156f",
   "metadata": {
    "slideshow": {
     "slide_type": "fragment"
    }
   },
   "outputs": [],
   "source": [
    "lst.insert(1, 200)\n",
    "\n",
    "print(lst)"
   ]
  },
  {
   "cell_type": "code",
   "execution_count": null,
   "id": "8e540e54",
   "metadata": {
    "slideshow": {
     "slide_type": "fragment"
    }
   },
   "outputs": [],
   "source": [
    "lst[::-1]"
   ]
  },
  {
   "cell_type": "code",
   "execution_count": null,
   "id": "87d447ce",
   "metadata": {
    "slideshow": {
     "slide_type": "slide"
    }
   },
   "outputs": [],
   "source": [
    "print(lst)\n",
    "\n",
    "\n",
    "removed_item = lst.pop(1)\n",
    "\n",
    "print(removed_item)\n",
    "print(lst)"
   ]
  },
  {
   "cell_type": "markdown",
   "id": "7e4a7ab0",
   "metadata": {
    "slideshow": {
     "slide_type": "slide"
    }
   },
   "source": [
    "Listákon végigiterálhatunk (for-ciklussal), úgy, ahogy Pythonban minden collection-ön lehet iterálni. Sőt, saját magunk által definiált új adattípuson is lehet iterálni, ha akarjuk. Pythonban az *iterálható* (iterable) dolgokon lehet iterálni."
   ]
  },
  {
   "cell_type": "code",
   "execution_count": null,
   "id": "ab538135",
   "metadata": {
    "slideshow": {
     "slide_type": "slide"
    }
   },
   "outputs": [],
   "source": [
    "lst = [0, 1, 0, 3, 4, 11, 12, 11, 0, 0, 0, 2, 1, 13, 17, 5, 0, 0]\n",
    "\n",
    "\n",
    "odd_numbers = []\n",
    "for item in lst:\n",
    "    if item % 2 == 1:\n",
    "        odd_numbers.append(item)\n",
    "        \n",
    "odd_numbers"
   ]
  },
  {
   "cell_type": "code",
   "execution_count": null,
   "id": "e50b2bd6",
   "metadata": {
    "slideshow": {
     "slide_type": "slide"
    }
   },
   "outputs": [],
   "source": [
    "odd_numbers = []\n",
    "for item in lst:\n",
    "    if item % 2 == 1:\n",
    "        odd_numbers.insert(0, item)\n",
    "        \n",
    "odd_numbers[::-1]"
   ]
  },
  {
   "cell_type": "markdown",
   "id": "cec1dc4c",
   "metadata": {
    "slideshow": {
     "slide_type": "slide"
    }
   },
   "source": [
    "A listán definiált metódusoknak nem ugyanaz az algoritmikus komplexitásuk. Bizonyosak sokkal műveletigényesebbek, mint mások. A leggyakrabban használt metódus az `.append`, ami átlagosan konstans idő alatt add hozzá egy új elemet egy létező listához, illetve a `.pop(-1)`, ami a legutolsó elemet távolítja el a lista végéről."
   ]
  },
  {
   "cell_type": "code",
   "execution_count": 20,
   "id": "1a071ed9",
   "metadata": {
    "slideshow": {
     "slide_type": "slide"
    }
   },
   "outputs": [
    {
     "name": "stdout",
     "output_type": "stream",
     "text": [
      "0.026005029678344727\n"
     ]
    }
   ],
   "source": [
    "# Később visszatérünk az importokhoz\n",
    "import time\n",
    "\n",
    "n = 300000\n",
    "\n",
    "t = time.time()\n",
    "xs = []\n",
    "for x in range(n):\n",
    "    xs.append(x)\n",
    "\n",
    "print(time.time() - t)"
   ]
  },
  {
   "cell_type": "code",
   "execution_count": 21,
   "id": "f84dae8e",
   "metadata": {
    "slideshow": {
     "slide_type": "slide"
    }
   },
   "outputs": [
    {
     "name": "stdout",
     "output_type": "stream",
     "text": [
      "10.60041093826294\n"
     ]
    }
   ],
   "source": [
    "t = time.time()\n",
    "xs = []\n",
    "for x in range(n):\n",
    "    xs.insert(0, x)\n",
    "\n",
    "print(time.time() - t)"
   ]
  },
  {
   "cell_type": "markdown",
   "id": "217aada8",
   "metadata": {
    "slideshow": {
     "slide_type": "slide"
    }
   },
   "source": [
    "Mivel a lista mutable, és Pythonban a hozzárendelés (assignment) egy referenciát állít be, ebből az elején sok meglepetés szokott származni."
   ]
  },
  {
   "cell_type": "code",
   "execution_count": null,
   "id": "8e6fa9d7",
   "metadata": {
    "slideshow": {
     "slide_type": "slide"
    }
   },
   "outputs": [],
   "source": [
    "a = [1, 2, 3]  # `a` az [1, 2, 3] elemeket tartalmazó listára mutat\n",
    "\n",
    "b = a # `b` ugyanarra az objektumra mutat, mint `a`"
   ]
  },
  {
   "cell_type": "code",
   "execution_count": null,
   "id": "07b959b5",
   "metadata": {
    "slideshow": {
     "slide_type": "fragment"
    }
   },
   "outputs": [],
   "source": [
    "a.append(100)"
   ]
  },
  {
   "cell_type": "code",
   "execution_count": null,
   "id": "3c945a68",
   "metadata": {
    "slideshow": {
     "slide_type": "fragment"
    }
   },
   "outputs": [],
   "source": [
    "b"
   ]
  },
  {
   "cell_type": "markdown",
   "id": "91c6a86e",
   "metadata": {
    "slideshow": {
     "slide_type": "slide"
    }
   },
   "source": [
    "Figyelem! Függvényeknél **soha** ne adjunk meg alapértelmezett argumentumként mutable adatszekeztetet!"
   ]
  },
  {
   "cell_type": "code",
   "execution_count": null,
   "id": "a02ff6ff",
   "metadata": {
    "slideshow": {
     "slide_type": "slide"
    }
   },
   "outputs": [],
   "source": [
    "def f(n, lst=[]):\n",
    "    if n % 2 == 0:\n",
    "        lst.append(n)\n",
    "    \n",
    "    return lst"
   ]
  },
  {
   "cell_type": "code",
   "execution_count": null,
   "id": "7bb0deb8",
   "metadata": {
    "slideshow": {
     "slide_type": "slide"
    }
   },
   "outputs": [],
   "source": [
    "xs = [1, 2, 3]\n",
    "\n",
    "\n",
    "result = f(10, xs)\n",
    "print(result)\n",
    "print(xs)"
   ]
  },
  {
   "cell_type": "code",
   "execution_count": null,
   "id": "2037075b",
   "metadata": {
    "slideshow": {
     "slide_type": "slide"
    }
   },
   "outputs": [],
   "source": [
    "result = f(10)\n",
    "print(result)\n",
    "\n",
    "second_result = f(10)\n",
    "print(second_result)"
   ]
  },
  {
   "cell_type": "markdown",
   "id": "a9b37e33",
   "metadata": {
    "slideshow": {
     "slide_type": "slide"
    }
   },
   "source": [
    "A default értékek ugyanis nem akkor jönnek létre, amikor a függvényt meghívják, hanem pontosan egyszer, amikor a függvény definiálva van és első alkalommal hívják / fordítják. Minden további hívásnál az elmentett default érték lesz újrahasználva, és ha az közben mutálódott, akkor sajnos nincs mit tenni."
   ]
  },
  {
   "cell_type": "code",
   "execution_count": null,
   "id": "4fdc8425",
   "metadata": {
    "slideshow": {
     "slide_type": "fragment"
    }
   },
   "outputs": [],
   "source": [
    "def f(n, lst=None):\n",
    "    if lst is None:\n",
    "        lst = []\n",
    "    \n",
    "    if n % 2 == 0:\n",
    "        lst.append(n)\n",
    "    \n",
    "    return lst"
   ]
  },
  {
   "cell_type": "code",
   "execution_count": null,
   "id": "2020a7f9",
   "metadata": {
    "slideshow": {
     "slide_type": "slide"
    }
   },
   "outputs": [],
   "source": [
    "# A `bool` függvény logikai értéket rendel az inputjához, amennyiben ez lehetséges\n",
    "\n",
    "lst = [1, 2, 3]\n",
    "print(bool(lst))\n",
    "\n",
    "s = \"abc\"\n",
    "print(bool(s))\n",
    "\n",
    "z = 0\n",
    "print(bool(z))"
   ]
  },
  {
   "cell_type": "code",
   "execution_count": null,
   "id": "85cad7f0",
   "metadata": {
    "slideshow": {
     "slide_type": "slide"
    }
   },
   "outputs": [],
   "source": [
    "lst = list(range(100_000))\n",
    "\n",
    "print(lst[:5])\n",
    "\n",
    "print(len(lst))"
   ]
  },
  {
   "cell_type": "code",
   "execution_count": null,
   "id": "e588fffb",
   "metadata": {
    "slideshow": {
     "slide_type": "slide"
    }
   },
   "outputs": [],
   "source": [
    "t = time.time()\n",
    "while lst:\n",
    "    lst.pop(-1)\n",
    "\n",
    "print(time.time() - t)"
   ]
  },
  {
   "cell_type": "code",
   "execution_count": null,
   "id": "013fb81b",
   "metadata": {
    "slideshow": {
     "slide_type": "fragment"
    }
   },
   "outputs": [],
   "source": [
    "lst = list(range(100_000))\n",
    "\n",
    "t = time.time()\n",
    "while lst:\n",
    "    lst.pop(0)\n",
    "\n",
    "print(time.time() - t)"
   ]
  },
  {
   "cell_type": "code",
   "execution_count": null,
   "id": "51992332",
   "metadata": {
    "slideshow": {
     "slide_type": "subslide"
    }
   },
   "outputs": [],
   "source": [
    "def list_sum(xs):\n",
    "    if not xs:\n",
    "        return 0\n",
    "    \n",
    "    return xs[0] + list_sum(xs[1:])\n",
    "\n",
    "\n",
    "s = list_sum([1, 4, 3, 0, 2])\n",
    "print(s)"
   ]
  },
  {
   "cell_type": "code",
   "execution_count": null,
   "id": "e5904243",
   "metadata": {
    "slideshow": {
     "slide_type": "slide"
    }
   },
   "outputs": [],
   "source": [
    "def list_sum(xs):\n",
    "    s = 0\n",
    "    for elem in xs:\n",
    "        s += elem\n",
    "    \n",
    "    return s \n",
    "\n",
    "lst = list(range(10000000))\n",
    "\n",
    "\n",
    "t = time.time()\n",
    "print(list_sum(lst))\n",
    "print(time.time() - t)\n",
    "\n",
    "\n",
    "t = time.time()\n",
    "print(sum(lst))\n",
    "print(time.time() - t)"
   ]
  },
  {
   "cell_type": "markdown",
   "id": "c4e333e5",
   "metadata": {
    "slideshow": {
     "slide_type": "slide"
    }
   },
   "source": [
    "## Rendezés (sorting)"
   ]
  },
  {
   "cell_type": "code",
   "execution_count": null,
   "id": "97859975",
   "metadata": {
    "slideshow": {
     "slide_type": "slide"
    }
   },
   "outputs": [],
   "source": [
    "lst = [1, 4, 0, 6, 4, 5]\n",
    "\n",
    "sorted(lst)"
   ]
  },
  {
   "cell_type": "code",
   "execution_count": null,
   "id": "76b74c45",
   "metadata": {
    "slideshow": {
     "slide_type": "fragment"
    }
   },
   "outputs": [],
   "source": [
    "sorted(lst, reverse=True)"
   ]
  },
  {
   "cell_type": "code",
   "execution_count": null,
   "id": "7874b0f5",
   "metadata": {
    "slideshow": {
     "slide_type": "slide"
    }
   },
   "outputs": [],
   "source": [
    "lst = [\"Joe\", \"Peter\", \"Ann\", \"Töhötöm\"]\n",
    "\n",
    "sorted(lst)"
   ]
  },
  {
   "cell_type": "code",
   "execution_count": null,
   "id": "36e6308c",
   "metadata": {
    "slideshow": {
     "slide_type": "fragment"
    }
   },
   "outputs": [],
   "source": [
    "# sorted(lst, key=lambda s: len(s))\n",
    "\n",
    "sorted(lst, key=len)"
   ]
  }
 ],
 "metadata": {
  "celltoolbar": "Slideshow",
  "kernelspec": {
   "display_name": "Python 3.10.7 64-bit",
   "language": "python",
   "name": "python3"
  },
  "language_info": {
   "codemirror_mode": {
    "name": "ipython",
    "version": 3
   },
   "file_extension": ".py",
   "mimetype": "text/x-python",
   "name": "python",
   "nbconvert_exporter": "python",
   "pygments_lexer": "ipython3",
   "version": "3.9.12"
  },
  "vscode": {
   "interpreter": {
    "hash": "afb734500600fd355917ca529030176ea0ca205570884b88f2f6f7d791fd3fbe"
   }
  }
 },
 "nbformat": 4,
 "nbformat_minor": 5
}
