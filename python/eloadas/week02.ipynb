{
 "cells": [
  {
   "cell_type": "markdown",
   "id": "18f7acc0",
   "metadata": {
    "slideshow": {
     "slide_type": "slide"
    }
   },
   "source": [
    "# A Python nyelv alapelemei"
   ]
  },
  {
   "cell_type": "markdown",
   "id": "943fc80b",
   "metadata": {
    "slideshow": {
     "slide_type": "subslide"
    }
   },
   "source": [
    "## Logikai értékek (Boolean values)"
   ]
  },
  {
   "cell_type": "code",
   "execution_count": null,
   "id": "700ed2d1",
   "metadata": {
    "slideshow": {
     "slide_type": "fragment"
    }
   },
   "outputs": [],
   "source": [
    "a = True\n",
    "b = True\n",
    "c = False\n",
    "\n",
    "\n",
    "print(not a)\n",
    "print(a or c)\n",
    "print(a and b)"
   ]
  },
  {
   "cell_type": "code",
   "execution_count": null,
   "id": "cb6c513c",
   "metadata": {
    "slideshow": {
     "slide_type": "subslide"
    }
   },
   "outputs": [],
   "source": [
    "print(True and (True or False))\n",
    "\n",
    "print((True or False) or (False or False))\n",
    "\n",
    "print(not True)"
   ]
  },
  {
   "cell_type": "code",
   "execution_count": null,
   "id": "8ebe7782",
   "metadata": {
    "slideshow": {
     "slide_type": "subslide"
    }
   },
   "outputs": [],
   "source": [
    "t1 = (10 % 2 == 0)\n",
    "\n",
    "t2 = 12 % 4 == 0\n",
    "\n",
    "t1 is t2"
   ]
  },
  {
   "cell_type": "code",
   "execution_count": null,
   "id": "9b006f5e",
   "metadata": {
    "slideshow": {
     "slide_type": "subslide"
    }
   },
   "outputs": [],
   "source": [
    "a = 10\n",
    "condition = (a % 2 == 0)\n",
    "\n",
    "print(type(condition))\n",
    "print(condition)"
   ]
  },
  {
   "cell_type": "markdown",
   "id": "c8dc6d8b",
   "metadata": {
    "slideshow": {
     "slide_type": "slide"
    }
   },
   "source": [
    "# Kódblokkok (Code blocks)"
   ]
  },
  {
   "cell_type": "markdown",
   "id": "21d79b59",
   "metadata": {
    "slideshow": {
     "slide_type": "fragment"
    }
   },
   "source": [
    "Pythonban a kódblokkokat indentációval (bekezdéssel) hozzuk létre. A bekezdés behúzásának mértéke megállapodás szerint 4. A külalakot tekintve Pythonban a PEP-8 (Python Enhancement Proposals) néven ismert stílusgyűjtemény ad útmutatást. Ez olyan stilisztikai megállapodások gyűjteménye, amelyet illik figyelembevenni kódíráskor.\n",
    "\n",
    "\n",
    "[PEP-8](https://peps.python.org/pep-0008/): *This document gives coding conventions for the Python code comprising the standard library in the main Python distribution.*"
   ]
  },
  {
   "cell_type": "code",
   "execution_count": null,
   "id": "08e2a460",
   "metadata": {
    "slideshow": {
     "slide_type": "subslide"
    }
   },
   "outputs": [],
   "source": [
    "a = 10\n",
    "\n",
    "if 0 <= a and a <= 100:\n",
    "    a = a + 1\n",
    "\n",
    "print(a)"
   ]
  },
  {
   "cell_type": "code",
   "execution_count": null,
   "id": "23411b07",
   "metadata": {
    "slideshow": {
     "slide_type": "subslide"
    }
   },
   "outputs": [],
   "source": [
    "# Indentált blokkban definiált változók a blokkon kívül is látszanak, eltérően egyes nyelvektől.\n",
    "a = 10\n",
    "\n",
    "if 0 <= a and a <= 100:\n",
    "    a = a + 1\n",
    "    b = 1\n",
    "\n",
    "print(b)"
   ]
  },
  {
   "cell_type": "code",
   "execution_count": null,
   "id": "7dc93d68",
   "metadata": {
    "slideshow": {
     "slide_type": "fragment"
    }
   },
   "outputs": [],
   "source": [
    "a = 10\n",
    "\n",
    "if 0 <= a <= 100:\n",
    "    b = 1\n",
    "\n",
    "print(b)"
   ]
  },
  {
   "cell_type": "code",
   "execution_count": null,
   "id": "d1e8e459",
   "metadata": {
    "slideshow": {
     "slide_type": "subslide"
    }
   },
   "outputs": [],
   "source": [
    "# Hogyan kérdezük rá, hogy egy logikai kifejezés igaz-e?\n",
    "if condition == True:\n",
    "    print(\"This is true\")\n",
    "    \n",
    "if condition is True:\n",
    "    print(\"This is true\")\n",
    "\n",
    "# Mivel magának a feltételnek már van logikai értéke, az előző kettő módszert hanyagolhatjuk\n",
    "if condition:\n",
    "    print(\"This is true\")"
   ]
  },
  {
   "cell_type": "code",
   "execution_count": null,
   "id": "60f6cac8",
   "metadata": {
    "slideshow": {
     "slide_type": "subslide"
    }
   },
   "outputs": [],
   "source": [
    "# Logikai / Boolean értékeket gyakran használunk if-utasításokban\n",
    "\n",
    "if condition:\n",
    "    message = \"a is even\"\n",
    "else:\n",
    "    message = \"a is odd\"\n",
    "    \n",
    "message"
   ]
  },
  {
   "cell_type": "code",
   "execution_count": null,
   "id": "3ec7a96d",
   "metadata": {
    "slideshow": {
     "slide_type": "subslide"
    }
   },
   "outputs": [],
   "source": [
    "if True:\n",
    "    print(\"This is always true.\")\n",
    "\n",
    "else:\n",
    "    print(\"Impossible to reach this branch\")"
   ]
  },
  {
   "cell_type": "markdown",
   "id": "ed2da8ae",
   "metadata": {
    "slideshow": {
     "slide_type": "slide"
    }
   },
   "source": [
    "Nem csak logikai kifejezéseknek van logikai értéke, hanem számoknak, string-eknek, sőt, mint azt később látni fogjuk, mindenféle Python collection-nek (adatszerkezetnek) is, például a már korábban látott listának is van logikai értéke.\n",
    "\n",
    "Ezen kívül, akár saját magunk által definiált adatszerkezetnek, osztálypéldánynak is tulajdoníthatunk (azaz megadhatunk) logikai értéket, amint ezt majd az objektumorientált részben látni fogjuk."
   ]
  },
  {
   "cell_type": "code",
   "execution_count": null,
   "id": "97e4109c",
   "metadata": {
    "slideshow": {
     "slide_type": "subslide"
    }
   },
   "outputs": [],
   "source": [
    "if -2:\n",
    "    print(\"This?\")\n",
    "    \n",
    "else:\n",
    "    print(\"Or that?\")"
   ]
  },
  {
   "cell_type": "code",
   "execution_count": null,
   "id": "a70dc8b4",
   "metadata": {
    "slideshow": {
     "slide_type": "fragment"
    }
   },
   "outputs": [],
   "source": [
    "if \"Hello\":\n",
    "    print(\"Hi, mate!\")\n",
    "    \n",
    "else:\n",
    "    print(\"Sorry, I do not know you.\")"
   ]
  },
  {
   "cell_type": "code",
   "execution_count": null,
   "id": "f3c7ec3f",
   "metadata": {
    "slideshow": {
     "slide_type": "subslide"
    }
   },
   "outputs": [],
   "source": [
    "year = 2022\n",
    "\n",
    "if year % 4 == 0 and (year % 100 != 0 or (year % 100 == 0 and year % 400 == 0)):\n",
    "    print(f\"Year {year} is a leap year.\")\n",
    "\n",
    "else:\n",
    "    print(f\"Year {year} is not a leap year.\")"
   ]
  },
  {
   "cell_type": "code",
   "execution_count": null,
   "id": "60733a82",
   "metadata": {
    "slideshow": {
     "slide_type": "subslide"
    }
   },
   "outputs": [],
   "source": [
    "words = [\"apple\", \"pear\", \"cherry\"]\n",
    "\n",
    "\n",
    "for word in words:\n",
    "    print(word)"
   ]
  },
  {
   "cell_type": "code",
   "execution_count": null,
   "id": "c8ee0075",
   "metadata": {
    "slideshow": {
     "slide_type": "subslide"
    }
   },
   "outputs": [],
   "source": [
    "# Indentált blokkon belül újabb blokkot is létrehozhatunk\n",
    "for word in words:\n",
    "    for letter in word:\n",
    "        print(letter)"
   ]
  },
  {
   "cell_type": "code",
   "execution_count": null,
   "id": "94751684",
   "metadata": {
    "slideshow": {
     "slide_type": "subslide"
    }
   },
   "outputs": [],
   "source": [
    "# Ez ugyan mukodik, de az olvashatosaggal problemak vannak\n",
    "\n",
    "for    word in words:\n",
    "        for letter  in             word:\n",
    "         print(letter)"
   ]
  },
  {
   "cell_type": "markdown",
   "id": "13b782d5",
   "metadata": {
    "slideshow": {
     "slide_type": "slide"
    }
   },
   "source": [
    "##  Értékadás (Assignment)"
   ]
  },
  {
   "cell_type": "code",
   "execution_count": null,
   "id": "2ccff048",
   "metadata": {
    "slideshow": {
     "slide_type": "fragment"
    }
   },
   "outputs": [],
   "source": [
    "a = 1\n",
    "\n",
    "b = \"abcdefgh\"\n",
    "\n",
    "big_number = 1_234_567\n",
    "\n",
    "pi = 3.14\n",
    "\n",
    "my_variable_is_beautiful = True"
   ]
  },
  {
   "cell_type": "code",
   "execution_count": null,
   "id": "dc45e92e",
   "metadata": {
    "slideshow": {
     "slide_type": "subslide"
    }
   },
   "outputs": [],
   "source": [
    "lst = [\"alma\", \"körte\", \"cseresznye\"]\n",
    "\n",
    "n = len(lst)\n",
    "print(\"The list has n elements\")"
   ]
  },
  {
   "cell_type": "code",
   "execution_count": null,
   "id": "2765c634",
   "metadata": {
    "slideshow": {
     "slide_type": "fragment"
    }
   },
   "outputs": [],
   "source": [
    "print(\"The list has {} elements.\".format(n))\n",
    "\n",
    "print(f\"The list has {n} elements.\")"
   ]
  },
  {
   "cell_type": "code",
   "execution_count": null,
   "id": "2402f95e",
   "metadata": {
    "slideshow": {
     "slide_type": "subslide"
    }
   },
   "outputs": [],
   "source": [
    "if n % 2 == 0:\n",
    "    parity = \"Even\"\n",
    "else:\n",
    "    parity = \"Odd\"\n",
    "\n",
    "    \n",
    "print(parity)    "
   ]
  },
  {
   "cell_type": "markdown",
   "id": "ebe6d2f1",
   "metadata": {
    "slideshow": {
     "slide_type": "fragment"
    }
   },
   "source": [
    "Más nyelvekben létezik ternáris operátor, pl.\n",
    "```julia\n",
    "x = 10 % 2 == 0 ? \"Yes\" : \"No\"\n",
    "```\n",
    "\n",
    "Pythonban egy ahhoz hasonló feltételes kifejezés létezik, amely azonban kevés kivételtől eltekintve nem ajánlott, csak ha a kifejezés rövid, mert nehezen olvasható."
   ]
  },
  {
   "cell_type": "code",
   "execution_count": null,
   "id": "554a2bf2",
   "metadata": {
    "slideshow": {
     "slide_type": "fragment"
    }
   },
   "outputs": [],
   "source": [
    "# if-expression\n",
    "\n",
    "message = \"Even\" if n % 2 == 0 else \"Odd\"\n",
    "\n",
    "print(message)"
   ]
  },
  {
   "cell_type": "markdown",
   "id": "cb77f579",
   "metadata": {
    "slideshow": {
     "slide_type": "slide"
    }
   },
   "source": [
    "## Feltételes elágazások: if - elif - else (Conditional branching)"
   ]
  },
  {
   "cell_type": "markdown",
   "id": "8d0af8ac",
   "metadata": {
    "slideshow": {
     "slide_type": "fragment"
    }
   },
   "source": [
    "Ha a feltétel igaz, csináljunk valamit. (Feltételes utasítás)\n",
    "\n",
    "\n",
    "```python\n",
    "if condition:\n",
    "    do_something()\n",
    "```"
   ]
  },
  {
   "cell_type": "code",
   "execution_count": null,
   "id": "46b6058f",
   "metadata": {
    "slideshow": {
     "slide_type": "fragment"
    }
   },
   "outputs": [],
   "source": [
    "a = 2022\n",
    "\n",
    "if a % 2 == 0:\n",
    "    a = a // 2\n",
    "    \n",
    "print(a)    "
   ]
  },
  {
   "cell_type": "markdown",
   "id": "3d885377",
   "metadata": {
    "slideshow": {
     "slide_type": "subslide"
    }
   },
   "source": [
    "Az `elif` ágak és az `else` ág opcionális. Amelyik feltétel először teljesül, az az ág hajtódik végre, a többi nem. Ha egyik sem teljesül és van `else` ág, akkor az `else` ág hajtódik végre.\n",
    "\n",
    "```python\n",
    "if condition_1:\n",
    "    do_something_1() \n",
    "elif condition_2:\n",
    "    do_something_2()   \n",
    "# ...\n",
    "elif condition_n:\n",
    "    do_something_n()\n",
    "else:\n",
    "    do_something_else()\n",
    "```"
   ]
  },
  {
   "cell_type": "code",
   "execution_count": null,
   "id": "a2321757",
   "metadata": {
    "slideshow": {
     "slide_type": "subslide"
    }
   },
   "outputs": [],
   "source": [
    "a = 10\n",
    "\n",
    "if a % 3 == 0:\n",
    "    print(\"A\")\n",
    "    \n",
    "elif a % 2 == 0:\n",
    "    print(\"B\")\n",
    "    \n",
    "elif a % 5 == 0:\n",
    "    print(\"C\")\n",
    "    \n",
    "else:\n",
    "    print(\"D\")"
   ]
  },
  {
   "cell_type": "markdown",
   "id": "4d4d2c5e",
   "metadata": {
    "slideshow": {
     "slide_type": "slide"
    }
   },
   "source": [
    "# Python-ban minden objektum (Everything is an object)\n",
    "\n",
    "\n",
    "Erre később visszatérünk az objektumorientált fejezetnél. Egyelőre legyen elég annyi, hogy bármit csinálunk / hozunk létre Pythonban, az eredmény egy `objektum`, melynek általában vannak attribútumai és metódusai. A továbbiakban nem fogjuk ezeket a fogalmakat pontosan definiálni, nagyjából a következőket értjük majd alatta:\n",
    "\n",
    "* attribútum: mező, tulajdonság, stb. (attribute, field, property)\n",
    "* metódus: a tartalmazott adaton (is) értelmezett művelet  (method)"
   ]
  },
  {
   "cell_type": "code",
   "execution_count": null,
   "id": "95aa39a8",
   "metadata": {
    "slideshow": {
     "slide_type": "subslide"
    }
   },
   "outputs": [],
   "source": [
    "a = 1"
   ]
  },
  {
   "cell_type": "markdown",
   "id": "0557ed8a",
   "metadata": {
    "slideshow": {
     "slide_type": "fragment"
    }
   },
   "source": [
    "<center>\n",
    "<img src=\"img/methods_of_an_int.png\" width=\"200\" height=\"200\" align=\"middle\">\n",
    "</center>"
   ]
  },
  {
   "cell_type": "code",
   "execution_count": null,
   "id": "7cda6b75",
   "metadata": {
    "slideshow": {
     "slide_type": "subslide"
    }
   },
   "outputs": [],
   "source": [
    "f = 2.5\n",
    "\n",
    "nominator, denominator = f.as_integer_ratio()\n",
    "print(f\"{nominator} / {denominator}\")"
   ]
  },
  {
   "cell_type": "markdown",
   "id": "29503da3",
   "metadata": {
    "slideshow": {
     "slide_type": "subslide"
    }
   },
   "source": [
    "Vannak olyan metódusok, melyek nem látszanak elsőre, például azért, mert aláhúzásjellel (underscore), vagy esetleg dupla aláhúzásjellel kezdődnek. Ezekkel egyelőre nem fogalkozunk, de például az alapműveletek, vagy az olyan függvények, mint például a `len` éppen ezek miatt a \"mágikus\" metódusok miatt működnek. Az objektumorientált részben erre még visszatérünk."
   ]
  },
  {
   "cell_type": "code",
   "execution_count": null,
   "id": "a8e05a3a",
   "metadata": {
    "slideshow": {
     "slide_type": "fragment"
    }
   },
   "outputs": [],
   "source": [
    "# a + 2\n",
    "print(a.__add__(2))\n",
    "\n",
    "# a == 10\n",
    "print(a.__eq__(10))"
   ]
  },
  {
   "cell_type": "markdown",
   "id": "b044dd17",
   "metadata": {
    "slideshow": {
     "slide_type": "subslide"
    }
   },
   "source": [
    "Pythonban az egész számok tetszőleges méretűek lehetnek. Más nyelvekben gyakran találkozhatunk az `int`, `long`, vagy más hasonló típusdeklarációkkal, melyek 32, illetve 64 bites egészeket jelölnek, azaz olyanokat, melyek értékkészlete például az `int` típus esetén $-2^{31}$ és $2^{31} - 1$ számok által megadott intervallum.\n",
    "\n",
    "Lebegőpontos számok ábrázolásához a `float` típus létezik, amely más nyelvekben a duplapontosságú számoknak felelnek meg. Az `int` és `float` nem csak típust jelöl, hanem egyben típuskonverziós függvények is."
   ]
  },
  {
   "cell_type": "code",
   "execution_count": null,
   "id": "7a2822db",
   "metadata": {
    "slideshow": {
     "slide_type": "fragment"
    }
   },
   "outputs": [],
   "source": [
    "big = 1234567891011121314151617181920\n",
    "\n",
    "big % 2022"
   ]
  },
  {
   "cell_type": "code",
   "execution_count": null,
   "id": "8ddc3cbc",
   "metadata": {
    "slideshow": {
     "slide_type": "slide"
    }
   },
   "outputs": [],
   "source": [
    "print(int(2.345))\n",
    "\n",
    "print(float(10))\n",
    "\n",
    "print(float(\"10.123\"))"
   ]
  },
  {
   "cell_type": "code",
   "execution_count": null,
   "id": "c8802268",
   "metadata": {
    "slideshow": {
     "slide_type": "fragment"
    }
   },
   "outputs": [],
   "source": [
    "print(int(\"1001\", base=2))"
   ]
  },
  {
   "cell_type": "code",
   "execution_count": null,
   "id": "d50243d6",
   "metadata": {
    "slideshow": {
     "slide_type": "fragment"
    }
   },
   "outputs": [],
   "source": [
    "print(int(\"10.123\"))"
   ]
  },
  {
   "cell_type": "markdown",
   "id": "086c31ac",
   "metadata": {
    "slideshow": {
     "slide_type": "slide"
    }
   },
   "source": [
    "# Karakterláncok (Strings)"
   ]
  },
  {
   "cell_type": "code",
   "execution_count": null,
   "id": "f51aa6ac",
   "metadata": {
    "slideshow": {
     "slide_type": "fragment"
    }
   },
   "outputs": [],
   "source": [
    "s1 = \"Hello, world!\"\n",
    "\n",
    "s2 = 'Hello, world!'\n",
    "\n",
    "len(s1)"
   ]
  },
  {
   "cell_type": "code",
   "execution_count": null,
   "id": "c0d58976",
   "metadata": {
    "slideshow": {
     "slide_type": "fragment"
    }
   },
   "outputs": [],
   "source": [
    "print(s1.upper())\n",
    "\n",
    "print(s1.removeprefix(\"Hello, \"))\n",
    "\n",
    "print(s1)"
   ]
  },
  {
   "cell_type": "markdown",
   "id": "a867baff",
   "metadata": {
    "slideshow": {
     "slide_type": "subslide"
    }
   },
   "source": [
    "A string egy **immutable** adatszerkezet. String-ből törölni, hozzávenni karaktert nem lehet, csak úgy, ha egy új stringet hozunk létre. Egy konkrét string-en rengeteg metódus van definiálva. Ezekről többféleképpen is lehet leírást kapni."
   ]
  },
  {
   "cell_type": "code",
   "execution_count": null,
   "id": "7b6a2d7f",
   "metadata": {
    "slideshow": {
     "slide_type": "fragment"
    }
   },
   "outputs": [],
   "source": [
    "help(s1.capitalize)"
   ]
  },
  {
   "cell_type": "code",
   "execution_count": null,
   "id": "d788b77b",
   "metadata": {
    "slideshow": {
     "slide_type": "subslide"
    }
   },
   "outputs": [],
   "source": [
    "#s1.capitalize?"
   ]
  },
  {
   "cell_type": "code",
   "execution_count": null,
   "id": "eb346bf6",
   "metadata": {
    "slideshow": {
     "slide_type": "subslide"
    }
   },
   "outputs": [],
   "source": [
    "name = \"wiNNeTou\"\n",
    "\n",
    "name.capitalize()"
   ]
  },
  {
   "cell_type": "code",
   "execution_count": null,
   "id": "7c3d1cf3",
   "metadata": {
    "slideshow": {
     "slide_type": "fragment"
    }
   },
   "outputs": [],
   "source": [
    "s = \"abc\"\n",
    "\n",
    "print(s[0])    # Pythonban az indexelés mindig 0-tól kezdődik!\n",
    "print(s[1])\n",
    "print(s[2])"
   ]
  },
  {
   "cell_type": "code",
   "execution_count": null,
   "id": "4e68dd3b",
   "metadata": {
    "slideshow": {
     "slide_type": "fragment"
    }
   },
   "outputs": [],
   "source": [
    "s[0] = \"x\""
   ]
  },
  {
   "cell_type": "code",
   "execution_count": null,
   "id": "9a4316a3",
   "metadata": {
    "slideshow": {
     "slide_type": "subslide"
    }
   },
   "outputs": [],
   "source": [
    "print(s.replace(\"a\", \"x\"))\n",
    "\n",
    "print(s)"
   ]
  },
  {
   "cell_type": "code",
   "execution_count": null,
   "id": "d9f4d4f4",
   "metadata": {
    "slideshow": {
     "slide_type": "fragment"
    }
   },
   "outputs": [],
   "source": [
    "words = [\"An\", \"apple\", \"every\", \"day\", \"keeps\", \"the\", \"doctor\", \"away.\"]\n",
    "\n",
    "\n",
    "\" \".join(words)"
   ]
  },
  {
   "cell_type": "markdown",
   "id": "50834494",
   "metadata": {
    "slideshow": {
     "slide_type": "subslide"
    }
   },
   "source": [
    "A Python erősen típusos nyelv, ami azt jelenti, hogy futásidő alatt nem történnek implicit módon meglepő típuskonverziók. Vannak olyan nyelvek, ahol igen, egy sztringből hirtelen szám lesz, ha a művelet így válik értelmessé.\n",
    "\n",
    "```PHP\n",
    "$s = \"10\";\n",
    "$a = 20;\n",
    "\n",
    "print $s + $a;\n",
    "```\n",
    "\n",
    "Pythonban ez nem működik: ```\"10\" + 20 = ???```"
   ]
  },
  {
   "cell_type": "code",
   "execution_count": null,
   "id": "ced241d3",
   "metadata": {
    "slideshow": {
     "slide_type": "fragment"
    }
   },
   "outputs": [],
   "source": [
    "\"10\" + 20"
   ]
  },
  {
   "cell_type": "markdown",
   "id": "7454665d",
   "metadata": {
    "slideshow": {
     "slide_type": "slide"
    }
   },
   "source": [
    "# Intervallumok (Range)"
   ]
  },
  {
   "cell_type": "code",
   "execution_count": null,
   "id": "849c33aa",
   "metadata": {
    "slideshow": {
     "slide_type": "subslide"
    }
   },
   "outputs": [],
   "source": [
    "range(10)"
   ]
  },
  {
   "cell_type": "code",
   "execution_count": null,
   "id": "c9436ba8",
   "metadata": {
    "slideshow": {
     "slide_type": "subslide"
    }
   },
   "outputs": [],
   "source": [
    "for x in range(5):\n",
    "    print(x)"
   ]
  },
  {
   "cell_type": "markdown",
   "id": "6acf5976",
   "metadata": {
    "slideshow": {
     "slide_type": "subslide"
    }
   },
   "source": [
    "A `range` függvény vár egy kezdőértéket, egy végértéket és egy lépésközt, ahol az első és az utolsó opcionális. A vége nem tartozik a range-hez. Ezt majd látni fogjuk a `slice` operátornál, Pythonban listából, sztingekből és általában a lineáris adatszerkezetekből ki lehet jelölni intervallumokat / szakaszokat, ahol a végpont soha nem tartozik a kijelölt részhez. \n",
    "\n",
    "A kapott `range` objektum a memóriában nagyon kis helyet foglal, azaz `range(1_000_000)` nem csinál egy egymillió hosszúságú listát a memóriában."
   ]
  },
  {
   "cell_type": "code",
   "execution_count": null,
   "id": "0ff74a3a",
   "metadata": {
    "slideshow": {
     "slide_type": "subslide"
    }
   },
   "outputs": [],
   "source": [
    "for y in range(2, 10, 3):\n",
    "    print(y)"
   ]
  },
  {
   "cell_type": "code",
   "execution_count": null,
   "id": "0896d8bc",
   "metadata": {
    "slideshow": {
     "slide_type": "subslide"
    }
   },
   "outputs": [],
   "source": [
    "for x in reversed(range(2, 10, 2)):\n",
    "    print(x)"
   ]
  },
  {
   "cell_type": "code",
   "execution_count": null,
   "id": "804330b5",
   "metadata": {
    "slideshow": {
     "slide_type": "subslide"
    }
   },
   "outputs": [],
   "source": [
    "for x in range(8, 1, -2):\n",
    "    print(x)"
   ]
  },
  {
   "cell_type": "markdown",
   "id": "80209c5a",
   "metadata": {
    "slideshow": {
     "slide_type": "slide"
    }
   },
   "source": [
    "Korábban már láttuk, hogyan lehet végigiterálni egy listán vagy a sztringen. Itt hívnám fel a figyelmet egy másik fogalomra, amit úgy szokás hívni, hogy **idiomatikus** kód.\n",
    "\n",
    "Mit jelent ez? Minden nyelven vannak a nyelv által biztosított lehetőségek és ezek között vannak kitüntetettek, azok, ahogy az adott feladatot **meg szokás oldani** az adott nyelvre jellemző módon.\n",
    "\n",
    "Pythonban is lehet C-szerű, Java-szerű kódot írni, de nem javasolt. Ehelyett, mindig van egy olyan megoldás, ami a leginkább Python-os, ekkor szokás azt mondani, hogy a kód \"Pythonic\", Python-szerű."
   ]
  },
  {
   "cell_type": "code",
   "execution_count": null,
   "id": "2773e22c",
   "metadata": {
    "slideshow": {
     "slide_type": "subslide"
    }
   },
   "outputs": [],
   "source": [
    "s = \"Hello\"\n",
    "\n",
    "# Ezt kerüljük, ha lehet!\n",
    "ix = 0\n",
    "while ix < len(s):\n",
    "    char = s[ix]\n",
    "    ix = ix + 1\n",
    "    print(char)"
   ]
  },
  {
   "cell_type": "code",
   "execution_count": null,
   "id": "50aa4a7f",
   "metadata": {
    "slideshow": {
     "slide_type": "subslide"
    }
   },
   "outputs": [],
   "source": [
    "# Ez sem sokkal jobb:\n",
    "for ix in range(len(s)):\n",
    "    char = s[ix]\n",
    "    print(char)"
   ]
  },
  {
   "cell_type": "code",
   "execution_count": null,
   "id": "bf1e4628",
   "metadata": {
    "slideshow": {
     "slide_type": "fragment"
    }
   },
   "outputs": [],
   "source": [
    "# Helyette csináljuk inkább így:\n",
    "\n",
    "for char in s:\n",
    "    print(char)"
   ]
  },
  {
   "cell_type": "code",
   "execution_count": null,
   "id": "a0bae3b6",
   "metadata": {
    "slideshow": {
     "slide_type": "subslide"
    }
   },
   "outputs": [],
   "source": [
    "# Ha nem fontos a ciklusváltozó értéke, akkor aláhúzásjellel szokás jelölni:\n",
    "\n",
    "text = \"Hello, world!\"\n",
    "\n",
    "for _ in range(5):\n",
    "    print(text)"
   ]
  },
  {
   "cell_type": "markdown",
   "id": "f3106a90",
   "metadata": {
    "slideshow": {
     "slide_type": "slide"
    }
   },
   "source": [
    "# Ciklusok (Loops)"
   ]
  },
  {
   "cell_type": "markdown",
   "id": "3e3daa25",
   "metadata": {
    "slideshow": {
     "slide_type": "fragment"
    }
   },
   "source": [
    "For-ciklus: az iterációk száma előre ismert.\n",
    "\n",
    "**Feladat**: hány darab 9-es számjegy van az 1 és 100 közötti számokban?"
   ]
  },
  {
   "cell_type": "code",
   "execution_count": null,
   "id": "4be61b10",
   "metadata": {
    "slideshow": {
     "slide_type": "subslide"
    }
   },
   "outputs": [],
   "source": [
    "count = 0\n",
    "# Kezdetben nincs egyetlen szamjegyunk sem\n",
    "# iteraljunk vegig a szamokon 1 es 100 kozott es szamoljuk meg a 9-eseket\n",
    "pass"
   ]
  },
  {
   "cell_type": "code",
   "execution_count": null,
   "id": "c1d40fd4",
   "metadata": {
    "slideshow": {
     "slide_type": "subslide"
    }
   },
   "outputs": [],
   "source": [
    "count = 0\n",
    "for n in range(1, 101):\n",
    "    pass\n",
    "\n",
    "\n",
    "print(count)"
   ]
  },
  {
   "cell_type": "code",
   "execution_count": null,
   "id": "8e315c0a",
   "metadata": {
    "slideshow": {
     "slide_type": "subslide"
    }
   },
   "outputs": [],
   "source": [
    "count = 0\n",
    "for n in range(1, 101):\n",
    "    string = str(n)\n",
    "    for char in string:\n",
    "        pass\n",
    "\n",
    "\n",
    "print(count)"
   ]
  },
  {
   "cell_type": "code",
   "execution_count": null,
   "id": "79c4860a",
   "metadata": {
    "slideshow": {
     "slide_type": "subslide"
    }
   },
   "outputs": [],
   "source": [
    "count = 0\n",
    "for n in range(1, 101):\n",
    "    string = str(n)\n",
    "    for char in string:\n",
    "        if char == \"9\":\n",
    "            count += 1\n",
    "\n",
    "\n",
    "print(count)"
   ]
  },
  {
   "cell_type": "markdown",
   "id": "4bf4d20c",
   "metadata": {
    "slideshow": {
     "slide_type": "slide"
    }
   },
   "source": [
    "While-ciklus: addig iterálunk, amíg valamilyen feltétel teljesül.\n",
    "\n",
    "\n",
    "**Feladat**: Keressük azt a legkisebb $n$ természetes számot, hogy az 1 és $n$ közötti számok 10000 darab 9-es számjegyet tartalmaznak."
   ]
  },
  {
   "cell_type": "code",
   "execution_count": null,
   "id": "edbfbebb",
   "metadata": {
    "slideshow": {
     "slide_type": "subslide"
    }
   },
   "outputs": [],
   "source": [
    "n = 1\n",
    "count = 0\n",
    "\n",
    "while count < 10000:\n",
    "    pass\n",
    "    count += 1\n",
    "\n",
    "print(n)"
   ]
  },
  {
   "cell_type": "code",
   "execution_count": null,
   "id": "4dcf4ece",
   "metadata": {
    "slideshow": {
     "slide_type": "subslide"
    }
   },
   "outputs": [],
   "source": [
    "n = 0\n",
    "count = 0\n",
    "\n",
    "while count < 10000:\n",
    "    n += 1 \n",
    "    string = str(n)\n",
    "    for char in string:\n",
    "        if char == \"9\":\n",
    "            count += 1       \n",
    "\n",
    "print(n)"
   ]
  },
  {
   "cell_type": "markdown",
   "id": "e97c0a30",
   "metadata": {
    "slideshow": {
     "slide_type": "slide"
    }
   },
   "source": [
    "Ciklusokból egyes lépéseket át lehet ugorni, vagy akár idő előtt ki lehet lépni belőlük. Mivel ezek a parancsok megszakítják a kód természetes futásának menetét, akkor használjuk őket, ha úgy érezzük, hogy így egyszerűbb a program logikája."
   ]
  },
  {
   "cell_type": "code",
   "execution_count": null,
   "id": "b67fe463",
   "metadata": {
    "slideshow": {
     "slide_type": "subslide"
    }
   },
   "outputs": [],
   "source": [
    "for x in range(10):\n",
    "    if x % 3 == 0:\n",
    "        # folytassuk a kovetekezo x-nel\n",
    "        continue\n",
    "        \n",
    "    print(x)"
   ]
  },
  {
   "cell_type": "code",
   "execution_count": null,
   "id": "ae806b0e",
   "metadata": {
    "slideshow": {
     "slide_type": "fragment"
    }
   },
   "outputs": [],
   "source": [
    "for x in range(10):\n",
    "    if x == 7:\n",
    "        # lepjunk ki a ciklus torzsebol\n",
    "        break\n",
    "        \n",
    "    print(x)"
   ]
  },
  {
   "cell_type": "code",
   "execution_count": null,
   "id": "0efc0ac6",
   "metadata": {
    "slideshow": {
     "slide_type": "subslide"
    }
   },
   "outputs": [],
   "source": [
    "# HF: nézzünk utána, mit csinál a for-else konstrukció\n",
    "\n",
    "limit = 10\n",
    "\n",
    "for n in range(limit):\n",
    "    print(n)\n",
    "    if n > 7:\n",
    "        break\n",
    "        \n",
    "else:\n",
    "    print(\"Hello\")"
   ]
  },
  {
   "cell_type": "code",
   "execution_count": 1,
   "id": "28b19ebc",
   "metadata": {
    "slideshow": {
     "slide_type": "subslide"
    }
   },
   "outputs": [
    {
     "name": "stdout",
     "output_type": "stream",
     "text": [
      "2\n",
      "3\n",
      "5\n",
      "7\n",
      "11\n",
      "13\n",
      "17\n",
      "19\n",
      "23\n",
      "29\n",
      "31\n",
      "37\n",
      "41\n",
      "43\n",
      "47\n",
      "53\n",
      "59\n",
      "61\n",
      "67\n",
      "71\n",
      "73\n",
      "79\n",
      "83\n",
      "89\n",
      "97\n"
     ]
    }
   ],
   "source": [
    "# HF: mit csinál az alábbi kód?\n",
    "\n",
    "limit = 100\n",
    "\n",
    "for n in range(2, limit+1):\n",
    "    for k in range(2, n):\n",
    "        if n % k == 0:\n",
    "            break\n",
    "    else:\n",
    "        print(n)"
   ]
  }
 ],
 "metadata": {
  "celltoolbar": "Slideshow",
  "kernelspec": {
   "display_name": "Python 3.10.7 64-bit",
   "language": "python",
   "name": "python3"
  },
  "language_info": {
   "codemirror_mode": {
    "name": "ipython",
    "version": 3
   },
   "file_extension": ".py",
   "mimetype": "text/x-python",
   "name": "python",
   "nbconvert_exporter": "python",
   "pygments_lexer": "ipython3",
   "version": "3.9.12"
  },
  "vscode": {
   "interpreter": {
    "hash": "afb734500600fd355917ca529030176ea0ca205570884b88f2f6f7d791fd3fbe"
   }
  }
 },
 "nbformat": 4,
 "nbformat_minor": 5
}
