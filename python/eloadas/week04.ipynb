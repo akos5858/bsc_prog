{
 "cells": [
  {
   "cell_type": "markdown",
   "id": "5ff8d28e",
   "metadata": {
    "slideshow": {
     "slide_type": "slide"
    }
   },
   "source": [
    "# A Python beépített adatszerkezetei II. (Python collections - part II.) "
   ]
  },
  {
   "cell_type": "markdown",
   "id": "5517e910",
   "metadata": {
    "slideshow": {
     "slide_type": "slide"
    }
   },
   "source": [
    "## Lista-összeállítás vagy listaképzés (List comprehension)"
   ]
  },
  {
   "cell_type": "code",
   "execution_count": null,
   "id": "15a76727",
   "metadata": {
    "slideshow": {
     "slide_type": "subslide"
    }
   },
   "outputs": [],
   "source": [
    "lst = []\n",
    "for x in range(10):\n",
    "    lst.append(x)\n",
    "    \n",
    "    \n",
    "print(lst)\n",
    "\n",
    "# Ez is működne erre az egyszerű feladatra:\n",
    "# lst = list(range(10))"
   ]
  },
  {
   "cell_type": "code",
   "execution_count": null,
   "id": "32a6bb06",
   "metadata": {
    "slideshow": {
     "slide_type": "fragment"
    }
   },
   "outputs": [],
   "source": [
    "lst = [x for x in range(10)]\n",
    "\n",
    "print(lst)"
   ]
  },
  {
   "cell_type": "code",
   "execution_count": null,
   "id": "5cc49914",
   "metadata": {
    "slideshow": {
     "slide_type": "subslide"
    }
   },
   "outputs": [],
   "source": [
    "lst = []\n",
    "for x in range(10):\n",
    "    lst.append(2*x)\n",
    "    \n",
    "print(lst)\n",
    "\n",
    "\n",
    "lst = [2*x for x in range(10)]   \n",
    "print(lst)"
   ]
  },
  {
   "cell_type": "code",
   "execution_count": null,
   "id": "fa567022",
   "metadata": {
    "slideshow": {
     "slide_type": "subslide"
    }
   },
   "outputs": [],
   "source": [
    "lst = []\n",
    "for x in range(10):\n",
    "    if x % 2 == 0:\n",
    "        lst.append(x)\n",
    "\n",
    "print(lst)        \n",
    "\n",
    "\n",
    "lst = [x for x in range(10) if x % 2 == 0]   \n",
    "print(lst)"
   ]
  },
  {
   "cell_type": "code",
   "execution_count": null,
   "id": "279ca074",
   "metadata": {
    "slideshow": {
     "slide_type": "subslide"
    }
   },
   "outputs": [],
   "source": [
    "lst = []\n",
    "for x in range(10):\n",
    "    y = 2*x + 1\n",
    "    if y % 3 == 0:\n",
    "        lst.append(y)\n",
    "                \n",
    "print(lst)\n",
    "\n",
    "\n",
    "lst = [2*x + 1 for x in range(10) if (2*x + 1) % 3 == 0]\n",
    "print(lst)"
   ]
  },
  {
   "cell_type": "code",
   "execution_count": null,
   "id": "6ab2f741",
   "metadata": {
    "slideshow": {
     "slide_type": "fragment"
    }
   },
   "outputs": [],
   "source": [
    "# Python 3.8-tól kezdve\n",
    "lst = [y for x in range(10) if (y := 2*x + 1) % 3 == 0]\n",
    "\n",
    "print(lst)"
   ]
  },
  {
   "cell_type": "markdown",
   "id": "36f5924d",
   "metadata": {
    "slideshow": {
     "slide_type": "slide"
    }
   },
   "source": [
    "# Rendezett $n$-esek (Tuple)"
   ]
  },
  {
   "cell_type": "markdown",
   "id": "3c2695b9",
   "metadata": {
    "slideshow": {
     "slide_type": "slide"
    }
   },
   "source": [
    "A `tuple` típussal már találkoztunk, ha egy függvénynek több visszatérési értéke van, akkor azokat vesszővel elválasztva adjuk meg, ami egy tuple: különböző típusú elemek adott sorrendben, vesszővel elválasztva, esetleg zárójelek között."
   ]
  },
  {
   "cell_type": "code",
   "execution_count": null,
   "id": "0f1be328",
   "metadata": {
    "slideshow": {
     "slide_type": "fragment"
    }
   },
   "outputs": [],
   "source": [
    "t = 1, \"a\", int\n",
    "\n",
    "print(t)\n",
    "print(type(t))"
   ]
  },
  {
   "cell_type": "code",
   "execution_count": null,
   "id": "85774fd1",
   "metadata": {
    "slideshow": {
     "slide_type": "fragment"
    }
   },
   "outputs": [],
   "source": [
    "# Az elemeket felsorolva zárójelben is megadhatjuk\n",
    "\n",
    "t = (1, \"a\", int)\n",
    "\n",
    "print(t)"
   ]
  },
  {
   "cell_type": "markdown",
   "id": "ef6fe44c",
   "metadata": {
    "slideshow": {
     "slide_type": "slide"
    }
   },
   "source": [
    "A tuple-nek két fő felhasználása van. Egyrészt függvény visszatérési értékként általában rövid, és tipikusan különböző típusú elemeket tartalmaz. A másik felhasználási mód, hogy olyan, mint egy lista, azzal a különbséggel, hogy a tuple immutable, azaz nem lehet hozzávenni új elemeket, nem lehet törölni, nem lehet megváltoztatni."
   ]
  },
  {
   "cell_type": "code",
   "execution_count": null,
   "id": "21295e47",
   "metadata": {
    "slideshow": {
     "slide_type": "fragment"
    }
   },
   "outputs": [],
   "source": [
    "lst = [1, 2, 3, 4, 5]\n",
    "\n",
    "t = tuple(lst)\n",
    "\n",
    "print(t)"
   ]
  },
  {
   "cell_type": "markdown",
   "id": "753963db",
   "metadata": {
    "slideshow": {
     "slide_type": "fragment"
    }
   },
   "source": [
    "```python\n",
    "t0 = ()\n",
    "t1 = (10,)\n",
    "t2 = (10, 20)\n",
    "t3 = (10, 20, 30)\n",
    "...\n",
    "```"
   ]
  },
  {
   "cell_type": "markdown",
   "id": "abb4fe9f",
   "metadata": {
    "slideshow": {
     "slide_type": "slide"
    }
   },
   "source": [
    "Ugyanúgy lehet indexelni őket, mint listákat és ugyanúgy lehet végigiterálni rajtuk, mint egy listán. A tuple általában kevesebb memóriát foglal, mint az ugyanazon elemeket tartalmazó lista, de a fő előnye, hogy a kód nem tudja véletlenül módosítani őket, mint a listát.\n",
    "\n",
    "Ha azonban a tuple tartalmaz mutable elemet, az azért mégiscsak módosítható lesz."
   ]
  },
  {
   "cell_type": "code",
   "execution_count": null,
   "id": "95f627d4",
   "metadata": {
    "slideshow": {
     "slide_type": "fragment"
    }
   },
   "outputs": [],
   "source": [
    "t = (1, 2, 3)\n",
    "\n",
    "t[0] = 10"
   ]
  },
  {
   "cell_type": "code",
   "execution_count": null,
   "id": "75150d7e",
   "metadata": {
    "slideshow": {
     "slide_type": "fragment"
    }
   },
   "outputs": [],
   "source": [
    "t = ([1, 2], \"hello\")\n",
    "\n",
    "t[0].append(3)\n",
    "\n",
    "t"
   ]
  },
  {
   "cell_type": "markdown",
   "id": "302b963c",
   "metadata": {
    "slideshow": {
     "slide_type": "subslide"
    }
   },
   "source": [
    "**HF**: Egy adott sztringből távolítsuk el az egymás mellett álló ismétlődő karaktereket. Példa: \"kukkkuuuurrrriiiikuuuuuuuu\" -> \"kukuriku\"\n",
    "\n",
    "```python\n",
    "def remove_consecutive_duplicates(string):\n",
    "    pass\n",
    "```"
   ]
  },
  {
   "cell_type": "markdown",
   "id": "72288217",
   "metadata": {
    "slideshow": {
     "slide_type": "slide"
    }
   },
   "source": [
    "## Szótárak, kulcs-érték párok (Dictionaries)"
   ]
  },
  {
   "cell_type": "markdown",
   "id": "985f3742",
   "metadata": {
    "slideshow": {
     "slide_type": "subslide"
    }
   },
   "source": [
    "Gyakran előfordul olyan probléma, hogy különböző dolgokat kell eltárolnunk, amelyek nem valamilyen index alapján azonosíthatók, hanem valamilyen kulcs alapján.\n",
    "\n",
    "Például egy telefonkönyvben nevekhez rendelünk telefonszámot, egy angol-francia szótárban angol szavakhoz a megfelelő francia szót, vagy esetleg szavakat, országokhoz a fővárosaikat, hallgatókhoz a felvett tárgyaikat, írókhoz a könyveiket, stb."
   ]
  },
  {
   "cell_type": "markdown",
   "id": "3e3fa412",
   "metadata": {
    "slideshow": {
     "slide_type": "fragment"
    }
   },
   "source": [
    "Országokhoz rendeljük hozzá a fővárosukat.\n",
    "```\n",
    "Hungary -> Budapest\n",
    "France -> Paris\n",
    "Australia -> Canberra\n",
    "Spain -> Madrid\n",
    "```"
   ]
  },
  {
   "cell_type": "markdown",
   "id": "4ea98f53",
   "metadata": {
    "slideshow": {
     "slide_type": "fragment"
    }
   },
   "source": [
    "Személyekhez rendeljük a hangszereket, amelyeken játszani tudnak.\n",
    "```\n",
    "Anna -> [hegedű, cselló, trombita]\n",
    "Béla -> [tangóharmonika]\n",
    "Gábor -> [dob, okarina]\n",
    "```"
   ]
  },
  {
   "cell_type": "markdown",
   "id": "fd3629a6",
   "metadata": {
    "slideshow": {
     "slide_type": "slide"
    }
   },
   "source": [
    "Lehet-e az eddig tanult adatszerkezetekkel eltárolni ilyen (kulcs, érték) párokból álló elemeket?"
   ]
  },
  {
   "cell_type": "code",
   "execution_count": null,
   "id": "0d9b7368",
   "metadata": {
    "slideshow": {
     "slide_type": "fragment"
    }
   },
   "outputs": [],
   "source": [
    "capitals = [\n",
    "    (\"Hungary\", \"Budapest\"), \n",
    "    (\"France\", \"Paris\"), \n",
    "    (\"Australia\", \"Canberra\"), \n",
    "    (\"Spain\", \"Madrid\")\n",
    "]"
   ]
  },
  {
   "cell_type": "code",
   "execution_count": null,
   "id": "f941afe2",
   "metadata": {
    "slideshow": {
     "slide_type": "subslide"
    }
   },
   "outputs": [],
   "source": [
    "def capital_of_a_country(capitals, country):\n",
    "    for country_name, capital_name in capitals:\n",
    "        if country_name == country:\n",
    "            return capital_name\n",
    "    \n",
    "    # Country is not found\n",
    "    return None    \n",
    "    \n",
    "    \n",
    "print(capital_of_a_country(capitals, \"Spain\"))\n",
    "print(capital_of_a_country(capitals, \"Austria\"))"
   ]
  },
  {
   "cell_type": "markdown",
   "id": "512cd418",
   "metadata": {
    "slideshow": {
     "slide_type": "slide"
    }
   },
   "source": [
    "* Mennyi ideig tart, amíg egy adott kulcshoz megtaláljuk a megfelelő értéket? \n",
    "* Függ-e ez a párokból álló lista hosszától? \n",
    "\n",
    "Szokás ezt az adatszerkezetet asszociatív listának is nevezni."
   ]
  },
  {
   "cell_type": "markdown",
   "id": "8f355aa6",
   "metadata": {
    "slideshow": {
     "slide_type": "subslide"
    }
   },
   "source": [
    "Nekünk olyan adatszerkezet lenne megfelelő, ahol\n",
    "* a kulcs alapján történő keresés \n",
    "* kulcs alapján új elem beszúrása\n",
    "* kulcs alapján elem törlése\n",
    "\n",
    "gyors műveletek.\n",
    "\n",
    "Sajnos a (kulcs, érték) párokból álló lista mindhárom műveletre lassú. Azonban szerencsénk van, van egy olyan adatszerkezet, amely átlagosan konstans idő alatt képes mindhárom műveletre és csak nagyon ritkán, a körülmények szerencsétlen együttállása esetén lesz alkalmanként egy-egy ilyen művelet lassú. Emellett a tárhely, amit foglal, szintén nem nagyobb, mint az elemek tárolásával arányos méretű hely."
   ]
  },
  {
   "cell_type": "markdown",
   "id": "14ef2038",
   "metadata": {
    "slideshow": {
     "slide_type": "slide"
    }
   },
   "source": [
    "Erről sokkal többet fogtok tanulni algoritmuselméleti órákon. Legyen most annyi elég, hogy kétféle módon lehet hatékony adatszerkezetet készíteni erre a problémára, az egyik gyors és mutable, a másik kicsit lassabb, de immutable és csak rendezhető kulcsokra készíthető el.\n",
    "\n",
    "Pythonban az első van implementálva a beépített adatszerkezetek között, nevezetesen a hash-tábla alapú. Ennek az adatszerkezetnek a neve `dictionary` (`szótár`, `dict`).\n",
    "\n",
    "A hash-tábla alapötlete, hogy van egy hash-függvénynek nevezett $h$ függvény a háttérben, ami a $k$ kulcsot $h(k)$-va viszi úgy, hogy különböző kulcsok nagy valószínűséggel különböző értékre képződnek le, az értéket pedig (a kulccsal együtt) egy tömb $h(k)$-adik indexénél tároljuk el."
   ]
  },
  {
   "cell_type": "code",
   "execution_count": null,
   "id": "76a07e99",
   "metadata": {
    "slideshow": {
     "slide_type": "subslide"
    }
   },
   "outputs": [],
   "source": [
    "# {key1: value1, key2: value2, ....}\n",
    "\n",
    "country_capitals = {\n",
    "    \"Hungary\": \"Budapest\", \n",
    "    \"France\": \"Paris\", \n",
    "    \"Australia\": \"Canberra\", \n",
    "    \"Spain\": \"Madrid\"\n",
    "}"
   ]
  },
  {
   "cell_type": "code",
   "execution_count": null,
   "id": "8d45317c",
   "metadata": {
    "slideshow": {
     "slide_type": "subslide"
    }
   },
   "outputs": [],
   "source": [
    "countries = [\"Hungary\", \"France\", \"Australia\", \"Spain\"]\n",
    "capitals = [\"Budapest\", \"Paris\", \"Canberra\", \"Madrid\"]\n",
    "\n",
    "# dict-comprehension\n",
    "{country: capital for country, capital in zip(countries, capitals)}"
   ]
  },
  {
   "cell_type": "code",
   "execution_count": null,
   "id": "5ec9e7fd",
   "metadata": {
    "slideshow": {
     "slide_type": "subslide"
    }
   },
   "outputs": [],
   "source": [
    "dict(zip(countries, capitals))"
   ]
  },
  {
   "cell_type": "code",
   "execution_count": null,
   "id": "1f2105b2",
   "metadata": {
    "slideshow": {
     "slide_type": "subslide"
    }
   },
   "outputs": [],
   "source": [
    "# Az `in` kulcsszót használjuk annak a tesztelésére, hogy valami előfordul-e kulcsként a szótárban.\n",
    "\n",
    "print(\"Portugal\" in country_capitals)\n",
    "\n",
    "print(\"Spain\" in country_capitals)"
   ]
  },
  {
   "cell_type": "code",
   "execution_count": null,
   "id": "aca32063",
   "metadata": {
    "slideshow": {
     "slide_type": "fragment"
    }
   },
   "outputs": [],
   "source": [
    "# Adott kulcshoz tartozó érték lekérdezése\n",
    "\n",
    "country_capitals[\"France\"]"
   ]
  },
  {
   "cell_type": "code",
   "execution_count": null,
   "id": "a68ed411",
   "metadata": {
    "slideshow": {
     "slide_type": "fragment"
    }
   },
   "outputs": [],
   "source": [
    "country_capitals[\"Italy\"]"
   ]
  },
  {
   "cell_type": "code",
   "execution_count": null,
   "id": "0b2edb66",
   "metadata": {
    "slideshow": {
     "slide_type": "subslide"
    }
   },
   "outputs": [],
   "source": [
    "country_capitals.get(\"France\")"
   ]
  },
  {
   "cell_type": "code",
   "execution_count": null,
   "id": "51735054",
   "metadata": {
    "slideshow": {
     "slide_type": "subslide"
    }
   },
   "outputs": [],
   "source": [
    "# Ha nincs ilyen kulcs, kérhetünk default értéket is\n",
    "\n",
    "print(country_capitals.get(\"Italy\"))\n",
    "\n",
    "print(country_capitals.get(\"Italy\", \"I do not know.\"))"
   ]
  },
  {
   "cell_type": "code",
   "execution_count": null,
   "id": "003a55e1",
   "metadata": {
    "slideshow": {
     "slide_type": "subslide"
    }
   },
   "outputs": [],
   "source": [
    "# Iterálás egy szótáron:\n",
    "\n",
    "for country in country_capitals:\n",
    "    print(country)"
   ]
  },
  {
   "cell_type": "code",
   "execution_count": null,
   "id": "b06e5eee",
   "metadata": {
    "slideshow": {
     "slide_type": "subslide"
    }
   },
   "outputs": [],
   "source": [
    "for country in country_capitals.keys():\n",
    "    print(country)"
   ]
  },
  {
   "cell_type": "code",
   "execution_count": null,
   "id": "aa0918ab",
   "metadata": {
    "slideshow": {
     "slide_type": "subslide"
    }
   },
   "outputs": [],
   "source": [
    "for capital in country_capitals.values():\n",
    "    print(capital)"
   ]
  },
  {
   "cell_type": "code",
   "execution_count": null,
   "id": "e6abc129",
   "metadata": {
    "slideshow": {
     "slide_type": "subslide"
    }
   },
   "outputs": [],
   "source": [
    "for country, capital in country_capitals.items():\n",
    "    print(f\"The capital of {country} is {capital}.\")"
   ]
  },
  {
   "cell_type": "code",
   "execution_count": null,
   "id": "e15c0c35",
   "metadata": {
    "slideshow": {
     "slide_type": "subslide"
    }
   },
   "outputs": [],
   "source": [
    "country_capitals[\"Serbia\"] = \"Belgrade\"\n",
    "\n",
    "country_capitals"
   ]
  },
  {
   "cell_type": "code",
   "execution_count": null,
   "id": "3a0fa7b8",
   "metadata": {
    "slideshow": {
     "slide_type": "subslide"
    }
   },
   "outputs": [],
   "source": [
    "capital_of_france =  country_capitals.pop(\"France\")\n",
    "\n",
    "print(capital_of_france)\n",
    "\n",
    "country_capitals"
   ]
  },
  {
   "cell_type": "code",
   "execution_count": null,
   "id": "8d036b43",
   "metadata": {
    "slideshow": {
     "slide_type": "subslide"
    }
   },
   "outputs": [],
   "source": [
    "country_capitals.pop(\"Austria\")"
   ]
  },
  {
   "cell_type": "code",
   "execution_count": null,
   "id": "e338d5f3",
   "metadata": {
    "slideshow": {
     "slide_type": "subslide"
    }
   },
   "outputs": [],
   "source": [
    "del country_capitals[\"Spain\"]\n",
    "\n",
    "country_capitals"
   ]
  },
  {
   "cell_type": "markdown",
   "id": "dfe5e8be",
   "metadata": {
    "slideshow": {
     "slide_type": "slide"
    }
   },
   "source": [
    "Egy hash-függvény csak immutable dolgokat tud hash-elni, ha ugyanis megváltozna (mutálódna) a kulcs, akkor többé nem tudnánk megkeresni a hozzá tartozó értéket, hiszen $f(k)$ helyett az $f(k')$ helyen próbálnánk keresni az értéket, de az az $f(k)$ helyen van eltárolva."
   ]
  },
  {
   "cell_type": "code",
   "execution_count": null,
   "id": "1141305b",
   "metadata": {
    "slideshow": {
     "slide_type": "fragment"
    }
   },
   "outputs": [],
   "source": [
    "d = {}\n",
    "\n",
    "d[\"Hello\"] = 1\n",
    "d[10] = 2\n",
    "\n",
    "d"
   ]
  },
  {
   "cell_type": "code",
   "execution_count": null,
   "id": "23351f9a",
   "metadata": {
    "slideshow": {
     "slide_type": "fragment"
    }
   },
   "outputs": [],
   "source": [
    "d[[1, 2]] = 3"
   ]
  },
  {
   "cell_type": "markdown",
   "id": "bf0a68ee",
   "metadata": {
    "slideshow": {
     "slide_type": "subslide"
    }
   },
   "source": [
    "Lista tehát nem használható dictionary kulcsaként, de tuple igen. Minden olyan dolog lehet kulcs, ami hashelhető."
   ]
  },
  {
   "cell_type": "markdown",
   "id": "d05f460a",
   "metadata": {
    "slideshow": {
     "slide_type": "slide"
    }
   },
   "source": [
    "## Halmazok (Sets)"
   ]
  },
  {
   "cell_type": "markdown",
   "id": "0f41b361",
   "metadata": {
    "slideshow": {
     "slide_type": "subslide"
    }
   },
   "source": [
    "A halmaz olyan adatszerkezet, amely csupa különböző elemet tartalmaz. Ez persze implicit módon azt is jelenti, hogy a halmazba tett elemeket össze kell tudnunk hasonlítani egyenlőség szempontjából. Ami viszont nem egyértelmű, hogy halmazba csak hash-elhető elem kerülhet. Ennek az az oka, hogy a halmaz adatszerkezet Pythonban ismét hash-táblával van implementálva.\n",
    "\n",
    "Ugyan első hallásra a `dictionary` és a `set` nagyon különböző adatszerkezetnek tűnhet, valójában nagyon hasonló módon vannak implementálva."
   ]
  },
  {
   "cell_type": "code",
   "execution_count": null,
   "id": "efd43d2e",
   "metadata": {
    "slideshow": {
     "slide_type": "subslide"
    }
   },
   "outputs": [],
   "source": [
    "# Ugyanúgy kapcsos zárójel határolja az elemeket, mint a dictionary-nél,\n",
    "# ez is mutatja, hogy szoros kapcsolat van a két adatszerkezet között\n",
    "\n",
    "{\"fej\", \"írás\", \"írás\", \"írás\", \"fej\"}"
   ]
  },
  {
   "cell_type": "code",
   "execution_count": null,
   "id": "47c5f1ac",
   "metadata": {
    "slideshow": {
     "slide_type": "fragment"
    }
   },
   "outputs": [],
   "source": [
    "string = \"kukkkuuuurrrriiiikuuuuuuuu\"\n",
    "\n",
    "letters = set()  # a {} az üres dict-et jelöli\n",
    "for char in string:\n",
    "    letters.add(char)\n",
    "    \n",
    "\n",
    "letters  "
   ]
  },
  {
   "cell_type": "code",
   "execution_count": null,
   "id": "d8488573",
   "metadata": {
    "slideshow": {
     "slide_type": "fragment"
    }
   },
   "outputs": [],
   "source": [
    "# Set comprehension\n",
    "\n",
    "{char for char in string}"
   ]
  },
  {
   "cell_type": "code",
   "execution_count": null,
   "id": "866c0fa8",
   "metadata": {
    "slideshow": {
     "slide_type": "subslide"
    }
   },
   "outputs": [],
   "source": [
    "s = {1, 2, 3, 4, 5}\n",
    "t = {4, 5, 6}\n",
    "u = {5, 6}\n",
    "\n",
    "print(s.union(t))\n",
    "print(s | t)\n",
    "print()\n",
    "\n",
    "print(s.intersection(t))\n",
    "print(s & t)\n",
    "\n",
    "print(u.issubset(t))\n",
    "print(s.issuperset(u))"
   ]
  },
  {
   "cell_type": "code",
   "execution_count": null,
   "id": "f5414af4",
   "metadata": {
    "slideshow": {
     "slide_type": "subslide"
    }
   },
   "outputs": [],
   "source": [
    "s = {1, 2, 3}\n",
    "\n",
    "lst = [1, 1, 2, 4, 5]\n",
    "\n",
    "s.update(lst)\n",
    "\n",
    "print(s)"
   ]
  },
  {
   "cell_type": "code",
   "execution_count": null,
   "id": "96903fb0",
   "metadata": {
    "slideshow": {
     "slide_type": "subslide"
    }
   },
   "outputs": [],
   "source": [
    "s = {1, 2, 3}\n",
    "\n",
    "lst = [1, 1, 2, 4, 5]\n",
    "\n",
    "s.difference_update(lst)\n",
    "\n",
    "print(s)"
   ]
  },
  {
   "cell_type": "markdown",
   "id": "5297418b",
   "metadata": {
    "slideshow": {
     "slide_type": "subslide"
    }
   },
   "source": [
    "A halmaz mutable adatszerkezet, azonban a listához hasonlóan ennek is létetzik immutable párja, a `frozenset`.\n",
    "\n",
    "```python\n",
    "s = frozenset({1, 2, 3})\n",
    "```"
   ]
  },
  {
   "cell_type": "markdown",
   "id": "32b5f725",
   "metadata": {
    "slideshow": {
     "slide_type": "subslide"
    }
   },
   "source": [
    "**Feladat**: Számoljuk meg egy szövegben a betűk előfordulásainak számát."
   ]
  },
  {
   "cell_type": "code",
   "execution_count": null,
   "id": "2310fecc",
   "metadata": {
    "slideshow": {
     "slide_type": "fragment"
    }
   },
   "outputs": [],
   "source": [
    "text = \"The most disastrous thing that you can ever learn is your first programming language. - Alan Kay\""
   ]
  },
  {
   "cell_type": "code",
   "execution_count": null,
   "id": "8773c678",
   "metadata": {
    "slideshow": {
     "slide_type": "subslide"
    }
   },
   "outputs": [],
   "source": [
    "def count_letters(string):\n",
    "    counts = {}\n",
    "    for char in string:\n",
    "        pass\n",
    "    \n",
    "    return counts\n",
    "\n",
    "\n",
    "print(count_letters(text))"
   ]
  },
  {
   "cell_type": "code",
   "execution_count": null,
   "id": "371ad84b",
   "metadata": {
    "slideshow": {
     "slide_type": "subslide"
    }
   },
   "outputs": [],
   "source": [
    "def count_letters(string):\n",
    "    counts = {}\n",
    "    for char in string:\n",
    "        if char in counts:\n",
    "            counts[char] += 1\n",
    "        else:\n",
    "            counts[char] = 1\n",
    "    \n",
    "    return counts\n",
    "\n",
    "\n",
    "print(count_letters(text))"
   ]
  },
  {
   "cell_type": "code",
   "execution_count": null,
   "id": "832ccc86",
   "metadata": {
    "slideshow": {
     "slide_type": "subslide"
    }
   },
   "outputs": [],
   "source": [
    "def count_letters_2(string):\n",
    "    counts = {}\n",
    "    for char in string:\n",
    "        counts[char] = counts.get(char, 0) + 1\n",
    "    \n",
    "    return counts\n",
    "\n",
    "\n",
    "print(count_letters_2(text))"
   ]
  },
  {
   "cell_type": "markdown",
   "id": "357e35a9",
   "metadata": {
    "slideshow": {
     "slide_type": "slide"
    }
   },
   "source": [
    "## Egyéb hasznos adatszerkezetek (More collections)"
   ]
  },
  {
   "cell_type": "markdown",
   "id": "b4fc3ac6",
   "metadata": {
    "slideshow": {
     "slide_type": "slide"
    }
   },
   "source": [
    "További gyakran használatos adatszerkezetek érhetők el a `collections` könyvtárban. Az itt implementált adatszerkezeteket be kell importálni, hogy használni tudjuk."
   ]
  },
  {
   "cell_type": "code",
   "execution_count": null,
   "id": "3d200a81",
   "metadata": {
    "slideshow": {
     "slide_type": "subslide"
    }
   },
   "outputs": [],
   "source": [
    "# Ezen a módon a collections könyvtár tartalma elérhetővé válik a collections-prefixszel\n",
    "import collections\n",
    "\n",
    "d = collections.defaultdict(int)\n",
    "\n",
    "print(d)"
   ]
  },
  {
   "cell_type": "code",
   "execution_count": null,
   "id": "faaa221b",
   "metadata": {
    "slideshow": {
     "slide_type": "subslide"
    }
   },
   "outputs": [],
   "source": [
    "# Az importált modult egy alias-szal látunk el és így lehet hivatkozni a modul függvényeire, osztályaira\n",
    "import collections as cl\n",
    "\n",
    "d = cl.defaultdict(int)\n",
    "\n",
    "print(d)"
   ]
  },
  {
   "cell_type": "code",
   "execution_count": null,
   "id": "657bcb47",
   "metadata": {
    "slideshow": {
     "slide_type": "subslide"
    }
   },
   "outputs": [],
   "source": [
    "# Ezen a módon a futó kód globális névteréből lesz elérhető a beimportált függvény vagy osztály.\n",
    "from collections import defaultdict\n",
    "\n",
    "d = defaultdict(int)\n",
    "\n",
    "print(d)"
   ]
  },
  {
   "cell_type": "markdown",
   "id": "7134e09c",
   "metadata": {
    "slideshow": {
     "slide_type": "slide"
    }
   },
   "source": [
    "A `defaultdict` egy olyan szótár, amely nem dob hibát, ha nemlétező kulcsot keresünk benne, hanem ilyenkor beteszi az új kulcsot egy alapértelmezett értékkel: `defaultdict(int)` esetén a default érték 0, `defaultdict(list)` esetén az üres lista, `defaultdict(set)` esetén az üres halmaz."
   ]
  },
  {
   "cell_type": "code",
   "execution_count": null,
   "id": "21c77ba8",
   "metadata": {
    "slideshow": {
     "slide_type": "fragment"
    }
   },
   "outputs": [],
   "source": [
    "def count_letters_3(string):\n",
    "    counts = defaultdict(int)\n",
    "    for char in string:\n",
    "        counts[char] += 1 \n",
    "    \n",
    "    return counts\n",
    "\n",
    "\n",
    "print(count_letters_3(text))"
   ]
  },
  {
   "cell_type": "markdown",
   "id": "5d89adbc",
   "metadata": {
    "slideshow": {
     "slide_type": "subslide"
    }
   },
   "source": [
    "Mivel megszámlálni elemeket elég gyakori feladat, erre van egy külön osztály, ami ezt a problémát oldja meg."
   ]
  },
  {
   "cell_type": "code",
   "execution_count": null,
   "id": "4d76553f",
   "metadata": {
    "slideshow": {
     "slide_type": "fragment"
    }
   },
   "outputs": [],
   "source": [
    "from collections import Counter\n",
    "\n",
    "\n",
    "def count_letters_4(string):\n",
    "    return Counter(string)\n",
    "\n",
    "\n",
    "counter = count_letters_4(text)\n",
    "\n",
    "print(counter.most_common(n=5))\n",
    "print()\n",
    "print(counter.items())"
   ]
  },
  {
   "cell_type": "markdown",
   "id": "3d07fd71",
   "metadata": {
    "slideshow": {
     "slide_type": "slide"
    }
   },
   "source": [
    "Végül egy jópofa adatszerkezetről lesz szó, a `namedtuple`-ről, ami egy olyan tuple, ahol a mezők nem csak index alapján, hanem név alapján is elérhetők."
   ]
  },
  {
   "cell_type": "code",
   "execution_count": null,
   "id": "81eb9b08",
   "metadata": {
    "slideshow": {
     "slide_type": "fragment"
    }
   },
   "outputs": [],
   "source": [
    "def seconds_to_time(seconds):\n",
    "    \"\"\"Convert time in seconds to hour, minute, second format\"\"\"\n",
    "    minutes, seconds = divmod(seconds, 60)\n",
    "    hours, minutes = divmod(minutes, 60)\n",
    "    return hours, minutes, seconds\n",
    "\n",
    "\n",
    "seconds_to_time(10000)"
   ]
  },
  {
   "cell_type": "code",
   "execution_count": null,
   "id": "ff404340",
   "metadata": {
    "slideshow": {
     "slide_type": "subslide"
    }
   },
   "outputs": [],
   "source": [
    "from collections import namedtuple\n",
    "\n",
    "Time = namedtuple(\"Time\", [\"hour\", \"minute\", \"second\"])\n",
    "\n",
    "\n",
    "def seconds_to_time_2(seconds):\n",
    "    \"\"\"Convert time in seconds to hour, minute, second format\"\"\"\n",
    "    minutes, seconds = divmod(seconds, 60)\n",
    "    hours, minutes = divmod(minutes, 60)\n",
    "    return Time(hour=hours, minute=minutes, second=seconds)\n",
    "\n",
    "\n",
    "result = seconds_to_time_2(10000)\n",
    "print(result)\n",
    "print()\n",
    "\n",
    "print(result.hour)\n",
    "print(result.minute)\n",
    "print(result.second)"
   ]
  },
  {
   "cell_type": "markdown",
   "id": "adb27589",
   "metadata": {
    "slideshow": {
     "slide_type": "slide"
    }
   },
   "source": [
    "# Kivételkezelés (Exception handling)"
   ]
  },
  {
   "cell_type": "code",
   "execution_count": 2,
   "id": "22734aba",
   "metadata": {
    "slideshow": {
     "slide_type": "subslide"
    }
   },
   "outputs": [
    {
     "ename": "ZeroDivisionError",
     "evalue": "division by zero",
     "output_type": "error",
     "traceback": [
      "\u001b[1;31m---------------------------------------------------------------------------\u001b[0m",
      "\u001b[1;31mZeroDivisionError\u001b[0m                         Traceback (most recent call last)",
      "Cell \u001b[1;32mIn [2], line 1\u001b[0m\n\u001b[1;32m----> 1\u001b[0m \u001b[39m1\u001b[39;49m \u001b[39m/\u001b[39;49m \u001b[39m0\u001b[39;49m\n",
      "\u001b[1;31mZeroDivisionError\u001b[0m: division by zero"
     ]
    }
   ],
   "source": [
    "1 / 0"
   ]
  },
  {
   "cell_type": "code",
   "execution_count": 1,
   "id": "e7c32f13",
   "metadata": {
    "slideshow": {
     "slide_type": "subslide"
    }
   },
   "outputs": [
    {
     "ename": "NameError",
     "evalue": "name 'a' is not defined",
     "output_type": "error",
     "traceback": [
      "\u001b[1;31m---------------------------------------------------------------------------\u001b[0m",
      "\u001b[1;31mNameError\u001b[0m                                 Traceback (most recent call last)",
      "Cell \u001b[1;32mIn [1], line 1\u001b[0m\n\u001b[1;32m----> 1\u001b[0m a \u001b[39m+\u001b[39m \u001b[39m10\u001b[39m\n",
      "\u001b[1;31mNameError\u001b[0m: name 'a' is not defined"
     ]
    }
   ],
   "source": [
    "#a + 10"
   ]
  },
  {
   "cell_type": "code",
   "execution_count": null,
   "id": "0eb468be",
   "metadata": {
    "slideshow": {
     "slide_type": "subslide"
    }
   },
   "outputs": [],
   "source": [
    "int(\"12.345\")"
   ]
  },
  {
   "cell_type": "markdown",
   "id": "6dcef8eb",
   "metadata": {
    "slideshow": {
     "slide_type": "slide"
    }
   },
   "source": [
    "Kivételek mindig is előfordulhatnak, azaz olyan helyzetek, amikor a számolás értelmetlen, vagy egy fájlt kell megnyitni, ami nem is létezik, egy adatbázishoz kapcsolódunk, ahol nem jó a jelszó, vagy nem elérhető a szerver, valamit konvertálni kell valami mássá, de nem lehetséges."
   ]
  },
  {
   "cell_type": "markdown",
   "id": "9792ec90",
   "metadata": {
    "slideshow": {
     "slide_type": "subslide"
    }
   },
   "source": [
    "Pl. konvertáljuk egy sztringet egész számmá, ha ez lehetséges."
   ]
  },
  {
   "cell_type": "code",
   "execution_count": null,
   "id": "56c54edc",
   "metadata": {
    "slideshow": {
     "slide_type": "fragment"
    }
   },
   "outputs": [],
   "source": [
    "def convert_to_int(s):\n",
    "    return int(s)\n",
    "\n",
    "\n",
    "print(convert_to_int(\"100\"))\n",
    "\n",
    "convert_to_int(\"10.0\")"
   ]
  },
  {
   "cell_type": "markdown",
   "id": "c490eb21",
   "metadata": {
    "slideshow": {
     "slide_type": "slide"
    }
   },
   "source": [
    "Hogyan lehetünk biztosak abban, hogy egy stringet egész számként tudunk értelmezni?"
   ]
  },
  {
   "cell_type": "code",
   "execution_count": null,
   "id": "ef529423",
   "metadata": {
    "slideshow": {
     "slide_type": "fragment"
    }
   },
   "outputs": [],
   "source": [
    "def convert_to_int(string):\n",
    "    if string.isnumeric():\n",
    "        return int(string)\n",
    "    \n",
    "    return None\n",
    "\n",
    "\n",
    "print(convert_to_int(\"123\"))\n",
    "print(convert_to_int(\"45.67\"))\n",
    "print(convert_to_int(\"-2\"))"
   ]
  },
  {
   "cell_type": "markdown",
   "id": "f30d6918",
   "metadata": {
    "slideshow": {
     "slide_type": "slide"
    }
   },
   "source": [
    "Mi lenne, ha nem mi próbálnánk kitalálni, hogy mi lenne a jó, hanem hagynánk, hogy a Python `int` konverziós függvénye *megpróbálja* a konverziót, aztán ha sikerül, akkor jó, ha meg nem, akkor meg kitalálunk valamit."
   ]
  },
  {
   "cell_type": "code",
   "execution_count": null,
   "id": "de36217b",
   "metadata": {
    "slideshow": {
     "slide_type": "fragment"
    }
   },
   "outputs": [],
   "source": [
    "def convert_to_int(s):\n",
    "    try:\n",
    "        return int(s)\n",
    "    except ValueError:\n",
    "        print(f\"Cannot convert {s} to an integer.\")\n",
    "    \n",
    "    return None\n",
    "\n",
    "\n",
    "print(convert_to_int(\"100\"))\n",
    "print(convert_to_int(\"10.0\"))\n",
    "print(convert_to_int(\"-3\"))"
   ]
  },
  {
   "cell_type": "markdown",
   "id": "03be0e40",
   "metadata": {
    "slideshow": {
     "slide_type": "slide"
    }
   },
   "source": [
    "Később látni fogjuk, hogy nem csak egyfajta kivételt kell / lehet lekezelni, hanem akár többféle hibaok is előfordulhat. \n",
    "\n",
    "Egy tipikus ilyen helyzet a fájlbeolvasás, ahol lehet, hogy a \n",
    "* fájl nem található\n",
    "* nincs jogunk olvasni a fájlt\n",
    "* hibás a formátuma\n",
    "* nem dekódolható a szöveg, mert más karakterkészlet szerepel benne, mint amire számítunk\n",
    "* stb."
   ]
  },
  {
   "cell_type": "markdown",
   "id": "305de3d8",
   "metadata": {
    "slideshow": {
     "slide_type": "slide"
    }
   },
   "source": [
    "Az általános szintaxisa a kivételek kezelésének / elkapásának a `try - except` konstrukció:\n",
    "\n",
    "```python\n",
    "try:\n",
    "    try_something()\n",
    "except SomeError_1:\n",
    "    do_something_1()\n",
    "...\n",
    "except SomeError_n:\n",
    "    do_something_n()\n",
    "else:\n",
    "    do_this_when_there_was_no_exception()\n",
    "finally:\n",
    "    execute_anyway()\n",
    "```"
   ]
  },
  {
   "cell_type": "code",
   "execution_count": null,
   "id": "c15e4971",
   "metadata": {
    "slideshow": {
     "slide_type": "subslide"
    }
   },
   "outputs": [],
   "source": [
    "# Az előforduló hibát akár újra is lehet dobni azért, hogy a minket hívó függvényhez is eljusson a hiba\n",
    "\n",
    "def convert_to_int(s):\n",
    "    try:\n",
    "        return int(s)\n",
    "    except ValueError:\n",
    "        print(f\"Cannot convert {s} to an integer.\")\n",
    "        raise \n",
    "        \n",
    "        \n",
    "convert_to_int(\"12.34\")"
   ]
  },
  {
   "cell_type": "code",
   "execution_count": null,
   "id": "b35dce58",
   "metadata": {
    "slideshow": {
     "slide_type": "subslide"
    }
   },
   "outputs": [],
   "source": [
    "# Vagy dobhatunk saját magunk által definiált hibát is:\n",
    "class MyError(Exception):\n",
    "    pass\n",
    "\n",
    "\n",
    "def convert_to_int(s):\n",
    "    try:\n",
    "        return int(s)\n",
    "    except ValueError:\n",
    "        print(f\"Cannot convert {s} to an integer.\")\n",
    "        raise MyError(\"Catch me if you can.\")\n",
    "         \n",
    "result = convert_to_int(\"12.34\")"
   ]
  },
  {
   "cell_type": "code",
   "execution_count": null,
   "id": "b8e01a09",
   "metadata": {
    "slideshow": {
     "slide_type": "subslide"
    }
   },
   "outputs": [],
   "source": [
    "def division(x, y):\n",
    "    try:\n",
    "        result = x / y\n",
    "    except ZeroDivisionError:\n",
    "        print(\"division by zero error!\")\n",
    "    else:\n",
    "        print(f\"The result is {result}\")\n",
    "    finally:\n",
    "        print(\"This will execute anyway\")"
   ]
  },
  {
   "cell_type": "code",
   "execution_count": null,
   "id": "5e684a20",
   "metadata": {
    "slideshow": {
     "slide_type": "subslide"
    }
   },
   "outputs": [],
   "source": [
    "division(1, 2)"
   ]
  },
  {
   "cell_type": "code",
   "execution_count": null,
   "id": "e10a0051",
   "metadata": {
    "slideshow": {
     "slide_type": "fragment"
    }
   },
   "outputs": [],
   "source": [
    "division(1, 0)"
   ]
  }
 ],
 "metadata": {
  "celltoolbar": "Slideshow",
  "kernelspec": {
   "display_name": "Python 3.10.7 64-bit",
   "language": "python",
   "name": "python3"
  },
  "language_info": {
   "codemirror_mode": {
    "name": "ipython",
    "version": 3
   },
   "file_extension": ".py",
   "mimetype": "text/x-python",
   "name": "python",
   "nbconvert_exporter": "python",
   "pygments_lexer": "ipython3",
   "version": "3.10.7"
  },
  "vscode": {
   "interpreter": {
    "hash": "afb734500600fd355917ca529030176ea0ca205570884b88f2f6f7d791fd3fbe"
   }
  }
 },
 "nbformat": 4,
 "nbformat_minor": 5
}
