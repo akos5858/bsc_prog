{
 "cells": [
  {
   "cell_type": "markdown",
   "id": "bd69dd7c",
   "metadata": {
    "slideshow": {
     "slide_type": "slide"
    }
   },
   "source": [
    "# Bevezetés a tudományos programozásba\n",
    "\n",
    "### Introduction to Scientific Computing (in Python)\n",
    "\n",
    "\n",
    "ELTE-TTK matematika szak I. évfolyam\n",
    "\n",
    "\n",
    "<div style=\"text-align: right\"> \n",
    "<b>Kurics Tamás</b><br>\n",
    "<i>tamas.kurics AT ttk.elte.hu</i>\n",
    "</div>"
   ]
  },
  {
   "cell_type": "markdown",
   "id": "2ca8c066",
   "metadata": {
    "slideshow": {
     "slide_type": "slide"
    }
   },
   "source": [
    "A tárgy célja:\n",
    "\n",
    "* egy általános célú, könnyen tanulható, matematikában is egyszerűen használható programozási nyelv megismerése\n",
    "* bevezetés a Python nyelv használatába, matematika szakos hallgatók igényeire szabva\n",
    "* a hallgatók képesek legyenek a további félévek során tanult algoritmuselméleti, numerikus vagy statisztikai tárgyakból származó problémák megoldására (számítógépes implementálására)\n",
    "* kedvet csinálni a programozáshoz és az informatikához"
   ]
  },
  {
   "cell_type": "markdown",
   "id": "f5f58f49",
   "metadata": {
    "slideshow": {
     "slide_type": "slide"
    }
   },
   "source": [
    "Az órához az alábbi irodalmat ajánljuk:\n",
    "\n",
    "* Allen B. Downey: Think Python, O'Reilly\n",
    "* [Hogyan gondolkozz úgy, mint egy informatikus: tanulás Python3 segítségével](https://mtmi.unideb.hu/course/view.php?id=9)\n",
    "* Wes McKinney: Python for Data Analysis, O’Reilly\n",
    "\n",
    "Azonban könyvet vagy jegyzeteket olvasni a programozás megtanulásához nem elég. Folyamatos feladatmegoldás, új fogalmak gyakorlása, kódírás nélkül nehéz elképzelni, hogy valaki készségszinten elsajátítson egy programozási nyelvet.\n",
    "\n",
    "Az interneten szabadon vagy fizetős kurzusként elérhető anyagok száma szinte végtelen. Csak az nem talál Python bevezető anyagot, aki nem is keres.\n",
    "\n",
    "* [freeCodeCamp.org - Learn Python - Full Course for Beginners](https://www.youtube.com/watch?v=rfscVS0vtbw)\n",
    "* [freeCodeCamp.org - Intermediate Python Programming Course](https://www.youtube.com/watch?v=HGOBQPFzWKo)"
   ]
  },
  {
   "cell_type": "markdown",
   "id": "64052114",
   "metadata": {
    "slideshow": {
     "slide_type": "slide"
    }
   },
   "source": [
    "## Mit fogtok csinálni az egyetem után?"
   ]
  },
  {
   "cell_type": "markdown",
   "id": "337ed088",
   "metadata": {
    "slideshow": {
     "slide_type": "subslide"
    }
   },
   "source": [
    "<center>\n",
    "<img src=\"img/hays_01.png\" width=\"1200\"> \n",
    "</center>"
   ]
  },
  {
   "cell_type": "markdown",
   "id": "7d93de5e",
   "metadata": {
    "slideshow": {
     "slide_type": "subslide"
    }
   },
   "source": [
    "<center>\n",
    "<img src=\"img/hays_02.png\" width=\"1200\"> \n",
    "</center>"
   ]
  },
  {
   "cell_type": "markdown",
   "id": "057f5d1e",
   "metadata": {
    "slideshow": {
     "slide_type": "slide"
    }
   },
   "source": [
    "## Miért Python?\n",
    "\n",
    "Melyek manapság a legnépszerűbb programozási nyelvek?\n",
    "\n",
    "* [TIOBE index](https://www.tiobe.com/tiobe-index/) - The ratings are based on the number of skilled engineers world-wide, courses and third party vendors\n",
    "\n",
    "<center>\n",
    "<img src=\"img/tiobe_2022-01.png\" width=\"1200\" height=\"800\"> \n",
    "</center>\n",
    "\n",
    "*Python seems to be unstoppable. It is hard to find a field of programming in which Python is not used extensively nowadays. The only exception is (safety-critical) embedded systems because of Python being dynamically typed and too slow.*"
   ]
  },
  {
   "cell_type": "markdown",
   "id": "0ec272db",
   "metadata": {
    "slideshow": {
     "slide_type": "subslide"
    }
   },
   "source": [
    "* [PYPL PopularitY of Programming Language](https://pypl.github.io/PYPL.html) - is created by analyzing how often language tutorials are searched on Google.\n",
    "\n",
    "<center>\n",
    "<img src=\"img/pypl_index_2022-01.png\" width=\"800\"> \n",
    "</center>"
   ]
  },
  {
   "cell_type": "markdown",
   "id": "e6671c67",
   "metadata": {
    "slideshow": {
     "slide_type": "subslide"
    }
   },
   "source": [
    "## Milyen nyelvet érdemes tanulni?\n",
    "\n",
    "Az attól függ, hogy milyen célra kell.\n",
    "\n",
    "* Az egyetemi világban, oktatásban és kutatásban általában valamilyen speciális, kutatók és oktatók igényeire szabott nyelvet használnak, amivel az adott problémát gyorsan és könnyen meg lehet oldani.\n",
    "* Az iparban más szempontok is érvényre juthatnak\n",
    "    * legyen gyors a kód, pl. játékfejlesztés, nagyfrekvenciájú tőzsdei kereskedés\n",
    "    * legyen biztonságos, hibáktól mentes a kód, pl. pénzügy, blokklánc\n",
    "    * legyen könnyen karbantartható\n",
    "    * könnyű legyen embert találni a munkaerőpiacon, aki ért hozzá\n",
    "    * a lehető legszélesebb körben legyen alkalmazható\n",
    "    * már 30 éve megírták, maradjon így, pl. banki szoftverek egy része, meteorológiai modellezés\n",
    "* Minden szektornak van rá jellemző nyelve(i)    "
   ]
  },
  {
   "cell_type": "markdown",
   "id": "d7df3d84",
   "metadata": {
    "slideshow": {
     "slide_type": "subslide"
    }
   },
   "source": [
    "#### Az egyetemi, kutatói világban használatos nyelvek:\n",
    "    \n",
    "* MATLAB (numerikus számítások, mérnöki modellezés)\n",
    "* SPSS, SAS, stb. (statiszikai szoftverek)\n",
    "* Wolfram Mathematica, Maple, stb (mérnöki modellezés, szimbolikus számítások)\n",
    "\n",
    "\n",
    "* R (statisztika, adatelemzés, statisztikai modellezés)\n",
    "* Julia (numerikus számítások, általános nagyteljesítményű tudományos programozásra használatos nyelv)\n",
    "* Python (numerikus számítások, gépi tanulás, deep learning, általános célú programozási nyelv)\n",
    "* C++ (fizikai folyamatok modellezése, általános célú nagyteljesítményű programozási nyelv)"
   ]
  },
  {
   "cell_type": "markdown",
   "id": "950e08c3",
   "metadata": {
    "slideshow": {
     "slide_type": "slide"
    }
   },
   "source": [
    "# A Python programozási nyelv"
   ]
  },
  {
   "cell_type": "markdown",
   "id": "b51be906",
   "metadata": {
    "slideshow": {
     "slide_type": "subslide"
    }
   },
   "source": [
    "A Python egy dinamikusan típusos, általános célú, magasszintű programozási nyelv. \n",
    "\n",
    "Egy Python forrásfájl kiterjesztése `.py`. A Python nyelv referencia-implementációja a CPython, ami bytecode-ra (`.pyc`) fordítja a forráskódot és azt interpretálja a Python Virtual Machine-en (tehát a Python interpretált *és* fordított nyelv is egyben).\n",
    "\n",
    "![](img/python-code-compiler-machine-code.png) "
   ]
  },
  {
   "cell_type": "markdown",
   "id": "7af97752",
   "metadata": {
    "slideshow": {
     "slide_type": "subslide"
    }
   },
   "source": [
    "Főbb jellemzői:\n",
    "* A nyelv filozófiája az olvashatóságot és a könnyű használhatóságot helyezi előtérbe a futási sebességgel szemben\n",
    "* dinamikusan és erősen típusos\n",
    "* a forráskód fordítás nélkül futtatható (interpretálható)\n",
    "* a típushelyességet futásidő (runtime) alatt ellenőrzi\n",
    "* garbage-collected, azaz automatikus memóriakezeléssel rendelkezik\n",
    "* batteries included, azaz átfogó standard library-vel rendelkezik, külön csomagok telepítése nélkül is számos probléma megoldható"
   ]
  },
  {
   "cell_type": "markdown",
   "id": "26555f8e",
   "metadata": {
    "slideshow": {
     "slide_type": "subslide"
    }
   },
   "source": [
    "## A Python rövid története\n",
    "\n",
    "A nyelvet Guido van Rossum (ex-[BDFL](https://en.wikipedia.org/wiki/Benevolent_dictator_for_life)) tervezte a Centrum Wiskunde & Informatica (CWI) intézetben a 80-as évek végén, melyet az ABC nyelv inspirált.\n",
    "\n",
    "* Először 1991 februárjában jelent meg (0.9.0)\n",
    "* Python 2.0: 2000 október\n",
    "* Python 3.0: 2008 december\n",
    "* Python 2.7.18 EOL: 2020 december\n",
    "* Python 3.5 és korábbi verziók sem támogatottak már a Python 2.7 támogatásának megszűnésével\n",
    "\n",
    "Ugyan már 30 éve van jelen, sok nála jóval régebbi nyelv van még használatban:\n",
    "* 1957: Fortran\n",
    "* 1958: Lisp\n",
    "* 1959: COBOL"
   ]
  },
  {
   "cell_type": "markdown",
   "id": "969eae6d",
   "metadata": {
    "slideshow": {
     "slide_type": "subslide"
    }
   },
   "source": [
    "A Python által támogatott programozási paradigmák (programozási stílusok / gondolkodási sémák):\n",
    "\n",
    "* procedurális (egyben imperatív)\n",
    "* objektum-orientált\n",
    "* funkcionális\n",
    "\n",
    "Ezek mibenlétéről részletesebben a későbbi órákon lesz szó. Gyakran fogjuk használni a nyelv jellemzőit, tulajdonságait leíró `feature` szót."
   ]
  },
  {
   "cell_type": "markdown",
   "id": "9c80fcec",
   "metadata": {
    "slideshow": {
     "slide_type": "subslide"
    }
   },
   "source": [
    "<img src=\"img/monty_python.jpg\" width=\"1000\"/>"
   ]
  },
  {
   "cell_type": "markdown",
   "id": "0cd65c66",
   "metadata": {
    "slideshow": {
     "slide_type": "slide"
    }
   },
   "source": [
    "## Hogy írunk Python kódot és hogyan futtatjuk?\n",
    "\n",
    "Kell egy szövegszerkesztő, amiben a kódot írjuk.\n",
    "* **text editors** - hagyományos szövegszerkesztők, különböző operációs rendszerekre\n",
    "    * Windows: Notepad, Notepad++ (ez utóbbi már inkább kódszerkesztőnek számít)\n",
    "    * Linux: nano, vi/vim, vagy disztribúciófüggő (gedit, mousepad, etc.)\n",
    "    \n",
    "* **source code editors** - kódszerkesztők\n",
    "    * VS Code, Sublime Text, Atom, etc.\n",
    "\n",
    "* **IDE** (Integrated development environment) - integrált fejlesztői környezetek\n",
    "    * PyCharm, IntelliJ IDEA (general IDE with Python plugin), Spyder (scientific Python IDE)"
   ]
  },
  {
   "cell_type": "markdown",
   "id": "dd0f8150",
   "metadata": {
    "slideshow": {
     "slide_type": "subslide"
    }
   },
   "source": [
    "Egy jó editor támogatja a \n",
    "* `syntax highlighting` (kulcsszó-kiemelés) \n",
    "* `code completion` (kód-kiegészítés) \n",
    "* `refactoring` (refaktorálás, kód-átszervezés)\n",
    "* `code search` (keresés)\n",
    "* `linting` (kód-stílus ellenőrzés) \n",
    "* `version control` (verzió-kezelés)\n",
    "* `debugging` (debugging) \n",
    "\n",
    "lehetőségeket."
   ]
  },
  {
   "cell_type": "markdown",
   "id": "32603c8f",
   "metadata": {
    "slideshow": {
     "slide_type": "subslide"
    }
   },
   "source": [
    "Kell egy Python interpreter a gépünkre, amivel a kódot futtatjuk.\n",
    "\n",
    "Ha még nincs a gépünkre telepítve, akkor\n",
    "* Töltsük le a telepítőt a [hivatalos Python](https://www.python.org/) oldalról.\n",
    "* Vannak előre csomagolt disztribúciók, mint például az [Anaconda](https://www.anaconda.com/products/individual) melyekkel nem csak a Python, hanem sok egyéb, tudományos programozásban hasznos csomag is a gépünkre kerül.\n",
    "\n",
    "A Python verziók között vannak különségek, az újabb verziókban újabb feature-ök szerepelhetnek, melyek nincsenek az előzőekben, tehát pl. egy Python 3.8-ban írt kód nem biztos, hogy lefut egy Python 3.7-es interpreterrel. Ugyanez igaz a különböző csomagokra is. Ugyanazon csomag (package) különböző verziói egymással nem feltétlenül kompatibilis, azaz az egyikben írt kód nem feltétlenül fut le, ha a gépünkön egy másik verzió van jelen.\n",
    "\n",
    "Ez az előadás Python 3.9-et fog használni."
   ]
  },
  {
   "cell_type": "markdown",
   "id": "2b09808b",
   "metadata": {
    "slideshow": {
     "slide_type": "slide"
    }
   },
   "source": [
    "## A Python interactive shell (REPL)\n",
    "\n",
    "**R**ead **E**valuate **P**rint **L**oop \n",
    "\n",
    "Nem csak a Python-nak van REPL-je, hanem sok más nyelvnek is, olyanoknak is, melyeket le kell fordítani. A REPL indítása egyszerűen a `python` (vagy `python3`) parancs kiadásával indítható, de egy szebb, jobb, színesebb REPL-t kapunk, ha telepítettük az `ipython` (interactive python) csomagot.\n",
    "\n",
    "Az `ipython`-ra épült korábban az `IPython notebook` nevű, web-es alapú, böngészőben futó alkalmazás. Ezt 2014-ben váltotta a `Jupyter` project, ami nyelv-agnosztikus webes interaktív platform. A gépen futó Python kernelhez tartozó interaktív shell a böngészőben fut. A Jupyterhez más nyelvekhez tartozó ún. kerneleket lehet installálni és interaktív módon lehet benne kódot írni, akár prezentációt is készíteni.\n",
    "\n",
    "A továbbiakban az interaktív Python shellbe fogunk Python parancsokat írni. Emellett megnézzük, hogy pl. Spyder-ben hogyan lehet használni az interaktív shell-t. Más editorokhoz a saját help-jük (vagy egy keresés a neten) segít abban, hogy hogyan kell bennük megnyitni egy REPL-t."
   ]
  },
  {
   "cell_type": "markdown",
   "id": "618d7eb8",
   "metadata": {
    "slideshow": {
     "slide_type": "subslide"
    }
   },
   "source": [
    "A Jupyter notebook nem csak kód írására és futtatására alkalmas, hanem dokumentációra, előadások készítésre, egyszerűbb, $\\LaTeX$-ben írt képletek írására, azaz egy olyan környezetről van szó, ahol a kód, az ábrák, eredmények és az őket kiegészítő kísérő szöveg egy egységet képez.\n",
    "\n",
    "$$\n",
    "\\sum_{i=1}^{\\infty}\\frac{1}{n^2} = \\frac{\\pi^2}{6}.\n",
    "$$\n",
    "\n",
    "Egy ilyen notebook kiterjesztése `.ipynb`, de pl. a VS Code képes Jupyter notebook-okat megjeleníteni, nem feltétlenül kell a böngészőben megnyitni.\n",
    "\n",
    "A dokumentációs nyelv neve [Markdown](https://www.markdownguide.org/)."
   ]
  },
  {
   "cell_type": "markdown",
   "id": "4b67486a",
   "metadata": {
    "slideshow": {
     "slide_type": "slide"
    }
   },
   "source": [
    "## Hello, world!"
   ]
  },
  {
   "cell_type": "code",
   "execution_count": 1,
   "id": "df85b4f3",
   "metadata": {
    "slideshow": {
     "slide_type": "fragment"
    }
   },
   "outputs": [
    {
     "name": "stdout",
     "output_type": "stream",
     "text": [
      "Hello, world!\n"
     ]
    }
   ],
   "source": [
    "print(\"Hello, world!\")"
   ]
  },
  {
   "cell_type": "code",
   "execution_count": 2,
   "id": "a0e35f8c",
   "metadata": {
    "slideshow": {
     "slide_type": "fragment"
    }
   },
   "outputs": [
    {
     "data": {
      "text/plain": [
       "'Hello, world!'"
      ]
     },
     "execution_count": 2,
     "metadata": {},
     "output_type": "execute_result"
    }
   ],
   "source": [
    "\"Hello, world!\""
   ]
  },
  {
   "cell_type": "markdown",
   "id": "4856384f",
   "metadata": {
    "slideshow": {
     "slide_type": "fragment"
    }
   },
   "source": [
    "Az interaktív shell-ben nem kell kiadni explicit módon a `print` parancsot, automatikusan kiíródik az eredmény, de itt a két output nem is egyezik meg, tehát ilyenkor nem a `print` függvény hívódik meg, hanem az objektum \"sztringesítése\" jelenik meg."
   ]
  },
  {
   "cell_type": "code",
   "execution_count": 3,
   "id": "998f6faa",
   "metadata": {
    "slideshow": {
     "slide_type": "fragment"
    }
   },
   "outputs": [
    {
     "data": {
      "text/plain": [
       "'Hello, world!'"
      ]
     },
     "execution_count": 3,
     "metadata": {},
     "output_type": "execute_result"
    }
   ],
   "source": [
    "str(\"Hello, world!\")"
   ]
  },
  {
   "cell_type": "code",
   "execution_count": 4,
   "id": "eddc544e",
   "metadata": {
    "slideshow": {
     "slide_type": "fragment"
    }
   },
   "outputs": [
    {
     "data": {
      "text/plain": [
       "'Hello, world!'"
      ]
     },
     "execution_count": 4,
     "metadata": {},
     "output_type": "execute_result"
    }
   ],
   "source": [
    "\"Hello, world!\".__str__()"
   ]
  },
  {
   "cell_type": "markdown",
   "id": "4ca0b9e2",
   "metadata": {
    "slideshow": {
     "slide_type": "slide"
    }
   },
   "source": [
    "## The Zen of Python - A Python nyelv filozófiája"
   ]
  },
  {
   "cell_type": "code",
   "execution_count": 5,
   "id": "52d34f39",
   "metadata": {
    "slideshow": {
     "slide_type": "fragment"
    }
   },
   "outputs": [
    {
     "name": "stdout",
     "output_type": "stream",
     "text": [
      "The Zen of Python, by Tim Peters\n",
      "\n",
      "Beautiful is better than ugly.\n",
      "Explicit is better than implicit.\n",
      "Simple is better than complex.\n",
      "Complex is better than complicated.\n",
      "Flat is better than nested.\n",
      "Sparse is better than dense.\n",
      "Readability counts.\n",
      "Special cases aren't special enough to break the rules.\n",
      "Although practicality beats purity.\n",
      "Errors should never pass silently.\n",
      "Unless explicitly silenced.\n",
      "In the face of ambiguity, refuse the temptation to guess.\n",
      "There should be one-- and preferably only one --obvious way to do it.\n",
      "Although that way may not be obvious at first unless you're Dutch.\n",
      "Now is better than never.\n",
      "Although never is often better than *right* now.\n",
      "If the implementation is hard to explain, it's a bad idea.\n",
      "If the implementation is easy to explain, it may be a good idea.\n",
      "Namespaces are one honking great idea -- let's do more of those!\n"
     ]
    }
   ],
   "source": [
    "import this"
   ]
  },
  {
   "cell_type": "markdown",
   "id": "738f1fb5",
   "metadata": {
    "slideshow": {
     "slide_type": "slide"
    }
   },
   "source": [
    "## Aritmetikai műveletek\n",
    "\n"
   ]
  },
  {
   "cell_type": "code",
   "execution_count": 6,
   "id": "026845dc",
   "metadata": {
    "slideshow": {
     "slide_type": "fragment"
    }
   },
   "outputs": [
    {
     "data": {
      "text/plain": [
       "3"
      ]
     },
     "execution_count": 6,
     "metadata": {},
     "output_type": "execute_result"
    }
   ],
   "source": [
    "1 + 2"
   ]
  },
  {
   "cell_type": "code",
   "execution_count": 7,
   "id": "bdff7a43",
   "metadata": {
    "slideshow": {
     "slide_type": "fragment"
    }
   },
   "outputs": [
    {
     "data": {
      "text/plain": [
       "3.0"
      ]
     },
     "execution_count": 7,
     "metadata": {},
     "output_type": "execute_result"
    }
   ],
   "source": [
    "1.0 + 2"
   ]
  },
  {
   "cell_type": "code",
   "execution_count": 8,
   "id": "2cfffc75",
   "metadata": {
    "slideshow": {
     "slide_type": "fragment"
    }
   },
   "outputs": [
    {
     "data": {
      "text/plain": [
       "4.5"
      ]
     },
     "execution_count": 8,
     "metadata": {},
     "output_type": "execute_result"
    }
   ],
   "source": [
    "# A kommenteket tartalmazó sor #-kal kezdődik\n",
    "\n",
    "1.5 * 3"
   ]
  },
  {
   "cell_type": "code",
   "execution_count": 9,
   "id": "f1566302",
   "metadata": {
    "slideshow": {
     "slide_type": "fragment"
    }
   },
   "outputs": [],
   "source": [
    "# az _ (underscore) az interaktív shellben az utolsó művelet eredményét tárolja\n",
    "\n",
    "#_ * 3"
   ]
  },
  {
   "cell_type": "code",
   "execution_count": 10,
   "id": "ee91760a",
   "metadata": {
    "slideshow": {
     "slide_type": "fragment"
    }
   },
   "outputs": [
    {
     "data": {
      "text/plain": [
       "2.75"
      ]
     },
     "execution_count": 10,
     "metadata": {},
     "output_type": "execute_result"
    }
   ],
   "source": [
    "11 / 4"
   ]
  },
  {
   "cell_type": "code",
   "execution_count": 11,
   "id": "be1ad703",
   "metadata": {
    "slideshow": {
     "slide_type": "fragment"
    }
   },
   "outputs": [
    {
     "data": {
      "text/plain": [
       "2"
      ]
     },
     "execution_count": 11,
     "metadata": {},
     "output_type": "execute_result"
    }
   ],
   "source": [
    "11 // 4"
   ]
  },
  {
   "cell_type": "code",
   "execution_count": 12,
   "id": "7320f335",
   "metadata": {
    "slideshow": {
     "slide_type": "slide"
    }
   },
   "outputs": [
    {
     "data": {
      "text/plain": [
       "8"
      ]
     },
     "execution_count": 12,
     "metadata": {},
     "output_type": "execute_result"
    }
   ],
   "source": [
    "2 ** 3"
   ]
  },
  {
   "cell_type": "code",
   "execution_count": 13,
   "id": "67266172",
   "metadata": {
    "slideshow": {
     "slide_type": "fragment"
    }
   },
   "outputs": [
    {
     "data": {
      "text/plain": [
       "21.41604871118853"
      ]
     },
     "execution_count": 13,
     "metadata": {},
     "output_type": "execute_result"
    }
   ],
   "source": [
    "2.4 ** 3.5"
   ]
  },
  {
   "cell_type": "code",
   "execution_count": 14,
   "id": "b9bd78f6",
   "metadata": {
    "slideshow": {
     "slide_type": "fragment"
    }
   },
   "outputs": [
    {
     "data": {
      "text/plain": [
       "3"
      ]
     },
     "execution_count": 14,
     "metadata": {},
     "output_type": "execute_result"
    }
   ],
   "source": [
    "11 % 4"
   ]
  },
  {
   "cell_type": "code",
   "execution_count": 15,
   "id": "efad2735",
   "metadata": {
    "slideshow": {
     "slide_type": "fragment"
    }
   },
   "outputs": [
    {
     "data": {
      "text/plain": [
       "(2, 3)"
      ]
     },
     "execution_count": 15,
     "metadata": {},
     "output_type": "execute_result"
    }
   ],
   "source": [
    "divmod(11, 4)"
   ]
  },
  {
   "cell_type": "code",
   "execution_count": 16,
   "id": "aa16c693",
   "metadata": {
    "slideshow": {
     "slide_type": "fragment"
    }
   },
   "outputs": [
    {
     "data": {
      "text/plain": [
       "5.0"
      ]
     },
     "execution_count": 16,
     "metadata": {},
     "output_type": "execute_result"
    }
   ],
   "source": [
    "1 + 2 ** 3 / 2"
   ]
  },
  {
   "cell_type": "markdown",
   "id": "55efde38",
   "metadata": {
    "slideshow": {
     "slide_type": "slide"
    }
   },
   "source": [
    "## Változók"
   ]
  },
  {
   "cell_type": "markdown",
   "id": "aca3ed7f",
   "metadata": {
    "slideshow": {
     "slide_type": "slide"
    }
   },
   "source": [
    "Pythonban a változó és az ahhoz kapcsolódó memóriafoglalás jelentősen eltér pl. a C-ben megszokottól."
   ]
  },
  {
   "cell_type": "markdown",
   "id": "f42943df",
   "metadata": {
    "slideshow": {
     "slide_type": "fragment"
    }
   },
   "source": [
    "```c\n",
    "int a;\n",
    "\n",
    "a = 1;\n",
    "```\n",
    "\n",
    "A memóriában le lesz foglalva egy $4$ byte-os egész tárolására hely, oda belekerül az érték és az `a` név ezt a memóraterületet jelöli."
   ]
  },
  {
   "cell_type": "markdown",
   "id": "51245698",
   "metadata": {
    "slideshow": {
     "slide_type": "fragment"
    }
   },
   "source": [
    "```c\n",
    "int a;\n",
    "int b;\n",
    "\n",
    "a = 1;\n",
    "b = a;\n",
    "\n",
    "a = 100;\n",
    "```"
   ]
  },
  {
   "cell_type": "markdown",
   "id": "b74ffacc",
   "metadata": {
    "slideshow": {
     "slide_type": "subslide"
    }
   },
   "source": [
    "Pythonban \n",
    "\n",
    "* az `a = 1` értékadással létrejön a memóriában egy Python objektum, mely az $1$ értéket tartalmazza (és még más dolgokat is, pl. metódusokat)\n",
    "* A Python változók valójában Python objektumokra való hivatkozások (referenciák)\n",
    "* Egy ilyen változó nem csak az értékét tudja megváltoztatni, hanem a típusát is."
   ]
  },
  {
   "cell_type": "code",
   "execution_count": 17,
   "id": "050c3ee1",
   "metadata": {
    "slideshow": {
     "slide_type": "fragment"
    }
   },
   "outputs": [
    {
     "name": "stdout",
     "output_type": "stream",
     "text": [
      "Hello\n"
     ]
    }
   ],
   "source": [
    "a = 1\n",
    "\n",
    "a = 100\n",
    "\n",
    "a = \"Hello\"\n",
    "\n",
    "print(a)"
   ]
  },
  {
   "cell_type": "code",
   "execution_count": 18,
   "id": "49792629",
   "metadata": {
    "slideshow": {
     "slide_type": "subslide"
    }
   },
   "outputs": [
    {
     "name": "stdout",
     "output_type": "stream",
     "text": [
      "2228135356720\n",
      "2228135356720\n"
     ]
    }
   ],
   "source": [
    "a = 1\n",
    "\n",
    "b = a\n",
    "\n",
    "print(id(a))\n",
    "print(id(b))"
   ]
  },
  {
   "cell_type": "markdown",
   "id": "e0fdcfae",
   "metadata": {
    "slideshow": {
     "slide_type": "fragment"
    }
   },
   "source": [
    "Mivel az `id` függvény ugyanazt adja, ezért $a$ és $b$ ugyanarra a Python objektumra hivatkozik. Az `is` operátor azt teszteli, hogy a két változó ugyanarra az objektumra referencia."
   ]
  },
  {
   "cell_type": "code",
   "execution_count": 19,
   "id": "fceeebdf",
   "metadata": {
    "slideshow": {
     "slide_type": "fragment"
    }
   },
   "outputs": [
    {
     "data": {
      "text/plain": [
       "True"
      ]
     },
     "execution_count": 19,
     "metadata": {},
     "output_type": "execute_result"
    }
   ],
   "source": [
    "a is b"
   ]
  },
  {
   "cell_type": "code",
   "execution_count": 20,
   "id": "4602d8f4",
   "metadata": {
    "slideshow": {
     "slide_type": "fragment"
    }
   },
   "outputs": [
    {
     "data": {
      "text/plain": [
       "True"
      ]
     },
     "execution_count": 20,
     "metadata": {},
     "output_type": "execute_result"
    }
   ],
   "source": [
    "# A dupla egyenlőségjel azt teszteli, hogy a két változó által referált objektumok egyenlőek-e. \n",
    "# Természetesen ha ugyanarra az objektumra referencia két változó, azon nyilván egyenlők.\n",
    "\n",
    "a == b"
   ]
  },
  {
   "cell_type": "markdown",
   "id": "ee33e4c9",
   "metadata": {
    "slideshow": {
     "slide_type": "slide"
    }
   },
   "source": [
    "### A Python változók nevezéktana.\n",
    "\n",
    "Bármilyen Python azonosító bármilyen Unicode kis- és nagybetűket tartalmazhat, lehet benne underscore és számjegyek (melyek azonban nem állhatnak az első helyen)."
   ]
  },
  {
   "cell_type": "code",
   "execution_count": 21,
   "id": "e1bc2cbc",
   "metadata": {
    "slideshow": {
     "slide_type": "fragment"
    }
   },
   "outputs": [],
   "source": [
    "α = \"alpha\"\n",
    "\n",
    "árvíztűrőTükörfúrógép = 100\n",
    "\n",
    "_1234 = 1234"
   ]
  },
  {
   "cell_type": "markdown",
   "id": "c6b92cc2",
   "metadata": {
    "slideshow": {
     "slide_type": "fragment"
    }
   },
   "source": [
    "Azonban, **inkább mégis, ha csak tehetjük**, változónévben, azonosítóban, sőt, kommentben is\n",
    "* használjuk a standard ASCII karaktereket (az angol ABC betűit)\n",
    "* a változónevek, és más egyéb azonosítók értelmes angol szavak legyenek (kivéve egyszerű, egy-két karakterből álló azonosítók esetén)\n",
    "* kövesse a `snake_case` névírási konvenciót"
   ]
  },
  {
   "cell_type": "code",
   "execution_count": 22,
   "id": "ca7a8bff",
   "metadata": {
    "slideshow": {
     "slide_type": "fragment"
    }
   },
   "outputs": [],
   "source": [
    "the_meaning_of_life = 42"
   ]
  },
  {
   "cell_type": "code",
   "execution_count": 23,
   "id": "fccc5d05",
   "metadata": {
    "slideshow": {
     "slide_type": "slide"
    }
   },
   "outputs": [
    {
     "name": "stdout",
     "output_type": "stream",
     "text": [
      "10101\n",
      "21\n",
      "21\n"
     ]
    }
   ],
   "source": [
    "s = \"10101\"\n",
    "\n",
    "a = int(s)\n",
    "\n",
    "b = int(s, 2)\n",
    "\n",
    "c = int(s, base=2)\n",
    "\n",
    "print(a)\n",
    "print(b)\n",
    "print(c)"
   ]
  },
  {
   "cell_type": "code",
   "execution_count": 26,
   "id": "cb2afc89",
   "metadata": {
    "slideshow": {
     "slide_type": "slide"
    }
   },
   "outputs": [
    {
     "name": "stdout",
     "output_type": "stream",
     "text": [
      "Hello world!\n"
     ]
    }
   ],
   "source": [
    "import __hello__"
   ]
  },
  {
   "cell_type": "code",
   "execution_count": 27,
   "id": "4248fc9f",
   "metadata": {
    "slideshow": {
     "slide_type": "fragment"
    }
   },
   "outputs": [],
   "source": [
    "import antigravity"
   ]
  }
 ],
 "metadata": {
  "celltoolbar": "Slideshow",
  "kernelspec": {
   "display_name": "Python 3.10.7 64-bit",
   "language": "python",
   "name": "python3"
  },
  "language_info": {
   "codemirror_mode": {
    "name": "ipython",
    "version": 3
   },
   "file_extension": ".py",
   "mimetype": "text/x-python",
   "name": "python",
   "nbconvert_exporter": "python",
   "pygments_lexer": "ipython3",
   "version": "3.9.12"
  },
  "vscode": {
   "interpreter": {
    "hash": "afb734500600fd355917ca529030176ea0ca205570884b88f2f6f7d791fd3fbe"
   }
  }
 },
 "nbformat": 4,
 "nbformat_minor": 5
}
