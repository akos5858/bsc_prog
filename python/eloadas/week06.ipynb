{
 "cells": [
  {
   "cell_type": "markdown",
   "id": "f7517666",
   "metadata": {
    "slideshow": {
     "slide_type": "slide"
    }
   },
   "source": [
    "# Objektum-orientált programozás II. (OOP, part 2) "
   ]
  },
  {
   "cell_type": "markdown",
   "id": "e9e12836",
   "metadata": {
    "slideshow": {
     "slide_type": "slide"
    }
   },
   "source": [
    "# A verem adatszerkezet (stack)"
   ]
  },
  {
   "cell_type": "markdown",
   "id": "e21d577d",
   "metadata": {
    "slideshow": {
     "slide_type": "subslide"
    }
   },
   "source": [
    "A verem nem egy Pythonos adatszerkezet, hanem egy általános, nyelvfüggetlen, ún. absztrakt adattípus. A következő jellemzői vannak:\n",
    "    \n",
    "* adatokat tudunk benne tárolni\n",
    "* a következő operációkat támogatja:\n",
    "    * bele tudunk tenni egy új elemet (push)\n",
    "    * ki tudjuk venni a legutoljára betett elemet (pop)\n",
    "    * meg tudjuk nézni a legutoljára betett elemet (top)\n",
    "    * meg tudjuk érdezni, hogy üres-e a verem (is_empty)\n",
    "    \n",
    "úgy, hogy ezek a műveletek gyorsak (lényegében konstans idejűek). Mivel veremben mindig a legutoljára berakott elem van legfelül, ezért az jön ki legelőször, szokás ezt az adatszerkezetet LIFO-nak nevezni (last in, first out).\n",
    "\n",
    "Mivel a Python adatszerkezetek között nincs verem, ezért csináljunk egyet. Persze van olyan beépített collection, ami ezeket a követelményeket tudja (melyik?), de ezt a mi, saját verem-implementációnkat használó usernek nem kell tudnia (absztrakció)."
   ]
  },
  {
   "cell_type": "markdown",
   "id": "fe5a17dc",
   "metadata": {
    "slideshow": {
     "slide_type": "subslide"
    }
   },
   "source": [
    "![](img/stack.png)"
   ]
  },
  {
   "cell_type": "code",
   "execution_count": null,
   "id": "54eea614",
   "metadata": {
    "slideshow": {
     "slide_type": "subslide"
    }
   },
   "outputs": [],
   "source": [
    "class EmptyStack(Exception):\n",
    "    pass\n",
    "\n",
    "\n",
    "class Stack:\n",
    "    def __init__(self):\n",
    "        pass\n",
    "        \n",
    "    def is_empty(self):\n",
    "        pass\n",
    "    \n",
    "    def push(self, item):\n",
    "        pass\n",
    "    \n",
    "    def pop(self):\n",
    "        pass\n",
    "        \n",
    "    def top(self):\n",
    "        pass"
   ]
  },
  {
   "cell_type": "code",
   "execution_count": null,
   "id": "106cb218",
   "metadata": {
    "slideshow": {
     "slide_type": "subslide"
    }
   },
   "outputs": [],
   "source": [
    "class Stack:\n",
    "    def __init__(self):\n",
    "        self._stack = []\n",
    "        \n",
    "    def is_empty(self):\n",
    "        pass"
   ]
  },
  {
   "cell_type": "code",
   "execution_count": null,
   "id": "6e89f757",
   "metadata": {
    "slideshow": {
     "slide_type": "subslide"
    }
   },
   "outputs": [],
   "source": [
    "class Stack:\n",
    "    def __init__(self):\n",
    "        self._stack = []\n",
    "        \n",
    "    def is_empty(self):\n",
    "        return len(self._stack) == 0"
   ]
  },
  {
   "cell_type": "code",
   "execution_count": null,
   "id": "4da95e65",
   "metadata": {
    "slideshow": {
     "slide_type": "fragment"
    }
   },
   "outputs": [],
   "source": [
    "s = Stack()\n",
    "\n",
    "print(s.is_empty())"
   ]
  },
  {
   "cell_type": "code",
   "execution_count": null,
   "id": "af2d7e1a",
   "metadata": {
    "slideshow": {
     "slide_type": "subslide"
    }
   },
   "outputs": [],
   "source": [
    "class Stack:\n",
    "    def __init__(self):\n",
    "        self._stack = []\n",
    "    \n",
    "    @property\n",
    "    def is_empty(self):\n",
    "        return not bool(self._stack)"
   ]
  },
  {
   "cell_type": "code",
   "execution_count": null,
   "id": "dfbea420",
   "metadata": {
    "slideshow": {
     "slide_type": "fragment"
    }
   },
   "outputs": [],
   "source": [
    "s = Stack()\n",
    "\n",
    "print(s.is_empty)"
   ]
  },
  {
   "cell_type": "code",
   "execution_count": null,
   "id": "98d2a7fd",
   "metadata": {
    "slideshow": {
     "slide_type": "subslide"
    }
   },
   "outputs": [],
   "source": [
    "class Stack:\n",
    "    def __init__(self):\n",
    "        self._stack = []\n",
    "    \n",
    "    @property\n",
    "    def is_empty(self):\n",
    "        return not bool(self._stack)\n",
    "    \n",
    "    def push(self, item):\n",
    "        pass"
   ]
  },
  {
   "cell_type": "code",
   "execution_count": null,
   "id": "df7e9f80",
   "metadata": {
    "slideshow": {
     "slide_type": "subslide"
    }
   },
   "outputs": [],
   "source": [
    "class Stack:\n",
    "    def __init__(self):\n",
    "        self._stack = []\n",
    "    \n",
    "    @property\n",
    "    def is_empty(self):\n",
    "        return not bool(self._stack)\n",
    "    \n",
    "    def push(self, item):\n",
    "        self._stack.append(item)"
   ]
  },
  {
   "cell_type": "code",
   "execution_count": null,
   "id": "22e2175e",
   "metadata": {
    "slideshow": {
     "slide_type": "subslide"
    }
   },
   "outputs": [],
   "source": [
    "class Stack:\n",
    "    def __init__(self):\n",
    "        self._stack = []\n",
    "    \n",
    "    @property\n",
    "    def is_empty(self):\n",
    "        return not bool(self._stack)\n",
    "    \n",
    "    def push(self, item):\n",
    "        self._stack.append(item)\n",
    "        \n",
    "    def top(self):\n",
    "        if self.is_empty:\n",
    "            raise EmptyStack(\"The stack is empty.\")\n",
    "            \n",
    "        return self._stack[-1]  "
   ]
  },
  {
   "cell_type": "code",
   "execution_count": null,
   "id": "ed593005",
   "metadata": {
    "slideshow": {
     "slide_type": "subslide"
    }
   },
   "outputs": [],
   "source": [
    "s = Stack()\n",
    "\n",
    "s.push(10)\n",
    "s.push(20)\n",
    "\n",
    "print(s.top())"
   ]
  },
  {
   "cell_type": "code",
   "execution_count": null,
   "id": "6bfb9300",
   "metadata": {
    "slideshow": {
     "slide_type": "slide"
    }
   },
   "outputs": [],
   "source": [
    "s = Stack()\n",
    "\n",
    "print(s.top())"
   ]
  },
  {
   "cell_type": "code",
   "execution_count": null,
   "id": "a2a027cd",
   "metadata": {
    "slideshow": {
     "slide_type": "subslide"
    }
   },
   "outputs": [],
   "source": [
    "class Stack:\n",
    "    def __init__(self):\n",
    "        self._stack = []\n",
    "    \n",
    "    @property\n",
    "    def is_empty(self):\n",
    "        return not bool(self._stack)\n",
    "    \n",
    "    def push(self, item):\n",
    "        self._stack.append(item)\n",
    "        \n",
    "    def top(self):\n",
    "        if self.is_empty:\n",
    "            raise EmptyStack(\"The stack is empty.\")\n",
    "            \n",
    "        return self._stack[-1] \n",
    "    \n",
    "    def pop(self):\n",
    "        if self.is_empty:\n",
    "            raise EmptyStack(\"The stack is empty.\")\n",
    "        \n",
    "        return self._stack.pop()"
   ]
  },
  {
   "cell_type": "code",
   "execution_count": null,
   "id": "bd775ca3",
   "metadata": {
    "slideshow": {
     "slide_type": "subslide"
    }
   },
   "outputs": [],
   "source": [
    "s = Stack()\n",
    "\n",
    "s.push(10)\n",
    "s.push(20)\n",
    "x = s.pop()\n",
    "y = s.pop()\n",
    "print(x)\n",
    "print(y)\n",
    "print(s.is_empty)"
   ]
  },
  {
   "cell_type": "markdown",
   "id": "18ca51f3",
   "metadata": {
    "slideshow": {
     "slide_type": "slide"
    }
   },
   "source": [
    "Mi van, ha szeretnénk különféle értékekkel inicializálni a vermet?"
   ]
  },
  {
   "cell_type": "code",
   "execution_count": null,
   "id": "bb2bc0b3",
   "metadata": {
    "slideshow": {
     "slide_type": "subslide"
    }
   },
   "outputs": [],
   "source": [
    "def f(a, b):\n",
    "    return a + b"
   ]
  },
  {
   "cell_type": "code",
   "execution_count": null,
   "id": "b343bba9",
   "metadata": {
    "slideshow": {
     "slide_type": "fragment"
    }
   },
   "outputs": [],
   "source": [
    "def f(*args):\n",
    "    return sum(args)\n",
    "\n",
    "\n",
    "f(1, 2, 3, 4)"
   ]
  },
  {
   "cell_type": "code",
   "execution_count": 1,
   "id": "2794ade4",
   "metadata": {
    "slideshow": {
     "slide_type": "fragment"
    }
   },
   "outputs": [
    {
     "data": {
      "text/plain": [
       "21"
      ]
     },
     "execution_count": 1,
     "metadata": {},
     "output_type": "execute_result"
    }
   ],
   "source": [
    "def f(*args):\n",
    "    return sum(args)\n",
    "\n",
    "\n",
    "xs = [1, 2, 3, 4, 5, 6]\n",
    "f(*xs)"
   ]
  },
  {
   "cell_type": "code",
   "execution_count": null,
   "id": "89173cfb",
   "metadata": {
    "slideshow": {
     "slide_type": "slide"
    }
   },
   "outputs": [],
   "source": [
    "class Stack:\n",
    "    def __init__(self, *args):\n",
    "        self._stack = list(args)\n",
    "    \n",
    "    @property\n",
    "    def is_empty(self):\n",
    "        return not bool(self._stack)\n",
    "    \n",
    "    def push(self, item):\n",
    "        self._stack.append(item)\n",
    "        \n",
    "    def top(self):\n",
    "        if self.is_empty:\n",
    "            raise EmptyStack(\"The stack is empty.\")\n",
    "            \n",
    "        return self._stack[-1] \n",
    "    \n",
    "    def pop(self):\n",
    "        if self.is_empty:\n",
    "            raise EmptyStack(\"The stack is empty.\")\n",
    "        \n",
    "        return self._stack.pop()"
   ]
  },
  {
   "cell_type": "code",
   "execution_count": null,
   "id": "b16fcf18",
   "metadata": {
    "slideshow": {
     "slide_type": "subslide"
    }
   },
   "outputs": [],
   "source": [
    "s = Stack(10, 20, 100)\n",
    "\n",
    "\n",
    "print(s.pop())\n",
    "print(s.pop())\n",
    "print(s.is_empty)\n",
    "print(s.pop())\n",
    "s.push(100)"
   ]
  },
  {
   "cell_type": "markdown",
   "id": "02659ade",
   "metadata": {
    "slideshow": {
     "slide_type": "subslide"
    }
   },
   "source": [
    "**HF**: Adott egy kifejezés, ami a `(`, `)`, `[` és `]` karakterekből állhat. Állapítsuk meg, hogy a kifejezés helyesen zárójelezett-e vagy sem.\n",
    "\n",
    "pl. `([()])` helyes zárójelezés, `([(]))` nem az, mert a szögletes zárójelpár tartalmaz pár nélküli nyitó zárójelet."
   ]
  },
  {
   "cell_type": "markdown",
   "id": "dce02697",
   "metadata": {
    "slideshow": {
     "slide_type": "subslide"
    }
   },
   "source": [
    "**HF**: Készítsünk saját halmaz-implementációt! A halmaz elemeit tároljuk egy belső listában, figyelve arra, hogy a lista később sem tartalmazhat duplikátumokat! \n",
    "* lehessen üres halmazt készíteni\n",
    "* legyen `add` metódusa, amivel hozzá lehet adni új elemet\n",
    "* lehessen értelmes módon kiprintelni a halmazt\n",
    "\n",
    "```python\n",
    "class Set:\n",
    "    def __init__(self):\n",
    "        self._elems = []\n",
    "        pass\n",
    "    \n",
    "    def __repr__(self):\n",
    "        pass\n",
    "    \n",
    "    def add(self, x):\n",
    "        pass\n",
    "```"
   ]
  },
  {
   "cell_type": "markdown",
   "id": "b97d3bee",
   "metadata": {
    "slideshow": {
     "slide_type": "subslide"
    }
   },
   "source": [
    "Ha van időnk, próbáljuk meg a következő feature-öket is hozzáadni:\n",
    "\n",
    "* lehessen a halmazt különböző elemekkel inicializálni, pl. `s = Set(1, 2, 3, 1, 10, 1)`\n",
    "* legyen `pop` metódusa\n",
    "* legyen definiálva egy `union`, egy `intersection` és egy `difference` metódus is"
   ]
  },
  {
   "cell_type": "markdown",
   "id": "8b00058b",
   "metadata": {
    "slideshow": {
     "slide_type": "slide"
    }
   },
   "source": [
    "## Operátor-túlterhelés, mágikus osztálymetódusok (operator overloading, magic methods)"
   ]
  },
  {
   "cell_type": "markdown",
   "id": "b7379d52",
   "metadata": {
    "slideshow": {
     "slide_type": "subslide"
    }
   },
   "source": [
    "Ha definálok egy adatszerkezetet, amelyek adattárolásra használt, akkor hogyan tudjuk a műveleteket kiterjeszteni rájuk?\n",
    "\n",
    "Például ha van egy komplex számokat, vagy racionális számokat tartalmazó osztályom, akkor jó lenne, ha ugyanazokat a műveleti jelekkel tudnám definiálni az összegüket, szorzatukat, mint amiket a hagyományos számok közötti műveletek során használunk."
   ]
  },
  {
   "cell_type": "code",
   "execution_count": null,
   "id": "0c9a16a8",
   "metadata": {
    "slideshow": {
     "slide_type": "slide"
    }
   },
   "outputs": [],
   "source": [
    "class Rational:\n",
    "    pass"
   ]
  },
  {
   "cell_type": "markdown",
   "id": "e8c4313a",
   "metadata": {
    "slideshow": {
     "slide_type": "subslide"
    }
   },
   "source": [
    "Mire van szükség:\n",
    "\n",
    "* számláló, nevező\n",
    "* egyszerűsíteni is kell\n",
    "* ellentett\n",
    "* 4 alapművelet\n",
    "* logikai értéket is rendelhetünk hozzá\n",
    "* olvasható sztring-reprezentáció"
   ]
  },
  {
   "cell_type": "code",
   "execution_count": null,
   "id": "6d738c7e",
   "metadata": {
    "slideshow": {
     "slide_type": "subslide"
    }
   },
   "outputs": [],
   "source": [
    "class Rational:\n",
    "    def __init__(self, n, m):\n",
    "        self.n = n\n",
    "        self.m = m"
   ]
  },
  {
   "cell_type": "code",
   "execution_count": null,
   "id": "3ab8a17d",
   "metadata": {
    "slideshow": {
     "slide_type": "subslide"
    }
   },
   "outputs": [],
   "source": [
    "r = Rational(1, 2)\n",
    "\n",
    "r"
   ]
  },
  {
   "cell_type": "code",
   "execution_count": null,
   "id": "747578c8",
   "metadata": {
    "slideshow": {
     "slide_type": "subslide"
    }
   },
   "outputs": [],
   "source": [
    "class Rational:\n",
    "    def __init__(self, n, m):\n",
    "        self.n = n\n",
    "        self.m = m\n",
    "        \n",
    "    def __repr__(self):\n",
    "        return f\"{self.n} / {self.m}\"        "
   ]
  },
  {
   "cell_type": "code",
   "execution_count": null,
   "id": "86f23cd7",
   "metadata": {
    "slideshow": {
     "slide_type": "subslide"
    }
   },
   "outputs": [],
   "source": [
    "r = Rational(1, 2)\n",
    "\n",
    "r"
   ]
  },
  {
   "cell_type": "code",
   "execution_count": null,
   "id": "d8749811",
   "metadata": {
    "slideshow": {
     "slide_type": "subslide"
    }
   },
   "outputs": [],
   "source": [
    "class Rational:\n",
    "    def __init__(self, n, m):\n",
    "        self.n = n\n",
    "        self.m = m\n",
    "        \n",
    "    def __str__(self):\n",
    "        return f\"{self.n} / {self.m}\" "
   ]
  },
  {
   "cell_type": "code",
   "execution_count": null,
   "id": "d97d0ab9",
   "metadata": {
    "slideshow": {
     "slide_type": "fragment"
    }
   },
   "outputs": [],
   "source": [
    "r = Rational(1, 2)\n",
    "\n",
    "\n",
    "print(r)\n",
    "r"
   ]
  },
  {
   "cell_type": "code",
   "execution_count": null,
   "id": "0ea4e3fb",
   "metadata": {
    "slideshow": {
     "slide_type": "subslide"
    }
   },
   "outputs": [],
   "source": [
    "r = Rational(5, 10)\n",
    "\n",
    "print(r)"
   ]
  },
  {
   "cell_type": "code",
   "execution_count": null,
   "id": "7fd5266e",
   "metadata": {
    "slideshow": {
     "slide_type": "subslide"
    }
   },
   "outputs": [],
   "source": [
    "import math\n",
    "\n",
    "\n",
    "class Rational:\n",
    "    def __init__(self, n, m):\n",
    "        gcd = math.gcd(n, m)\n",
    "        \n",
    "        self.n = n // gcd\n",
    "        self.m = m // gcd\n",
    "        \n",
    "    def __repr__(self):\n",
    "        return f\"{self.n} / {self.m}\""
   ]
  },
  {
   "cell_type": "code",
   "execution_count": null,
   "id": "558e2ee7",
   "metadata": {
    "slideshow": {
     "slide_type": "fragment"
    }
   },
   "outputs": [],
   "source": [
    "r = Rational(5, 10)\n",
    "\n",
    "r"
   ]
  },
  {
   "cell_type": "code",
   "execution_count": null,
   "id": "8b88f4f6",
   "metadata": {
    "slideshow": {
     "slide_type": "subslide"
    }
   },
   "outputs": [],
   "source": [
    "# Ez működik?\n",
    "\n",
    "-r"
   ]
  },
  {
   "cell_type": "code",
   "execution_count": null,
   "id": "eb7cc89c",
   "metadata": {
    "slideshow": {
     "slide_type": "subslide"
    }
   },
   "outputs": [],
   "source": [
    "class Rational:\n",
    "    def __init__(self, n, m):\n",
    "        d = math.gcd(n, m)\n",
    "        \n",
    "        self.n = n // d\n",
    "        self.m = m // d\n",
    "        \n",
    "    def __repr__(self):\n",
    "        return f\"{self.n} / {self.m}\"\n",
    "    \n",
    "    def __neg__(self):\n",
    "        return Rational(-self.n, self.m)"
   ]
  },
  {
   "cell_type": "code",
   "execution_count": null,
   "id": "2a29fc67",
   "metadata": {
    "slideshow": {
     "slide_type": "fragment"
    }
   },
   "outputs": [],
   "source": [
    "r = Rational(1, 2)\n",
    "q = -r\n",
    "\n",
    "q"
   ]
  },
  {
   "cell_type": "code",
   "execution_count": null,
   "id": "6021aa52",
   "metadata": {
    "slideshow": {
     "slide_type": "subslide"
    }
   },
   "outputs": [],
   "source": [
    "p = Rational(1, 2)\n",
    "q = Rational(1, 3)\n",
    "\n",
    "p + q"
   ]
  },
  {
   "cell_type": "code",
   "execution_count": null,
   "id": "f73b73ad",
   "metadata": {
    "slideshow": {
     "slide_type": "subslide"
    }
   },
   "outputs": [],
   "source": [
    "class Rational:\n",
    "    def __init__(self, n, m):\n",
    "        d = math.gcd(n, m)\n",
    "        \n",
    "        self.n = n // d\n",
    "        self.m = m // d\n",
    "        \n",
    "    def __repr__(self):\n",
    "        return f\"{self.n} / {self.m}\"\n",
    "    \n",
    "    def __neg__(self):\n",
    "        return Rational(-self.n, self.m)\n",
    "    \n",
    "    def __add__(self, other):\n",
    "        return Rational(self.n * other.m + self.m * other.n, self.m * other.m)"
   ]
  },
  {
   "cell_type": "code",
   "execution_count": null,
   "id": "a73945eb",
   "metadata": {
    "slideshow": {
     "slide_type": "subslide"
    }
   },
   "outputs": [],
   "source": [
    "p = Rational(1, 2)\n",
    "q = Rational(1, 3)\n",
    "\n",
    "p + q"
   ]
  },
  {
   "cell_type": "code",
   "execution_count": null,
   "id": "76905005",
   "metadata": {
    "slideshow": {
     "slide_type": "subslide"
    }
   },
   "outputs": [],
   "source": [
    "class Rational:\n",
    "    def __init__(self, n, m):\n",
    "        d = math.gcd(n, m)\n",
    "        \n",
    "        self.n = n // d\n",
    "        self.m = m // d\n",
    "        \n",
    "    def __repr__(self):\n",
    "        return f\"{self.n} / {self.m}\"\n",
    "    \n",
    "    def __neg__(self):\n",
    "        return Rational(-self.n, self.m)\n",
    "    \n",
    "    def __add__(self, other):\n",
    "        return Rational(self.n * other.m + self.m * other.n, self.m * other.m)\n",
    "    \n",
    "    def __sub__(self, other):\n",
    "        return self + (-other)"
   ]
  },
  {
   "cell_type": "code",
   "execution_count": null,
   "id": "45f4c39e",
   "metadata": {
    "slideshow": {
     "slide_type": "subslide"
    }
   },
   "outputs": [],
   "source": [
    "p = Rational(1, 2)\n",
    "q = Rational(1, 3)\n",
    "\n",
    "p - q"
   ]
  },
  {
   "cell_type": "code",
   "execution_count": null,
   "id": "81bfcaaa",
   "metadata": {
    "slideshow": {
     "slide_type": "subslide"
    }
   },
   "outputs": [],
   "source": [
    "abs(p)"
   ]
  },
  {
   "cell_type": "markdown",
   "id": "aa42164a",
   "metadata": {
    "slideshow": {
     "slide_type": "fragment"
    }
   },
   "source": [
    "**HF**: Nézzünk utána, hogy a szorzást és osztás milyen duplaaláhúzásos mágikus metódussal lehet implementálni. Esetleg az abszolútérték-függvényt ki tudjuk-e terjeszteni a racionális számokra?"
   ]
  },
  {
   "cell_type": "markdown",
   "id": "8ce2b8aa",
   "metadata": {
    "slideshow": {
     "slide_type": "subslide"
    }
   },
   "source": [
    "Racionális számok esetén ugyan nincs értelme a `len` függvénynek, de általában a `len` függvény is úgy működik, hogy megnézi, hogy az inputnak van-e definiálva a `__len__` metódusa.\n",
    "\n",
    "Ezeken a mágikus osztálymetódusokon keresztül lehet kiterjeszteni bizonyos beépített függvényeket általunk definiált adatszerkezetekre."
   ]
  },
  {
   "cell_type": "code",
   "execution_count": null,
   "id": "efe9d073",
   "metadata": {
    "slideshow": {
     "slide_type": "fragment"
    }
   },
   "outputs": [],
   "source": [
    "# Emlékeztető:\n",
    "\n",
    "lst = [1, 2, 3]\n",
    "\n",
    "lst.__len__()  #  <=> len(lst)"
   ]
  },
  {
   "cell_type": "markdown",
   "id": "e8e37a41",
   "metadata": {
    "slideshow": {
     "slide_type": "subslide"
    }
   },
   "source": [
    "A Rational osztály implementálása során láttunk néhány mágikus osztálymetódust. Ezek között szerepeltek azok, melyekkel az operátorokat (összeadás, kivonás, osztás, szorzás) túl lehet terhelni, azaz két Rational példány között is értelmessé tehető a `+` operátor (és a többi is). \n",
    "\n",
    "A következőkben néhány újabb mágikus metódust tekintünk át, amelyekről érdemes lehet tudni."
   ]
  },
  {
   "cell_type": "code",
   "execution_count": null,
   "id": "60eed90b",
   "metadata": {
    "slideshow": {
     "slide_type": "subslide"
    }
   },
   "outputs": [],
   "source": [
    "r1 = Rational(1, 2)\n",
    "r2 = Rational(1, 2)\n",
    "\n",
    "print(r1 == r1)\n",
    "print(r1 == r2)"
   ]
  },
  {
   "cell_type": "markdown",
   "id": "43000b5d",
   "metadata": {
    "slideshow": {
     "slide_type": "slide"
    }
   },
   "source": [
    "Valahogy meg kell mondanunk, hogy mikor tekintünk két osztálypéldányt egyenlőnek, illetve különbözőnek, mert különben csak az objektumok azonosságakor lesz egyenlő két racionális szám."
   ]
  },
  {
   "cell_type": "code",
   "execution_count": null,
   "id": "bae661f1",
   "metadata": {
    "slideshow": {
     "slide_type": "subslide"
    }
   },
   "outputs": [],
   "source": [
    "class Rational:\n",
    "    def __init__(self, n, m):\n",
    "        d = math.gcd(n, m)\n",
    "        \n",
    "        self.n = n // d\n",
    "        self.m = m // d\n",
    "        \n",
    "    def __repr__(self):\n",
    "        return f\"{self.n} / {self.m}\"\n",
    "    \n",
    "    def __eq__(self, other):\n",
    "        return self.n * other.m == self.m * other.n"
   ]
  },
  {
   "cell_type": "code",
   "execution_count": null,
   "id": "a944f6c1",
   "metadata": {
    "slideshow": {
     "slide_type": "subslide"
    }
   },
   "outputs": [],
   "source": [
    "r1 = Rational(1, 2)\n",
    "r2 = Rational(1, 2)\n",
    "r3 = Rational(-1, -2)\n",
    "\n",
    "print(r1 == r2)\n",
    "print(r1 == r3)"
   ]
  },
  {
   "cell_type": "code",
   "execution_count": null,
   "id": "5b4f4e45",
   "metadata": {
    "slideshow": {
     "slide_type": "subslide"
    }
   },
   "outputs": [],
   "source": [
    "rationals = {Rational(1, 2), Rational(1, 3), Rational(1, 2)}"
   ]
  },
  {
   "cell_type": "markdown",
   "id": "b6fe5cbb",
   "metadata": {
    "slideshow": {
     "slide_type": "slide"
    }
   },
   "source": [
    "Amint azt említettük korábban, Pythonban a halmaz adatszerkezet hashtáblával van implementálva, azaz minden elemet egy hash-függvénnyel leképezünk (\"el-hash-elünk\") egy egész számra. Itt most a Python nem tudja, hogy egy `Rational` objektumot hogyan kell hash-elni. A `Rational` objektum milyen attribútumai, leírói legyenek a hashfüggvény inputjai?"
   ]
  },
  {
   "cell_type": "code",
   "execution_count": null,
   "id": "5ccf8a74",
   "metadata": {
    "slideshow": {
     "slide_type": "subslide"
    }
   },
   "outputs": [],
   "source": [
    "class Rational:\n",
    "    def __init__(self, n, m):\n",
    "        d = math.gcd(n, m)\n",
    "        \n",
    "        self.n = n // d\n",
    "        self.m = m // d\n",
    "        \n",
    "    def __repr__(self):\n",
    "        return f\"{self.n} / {self.m}\"\n",
    "    \n",
    "    def __eq__(self, other):\n",
    "        return self.n * other.m == self.m * other.n\n",
    "    \n",
    "    def __hash__(self):\n",
    "        return hash((self.n, self.m))"
   ]
  },
  {
   "cell_type": "code",
   "execution_count": null,
   "id": "2abe4495",
   "metadata": {
    "slideshow": {
     "slide_type": "subslide"
    }
   },
   "outputs": [],
   "source": [
    "rationals = {Rational(1, 2), Rational(1, 3), Rational(1, 2)}\n",
    "\n",
    "len(rationals)"
   ]
  },
  {
   "cell_type": "markdown",
   "id": "d7213492",
   "metadata": {
    "slideshow": {
     "slide_type": "slide"
    }
   },
   "source": [
    "Mi az, ami még hiányzik a racionális számokból? Tudjuk, hogy a racionális számok testet alkotnak, azaz a négy alapművelet értelmezett a körükben. Emellett még rendezés is definiált, azaz van értelme a `<`, `<=`, stb. relációknak. Definiáljuk ezeket is a beépített mágikus metódusok segítségével!"
   ]
  },
  {
   "cell_type": "code",
   "execution_count": null,
   "id": "94c28d9e",
   "metadata": {
    "slideshow": {
     "slide_type": "subslide"
    }
   },
   "outputs": [],
   "source": [
    "p = Rational(1, 3)\n",
    "q = Rational(2, 5)\n",
    "\n",
    "p < q"
   ]
  },
  {
   "cell_type": "code",
   "execution_count": null,
   "id": "7bcb0b03",
   "metadata": {
    "slideshow": {
     "slide_type": "fragment"
    }
   },
   "outputs": [],
   "source": [
    "sorted([Rational(1, 2), Rational(1, 3), Rational(2, 5)])"
   ]
  },
  {
   "cell_type": "code",
   "execution_count": null,
   "id": "6062c7b7",
   "metadata": {
    "slideshow": {
     "slide_type": "subslide"
    }
   },
   "outputs": [],
   "source": [
    "class Rational:\n",
    "    def __init__(self, n, m):\n",
    "        d = math.gcd(n, m)\n",
    "        \n",
    "        self.n = n // d\n",
    "        self.m = m // d\n",
    "        \n",
    "    def __repr__(self):\n",
    "        return f\"{self.n} / {self.m}\"\n",
    "    \n",
    "    def __eq__(self, other):\n",
    "        return self.n * other.m == self.m * other.n\n",
    "    \n",
    "    def __lt__(self, other):\n",
    "        if self.m * other.m > 0:\n",
    "            return self.n * other.m < self.m * other.n\n",
    "        \n",
    "        return self.n * other.m > self.m * other.n"
   ]
  },
  {
   "cell_type": "code",
   "execution_count": null,
   "id": "e06d4d90",
   "metadata": {
    "slideshow": {
     "slide_type": "subslide"
    }
   },
   "outputs": [],
   "source": [
    "Rational(1, 2) < Rational(2, 3)"
   ]
  },
  {
   "cell_type": "code",
   "execution_count": null,
   "id": "c4ee8b41",
   "metadata": {
    "slideshow": {
     "slide_type": "fragment"
    }
   },
   "outputs": [],
   "source": [
    "Rational(1, 2) < Rational(-2, 3)"
   ]
  },
  {
   "cell_type": "code",
   "execution_count": null,
   "id": "64a75eec",
   "metadata": {
    "slideshow": {
     "slide_type": "fragment"
    }
   },
   "outputs": [],
   "source": [
    "Rational(-1, 2) < Rational(-2, 3)"
   ]
  },
  {
   "cell_type": "code",
   "execution_count": null,
   "id": "729bd51c",
   "metadata": {
    "slideshow": {
     "slide_type": "fragment"
    }
   },
   "outputs": [],
   "source": [
    "sorted([Rational(1, 2), Rational(1, 3), Rational(2, 5)])"
   ]
  },
  {
   "cell_type": "markdown",
   "id": "91a6ab2d",
   "metadata": {
    "slideshow": {
     "slide_type": "slide"
    }
   },
   "source": [
    "## Meghívható objektumok (callables)"
   ]
  },
  {
   "cell_type": "code",
   "execution_count": 2,
   "id": "9ce4245f",
   "metadata": {
    "slideshow": {
     "slide_type": "slide"
    }
   },
   "outputs": [
    {
     "data": {
      "text/plain": [
       "3*x + 1"
      ]
     },
     "execution_count": 2,
     "metadata": {},
     "output_type": "execute_result"
    }
   ],
   "source": [
    "# az y = mx + b egyenes megadható így:\n",
    "\n",
    "class LinearPolynomial:\n",
    "    def __init__(self, m, b):\n",
    "        self.m = m\n",
    "        self.b = b\n",
    "        \n",
    "    def __repr__(self):        \n",
    "        return f\"{self.m}*x + {self.b}\"\n",
    "\n",
    "\n",
    "p = LinearPolynomial(3, 1)\n",
    "p"
   ]
  },
  {
   "cell_type": "code",
   "execution_count": 3,
   "id": "22934ef1",
   "metadata": {
    "slideshow": {
     "slide_type": "subslide"
    }
   },
   "outputs": [
    {
     "ename": "TypeError",
     "evalue": "'LinearPolynomial' object is not callable",
     "output_type": "error",
     "traceback": [
      "\u001b[1;31m---------------------------------------------------------------------------\u001b[0m",
      "\u001b[1;31mTypeError\u001b[0m                                 Traceback (most recent call last)",
      "Input \u001b[1;32mIn [3]\u001b[0m, in \u001b[0;36m<cell line: 3>\u001b[1;34m()\u001b[0m\n\u001b[0;32m      1\u001b[0m \u001b[38;5;66;03m# Egy polinom egyben függvény is, nem?\u001b[39;00m\n\u001b[1;32m----> 3\u001b[0m \u001b[43mp\u001b[49m\u001b[43m(\u001b[49m\u001b[38;5;241;43m10\u001b[39;49m\u001b[43m)\u001b[49m\n",
      "\u001b[1;31mTypeError\u001b[0m: 'LinearPolynomial' object is not callable"
     ]
    }
   ],
   "source": [
    "# Egy polinom egyben függvény is, nem?\n",
    "\n",
    "p(10)"
   ]
  },
  {
   "cell_type": "code",
   "execution_count": 5,
   "id": "77b12e5f",
   "metadata": {
    "slideshow": {
     "slide_type": "subslide"
    }
   },
   "outputs": [
    {
     "data": {
      "text/plain": [
       "31"
      ]
     },
     "execution_count": 5,
     "metadata": {},
     "output_type": "execute_result"
    }
   ],
   "source": [
    "class LinearPolynomial:\n",
    "    def __init__(self, m, b):\n",
    "        self.m = m\n",
    "        self.b = b\n",
    "        \n",
    "    def __repr__(self):\n",
    "        return f\"{self.m}*x + {self.b}\"\n",
    "    \n",
    "    def __call__(self, x_0):\n",
    "        return self.m * x_0 + self.b\n",
    "\n",
    "    \n",
    "    \n",
    "p = LinearPolynomial(3, 1)\n",
    "p(10)"
   ]
  },
  {
   "cell_type": "markdown",
   "id": "5c746ef4",
   "metadata": {
    "slideshow": {
     "slide_type": "slide"
    }
   },
   "source": [
    "A Python egy *batteries included* nyelv, ami azt jelenti, hogy a standard library rendkívül széleskörűen kidolgozott, sok feladatot meg lehet oldani pusztán a beépített könyvtárak segítségével. Például a `Rational` osztály valójában már meg van írva benne, csak máshogy hívják."
   ]
  },
  {
   "cell_type": "code",
   "execution_count": 6,
   "id": "cb176d95",
   "metadata": {
    "slideshow": {
     "slide_type": "subslide"
    }
   },
   "outputs": [],
   "source": [
    "# Modulok importját is láttuk már korábbról\n",
    "\n",
    "import fractions"
   ]
  },
  {
   "cell_type": "code",
   "execution_count": 7,
   "id": "7a4e73c2",
   "metadata": {
    "slideshow": {
     "slide_type": "fragment"
    }
   },
   "outputs": [
    {
     "name": "stdout",
     "output_type": "stream",
     "text": [
      "1/3\n"
     ]
    }
   ],
   "source": [
    "p = fractions.Fraction(1, 3)\n",
    "\n",
    "print(p)"
   ]
  },
  {
   "cell_type": "code",
   "execution_count": null,
   "id": "9cc50b7c",
   "metadata": {
    "slideshow": {
     "slide_type": "subslide"
    }
   },
   "outputs": [],
   "source": [
    "from fractions import Fraction\n",
    "\n",
    "p = Fraction(2, 4)\n",
    "print(p)"
   ]
  },
  {
   "cell_type": "code",
   "execution_count": 8,
   "id": "68a2e0b8",
   "metadata": {
    "slideshow": {
     "slide_type": "subslide"
    }
   },
   "outputs": [
    {
     "name": "stdout",
     "output_type": "stream",
     "text": [
      "3.5\n",
      "7.0\n"
     ]
    }
   ],
   "source": [
    "import statistics as st\n",
    "\n",
    "lst = [1, 2, 4, 7]\n",
    "\n",
    "print(st.mean(lst))\n",
    "print(st.variance(lst))"
   ]
  },
  {
   "cell_type": "code",
   "execution_count": null,
   "id": "c7975046",
   "metadata": {
    "slideshow": {
     "slide_type": "subslide"
    }
   },
   "outputs": [],
   "source": [
    "import math\n",
    "\n",
    "\n",
    "def factorial(n):\n",
    "    return math.prod(range(1, n+1))\n",
    "\n",
    "\n",
    "factorial(5)"
   ]
  },
  {
   "cell_type": "markdown",
   "id": "306c8252",
   "metadata": {
    "slideshow": {
     "slide_type": "slide"
    }
   },
   "source": [
    "Milyen beépített modulok vannak Pythonban?\n",
    "\n",
    "[The Python Standard Library](https://docs.python.org/3.9/library/index.html)"
   ]
  },
  {
   "cell_type": "markdown",
   "id": "ab40d37c",
   "metadata": {
    "slideshow": {
     "slide_type": "slide"
    }
   },
   "source": [
    "A leggyakrabban használtak:\n",
    "\n",
    "* datetime (dátumok, idő reprezentálása)"
   ]
  },
  {
   "cell_type": "markdown",
   "id": "aaa25f46",
   "metadata": {
    "slideshow": {
     "slide_type": "slide"
    }
   },
   "source": [
    "Pl. 1000 nap múlva hányadika lesz?"
   ]
  },
  {
   "cell_type": "code",
   "execution_count": null,
   "id": "9d377fee",
   "metadata": {
    "slideshow": {
     "slide_type": "fragment"
    }
   },
   "outputs": [],
   "source": [
    "from datetime import datetime, timedelta\n",
    "\n",
    "\n",
    "later = datetime.now() + timedelta(days=1000)\n",
    "later"
   ]
  },
  {
   "cell_type": "markdown",
   "id": "5cd7a29e",
   "metadata": {
    "slideshow": {
     "slide_type": "slide"
    }
   },
   "source": [
    "* **datetime** (dátumok, idő reprezentálása)\n",
    "* **collections** (néhány adatszerkezet)\n",
    "* **math** (matematikai függvények)\n",
    "* **random** (véletlenszámok valamilyen eloszlásból)\n",
    "* **itertools** (iterátorok, \"lusta kiértékelésű\" adatszerkezetek, erre hamarosan visszatérünk)\n",
    "* **pathlib** (fájl és folder elérési utak kezelése)\n",
    "* **os** (operációs rendszerhez kapcsolódó függvények)\n",
    "* **json** (json formátumú fájlok olvasása/írása)\n",
    "* **csv** (csv-formátumú fájlok írása/olvasása)\n",
    "\n",
    "és még egy csomó más (sys, multiprocessing, time, dataclasses, io, gzip, tarfile, tempfile, copy, heapq, bisect, functools, etc.)"
   ]
  },
  {
   "cell_type": "markdown",
   "id": "3eebc079",
   "metadata": {
    "slideshow": {
     "slide_type": "slide"
    }
   },
   "source": [
    "Ezenkívül vannak azok a könyvtárak, amelyek nem részei a standard library-nek, de valamilyen csomagkezelővel installálhatók (pl. pip-pel).\n",
    "\n",
    "* **numpy** (lineáris algebra, mátrixok, vektorok)\n",
    "* **scipy** (mérnöki számítások, jelfeldolgozás, differenciálegyenletek, integrálás, interpoláció, stb)\n",
    "* **pandas** (táblázatos adatok manipulációja, kezelése, ezeken való számítások)\n",
    "* **matplotlib** (vizualizáció)\n",
    "* **scikit-learn** (gépi tanulás könyvtár)\n",
    "\n",
    "\n",
    "* **tensorflow** (a Google által fejlesztett deep learning könyvtár)\n",
    "* **pytorch** (a Facebook által fejlesztett deep learning könyvtár)\n",
    "\n",
    "\n",
    "* **pyspark** (elosztott számításokra alkalmas gépi tanulás könyvtár)\n",
    "\n",
    "\n",
    "* **nltk** (természetesnyelv-feldolgozás könyvtár, NLP)\n",
    "* **spacy** (természetesnyelv-feldolgozás könyvtár, NLP)"
   ]
  }
 ],
 "metadata": {
  "celltoolbar": "Slideshow",
  "kernelspec": {
   "display_name": "Python 3 (ipykernel)",
   "language": "python",
   "name": "python3"
  },
  "language_info": {
   "codemirror_mode": {
    "name": "ipython",
    "version": 3
   },
   "file_extension": ".py",
   "mimetype": "text/x-python",
   "name": "python",
   "nbconvert_exporter": "python",
   "pygments_lexer": "ipython3",
   "version": "3.9.12"
  }
 },
 "nbformat": 4,
 "nbformat_minor": 5
}
