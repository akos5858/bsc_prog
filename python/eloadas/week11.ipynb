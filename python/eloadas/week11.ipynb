{
 "cells": [
  {
   "cell_type": "markdown",
   "id": "d5038b2d",
   "metadata": {
    "slideshow": {
     "slide_type": "slide"
    }
   },
   "source": [
    "# Problémamegoldás II. (Problem solving - part 2)"
   ]
  },
  {
   "cell_type": "markdown",
   "id": "05998c79",
   "metadata": {
    "slideshow": {
     "slide_type": "subslide"
    }
   },
   "source": [
    "Most folytatjuk az algoritmikus problémák felfedezését, ezúttal gráfelmélet területén.\n",
    "\n",
    "Gráfokat a (V, E) párral definiáljuk, ahol $V$ a csúcsok halmaza, $E$ pedig az csúcspontok között haladó élek listája. Ezeket az információkat különböző módon lehet tárolni:\n",
    "\n",
    "* éllista\n",
    "* szomszédsági mátrix\n",
    "* szomszédsági lista"
   ]
  },
  {
   "cell_type": "markdown",
   "id": "468d7062",
   "metadata": {
    "slideshow": {
     "slide_type": "subslide"
    }
   },
   "source": [
    "Éllista esetén az első sorban az $n,e$ számok a csúcsok, illetve élek számát jelenti, a további $e$ sorban pedig az élek következnek: az $a,b$ jelölés azt jelenti, hogy van egy él $a$-ból $b$-be, az $a,b,w$ pedig egy $w$ súlyt is tesz a megadott élre. Először irányítatlan gráfokban az élsúlyozatlan esettel foglakozunk.\n",
    "\n",
    "\n",
    "<table>\n",
    "<tr>\n",
    "<td>\n",
    "\n",
    "```\n",
    "6 7\n",
    "1 2\n",
    "2 3\n",
    "6 3\n",
    "5 6\n",
    "2 5\n",
    "2 4\n",
    "4 1\n",
    "```\n",
    " \n",
    "</td>\n",
    "<td style=\"padding:100px\">\n",
    "    \n",
    "<img src=\"img/simple_graph.png\" width=\"400\" height=\"400\"> \n",
    "    \n",
    "</td>\n",
    "</tr>\n",
    "</table>"
   ]
  },
  {
   "cell_type": "markdown",
   "id": "963b6e2a",
   "metadata": {
    "slideshow": {
     "slide_type": "subslide"
    }
   },
   "source": [
    "Szomszédségi mátrix esetén egy olyan $A\\in\\mathbb{R}^{n\\times n}$ mátrixunk van, amire $a_{ij}=1$ (esetleg $k$-szoros él esetén $k$), ha van él az $i$ és $j$ csúcsok között, egyébként a mátrix többi eleme 0.\n",
    "\n",
    "Végül a szomszédsági lista olyan tárolásmód, amikor minden csúcshoz eltároljuk a szomszédainak listáját, pl.\n",
    "\n",
    "```\n",
    "v: [u_1, u_2,...,u_l],\n",
    "```\n",
    "a $v$ csomópont szomszédainak listája, mindezt minden $v\\in V$ csúcsra eltárolva."
   ]
  },
  {
   "cell_type": "markdown",
   "id": "dd724034",
   "metadata": {
    "slideshow": {
     "slide_type": "slide"
    }
   },
   "source": [
    "## Legrövidebb út keresése gráfokban (Shortest path in a graph)"
   ]
  },
  {
   "cell_type": "markdown",
   "id": "900d3741",
   "metadata": {
    "slideshow": {
     "slide_type": "subslide"
    }
   },
   "source": [
    "Tegyünk fel, hogy adott egy irányítatlan, egyszerű gráf, valamint ennek egy rögzített $u$ csúcsa. Arra vagyunk kíváncsiak, hogy $u$-ból mi a legrövidebb út bármely más csúcsba, ahol az út hosszán egyszerűen az odavezető utat alkotó élek számát értjük.\n",
    "\n",
    "A kétféle tanult gráfbejárás közül a szélességi keresés (BFS, Breadth-first search) segít most nekünk."
   ]
  },
  {
   "cell_type": "markdown",
   "id": "59d30153",
   "metadata": {
    "slideshow": {
     "slide_type": "subslide"
    }
   },
   "source": [
    "Adott $v$ csúcs és minden más csúcs között mi a legrövidebb út hossza?\n",
    "\n",
    "* induljunk ki a $v$ pontból\n",
    "* látogassuk meg $v$ összes szomszédját (ezek vannak 1 távolságra $v$-től)\n",
    "* látogassuk meg ezek olyan szomszédait, melyeket még nem látogattunk meg korábban (ezek vannak 2 távolságra $v$-től)\n",
    "* a fenti eljárást folytassuk addig, amíg találunk olyan csúcsot, melyet nem jártunk még be korábban\n",
    "* ezzel minden, $v$-ből elérhető pont távolságát megkaptuk\n",
    "* azon pontok, melyeket egyszer sem látogattunk meg, $v$-ből nem érhetők el úton (tehát a gráfnak több komponense is van)"
   ]
  },
  {
   "cell_type": "markdown",
   "id": "98a8ec37",
   "metadata": {
    "slideshow": {
     "slide_type": "subslide"
    }
   },
   "source": [
    "Tegyük fel az egyszerűség kedvéért, hogy a gráf csúcsai az $1, 2,\\ldots,n$ számokkal van jelölve."
   ]
  },
  {
   "cell_type": "code",
   "execution_count": null,
   "id": "910e0114",
   "metadata": {
    "slideshow": {
     "slide_type": "fragment"
    }
   },
   "outputs": [],
   "source": [
    "class Graph:\n",
    "    def __init__(self, edges):\n",
    "        self._adjacency_list = create_adjacency_list_from_edges(edges)\n",
    "        \n",
    "\n",
    "def create_adjacency_list_from_edges(edges):\n",
    "    pass"
   ]
  },
  {
   "cell_type": "code",
   "execution_count": null,
   "id": "fd0d72d6",
   "metadata": {
    "slideshow": {
     "slide_type": "subslide"
    }
   },
   "outputs": [],
   "source": [
    "from collections import defaultdict\n",
    "\n",
    "\n",
    "class Graph:\n",
    "    def __init__(self, edges):\n",
    "        self._adjacency_list = create_adjacency_list_from_edges(edges)\n",
    "        \n",
    "\n",
    "def create_adjacency_list_from_edges(edges):\n",
    "    pass"
   ]
  },
  {
   "cell_type": "code",
   "execution_count": null,
   "id": "8fefc86d",
   "metadata": {
    "slideshow": {
     "slide_type": "subslide"
    }
   },
   "outputs": [],
   "source": [
    "class Graph:\n",
    "    def __init__(self, edges):\n",
    "        self._adjacency_list = create_adjacency_list_from_edges(edges)\n",
    "\n",
    "\n",
    "def create_adjacency_list_from_edges(edges):\n",
    "    adjacency_lists = defaultdict(list)\n",
    "    for a, b in edges:\n",
    "        pass\n",
    "    \n",
    "    return dict(adjacency_lists)"
   ]
  },
  {
   "cell_type": "code",
   "execution_count": null,
   "id": "1f6541dd",
   "metadata": {
    "slideshow": {
     "slide_type": "subslide"
    }
   },
   "outputs": [],
   "source": [
    "class Graph:\n",
    "    def __init__(self, edges):\n",
    "        self._adjacency_list = create_adjacency_list_from_edges(edges)\n",
    "\n",
    "\n",
    "def create_adjacency_list_from_edges(edges):\n",
    "    adjacency_lists = defaultdict(list)\n",
    "    for a, b in edges:\n",
    "        adjacency_lists[a].append(b)\n",
    "        adjacency_lists[b].append(a)\n",
    "    return dict(adjacency_lists)"
   ]
  },
  {
   "cell_type": "code",
   "execution_count": null,
   "id": "b70f82a8",
   "metadata": {
    "slideshow": {
     "slide_type": "fragment"
    }
   },
   "outputs": [],
   "source": [
    "nr_nodes = 6\n",
    "edges = [(1, 2), (2, 3), (6, 3), (5, 6), (2, 5), (2, 4), (4, 1)]\n",
    "\n",
    "create_adjacency_list_from_edges(edges)"
   ]
  },
  {
   "cell_type": "code",
   "execution_count": null,
   "id": "bb36ff7a",
   "metadata": {
    "slideshow": {
     "slide_type": "subslide"
    }
   },
   "outputs": [],
   "source": [
    "class Graph:\n",
    "    def __init__(self, edges):\n",
    "        self._adjacency_list = create_adjacency_list_from_edges(edges)\n",
    "        \n",
    "    def neighbors(self, node):\n",
    "        pass"
   ]
  },
  {
   "cell_type": "code",
   "execution_count": null,
   "id": "fbaed50f",
   "metadata": {
    "slideshow": {
     "slide_type": "subslide"
    }
   },
   "outputs": [],
   "source": [
    "class Graph:\n",
    "    def __init__(self, edges):\n",
    "        self._adjacency_list = create_adjacency_list_from_edges(edges)\n",
    "        \n",
    "    def neighbors(self, node):\n",
    "        return self._adjacency_list[node]   # Ez jo lesz igy?"
   ]
  },
  {
   "cell_type": "code",
   "execution_count": null,
   "id": "dcddd99a",
   "metadata": {
    "slideshow": {
     "slide_type": "subslide"
    }
   },
   "outputs": [],
   "source": [
    "class Graph:\n",
    "    def __init__(self, edges):\n",
    "        self._adjacency_list = create_adjacency_list_from_edges(edges)\n",
    "        \n",
    "    def neighbors(self, node):\n",
    "        return self._adjacency_list.get(node, [])"
   ]
  },
  {
   "cell_type": "code",
   "execution_count": null,
   "id": "dff53c6c",
   "metadata": {
    "slideshow": {
     "slide_type": "subslide"
    }
   },
   "outputs": [],
   "source": [
    "import math\n",
    "\n",
    "\n",
    "class Graph:\n",
    "    def __init__(self, nr_nodes, edges):\n",
    "        self._nr_nodes = nr_nodes\n",
    "        self._adjacency_list = create_adjacency_list_from_edges(edges)\n",
    "        \n",
    "    @property    \n",
    "    def nr_nodes(self):\n",
    "        return self._nr_nodes\n",
    "        \n",
    "    def neighbors(self, node):\n",
    "        return self._adjacency_list.get(node, [])\n",
    "\n",
    "\n",
    "def calc_shortest_distances(graph, start_node):\n",
    "    distances = [math.inf] * graph.nr_nodes\n",
    "    distances[start_node-1] = 0.0\n",
    "    pass"
   ]
  },
  {
   "cell_type": "code",
   "execution_count": null,
   "id": "73a45ef6",
   "metadata": {
    "slideshow": {
     "slide_type": "subslide"
    }
   },
   "outputs": [],
   "source": [
    "def calc_shortest_distances(graph, start_node):\n",
    "    distances = [math.inf] * graph.nr_nodes\n",
    "    distances[start_node-1] = 0.0\n",
    "    queue = [start_node]\n",
    "    while queue:\n",
    "        # u = a sorban kovetkezo csucs\n",
    "        # u minden v szomszedjara, melyet meg nem latogattunk meg korabban:\n",
    "        # v-t tegyük a sor végére\n",
    "        # dist[v] = dist[u] + 1\n",
    "        pass"
   ]
  },
  {
   "cell_type": "markdown",
   "id": "e28bfe72",
   "metadata": {
    "slideshow": {
     "slide_type": "slide"
    }
   },
   "source": [
    "Milyen adatszerkezet lenne jó, amiből sorra ki tudjuk venni a csúcsokat, majd ezek meg nem látogatott szomszédait be tudjuk tenni?\n",
    "\n",
    "* Jó egy egy Python lista erre a célra?\n",
    "* Ha $v$ az $u$ egy korábban nem látogatott szomszédja, akkor tegyük a lista végére $v$-t\n",
    "* Melyik legyen az a csúcs, amit legközelebb kiveszünk ebből az adatszerkezetből? A $v$? (azaz amit legutóbb raktunk be?)\n",
    "* Vagy inkább az, amit a legrégebben állítottunk be a sorba?"
   ]
  },
  {
   "cell_type": "markdown",
   "id": "da991f45",
   "metadata": {
    "slideshow": {
     "slide_type": "subslide"
    }
   },
   "source": [
    "Korábban láttuk a verem adatszerkezetet (Stack, LIFO). \n",
    "\n",
    "Nekünk most valami más kell. Olyat szeretnénk, ahol a végébe gyorsan lehet új elemet tenni, de kivenni a másik végéből lehet gyorsan."
   ]
  },
  {
   "cell_type": "markdown",
   "id": "a32391a8",
   "metadata": {
    "slideshow": {
     "slide_type": "fragment"
    }
   },
   "source": [
    "Ennek az adatszerkezetnek a neve Sor (Queue), FIFO - First in, first out. Egy pénztár előtt kígyózó sor végére kerül az új vásárló, de nem ő lesz először kiszolgálva, hanem a sor elején álló személy.\n",
    "\n",
    "![](img/queue.png)"
   ]
  },
  {
   "cell_type": "markdown",
   "id": "4e3648f9",
   "metadata": {
    "slideshow": {
     "slide_type": "subslide"
    }
   },
   "source": [
    "Pythonban van ún. double-ended queue implementálva, ami azt jelenti, hogy támogatja a sor mindkét végére történő gyors beszúrást, illetve bármelyik végéről a gyors törlést. \n",
    "\n",
    "Emlékeztetek arra, hogy a Python `list` adatszerkezetbe gyorsan lehet a végére elemet tenni, de a másik végére (azaz az elejére) beszúrni vagy törölni elemet lassú művelet."
   ]
  },
  {
   "cell_type": "code",
   "execution_count": null,
   "id": "b08c5d98",
   "metadata": {
    "slideshow": {
     "slide_type": "subslide"
    }
   },
   "outputs": [],
   "source": [
    "from collections import deque"
   ]
  },
  {
   "cell_type": "code",
   "execution_count": null,
   "id": "16331066",
   "metadata": {
    "slideshow": {
     "slide_type": "subslide"
    }
   },
   "outputs": [],
   "source": [
    "def calc_shortest_distances(graph, start_node):\n",
    "    distances = [math.inf] * graph.nr_nodes\n",
    "    distances[start_node-1] = 0.0\n",
    "    queue = deque([start_node])\n",
    "    while queue:\n",
    "        # u = a sorban kovetkezo csucs\n",
    "        # u minden v szomszedjara, melyet meg nem latogattunk meg korabban:\n",
    "        # v-t allitsuk sorba\n",
    "        # dist[v] = dist[u] + 1\n",
    "        pass"
   ]
  },
  {
   "cell_type": "code",
   "execution_count": null,
   "id": "d74a263f",
   "metadata": {
    "slideshow": {
     "slide_type": "subslide"
    }
   },
   "outputs": [],
   "source": [
    "def calc_shortest_distances(graph, start_node):\n",
    "    distances = [math.inf] * graph.nr_nodes\n",
    "    distances[start_node-1] = 0.0\n",
    "    queue = deque([start_node])\n",
    "    while queue:\n",
    "        u = queue.popleft()\n",
    "        for neighbor in graph.neighbors(u):\n",
    "            # mit csinaljunk az u csucs szomszedaival?\n",
    "            pass"
   ]
  },
  {
   "cell_type": "code",
   "execution_count": null,
   "id": "83fd9434",
   "metadata": {
    "slideshow": {
     "slide_type": "subslide"
    }
   },
   "outputs": [],
   "source": [
    "def calc_shortest_distances(graph, start_node):\n",
    "    distances = [math.inf] * graph.nr_nodes\n",
    "    distances[start_node-1] = 0.0\n",
    "    queue = deque([start_node])\n",
    "    while queue:\n",
    "        u = queue.popleft()\n",
    "        for neighbor in graph.neighbors(u):\n",
    "            if math.isinf(distances[neighbor-1]):\n",
    "                # Ha egy szomszedot meg nem latogattunk meg (azaz u-tol meg mindig vegtelen tavolsagra van):\n",
    "                pass"
   ]
  },
  {
   "cell_type": "code",
   "execution_count": null,
   "id": "3ce2c9a7",
   "metadata": {
    "slideshow": {
     "slide_type": "subslide"
    }
   },
   "outputs": [],
   "source": [
    "def calc_shortest_distances(graph, start_node):\n",
    "    distances = [math.inf] * graph.nr_nodes\n",
    "    distances[start_node-1] = 0.0\n",
    "    queue = deque([start_node])\n",
    "    while queue:\n",
    "        u = queue.popleft()\n",
    "        for neighbor in graph.neighbors(u):\n",
    "            if math.isinf(distances[neighbor-1]):\n",
    "                queue.append(neighbor)\n",
    "                distances[neighbor-1] = distances[u-1] + 1\n",
    "    \n",
    "    return tuple(distances)"
   ]
  },
  {
   "cell_type": "code",
   "execution_count": null,
   "id": "19d7d923",
   "metadata": {
    "slideshow": {
     "slide_type": "subslide"
    }
   },
   "outputs": [],
   "source": [
    "graph = Graph(nr_nodes, edges)"
   ]
  },
  {
   "cell_type": "code",
   "execution_count": null,
   "id": "b2ae681e",
   "metadata": {
    "slideshow": {
     "slide_type": "fragment"
    }
   },
   "outputs": [],
   "source": [
    "graph.neighbors(1)"
   ]
  },
  {
   "cell_type": "code",
   "execution_count": null,
   "id": "a44fdd56",
   "metadata": {
    "slideshow": {
     "slide_type": "fragment"
    }
   },
   "outputs": [],
   "source": [
    "calc_shortest_distances(graph, 1)"
   ]
  },
  {
   "cell_type": "markdown",
   "id": "becf327b",
   "metadata": {
    "slideshow": {
     "slide_type": "subslide"
    }
   },
   "source": [
    "A legrövidebb út hossza már megvan, de hogyan jutunk hozzá magához az úthoz?"
   ]
  },
  {
   "cell_type": "code",
   "execution_count": null,
   "id": "0bbec079",
   "metadata": {
    "slideshow": {
     "slide_type": "subslide"
    }
   },
   "outputs": [],
   "source": [
    "def calc_shortest_distances(graph, start_node):\n",
    "    distances = [math.inf] * graph.nr_nodes\n",
    "    distances[start_node-1] = 0.0\n",
    "    previous_node = [None] * graph.nr_nodes\n",
    "    queue = deque([start_node])\n",
    "    while queue:\n",
    "        u = queue.popleft()\n",
    "        for neighbor in graph.neighbors(u):\n",
    "            if math.isinf(distances[neighbor-1]):\n",
    "                queue.append(neighbor)\n",
    "                distances[neighbor-1] = distances[u-1] + 1\n",
    "                previous_node[neighbor-1] = u\n",
    "    \n",
    "    return tuple(distances), previous_node"
   ]
  },
  {
   "cell_type": "code",
   "execution_count": null,
   "id": "19e5c1f6",
   "metadata": {
    "slideshow": {
     "slide_type": "subslide"
    }
   },
   "outputs": [],
   "source": [
    "def reconstruct_path(graph, start_node, end_node, previous_node):\n",
    "    path = []\n",
    "    pass"
   ]
  },
  {
   "cell_type": "code",
   "execution_count": null,
   "id": "eb48563e",
   "metadata": {
    "slideshow": {
     "slide_type": "fragment"
    }
   },
   "outputs": [],
   "source": [
    "def reconstruct_path(graph, start_node, end_node, previous_node):\n",
    "    path = []\n",
    "    node = end_node\n",
    "    while node is not None:\n",
    "        pass"
   ]
  },
  {
   "cell_type": "code",
   "execution_count": null,
   "id": "07ee6633",
   "metadata": {
    "slideshow": {
     "slide_type": "fragment"
    }
   },
   "outputs": [],
   "source": [
    "def reconstruct_path(graph, start_node, end_node, previous_node):\n",
    "    path = []\n",
    "    node = end_node\n",
    "    while node is not None:\n",
    "        path.append(node)\n",
    "        node = previous_node[node-1]\n",
    "    pass    "
   ]
  },
  {
   "cell_type": "code",
   "execution_count": null,
   "id": "b829b83b",
   "metadata": {
    "slideshow": {
     "slide_type": "subslide"
    }
   },
   "outputs": [],
   "source": [
    "def reconstruct_path(graph, start_node, end_node, previous_node):\n",
    "    path = []\n",
    "    node = end_node\n",
    "    while node is not None:\n",
    "        path.append(node)\n",
    "        node = previous_node[node-1]\n",
    "    return path[::-1]"
   ]
  },
  {
   "cell_type": "code",
   "execution_count": null,
   "id": "8fc0e220",
   "metadata": {
    "slideshow": {
     "slide_type": "fragment"
    }
   },
   "outputs": [],
   "source": [
    "distances, previous_nodes = calc_shortest_distances(graph, 1)"
   ]
  },
  {
   "cell_type": "code",
   "execution_count": null,
   "id": "d9d09606",
   "metadata": {
    "slideshow": {
     "slide_type": "fragment"
    }
   },
   "outputs": [],
   "source": [
    "reconstruct_path(graph, 1, 6, previous_nodes)"
   ]
  },
  {
   "cell_type": "markdown",
   "id": "c8455bf2",
   "metadata": {
    "slideshow": {
     "slide_type": "slide"
    }
   },
   "source": [
    "**Feladat**: repülőgéppel hány átszállással lehet eljutni Debrecenből Katmanduba menetrend szerinti járatokkal?\n",
    "\n",
    "Igazából sokkal több kérdést is meg tudunk majd válaszolni:\n",
    "\n",
    "* Van-e olyan repülőtér, ahova nem tudunk Debrecenből eljutni menetrendszerinti járattal, tetszőleges számú átszállással sem?\n",
    "* Honnan lehet Katmanduba eljutni kevesebb átszállással, Debrecenből, vagy Honoluluból?\n",
    "* Melyek azok a városok, ahova a legtöbb átszállással lehet eljutni Debrecenből?"
   ]
  },
  {
   "cell_type": "code",
   "execution_count": null,
   "id": "5262736a",
   "metadata": {
    "slideshow": {
     "slide_type": "subslide"
    }
   },
   "outputs": [],
   "source": [
    "path_to_data = \"data/flight_routes.txt\""
   ]
  },
  {
   "cell_type": "code",
   "execution_count": null,
   "id": "fda9533d",
   "metadata": {
    "slideshow": {
     "slide_type": "subslide"
    }
   },
   "outputs": [],
   "source": [
    "!head -n 10 $path_to_data"
   ]
  },
  {
   "cell_type": "code",
   "execution_count": null,
   "id": "c47de17d",
   "metadata": {
    "slideshow": {
     "slide_type": "subslide"
    }
   },
   "outputs": [],
   "source": [
    "!grep \"Debrecen|Hungary\" $path_to_data | head -n 5"
   ]
  },
  {
   "cell_type": "code",
   "execution_count": null,
   "id": "3ed38538",
   "metadata": {
    "slideshow": {
     "slide_type": "subslide"
    }
   },
   "outputs": [],
   "source": [
    "def read_flight_routes(path):\n",
    "    edges = []\n",
    "    with open(path, \"r\") as f:\n",
    "        lines = f.read().splitlines()\n",
    "        nr_nodes, _ = map(int, lines[0].split(\"\\t\"))\n",
    "        for line in lines[1:]:\n",
    "            a, b, _ = line.split(\"\\t\")\n",
    "            edges.append((a, b))\n",
    "                \n",
    "    return nr_nodes, edges"
   ]
  },
  {
   "cell_type": "code",
   "execution_count": null,
   "id": "b8b14600",
   "metadata": {
    "slideshow": {
     "slide_type": "subslide"
    }
   },
   "outputs": [],
   "source": [
    "nr_nodes, edges = read_flight_routes(path_to_data)"
   ]
  },
  {
   "cell_type": "code",
   "execution_count": null,
   "id": "c07abe58",
   "metadata": {
    "slideshow": {
     "slide_type": "subslide"
    }
   },
   "outputs": [],
   "source": [
    "edges[:10]"
   ]
  },
  {
   "cell_type": "code",
   "execution_count": null,
   "id": "775a1ab0",
   "metadata": {
    "slideshow": {
     "slide_type": "subslide"
    }
   },
   "outputs": [],
   "source": [
    "class CityConverter:\n",
    "    def __init__(self):\n",
    "        self._city_to_number = {}\n",
    "        self._number_to_city = {}\n",
    "        \n",
    "    def encode(self, city):\n",
    "        pass\n",
    "    \n",
    "    def decode(self, number):\n",
    "        pass"
   ]
  },
  {
   "cell_type": "code",
   "execution_count": null,
   "id": "df8928ca",
   "metadata": {
    "slideshow": {
     "slide_type": "subslide"
    }
   },
   "outputs": [],
   "source": [
    "import itertools as it\n",
    "\n",
    "\n",
    "class CityConverter:\n",
    "    def __init__(self):\n",
    "        self._id_generator = it.count(1)\n",
    "        self._city_to_number = {}\n",
    "        self._number_to_city = {}  \n",
    "        \n",
    "    def encode(self, city):\n",
    "        if (number := self._city_to_number.get(city)) is None:\n",
    "            number = next(self._id_generator)\n",
    "            self._city_to_number[city] = number\n",
    "            self._number_to_city[number] = city\n",
    "        return number \n",
    "\n",
    "    def decode(self, number):\n",
    "        return self._number_to_city.get(number)"
   ]
  },
  {
   "cell_type": "code",
   "execution_count": null,
   "id": "1ced36c6",
   "metadata": {
    "slideshow": {
     "slide_type": "subslide"
    }
   },
   "outputs": [],
   "source": [
    "converter = CityConverter()\n",
    "\n",
    "encoded_edges = [(converter.encode(a), converter.encode(b)) for a, b in edges]"
   ]
  },
  {
   "cell_type": "code",
   "execution_count": null,
   "id": "5219befe",
   "metadata": {
    "slideshow": {
     "slide_type": "subslide"
    }
   },
   "outputs": [],
   "source": [
    "print(encoded_edges[:3])\n",
    "print(edges[:3])\n",
    "\n",
    "print()\n",
    "print(converter.decode(1))\n",
    "print(converter.decode(2))\n",
    "print(converter.decode(3))"
   ]
  },
  {
   "cell_type": "code",
   "execution_count": null,
   "id": "9727f3ad",
   "metadata": {
    "slideshow": {
     "slide_type": "subslide"
    }
   },
   "outputs": [],
   "source": [
    "graph = Graph(nr_nodes, encoded_edges)\n",
    "\n",
    "source = converter.encode(\"Debrecen|Hungary\")\n",
    "destination = converter.encode(\"Kathmandu|Nepal\")"
   ]
  },
  {
   "cell_type": "code",
   "execution_count": null,
   "id": "e51bc5cc",
   "metadata": {
    "slideshow": {
     "slide_type": "subslide"
    }
   },
   "outputs": [],
   "source": [
    "distances, previous_nodes = calc_shortest_distances(graph, source)\n",
    "\n",
    "path = reconstruct_path(graph, source, destination, previous_nodes)"
   ]
  },
  {
   "cell_type": "code",
   "execution_count": null,
   "id": "5e74bb59",
   "metadata": {
    "slideshow": {
     "slide_type": "fragment"
    }
   },
   "outputs": [],
   "source": [
    "list(map(converter.decode, path))"
   ]
  },
  {
   "cell_type": "code",
   "execution_count": null,
   "id": "2dce5987",
   "metadata": {
    "slideshow": {
     "slide_type": "subslide"
    }
   },
   "outputs": [],
   "source": [
    "# Azon varosok, melyek nem erhetok el a kiindulasi pontbol\n",
    "for ix, dist in enumerate(distances, start=1):\n",
    "    if math.isinf(dist):\n",
    "        print(converter.decode(ix))"
   ]
  },
  {
   "cell_type": "markdown",
   "id": "08ac42bf",
   "metadata": {
    "slideshow": {
     "slide_type": "fragment"
    }
   },
   "source": [
    "**HF**: Melyik az a város, ahova a legtöbb átszállás szükséges, ha el akarok oda jutni Debrecenből? Hogyan lehet oda eljutni?"
   ]
  },
  {
   "cell_type": "code",
   "execution_count": null,
   "id": "00353641",
   "metadata": {
    "slideshow": {
     "slide_type": "slide"
    }
   },
   "outputs": [],
   "source": [
    "source = converter.encode(\"Honolulu|United States\")\n",
    "destination = converter.encode(\"Kathmandu|Nepal\")\n",
    "\n",
    "distances, previous_nodes = calc_shortest_distances(graph, source)\n",
    "path = reconstruct_path(graph, source, destination, previous_nodes)"
   ]
  },
  {
   "cell_type": "code",
   "execution_count": null,
   "id": "2ae99bd8",
   "metadata": {
    "slideshow": {
     "slide_type": "subslide"
    }
   },
   "outputs": [],
   "source": [
    "list(map(converter.decode, path))"
   ]
  }
 ],
 "metadata": {
  "celltoolbar": "Slideshow",
  "kernelspec": {
   "display_name": "Python 3 (ipykernel)",
   "language": "python",
   "name": "python3"
  },
  "language_info": {
   "codemirror_mode": {
    "name": "ipython",
    "version": 3
   },
   "file_extension": ".py",
   "mimetype": "text/x-python",
   "name": "python",
   "nbconvert_exporter": "python",
   "pygments_lexer": "ipython3",
   "version": "3.9.12"
  }
 },
 "nbformat": 4,
 "nbformat_minor": 5
}
