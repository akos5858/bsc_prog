{
 "cells": [
  {
   "cell_type": "markdown",
   "id": "c6b265a9",
   "metadata": {
    "slideshow": {
     "slide_type": "slide"
    }
   },
   "source": [
    "# Algoritmus tervezési  módszerek, programozási paradigmák I.\n",
    "\n",
    "## (Algorithmic design techniques, programming paradigms - part I.)"
   ]
  },
  {
   "cell_type": "markdown",
   "id": "7fcbe815",
   "metadata": {
    "slideshow": {
     "slide_type": "slide"
    }
   },
   "source": [
    "## Fájlműveletek, fájlbeolvasás (File handling)"
   ]
  },
  {
   "cell_type": "code",
   "execution_count": 2,
   "id": "193dbb87",
   "metadata": {
    "slideshow": {
     "slide_type": "subslide"
    }
   },
   "outputs": [
    {
     "name": "stderr",
     "output_type": "stream",
     "text": [
      "'head' is not recognized as an internal or external command,\n",
      "operable program or batch file.\n"
     ]
    }
   ],
   "source": [
    "filepath = \"./data/P0022_names.txt\"\n",
    "\n",
    "# A felkiáltójellel Jupyterben az operációs rendszer parancsait tudjuk meghívni, \n",
    "# pl. Linux alatt a `head` parancsot\",\n",
    "\n",
    "!head -n 5 $filepath"
   ]
  },
  {
   "cell_type": "code",
   "execution_count": 3,
   "id": "f5fda7b5",
   "metadata": {
    "slideshow": {
     "slide_type": "subslide"
    }
   },
   "outputs": [
    {
     "ename": "FileNotFoundError",
     "evalue": "[Errno 2] No such file or directory: './data/P0022_names.txt'",
     "output_type": "error",
     "traceback": [
      "\u001b[1;31m---------------------------------------------------------------------------\u001b[0m",
      "\u001b[1;31mFileNotFoundError\u001b[0m                         Traceback (most recent call last)",
      "Input \u001b[1;32mIn [3]\u001b[0m, in \u001b[0;36m<cell line: 3>\u001b[1;34m()\u001b[0m\n\u001b[0;32m      1\u001b[0m names \u001b[38;5;241m=\u001b[39m []\n\u001b[1;32m----> 3\u001b[0m f \u001b[38;5;241m=\u001b[39m \u001b[38;5;28;43mopen\u001b[39;49m\u001b[43m(\u001b[49m\u001b[43mfilepath\u001b[49m\u001b[43m,\u001b[49m\u001b[43m \u001b[49m\u001b[38;5;124;43m\"\u001b[39;49m\u001b[38;5;124;43mr\u001b[39;49m\u001b[38;5;124;43m\"\u001b[39;49m\u001b[43m)\u001b[49m\n\u001b[0;32m      4\u001b[0m \u001b[38;5;28;01mfor\u001b[39;00m line \u001b[38;5;129;01min\u001b[39;00m f:\n\u001b[0;32m      5\u001b[0m     names\u001b[38;5;241m.\u001b[39mappend(line)\n",
      "\u001b[1;31mFileNotFoundError\u001b[0m: [Errno 2] No such file or directory: './data/P0022_names.txt'"
     ]
    }
   ],
   "source": [
    "names = []\n",
    "\n",
    "f = open(filepath, \"r\")\n",
    "for line in f:\n",
    "    names.append(line)\n",
    "\n",
    "f.close()"
   ]
  },
  {
   "cell_type": "code",
   "execution_count": null,
   "id": "6cb40a33",
   "metadata": {
    "slideshow": {
     "slide_type": "fragment"
    }
   },
   "outputs": [],
   "source": [
    "names[:5]"
   ]
  },
  {
   "cell_type": "code",
   "execution_count": null,
   "id": "a6430f60",
   "metadata": {
    "slideshow": {
     "slide_type": "subslide"
    }
   },
   "outputs": [],
   "source": [
    "names = []\n",
    "\n",
    "f = open(filepath, \"r\")\n",
    "for line in f:\n",
    "    names.append(line.rstrip())\n",
    "\n",
    "f.close()"
   ]
  },
  {
   "cell_type": "code",
   "execution_count": null,
   "id": "94824295",
   "metadata": {
    "slideshow": {
     "slide_type": "fragment"
    }
   },
   "outputs": [],
   "source": [
    "names[:5]"
   ]
  },
  {
   "cell_type": "code",
   "execution_count": null,
   "id": "3c62f2bb",
   "metadata": {
    "slideshow": {
     "slide_type": "subslide"
    }
   },
   "outputs": [],
   "source": [
    "f = open(filepath, \"r\")\n",
    "names = f.read().splitlines()\n",
    "\n",
    "f.close()"
   ]
  },
  {
   "cell_type": "code",
   "execution_count": null,
   "id": "9508d611",
   "metadata": {
    "slideshow": {
     "slide_type": "fragment"
    }
   },
   "outputs": [],
   "source": [
    "names[:5]"
   ]
  },
  {
   "cell_type": "code",
   "execution_count": null,
   "id": "12d73b4d",
   "metadata": {
    "slideshow": {
     "slide_type": "subslide"
    }
   },
   "outputs": [],
   "source": [
    "with open(filepath, \"r\") as f:\n",
    "    names = f.read().splitlines()"
   ]
  },
  {
   "cell_type": "code",
   "execution_count": null,
   "id": "a4913598",
   "metadata": {
    "slideshow": {
     "slide_type": "fragment"
    }
   },
   "outputs": [],
   "source": [
    "names[:5]"
   ]
  },
  {
   "cell_type": "markdown",
   "id": "6a1d0692",
   "metadata": {
    "slideshow": {
     "slide_type": "slide"
    }
   },
   "source": [
    "A Fibonacci-sorozattal már találkoztunk korábban, most újra megnézzük, hogy hogyan lehet kiszámolni a sorozat $n$-edik tagját.\n",
    "\n",
    "$$\n",
    "f_n = \\left\\{\\begin{array}{ll} 1 & n = 0 \\text{ vagy } n = 1 \\\\ f_{n-1} + f_{n-2} & n\\geq 2 \\end{array}\\right.\n",
    "$$"
   ]
  },
  {
   "cell_type": "markdown",
   "id": "2e5adff3",
   "metadata": {
    "slideshow": {
     "slide_type": "slide"
    }
   },
   "source": [
    "## Rekurzió\n",
    "\n",
    "\n",
    "Rekurzív függvény esetén mindig kell egy alapeset (base-case), ami biztosítja, hogy a rekurzív függvényhívások sorozata meg fog állni. A Python nyelv lehetővé tesz a rekurzív függvényhívást, de tény, hogy a konstrukció valamelyest idegen a nyelv filozófiájától. Vannak nyelvek, ahol a rekurzió sokkal természetesebb. Az imperatív nyelvekben inkább a direkt iteráció a természetesebb, mint a rekurzió."
   ]
  },
  {
   "cell_type": "code",
   "execution_count": 4,
   "id": "6200f3f9",
   "metadata": {
    "slideshow": {
     "slide_type": "subslide"
    }
   },
   "outputs": [
    {
     "data": {
      "text/plain": [
       "39088169"
      ]
     },
     "execution_count": 4,
     "metadata": {},
     "output_type": "execute_result"
    }
   ],
   "source": [
    "def fibonacci(n):\n",
    "    if n == 0 or n == 1:\n",
    "        return 1\n",
    "    \n",
    "    return fibonacci(n - 1) + fibonacci(n - 2)\n",
    "\n",
    "\n",
    "fibonacci(37)"
   ]
  },
  {
   "cell_type": "markdown",
   "id": "5fe3e4df",
   "metadata": {
    "slideshow": {
     "slide_type": "subslide"
    }
   },
   "source": [
    "Ugyanazt a függvényértéket sokszor újra és újra kiszámoljuk\n",
    "\n",
    "```\n",
    "f(5) = f(4) + f(3)\n",
    "     = (f(3) + f(2)) + (f(2) + f(1))\n",
    "     = [(f(2) + f(1)) + (f(1) + f(0))] + [(f(1) + f(0)) + 1]\n",
    "     = [(f(1) + f(0) + 1 + (1 + 1)] + [1 + 1 + 1])\n",
    "     = [1 + 1 + 3] + 3\n",
    "     = 8\n",
    "```"
   ]
  },
  {
   "cell_type": "code",
   "execution_count": 5,
   "id": "3e707c29",
   "metadata": {
    "slideshow": {
     "slide_type": "subslide"
    }
   },
   "outputs": [
    {
     "name": "stdout",
     "output_type": "stream",
     "text": [
      "15\n",
      "78176337\n"
     ]
    }
   ],
   "source": [
    "nr_calls = 0\n",
    "\n",
    "def fibonacci(n):\n",
    "    global nr_calls\n",
    "    nr_calls += 1\n",
    "    \n",
    "    if n == 0 or n == 1:\n",
    "        return 1\n",
    "\n",
    "    return fibonacci(n - 1) + fibonacci(n - 2)\n",
    "\n",
    "\n",
    "_ = fibonacci(5)\n",
    "print(nr_calls)\n",
    "\n",
    "nr_calls = 0\n",
    "_ = fibonacci(37)\n",
    "print(nr_calls)"
   ]
  },
  {
   "cell_type": "markdown",
   "id": "b0f28352",
   "metadata": {
    "slideshow": {
     "slide_type": "slide"
    }
   },
   "source": [
    "## Tároljuk el a már kiszámolt értékeket! (Memoization)"
   ]
  },
  {
   "cell_type": "code",
   "execution_count": 3,
   "id": "d8dc1e5f",
   "metadata": {
    "slideshow": {
     "slide_type": "subslide"
    }
   },
   "outputs": [],
   "source": [
    "def fibonacci(n):\n",
    "    cache = {}\n",
    "    \n",
    "    def fib(k):\n",
    "        if k == 0 or k == 1:\n",
    "            return 1\n",
    "        \n",
    "        if k in cache:\n",
    "            return cache[k]\n",
    "        \n",
    "        result = fib(k - 1) + fib(k - 2)\n",
    "        cache[k] = result\n",
    "        return result\n",
    "\n",
    "    return fib(n)"
   ]
  },
  {
   "cell_type": "code",
   "execution_count": 7,
   "id": "2a0e4666",
   "metadata": {
    "slideshow": {
     "slide_type": "subslide"
    }
   },
   "outputs": [
    {
     "name": "stdout",
     "output_type": "stream",
     "text": [
      "8\n",
      "39088169\n"
     ]
    }
   ],
   "source": [
    "print(fibonacci(5))\n",
    "print(fibonacci(37))"
   ]
  },
  {
   "cell_type": "code",
   "execution_count": 4,
   "id": "93234417",
   "metadata": {
    "slideshow": {
     "slide_type": "fragment"
    }
   },
   "outputs": [
    {
     "data": {
      "text/plain": [
       "70330367711422815821835254877183549770181269836358732742604905087154537118196933579742249494562611733487750449241765991088186363265450223647106012053374121273867339111198139373125598767690091902245245323403501"
      ]
     },
     "execution_count": 4,
     "metadata": {},
     "output_type": "execute_result"
    }
   ],
   "source": [
    "fibonacci(1000)"
   ]
  },
  {
   "cell_type": "code",
   "execution_count": null,
   "id": "c1669bff",
   "metadata": {
    "slideshow": {
     "slide_type": "slide"
    }
   },
   "outputs": [
    {
     "ename": "",
     "evalue": "",
     "output_type": "error",
     "traceback": [
      "\u001b[1;31mThe Kernel crashed while executing code in the current cell or a previous cell. \n",
      "\u001b[1;31mPlease review the code in the cell(s) to identify a possible cause of the failure. \n",
      "\u001b[1;31mClick <a href='https://aka.ms/vscodeJupyterKernelCrash'>here</a> for more info. \n",
      "\u001b[1;31mView Jupyter <a href='command:jupyter.viewOutput'>log</a> for further details."
     ]
    }
   ],
   "source": [
    "fibonacci(10000)"
   ]
  },
  {
   "cell_type": "markdown",
   "id": "c64cf858",
   "metadata": {
    "slideshow": {
     "slide_type": "slide"
    }
   },
   "source": [
    "Most minden már korábban kiszámolt értéket eltárolunk, de ettől még továbbra is rekurzió amit csinálunk, annak minden hátrányával együtt. Adott $n$-re $f(n)$ értékét úgy számoljuk ki, hogy $n$ értékét csökkentve egyre kisebb értékekre próbáljuk kiszámolni $f(n)$ értékét, azaz felülről haladunk lefelé, a nagyobb $n$-ektől a kisebbek felé.\n",
    "\n",
    "Mi lenne, ha megpróbálnánk a fordított irányban (alulról felfelé haladva) számolni? Lehetséges lenne-e meghatározni $f(0), f(1), f(2), f(3), ...$ értékét ebben a sorrendben, melynek végre eljutunk a kívánt $f(n)$ értékhez?"
   ]
  },
  {
   "cell_type": "code",
   "execution_count": 1,
   "id": "913e62a4",
   "metadata": {
    "slideshow": {
     "slide_type": "subslide"
    }
   },
   "outputs": [
    {
     "name": "stdout",
     "output_type": "stream",
     "text": [
      "8\n",
      "39088169\n"
     ]
    }
   ],
   "source": [
    "def fibonacci(n):\n",
    "    numbers = [1] * (n + 1)\n",
    "    \n",
    "    for k in range(2, n+1):\n",
    "        numbers[k] = numbers[k-1] + numbers[k-2]\n",
    "        \n",
    "    return numbers[n] \n",
    "\n",
    "\n",
    "print(fibonacci(5))\n",
    "print(fibonacci(37))"
   ]
  },
  {
   "cell_type": "code",
   "execution_count": null,
   "id": "d5a715d9",
   "metadata": {
    "slideshow": {
     "slide_type": "subslide"
    }
   },
   "outputs": [],
   "source": [
    "print(fibonacci(10000))"
   ]
  },
  {
   "cell_type": "markdown",
   "id": "7f621f06",
   "metadata": {
    "slideshow": {
     "slide_type": "slide"
    }
   },
   "source": [
    "A fenti megoldásban $f(n)$-et egyszerűen ki tudtuk számolni egy táblázatban tárolt, már korábban kiszámolt $f(n-1)$ és $f(n-2)$ értékekből. A módszer szerint az eredeti feladat egy részfeladatának eredményeit táblázatban tároljuk, majd felhasználjuk azokat az eredeti feladat megoldásának előállítására. Ezt az algoritmus-sémát, feladatmegoldási-módszert **dinamikus programozás**nak hívjuk.\n",
    "\n",
    "\n",
    "Végül vegyük észre, hogy a feladat megoldásához nem szükséges eltárolni az összes Fibonacci-számot, hiszem mindig csak a legutolsó kettőre van szükség."
   ]
  },
  {
   "cell_type": "code",
   "execution_count": null,
   "id": "4138979f",
   "metadata": {
    "slideshow": {
     "slide_type": "subslide"
    }
   },
   "outputs": [],
   "source": [
    "def fibonacci(n):\n",
    "    a = 1\n",
    "    b = 1\n",
    "    for _ in range(1, n+1):\n",
    "        a, b = b, a + b\n",
    "\n",
    "    return a\n",
    "\n",
    "\n",
    "print(fibonacci(5))\n",
    "print(fibonacci(37))"
   ]
  },
  {
   "cell_type": "code",
   "execution_count": null,
   "id": "74b54406",
   "metadata": {
    "slideshow": {
     "slide_type": "subslide"
    }
   },
   "outputs": [],
   "source": [
    "fibonacci(10000)"
   ]
  },
  {
   "cell_type": "markdown",
   "id": "215b7682",
   "metadata": {
    "slideshow": {
     "slide_type": "slide"
    }
   },
   "source": [
    "Sok olyan algoritmikus feladat van, ahol különböző stratégiákkal érdemes próbálkozni. Most láttunk egy példát, hogy ugyanarra a problémára hogy néz ki több különböző megoldási stratégia.\n",
    "\n",
    "Általában az a legjobb stratégia, amelynek a futásideje gyors és a szükséges tárhely kicsi. Ezeket a fogalmakat majd algoritmuselméleti órákon teszitek rendbe hamarosan."
   ]
  },
  {
   "cell_type": "markdown",
   "id": "15e6e184",
   "metadata": {
    "slideshow": {
     "slide_type": "slide"
    }
   },
   "source": [
    "## 2-SUM"
   ]
  },
  {
   "cell_type": "markdown",
   "id": "202e71c9",
   "metadata": {
    "slideshow": {
     "slide_type": "subslide"
    }
   },
   "source": [
    "Adott egy $n\\leq 10^5$ szám és egy $n$ hosszú $a$ lista, melynek elemeire $-10^{5} \\leq a_i \\leq 10^5$ teljesül.\n",
    "\n",
    "Keressünk olyan $1\\leq p<q\\leq n$ indexpárt, hogy $a[p] = −a[q]$, ha ilyen létezik.\n",
    "\n",
    "\n",
    "Például:\n",
    "```\n",
    "5\n",
    "5 4 -5 6 8\n",
    "```"
   ]
  },
  {
   "cell_type": "markdown",
   "id": "3a843589",
   "metadata": {
    "slideshow": {
     "slide_type": "subslide"
    }
   },
   "source": [
    "Ötlet: iteráljunk végig az indexpárokon és vizsgáljuk meg minden esetben, hogy teljesíti-e a feltételeket.\n",
    "\n",
    "Ezt a megoldási módszert, amiben potenciálisan minden lehetséges jelöltet kipróbálunk, **brute force**-alapú (nyers erő) megoldásnak nevezünk. A brute force megoldás mindig működik, a kérdés inkább az, hogy vajon nem tudunk-e ennél jobbat kitalálni."
   ]
  },
  {
   "cell_type": "code",
   "execution_count": null,
   "id": "d36d48fc",
   "metadata": {
    "slideshow": {
     "slide_type": "subslide"
    }
   },
   "outputs": [],
   "source": [
    "def solve_2_sum(a):\n",
    "    for p, elem1 in enumerate(a):\n",
    "        pass"
   ]
  },
  {
   "cell_type": "code",
   "execution_count": null,
   "id": "9f7716c7",
   "metadata": {
    "slideshow": {
     "slide_type": "fragment"
    }
   },
   "outputs": [],
   "source": [
    "def solve_2_sum(a):\n",
    "    for p, elem1 in enumerate(a):\n",
    "        for q, elem2 in enumerate(a[p+1:], start=p+1):\n",
    "            pass"
   ]
  },
  {
   "cell_type": "code",
   "execution_count": null,
   "id": "c7dffbdd",
   "metadata": {
    "slideshow": {
     "slide_type": "slide"
    }
   },
   "outputs": [],
   "source": [
    "def solve_2_sum(a):\n",
    "    for p, elem1 in enumerate(a):\n",
    "        for q, elem2 in enumerate(a[p+1:], start=p+1):\n",
    "            if elem1 == -elem2:\n",
    "                return p, q\n",
    "            \n",
    "    return None\n",
    "\n",
    "\n",
    "xs = [4, 5, -3, -5, 8]\n",
    "solve_2_sum(xs)"
   ]
  },
  {
   "cell_type": "code",
   "execution_count": null,
   "id": "b62894f9",
   "metadata": {
    "slideshow": {
     "slide_type": "subslide"
    }
   },
   "outputs": [],
   "source": [
    "import random\n",
    "import time\n",
    "\n",
    "random.seed(2112)\n",
    "\n",
    "\n",
    "xs = [random.randint(-10**5, 10**5) for _ in range(50_000)]\n",
    "\n",
    "t = time.time()\n",
    "res = solve_2_sum(xs)\n",
    "print(time.time() - t)"
   ]
  },
  {
   "cell_type": "code",
   "execution_count": null,
   "id": "a43cb619",
   "metadata": {
    "slideshow": {
     "slide_type": "fragment"
    }
   },
   "outputs": [],
   "source": [
    "xs = [1] * 50_000\n",
    "\n",
    "t = time.time()\n",
    "res = solve_2_sum(xs)\n",
    "print(res)\n",
    "print(time.time() - t)"
   ]
  },
  {
   "cell_type": "markdown",
   "id": "d55d0c92",
   "metadata": {
    "slideshow": {
     "slide_type": "slide"
    }
   },
   "source": [
    "**HF**: találjunk ki egy sokkal gyorsabb megoldást erre a feladatra, ami tehát egy tetszőleges, $50000$ hosszú listára legfeljebb $0.05$ másodperc alatt lefut."
   ]
  },
  {
   "cell_type": "markdown",
   "id": "349fe536",
   "metadata": {
    "slideshow": {
     "slide_type": "slide"
    }
   },
   "source": [
    "**HF**: Az óra elején látott fájlban keresztnevek vannak. \n",
    "\n",
    "* Hány olyan lényegében különböző névpár van, hogy a pár második eleme az első névnek a megfordítottja? pl. (\"NORA\", \"ARON\"). Az (\"ARON\", \"NORA\") pár nem különbözik lényegében az előzőtől.\n",
    "* A nevek kezdőbetűit tekintve melyik az 5 leggyakoribb? W-vel vagy C-vel kezdődik több név?"
   ]
  },
  {
   "cell_type": "markdown",
   "id": "88922616",
   "metadata": {
    "slideshow": {
     "slide_type": "slide"
    }
   },
   "source": [
    "## Programozási paradigmák"
   ]
  },
  {
   "cell_type": "markdown",
   "id": "422d7b3a",
   "metadata": {
    "slideshow": {
     "slide_type": "subslide"
    }
   },
   "source": [
    "Programozási paradigma alatt programozási stílust, gondolkodási sémát értünk, amit az adott nyelv feature-készlete diktál. A leggyakoribb paradigmák az alábbi csoportokba sorolhatók, de ennél sokkal finomabb felosztás is elképzelhető:\n",
    "\n",
    "* imperatív\n",
    "    * procedurális\n",
    "    * objektum-orientált\n",
    "    \n",
    "* deklaratív\n",
    "    * funkcionális\n",
    "    * logikai\n",
    "    * reaktív"
   ]
  },
  {
   "cell_type": "markdown",
   "id": "d6d85cf4",
   "metadata": {
    "slideshow": {
     "slide_type": "subslide"
    }
   },
   "source": [
    "Az **imperatív** paradigma fő eleme az utasítás, ahol a gépet utasítjuk, hogy milyen parancsokat hajtson végre. Az ilyen nyelvek főbb jellemzői, alapvető fogalmai: változók, utasítások (statement), ciklusok.\n",
    "\n",
    "Ezzel szemben áll a **deklaratív** stílus, amikor egy adott feladat megoldásakor olyan kódot írunk, ami a megoldandó feladat egyfajta leírását tartalmazza és nem a konkrét megvalósítás részleteit. Arra fókuszálunk, hogy mit szeretnénk elérni és nem arra, hogy hogyan."
   ]
  },
  {
   "cell_type": "markdown",
   "id": "eb8dc0b4",
   "metadata": {
    "slideshow": {
     "slide_type": "subslide"
    }
   },
   "source": [
    "A modern nyelvek általában több paradigmát támogatnak, egyeseket jobban, másokat kevésbé.\n",
    "\n",
    "A jelenleg legnépszerűbb programozási nyelvek általában az imperatív (procedurális) és az objektum-orientált paradigmát követik (C++, Java, C#), azonban az utóbbi évtizedben erősödik a funkcionális paradigma is. \n",
    "\n",
    "A Python is ezeket a paradigmákat követi, ezeket engedi a felhasználóinak, de nem egyforma mértékben. A Python elsősorban egy imperatív (deklaratív) nyelv, azaz függvényekbe szervezett utasításokat használ, ugyanakkor objektum-orientált is (Pythonban minden objektum, amint ezt már említettük). Emellett, a nyelvtől némileg idegen módon támogat bizonyos elemeket a funkcionális paradigmából is.\n",
    "\n",
    "A következőkben a Python nyelv eddig nem tárgyalt programozási paradigmáiról lesz szó."
   ]
  },
  {
   "cell_type": "markdown",
   "id": "f7517666",
   "metadata": {
    "slideshow": {
     "slide_type": "slide"
    }
   },
   "source": [
    "## Objektum-orientált programozás / paradigma (OOP)"
   ]
  },
  {
   "cell_type": "markdown",
   "id": "6ed1a8ef",
   "metadata": {
    "slideshow": {
     "slide_type": "subslide"
    }
   },
   "source": [
    "Ez a paradigma az ún. objektumok köré szerveződik, amelyek olyan tárolóegységek, melyek egyszerre tartalmaznak adatokat (melyeket mezőknek, vagy attribútumoknak nevezünk), illetve kódot, függvényeket, ami ezen adatok manipulására szolgál. Ezek neve metódus. Metódusokkal elérhető, hogy az objektum adatait magában az objektumban módosítsuk, így az objektum maga egy állapotot tart fenn (pl. egy bankszámla aktuális állapota).\n",
    "\n",
    "Az objektum-orientált programozásban ilyen objektumok épülnek fel a futó programban, melyek egymással interakcióban vannak. A legtöbb OO-nyelv alapfogalma az osztály (class), ekkor az objektumok ezen osztályok példányai (instance)."
   ]
  },
  {
   "cell_type": "markdown",
   "id": "af1b5842",
   "metadata": {
    "slideshow": {
     "slide_type": "subslide"
    }
   },
   "source": [
    "Pythonban az OOP nincs előtérben abban az értelemben, hogy lehet Python kódot írni osztályok nélkül is, mindössze függvényekkel operálva. Bizonyos értelemben nem a Python a legmegfelelőbb nyelv, ha igazán meg akarjuk érteni az OOP fő elveit.\n",
    "\n",
    "Más OOP nyelvekben (pl. Java-ban) sokkal jobban előtérben vannak ezek a fogalmak és nélkülük egyszerűen nem is lehet kódot írni. Ennek ellenére mégis hasznos megismerni az OOP alapjait, mert sok esetben hasznos lehet létező kód megértésében, illetve közepes vagy nagyobb méretű kódbázis fejlesztésénél.\n",
    "\n",
    "Az első OOP-nyelv a Smalltalk volt (1972), és a fogalmak fejlődése során némileg átalakulva az OOP paradigma az 1990-es és korai 2000-es évek uralkodó paradigmájává vált."
   ]
  },
  {
   "cell_type": "code",
   "execution_count": 2,
   "id": "601de23c",
   "metadata": {
    "slideshow": {
     "slide_type": "subslide"
    }
   },
   "outputs": [
    {
     "name": "stdout",
     "output_type": "stream",
     "text": [
      "<__main__.Person object at 0x000001B9D2D34580>\n",
      "<class '__main__.Person'>\n"
     ]
    }
   ],
   "source": [
    "# A legegyszerűbb osztály\n",
    "\n",
    "class Person:\n",
    "    pass\n",
    "\n",
    "\n",
    "p = Person()\n",
    "print(p)\n",
    "print(type(p))"
   ]
  },
  {
   "cell_type": "code",
   "execution_count": 3,
   "id": "7e60ec2d",
   "metadata": {
    "slideshow": {
     "slide_type": "subslide"
    }
   },
   "outputs": [
    {
     "name": "stdout",
     "output_type": "stream",
     "text": [
      "<__main__.Person object at 0x000001B9D2E4CD90>\n",
      "Ann\n",
      "25\n",
      "{'name': 'Ann', 'age': 25}\n"
     ]
    }
   ],
   "source": [
    "# Person egy osztály\n",
    "\n",
    "class Person:\n",
    "    pass\n",
    "\n",
    "\n",
    "# p a Person osztály egy példánya\n",
    "p = Person()\n",
    "\n",
    "# a p példányhoz dinamikusan lehet attribútumokat adni\n",
    "p.name = \"Ann\"\n",
    "p.age = 25\n",
    "\n",
    "print(p)\n",
    "\n",
    "print(p.name)\n",
    "print(p.age)\n",
    "\n",
    "print(p.__dict__)"
   ]
  },
  {
   "cell_type": "code",
   "execution_count": 4,
   "id": "ee6949be",
   "metadata": {
    "slideshow": {
     "slide_type": "subslide"
    }
   },
   "outputs": [
    {
     "name": "stdout",
     "output_type": "stream",
     "text": [
      "<__main__.Person object at 0x000001B9D2E4CFA0>\n",
      "Ann\n",
      "25\n"
     ]
    }
   ],
   "source": [
    "# Az __init__ metódus inicializálja az osztály, \n",
    "# így az attribútúmok nem utólag lesznek hozzáadva az adott példányhoz  \n",
    "\n",
    "class Person:\n",
    "    # Minden metódus első paramétere maga az osztálypéldány\n",
    "    def __init__(self, name, age):\n",
    "        self.name = name\n",
    "        self.age = age\n",
    "    \n",
    "    \n",
    "p = Person(\"Ann\", 25) \n",
    "print(p)\n",
    "print(p.name)\n",
    "print(p.age)"
   ]
  },
  {
   "cell_type": "code",
   "execution_count": 5,
   "id": "bb46db1d",
   "metadata": {
    "slideshow": {
     "slide_type": "subslide"
    }
   },
   "outputs": [
    {
     "data": {
      "text/plain": [
       "'Hi, my name is Ann!'"
      ]
     },
     "execution_count": 5,
     "metadata": {},
     "output_type": "execute_result"
    }
   ],
   "source": [
    "class Person:\n",
    "    def __init__(self, name, age):\n",
    "        self.name = name\n",
    "        self.age = age\n",
    "        \n",
    "    def introduction(self):\n",
    "        return f\"Hi, my name is {self.name}!\"\n",
    "    \n",
    "    \n",
    "p = Person(\"Ann\", 25)\n",
    "\n",
    "p.introduction()"
   ]
  },
  {
   "cell_type": "code",
   "execution_count": 6,
   "id": "fe0e94ed",
   "metadata": {
    "slideshow": {
     "slide_type": "subslide"
    }
   },
   "outputs": [
    {
     "name": "stdout",
     "output_type": "stream",
     "text": [
      "<__main__.Person object at 0x000001B9D2E4CA90>\n"
     ]
    }
   ],
   "source": [
    "print(p)"
   ]
  },
  {
   "cell_type": "code",
   "execution_count": 7,
   "id": "48bc9334",
   "metadata": {
    "slideshow": {
     "slide_type": "subslide"
    }
   },
   "outputs": [
    {
     "name": "stdout",
     "output_type": "stream",
     "text": [
      "This is Ann, 25 year(s) old.\n"
     ]
    }
   ],
   "source": [
    "class Person:\n",
    "    def __init__(self, name, age):\n",
    "        self.name = name\n",
    "        self.age = age\n",
    "        \n",
    "    def __repr__(self):\n",
    "        return f\"This is {self.name}, {self.age} year(s) old.\"\n",
    "        \n",
    "    def introduction(self):\n",
    "        return f\"Hi, my name is {self.name}!\"\n",
    "    \n",
    "    \n",
    "p = Person(\"Ann\", 25)\n",
    "print(p)"
   ]
  },
  {
   "cell_type": "markdown",
   "id": "4e825c5e",
   "metadata": {
    "slideshow": {
     "slide_type": "subslide"
    }
   },
   "source": [
    "Van egy `__str__` metódus is a `__repr__` mellett. Az utóbbi általában magunknak szól, az előbbi a végfelhasználónak. Ha osztályt írunk, `__repr__` metódust mindig érdemes implementálni."
   ]
  },
  {
   "cell_type": "markdown",
   "id": "40d41303",
   "metadata": {
    "slideshow": {
     "slide_type": "slide"
    }
   },
   "source": [
    "OOP-ből ismert fogalmak lehetnek a `public`, `protected` és `private` attribútumok fogalma. Pythonban nincs kulcsszó ezekre, egyszerűen egy nevezéktani konvenció biztosítja, hogy melyik attribútum érhető el kívülről, és melyeket szeretnénk protected-nek vagy privátnak tekinteni.\n",
    "\n",
    "Más nyelvekből ismerős getter és setter függvényeket lehet ugyan írni, de ne felejtsük, hogy ez itt Python, nincs kikényszerítve, hogy ilyenek írjunk és nem is feltétlenül szokás."
   ]
  },
  {
   "cell_type": "code",
   "execution_count": 8,
   "id": "3e0013f7",
   "metadata": {
    "slideshow": {
     "slide_type": "slide"
    }
   },
   "outputs": [
    {
     "name": "stdout",
     "output_type": "stream",
     "text": [
      "False\n",
      "123\n",
      "123\n"
     ]
    }
   ],
   "source": [
    "class Person:\n",
    "    class_variable = 123\n",
    "    \n",
    "    def __init__(self, name, age):\n",
    "        self.name = name\n",
    "        self.age = age\n",
    "        \n",
    "    def __repr__(self):\n",
    "        return f\"This is {self.name}, {self.age} year(s) old.\"\n",
    "\n",
    "    def is_pensioner(self):\n",
    "        return self.age >= 65\n",
    "    \n",
    "    \n",
    "p = Person(name=\"Ann\", age=25)  \n",
    "\n",
    "print(p.is_pensioner())\n",
    "print(p.class_variable)\n",
    "print(Person.class_variable)"
   ]
  },
  {
   "cell_type": "markdown",
   "id": "5bdf2f7a",
   "metadata": {
    "slideshow": {
     "slide_type": "slide"
    }
   },
   "source": [
    "Miért használunk osztályokat? Először is, osztályokat használni nem kötelező, de előbb-utóbb találkoztok velük, mások kódjaiban, vagy könyvtárakból való importok esetén. Néhány érv a használatuk mellett:\n",
    "\n",
    "* Valamilyen módon összetartozó adatokat akarunk eltárolni egységbe zárva (encapsulation)\n",
    "* Egy állapotot kell tartani, illetve ezt az állapotot kell tudnunk megfelelő módon változtatni\n",
    "* Az adatot csak meghatározott módon lehessen manipulálni, a felhasználónak nem kell tudnia, hogy mi a belső implementáció (absztrakció)\n",
    "* Hierarchiába szervezhető adattípusok vannak (öröklődés)"
   ]
  },
  {
   "cell_type": "code",
   "execution_count": 9,
   "id": "0987674c",
   "metadata": {
    "slideshow": {
     "slide_type": "subslide"
    }
   },
   "outputs": [],
   "source": [
    "class BankAccount:\n",
    "    def __init__(self, account_id, initial_amount=0):\n",
    "        self._id = account_id\n",
    "        self._amount = initial_amount\n",
    "        \n",
    "    def __repr__(self):\n",
    "        return f\"BankAccount(id={self._id}, amount={self._amount}).\"\n",
    "    \n",
    "    def amount(self):\n",
    "        return self._amount\n",
    "        \n",
    "    def deposit(self, money):\n",
    "        self._amount += money\n",
    "        \n",
    "    def withdraw(self, money):\n",
    "        if self._amount >= money:\n",
    "            self._amount -= money\n",
    "            return money\n",
    "        \n",
    "        # Kivétel dobása helyett ilyenkor akár 0 fabatkát is visszadhatnánk, az egyenleget változatlanul hagyva\n",
    "        raise Exception(\"Not enough money on your account.\")"
   ]
  },
  {
   "cell_type": "code",
   "execution_count": 10,
   "id": "00784c97",
   "metadata": {
    "slideshow": {
     "slide_type": "subslide"
    }
   },
   "outputs": [
    {
     "name": "stdout",
     "output_type": "stream",
     "text": [
      "BankAccount(id=123, amount=50).\n",
      "50\n"
     ]
    }
   ],
   "source": [
    "account = BankAccount(123)\n",
    "\n",
    "account.deposit(100)\n",
    "account.deposit(200)\n",
    "_ = account.withdraw(250)\n",
    "print(account)\n",
    "print(account.amount())"
   ]
  },
  {
   "cell_type": "markdown",
   "id": "8e2ac445",
   "metadata": {
    "slideshow": {
     "slide_type": "subslide"
    }
   },
   "source": [
    "Ez a számla nem túl biztonságos, mert az `_amount` mezőt lehet kívülről manipulálni, csak a konvención és az én jóindulatomon múlt, hogy titokban ne adjak pénzt közvetlenül ehhez a mezőhöz."
   ]
  },
  {
   "cell_type": "code",
   "execution_count": 11,
   "id": "7bfbc9ab",
   "metadata": {
    "slideshow": {
     "slide_type": "fragment"
    }
   },
   "outputs": [
    {
     "name": "stdout",
     "output_type": "stream",
     "text": [
      "10000\n"
     ]
    }
   ],
   "source": [
    "account = BankAccount(123)\n",
    "account._amount = 10000\n",
    "\n",
    "print(account.amount())"
   ]
  },
  {
   "cell_type": "markdown",
   "id": "0ec081c9",
   "metadata": {
    "slideshow": {
     "slide_type": "fragment"
    }
   },
   "source": [
    "Pythonban lehet ennél szigorúbb hozzáférést adni a tényleg privátnak gondolt mezőkhöz, illetve megfelelő settereket és gettereket itt is be lehet állítani, de mi most ennél tovább nem megyünk."
   ]
  },
  {
   "cell_type": "code",
   "execution_count": 13,
   "id": "18130021",
   "metadata": {
    "slideshow": {
     "slide_type": "subslide"
    }
   },
   "outputs": [],
   "source": [
    "class BankAccount:\n",
    "    def __init__(self, account_id, initial_amount=0):\n",
    "        self._id = account_id\n",
    "        self._amount = initial_amount\n",
    "        \n",
    "    def __repr__(self):\n",
    "        return f\"BankAccount(id={self._id}, amount={self._amount}).\"\n",
    "    \n",
    "    @property\n",
    "    def amount(self):\n",
    "        return self._amount\n",
    "        \n",
    "    def deposit(self, money):\n",
    "        self._amount += money\n",
    "        \n",
    "    def withdraw(self, money):\n",
    "        if self._amount >= money:\n",
    "            self._amount -= money\n",
    "            return money\n",
    "        \n",
    "        raise Exception(\"Not enough money on your account.\")"
   ]
  },
  {
   "cell_type": "code",
   "execution_count": 14,
   "id": "77ef16e2",
   "metadata": {
    "slideshow": {
     "slide_type": "subslide"
    }
   },
   "outputs": [
    {
     "name": "stdout",
     "output_type": "stream",
     "text": [
      "BankAccount(id=123, amount=100).\n",
      "100\n"
     ]
    }
   ],
   "source": [
    "account = BankAccount(123)\n",
    "account.deposit(100)\n",
    "\n",
    "print(account)\n",
    "print(account.amount)"
   ]
  },
  {
   "cell_type": "code",
   "execution_count": 15,
   "id": "18c8eacf",
   "metadata": {
    "slideshow": {
     "slide_type": "fragment"
    }
   },
   "outputs": [
    {
     "ename": "AttributeError",
     "evalue": "can't set attribute",
     "output_type": "error",
     "traceback": [
      "\u001b[1;31m---------------------------------------------------------------------------\u001b[0m",
      "\u001b[1;31mAttributeError\u001b[0m                            Traceback (most recent call last)",
      "Input \u001b[1;32mIn [15]\u001b[0m, in \u001b[0;36m<cell line: 1>\u001b[1;34m()\u001b[0m\n\u001b[1;32m----> 1\u001b[0m account\u001b[38;5;241m.\u001b[39mamount \u001b[38;5;241m=\u001b[39m \u001b[38;5;241m1000\u001b[39m\n",
      "\u001b[1;31mAttributeError\u001b[0m: can't set attribute"
     ]
    }
   ],
   "source": [
    "account.amount = 1000"
   ]
  }
 ],
 "metadata": {
  "celltoolbar": "Slideshow",
  "kernelspec": {
   "display_name": "Python 3 (ipykernel)",
   "language": "python",
   "name": "python3"
  },
  "language_info": {
   "codemirror_mode": {
    "name": "ipython",
    "version": 3
   },
   "file_extension": ".py",
   "mimetype": "text/x-python",
   "name": "python",
   "nbconvert_exporter": "python",
   "pygments_lexer": "ipython3",
   "version": "3.9.12"
  }
 },
 "nbformat": 4,
 "nbformat_minor": 5
}
