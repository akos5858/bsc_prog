{
 "cells": [
  {
   "cell_type": "markdown",
   "id": "79e8b368",
   "metadata": {},
   "source": [
    "Az alábbi feladatok megoldásához írjunk egy függvényt, amely a megadott inputra kiszámolja a helyes eredményt."
   ]
  },
  {
   "cell_type": "markdown",
   "id": "fb1e3925",
   "metadata": {},
   "source": [
    "#### Adott egy számokat tartalmazó lista, számoljuk ki a pozitív elemek összegét."
   ]
  },
  {
   "cell_type": "code",
   "execution_count": null,
   "id": "61064666",
   "metadata": {},
   "outputs": [],
   "source": [
    "def sum_of_positive_elements(lst):\n",
    "    sum = 0\n",
    "    for i in lst:\n",
    "        if i > 0:\n",
    "            sum += i\n",
    "    return sum"
   ]
  },
  {
   "cell_type": "markdown",
   "id": "6065e139",
   "metadata": {},
   "source": [
    "#### Adott ascii-karakterekből álló stringben számoljuk meg a magánhangzók számát (magánhangzó alatt az `a, e, i, o, u` betűket értjük). A string tartalmazhat kis- és nagybetűket is."
   ]
  },
  {
   "cell_type": "code",
   "execution_count": 2,
   "id": "80629187",
   "metadata": {},
   "outputs": [
    {
     "data": {
      "text/plain": [
       "2"
      ]
     },
     "execution_count": 2,
     "metadata": {},
     "output_type": "execute_result"
    }
   ],
   "source": [
    "def count_vowels(s):\n",
    "    l = ['a', 'e', 'i', 'o', 'u']\n",
    "    count = 0\n",
    "    for i in s:\n",
    "        if i.lower() in l:\n",
    "            count += 1\n",
    "    return count"
   ]
  },
  {
   "cell_type": "markdown",
   "id": "113c0529",
   "metadata": {},
   "source": [
    "#### Adott egy számokat tartalmazó lista és egy $n\\in\\mathbb{N}$ szám. Számoljuk ki a lista $n$-edik elemének $n$-edik hatványát. Ha a listának nincs $n$ eleme, akkor adjunk vissza `None`-t."
   ]
  },
  {
   "cell_type": "code",
   "execution_count": 3,
   "id": "0b51d394",
   "metadata": {},
   "outputs": [],
   "source": [
    "def nth_power_of_nth_element(lst, n):\n",
    "    return lst[n] ** n"
   ]
  },
  {
   "cell_type": "markdown",
   "id": "8d4f08e9",
   "metadata": {},
   "source": [
    "#### Adott $n$-re mennyi az $1 \\leq k \\leq n$, 3-mal vagy 5-tel osztható $k$ számok összege?"
   ]
  },
  {
   "cell_type": "code",
   "execution_count": 7,
   "id": "f044bd1c",
   "metadata": {},
   "outputs": [],
   "source": [
    "def sum_of_numbers(n):\n",
    "    sum = 0\n",
    "    for i in range(1, n+1):\n",
    "        if i % 3 == 0 and i % 5 == 0:\n",
    "            sum += i\n",
    "        else: \n",
    "            if i % 3 == 0:\n",
    "                sum += i\n",
    "            if i % 5 == 0:\n",
    "                sum += i\n",
    "    return sum"
   ]
  },
  {
   "cell_type": "markdown",
   "id": "59e5fd85",
   "metadata": {},
   "source": [
    "#### Adott $n$ természetes szám esetén állítsuk elő azt a stringet, amit ha kiprintelünk, akkor egy $n\\times n$-es, \"+\"-karakterekből álló négyzetet kapunk. \n",
    "\n",
    "Például $n=3$-ra egy olyan `s` string az eredmény, hogy `print(s)` az alábbi alakzatot eredményezi:\n",
    "\n",
    "```\n",
    "+++\n",
    "+++\n",
    "+++\n",
    "```"
   ]
  },
  {
   "cell_type": "code",
   "execution_count": null,
   "id": "fc73a9d6",
   "metadata": {},
   "outputs": [],
   "source": [
    "def create_square_string(n):\n",
    "    pass"
   ]
  },
  {
   "cell_type": "markdown",
   "id": "716eedbb",
   "metadata": {},
   "source": [
    "#### Gyűjtsük ki egy adott lista különböző elemeit egy másik listába, az előfordulásuk sorrendjében."
   ]
  },
  {
   "cell_type": "code",
   "execution_count": null,
   "id": "7794206a",
   "metadata": {},
   "outputs": [],
   "source": [
    "def unique_elements(lst):\n",
    "    pass"
   ]
  },
  {
   "cell_type": "markdown",
   "id": "9aa3ce97",
   "metadata": {},
   "source": [
    "#### Adott $n$-re és két megadott $a$ és $b$ karakterre készítsül el azt az $n$ hosszúságú stringet, amely felváltva a két megadott karakterből áll. \n",
    "\n",
    "Például ha $n=5$ és $a=$\"x\", $b=$\"y\", akkor az eredmény az \"xyxyx\" string."
   ]
  },
  {
   "cell_type": "code",
   "execution_count": null,
   "id": "d41d018a",
   "metadata": {},
   "outputs": [],
   "source": [
    "def alternate(a, b, n):\n",
    "    pass"
   ]
  },
  {
   "cell_type": "markdown",
   "id": "92d6c2fd",
   "metadata": {},
   "source": [
    "#### Adott függvények egy $fs = [f_1, f_2,\\ldots,f_n]$ listája, valamint egy $x$ szám. Írjuk meg az a függvényt, amely ezt a két inputot várja és amit visszaad, az az $f_n(\\ldots f_2(f_1(x))\\ldots)$.\n",
    "\n",
    "Például ha $f_1(x) = x + 1$ és $f_2(x) = 2x$, akkor az $x_0 = 1$-re az eredmény $f_2(f_1(1)) = 4$."
   ]
  },
  {
   "cell_type": "code",
   "execution_count": null,
   "id": "04f356a2",
   "metadata": {},
   "outputs": [],
   "source": [
    "def chain_functions(fs, x):\n",
    "    pass"
   ]
  },
  {
   "cell_type": "markdown",
   "id": "ad859643",
   "metadata": {},
   "source": [
    "#### Mennyi a $2^{1000}$ számjegyeinek összege?"
   ]
  },
  {
   "cell_type": "code",
   "execution_count": null,
   "id": "789ba16c",
   "metadata": {},
   "outputs": [],
   "source": [
    "def digit_sum():\n",
    "    pass"
   ]
  },
  {
   "cell_type": "markdown",
   "id": "60748ee4",
   "metadata": {},
   "source": [
    "#### Adott két string, döntsük el, hogy van-e közös substringjük. \n",
    "\n",
    "Substring alatt egy adott stringben levő **egymást követő** karakterek egy sorozatát értjük. Például a `\"cat\"` és `\"data\"` stringeknek egy közös substringje az, hogy `\"at\"`. A `\"cats and mules\"` és a `\"dog\"` stringeknek nincs közös substringje."
   ]
  },
  {
   "cell_type": "code",
   "execution_count": null,
   "id": "4a18dcaa",
   "metadata": {},
   "outputs": [],
   "source": [
    "def has_common_substring(s1, s2):\n",
    "    pass"
   ]
  },
  {
   "cell_type": "markdown",
   "id": "5811ed7c",
   "metadata": {},
   "source": [
    "#### Kirakható-e a zsaroló üzenet egy újságpapír cikkéből?\n",
    "\n",
    "Adott egy újságcikk (`article`: egy string), amelynek szavaiból a zsaroló ki akarja rakni az üzenetét (`ransom_note`: egy másik string). Döntsük el, hogy a cikk szavaiból ki lehetett-e rakni az üzenetet, vagy sem. Mindkét string szóközökkel elválasztott szavakat tartalmaz.\n",
    "\n",
    "Példa:\n",
    "\n",
    "`article`: \"ive got a lovely bunch of coconuts and bananas\"\\\n",
    "`ransom_note1`: \"ive got some coconuts\"\\\n",
    "`ransom_note2`: \"ive got coconuts and bananas and lovely\"\\\n",
    "`ransom_note3`: \"lovely bunch of bananas\"\n",
    "\n",
    "Az első nem lehetséges (a `some` szó nincs a cikkben), a második sem (az `and` szó a cikkben csak egyszer szerepel, az üzenetben kétszer), de a harmadik kirakható a cikkből."
   ]
  },
  {
   "cell_type": "code",
   "execution_count": null,
   "id": "25d3fac0",
   "metadata": {},
   "outputs": [],
   "source": [
    "def is_possible_ransom_note(article, ransom_note):\n",
    "    pass"
   ]
  },
  {
   "cell_type": "markdown",
   "id": "6b0dc6c8",
   "metadata": {},
   "source": [
    "#### Egy nagy Fibonacci-szám\n",
    "\n",
    "Ha $f_0 = 1$, $f_1 = 1$ és $f_n = f_{n-1} + f_{n-2} \\quad (n \\geq 2)$ a Fibonacci-számok sorozata, akkor hányadik eleme a sorozatnak áll először legalább $1000$ számjegyből?"
   ]
  },
  {
   "cell_type": "code",
   "execution_count": null,
   "id": "eaa1a38d",
   "metadata": {},
   "outputs": [],
   "source": [
    "def get_index_of_a_1000_digit_fibonacci_number():\n",
    "    pass"
   ]
  },
  {
   "cell_type": "markdown",
   "id": "93a4805d",
   "metadata": {},
   "source": [
    "#### Racionális számok összege\n",
    "\n",
    "Írjunk egy függvényt, ami egészekből álló számpárok listáját várja és kiszámolja a megfelelő törtek összegét, ahol az eredmény tovább már nem egyszerűsíthető.\n",
    "\n",
    "Például a $[(2, 3), (1, 12), (1, 6), (3, 12)]$ inputra az output legyen $(7, 6)$, ugyanis \n",
    "$$\n",
    "\\frac{2}{3} + \\frac{1}{12} + \\frac{1}{6} + \\frac{3}{12} = \\frac{14}{12} = \\frac{7}{6}\n",
    "$$"
   ]
  },
  {
   "cell_type": "code",
   "execution_count": null,
   "id": "a17635e3",
   "metadata": {},
   "outputs": [],
   "source": [
    "def sum_of_fractions(pair_list):\n",
    "    pass"
   ]
  },
  {
   "cell_type": "markdown",
   "id": "f3d25a73",
   "metadata": {},
   "source": [
    "#### Felsőháromszög mátrixok"
   ]
  },
  {
   "cell_type": "markdown",
   "id": "56724bf8",
   "metadata": {},
   "source": [
    "Írjunk egy függvényt, ami adott $n$ esetén elkészíti azt az $n\\times n$-es mátrixot, melyre $a_{ij} = 1$, ha $j > i$, illetve $a_{ij} = 0$, ha $j \\leq i$.\n",
    "\n",
    "Például $n=3$-ra az eredmény az alábbi mátrix:\n",
    "$$\n",
    "\\left(\\begin{array}{ccc} 0 & 1 & 1 \\\\ 0 & 0 & 1 \\\\ 0 & 0 & 0\\end{array}\\right)\n",
    "$$"
   ]
  },
  {
   "cell_type": "code",
   "execution_count": null,
   "id": "f6c16595",
   "metadata": {},
   "outputs": [],
   "source": [
    "def create_upper_triangular_ones(n):\n",
    "    pass"
   ]
  },
  {
   "cell_type": "markdown",
   "id": "f5fb6870",
   "metadata": {},
   "source": [
    "#### Átrendezett range\n",
    "\n",
    "Írjunk egy függvényt, ami adott $n$ esetén egy $n\\times n$-es mátrixot készít el, melyben a számok $1$-től $n^2$-ig vannak felsorolva, oszloponként haladva.\n",
    "\n",
    "Például $n=3$ esetén az output\n",
    "$$\n",
    "\\left(\\begin{array}{ccc} 1 & 4 & 7 \\\\ 2 & 5 & 8 \\\\ 3 & 6 & 9\\end{array}\\right).\n",
    "$$"
   ]
  },
  {
   "cell_type": "code",
   "execution_count": null,
   "id": "f4f04d72",
   "metadata": {},
   "outputs": [],
   "source": [
    "def create_tabular_range_matrix(n):\n",
    "    pass"
   ]
  }
 ],
 "metadata": {
  "kernelspec": {
   "display_name": "Python 3.9.12 ('base')",
   "language": "python",
   "name": "python3"
  },
  "language_info": {
   "codemirror_mode": {
    "name": "ipython",
    "version": 3
   },
   "file_extension": ".py",
   "mimetype": "text/x-python",
   "name": "python",
   "nbconvert_exporter": "python",
   "pygments_lexer": "ipython3",
   "version": "3.9.12"
  },
  "vscode": {
   "interpreter": {
    "hash": "9429e3d8733c1ac76f5c3b0c6cdd2706acd1fd7b4f8c91f27a242412c8600fc4"
   }
  }
 },
 "nbformat": 4,
 "nbformat_minor": 5
}
