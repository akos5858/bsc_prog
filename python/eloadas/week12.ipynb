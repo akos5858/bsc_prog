{
 "cells": [
  {
   "cell_type": "markdown",
   "id": "58dc5de4",
   "metadata": {
    "slideshow": {
     "slide_type": "slide"
    }
   },
   "source": [
    "## Dijkstra-algoritmus (Dijkstra's algorithm)"
   ]
  },
  {
   "cell_type": "markdown",
   "id": "8e0373a4",
   "metadata": {
    "slideshow": {
     "slide_type": "subslide"
    }
   },
   "source": [
    "Egész eddig csak az számított, hogy két város között van-e járat, vagy nincs. Azonban a szöveges fájlban volt egy harmadik információ is, a két repülőtér távolsága km-ben megadva."
   ]
  },
  {
   "cell_type": "code",
   "execution_count": null,
   "id": "183f014d",
   "metadata": {
    "slideshow": {
     "slide_type": "fragment"
    }
   },
   "outputs": [],
   "source": [
    "path_to_data = \"data/flight_routes.txt\"\n",
    "\n",
    "!head -n 10 $path_to_data"
   ]
  },
  {
   "cell_type": "markdown",
   "id": "cd3b1d22",
   "metadata": {
    "slideshow": {
     "slide_type": "slide"
    }
   },
   "source": [
    "**Feladat**: repülőgéppel mi a legrövidebb út hossza Debrecenből Katmanduba menetrend szerinti járatokkal?\n",
    "\n",
    "\n",
    "Hogyan kell megkeresni egy élsúlyozott gráfban két csúcs között a legrövidebb utat?\n",
    "\n",
    "* a gráf irányítatlan\n",
    "* az éleken levő súlyok nemnegatívok"
   ]
  },
  {
   "cell_type": "code",
   "execution_count": null,
   "id": "2e13488f",
   "metadata": {
    "slideshow": {
     "slide_type": "subslide"
    }
   },
   "outputs": [],
   "source": [
    "class Graph:\n",
    "    def __init__(self, nr_nodes, edges):\n",
    "        self._nr_nodes = nr_nodes\n",
    "        self._adjacency_list = create_adjacency_list_from_edges(edges)\n",
    "        \n",
    "    @property    \n",
    "    def nr_nodes(self):\n",
    "        return self._nr_nodes\n",
    "        \n",
    "    def neighbors(self, node):\n",
    "        return self._adjacency_list.get(node, [])    "
   ]
  },
  {
   "cell_type": "code",
   "execution_count": null,
   "id": "58d6921c",
   "metadata": {
    "slideshow": {
     "slide_type": "subslide"
    }
   },
   "outputs": [],
   "source": [
    "from collections import defaultdict\n",
    "\n",
    "\n",
    "def create_adjacency_list_from_edges(edges):\n",
    "    adjacency_lists = defaultdict(list)\n",
    "    for a, b, weight in edges:\n",
    "        adjacency_lists[a].append((b, weight))\n",
    "        adjacency_lists[b].append((a, weight))\n",
    "    return dict(adjacency_lists)"
   ]
  },
  {
   "cell_type": "code",
   "execution_count": null,
   "id": "b2902d8a",
   "metadata": {
    "slideshow": {
     "slide_type": "subslide"
    }
   },
   "outputs": [],
   "source": [
    "nr_nodes = 4\n",
    "\n",
    "edges = [\n",
    "    (1, 2, 4),\n",
    "    (1, 3, 2),\n",
    "    (2, 4, 1),\n",
    "    (3, 4, 3),\n",
    "    (2, 3, 1)\n",
    "]"
   ]
  },
  {
   "cell_type": "code",
   "execution_count": null,
   "id": "3a8877d4",
   "metadata": {
    "slideshow": {
     "slide_type": "subslide"
    }
   },
   "outputs": [],
   "source": [
    "create_adjacency_list_from_edges(edges)"
   ]
  },
  {
   "cell_type": "markdown",
   "id": "3c34a8db",
   "metadata": {
    "slideshow": {
     "slide_type": "subslide"
    }
   },
   "source": [
    "<center>\n",
    "<img src=\"img/dij_01.jpg\" width=1000>\n",
    "</center>"
   ]
  },
  {
   "cell_type": "markdown",
   "id": "75adf027",
   "metadata": {
    "slideshow": {
     "slide_type": "subslide"
    }
   },
   "source": [
    "<center>\n",
    "<img src=\"img/dij_02.jpg\" width=1000>\n",
    "</center>"
   ]
  },
  {
   "cell_type": "markdown",
   "id": "4ad266bc",
   "metadata": {
    "slideshow": {
     "slide_type": "subslide"
    }
   },
   "source": [
    "<center>\n",
    "<img src=\"img/dij_03.jpg\" width=1000>\n",
    "</center>"
   ]
  },
  {
   "cell_type": "code",
   "execution_count": null,
   "id": "3a924186",
   "metadata": {
    "slideshow": {
     "slide_type": "subslide"
    }
   },
   "outputs": [],
   "source": [
    "import math\n",
    "\n",
    "\n",
    "def calc_shortest_distances_with_edge_weights(graph, start_node):\n",
    "    distances = [math.inf] * graph.nr_nodes\n",
    "    distances[start_node-1] = 0.0\n",
    "    \n",
    "    unvisited_nodes = set(range(1, graph.nr_nodes+1))\n",
    "    while unvisited_nodes:\n",
    "        pass"
   ]
  },
  {
   "cell_type": "code",
   "execution_count": null,
   "id": "2397a7e4",
   "metadata": {
    "slideshow": {
     "slide_type": "subslide"
    }
   },
   "outputs": [],
   "source": [
    "def calc_shortest_distances_with_edge_weights(graph, start_node):\n",
    "    distances = [math.inf] * graph.nr_nodes\n",
    "    distances[start_node-1] = 0.0\n",
    "    \n",
    "    unvisited_nodes = set(range(1, graph.nr_nodes+1))\n",
    "    while unvisited_nodes:\n",
    "        u, dist_u = min(((node, distances[node-1]) for node in unvisited_nodes), key=lambda x: x[1])\n",
    "        unvisited_nodes.remove(u)\n",
    "        \n",
    "        for v, weight in graph.neighbors(u):\n",
    "            pass\n",
    "\n",
    "    return distances"
   ]
  },
  {
   "cell_type": "code",
   "execution_count": null,
   "id": "3103505e",
   "metadata": {
    "slideshow": {
     "slide_type": "subslide"
    }
   },
   "outputs": [],
   "source": [
    "def calc_shortest_distances_with_edge_weights(graph, start_node):\n",
    "    distances = [math.inf] * graph.nr_nodes\n",
    "    distances[start_node-1] = 0.0\n",
    "    \n",
    "    unvisited_nodes = set(range(1, graph.nr_nodes+1))\n",
    "    while unvisited_nodes:\n",
    "        # Ez egyaltalan nem hatekony, ahogy kivalasztjuk a legkisebb tavolsagu pontot!\n",
    "        u, dist_u = min(((node, distances[node-1]) for node in unvisited_nodes), key=lambda x: x[1])\n",
    "        unvisited_nodes.remove(u)\n",
    "        \n",
    "        for v, weight in graph.neighbors(u):\n",
    "            pass\n",
    "\n",
    "    return distances"
   ]
  },
  {
   "cell_type": "code",
   "execution_count": null,
   "id": "22444f5d",
   "metadata": {
    "slideshow": {
     "slide_type": "subslide"
    }
   },
   "outputs": [],
   "source": [
    "def calc_shortest_distances_with_edge_weights(graph, start_node):\n",
    "    distances = [math.inf] * graph.nr_nodes\n",
    "    distances[start_node-1] = 0.0\n",
    "    \n",
    "    unvisited_nodes = set(range(1, graph.nr_nodes+1))\n",
    "    while unvisited_nodes:\n",
    "        u, dist_u = min(((node, distances[node-1]) for node in unvisited_nodes), key=lambda x: x[1])\n",
    "        unvisited_nodes.remove(u)\n",
    "        \n",
    "        for v, weight in graph.neighbors(u):\n",
    "            if v in unvisited_nodes and distances[v-1] > dist_u + weight:\n",
    "                pass\n",
    "            \n",
    "    return distances"
   ]
  },
  {
   "cell_type": "code",
   "execution_count": null,
   "id": "12c7b2bb",
   "metadata": {
    "slideshow": {
     "slide_type": "subslide"
    }
   },
   "outputs": [],
   "source": [
    "def calc_shortest_distances_with_edge_weights(graph, start_node):\n",
    "    distances = [math.inf] * graph.nr_nodes\n",
    "    distances[start_node-1] = 0.0\n",
    "    \n",
    "    unvisited_nodes = set(range(1, graph.nr_nodes+1))\n",
    "    while unvisited_nodes:\n",
    "        u, dist_u = min(((node, distances[node-1]) for node in unvisited_nodes), key=lambda x: x[1])\n",
    "        unvisited_nodes.remove(u)\n",
    "        \n",
    "        for v, weight in graph.neighbors(u):\n",
    "            if v in unvisited_nodes and distances[v-1] > dist_u + weight:\n",
    "                distances[v-1] = dist_u + weight\n",
    "    return distances"
   ]
  },
  {
   "cell_type": "code",
   "execution_count": null,
   "id": "b4c29cec",
   "metadata": {
    "slideshow": {
     "slide_type": "subslide"
    }
   },
   "outputs": [],
   "source": [
    "graph = Graph(nr_nodes, edges)\n",
    "\n",
    "calc_shortest_distances_with_edge_weights(graph, 1)"
   ]
  },
  {
   "cell_type": "code",
   "execution_count": null,
   "id": "c0463022",
   "metadata": {
    "slideshow": {
     "slide_type": "subslide"
    }
   },
   "outputs": [],
   "source": [
    "def calc_shortest_distances_with_edge_weights(graph, start_node):\n",
    "    distances = [math.inf] * graph.nr_nodes\n",
    "    distances[start_node-1] = 0.0\n",
    "    previous_node = [None] * graph.nr_nodes\n",
    "    \n",
    "    unvisited_nodes = set(range(1, graph.nr_nodes+1))\n",
    "    while unvisited_nodes:\n",
    "        u, dist_u = min(((node, distances[node-1]) for node in unvisited_nodes), key=lambda x: x[1])\n",
    "        unvisited_nodes.remove(u)\n",
    "        \n",
    "        for v, weight in graph.neighbors(u):\n",
    "            if v in unvisited_nodes and distances[v-1] > dist_u + weight:\n",
    "                distances[v-1] = dist_u + weight\n",
    "                previous_node[v-1] = u\n",
    "    \n",
    "    return distances, previous_node"
   ]
  },
  {
   "cell_type": "code",
   "execution_count": null,
   "id": "a3ecaacb",
   "metadata": {},
   "outputs": [],
   "source": [
    "def reconstruct_path(graph, start_node, end_node, previous_node):\n",
    "    path = []\n",
    "    node = end_node\n",
    "    while node is not None:\n",
    "        path.append(node)\n",
    "        node = previous_node[node-1]\n",
    "    return path[::-1]"
   ]
  },
  {
   "cell_type": "code",
   "execution_count": null,
   "id": "d989cf67",
   "metadata": {
    "slideshow": {
     "slide_type": "subslide"
    }
   },
   "outputs": [],
   "source": [
    "distances, previous_nodes = calc_shortest_distances_with_edge_weights(graph, 1)"
   ]
  },
  {
   "cell_type": "code",
   "execution_count": null,
   "id": "a6f20f20",
   "metadata": {
    "slideshow": {
     "slide_type": "fragment"
    }
   },
   "outputs": [],
   "source": [
    "reconstruct_path(graph, 1, 4, previous_nodes)"
   ]
  },
  {
   "cell_type": "code",
   "execution_count": null,
   "id": "03b1feb3",
   "metadata": {
    "slideshow": {
     "slide_type": "slide"
    }
   },
   "outputs": [],
   "source": [
    "def read_flight_routes(path):\n",
    "    edges = []\n",
    "    with open(path, \"r\") as f:\n",
    "        lines = f.read().splitlines()\n",
    "        nr_nodes, _ = map(int, lines[0].split(\"\\t\"))\n",
    "        for line in lines[1:]:\n",
    "            a, b, weight = line.split(\"\\t\")\n",
    "            edges.append((a, b, float(weight)))\n",
    "                \n",
    "    return nr_nodes, edges"
   ]
  },
  {
   "cell_type": "code",
   "execution_count": null,
   "id": "5104219c",
   "metadata": {
    "slideshow": {
     "slide_type": "fragment"
    }
   },
   "outputs": [],
   "source": [
    "nr_nodes, edges = read_flight_routes(path_to_data)"
   ]
  },
  {
   "cell_type": "code",
   "execution_count": null,
   "id": "df8928ca",
   "metadata": {
    "slideshow": {
     "slide_type": "subslide"
    }
   },
   "outputs": [],
   "source": [
    "import itertools as it\n",
    "\n",
    "\n",
    "class CityConverter:\n",
    "    def __init__(self):\n",
    "        self._id_generator = it.count(1)\n",
    "        self._city_to_number = {}\n",
    "        self._number_to_city = {}  \n",
    "        \n",
    "    def encode(self, city):\n",
    "        if (number := self._city_to_number.get(city)) is None:\n",
    "            number = next(self._id_generator)\n",
    "            self._city_to_number[city] = number\n",
    "            self._number_to_city[number] = city\n",
    "        return number \n",
    "\n",
    "    def decode(self, number):\n",
    "        return self._number_to_city.get(number)"
   ]
  },
  {
   "cell_type": "code",
   "execution_count": null,
   "id": "8d77108c",
   "metadata": {
    "slideshow": {
     "slide_type": "subslide"
    }
   },
   "outputs": [],
   "source": [
    "converter = CityConverter()\n",
    "\n",
    "encoded_edges = [(converter.encode(a), converter.encode(b), weight) for a, b, weight in edges]"
   ]
  },
  {
   "cell_type": "code",
   "execution_count": null,
   "id": "a3496f1c",
   "metadata": {
    "slideshow": {
     "slide_type": "fragment"
    }
   },
   "outputs": [],
   "source": [
    "graph = Graph(nr_nodes, encoded_edges)\n",
    "\n",
    "source = converter.encode(\"Debrecen|Hungary\")\n",
    "destination = converter.encode(\"Kathmandu|Nepal\")"
   ]
  },
  {
   "cell_type": "code",
   "execution_count": null,
   "id": "f7218934",
   "metadata": {
    "slideshow": {
     "slide_type": "fragment"
    }
   },
   "outputs": [],
   "source": [
    "distances, previous_nodes = calc_shortest_distances_with_edge_weights(graph, source)\n",
    "\n",
    "path = reconstruct_path(graph, source, destination, previous_nodes)"
   ]
  },
  {
   "cell_type": "code",
   "execution_count": null,
   "id": "b8d0d4c1",
   "metadata": {
    "slideshow": {
     "slide_type": "subslide"
    }
   },
   "outputs": [],
   "source": [
    "debrecen_kathmandu = list(map(converter.decode, path))\n",
    "\n",
    "debrecen_kathmandu"
   ]
  },
  {
   "cell_type": "code",
   "execution_count": null,
   "id": "456b7bf4",
   "metadata": {
    "slideshow": {
     "slide_type": "fragment"
    }
   },
   "outputs": [],
   "source": [
    "print(f\"Shortest route from Debrecen to Kathmandu: {distances[destination-1]:.4f} km\")"
   ]
  },
  {
   "cell_type": "code",
   "execution_count": null,
   "id": "deec7aae",
   "metadata": {
    "slideshow": {
     "slide_type": "subslide"
    }
   },
   "outputs": [],
   "source": [
    "source = converter.encode(\"Honolulu|United States\")\n",
    "destination = converter.encode(\"Kathmandu|Nepal\")\n",
    "\n",
    "distances, previous_nodes = calc_shortest_distances_with_edge_weights(graph, source)\n",
    "path = reconstruct_path(graph, source, destination, previous_nodes)"
   ]
  },
  {
   "cell_type": "code",
   "execution_count": null,
   "id": "d79ba393",
   "metadata": {
    "slideshow": {
     "slide_type": "fragment"
    }
   },
   "outputs": [],
   "source": [
    "print(f\"Shortest route from Honolulu to Kathmandu: {distances[destination-1]:.4f} km\")"
   ]
  },
  {
   "cell_type": "code",
   "execution_count": null,
   "id": "03c8bcd0",
   "metadata": {
    "slideshow": {
     "slide_type": "fragment"
    }
   },
   "outputs": [],
   "source": [
    "honolulu_kathmandu = list(map(converter.decode, path))\n",
    "\n",
    "honolulu_kathmandu"
   ]
  },
  {
   "cell_type": "code",
   "execution_count": null,
   "id": "b2ace8bc",
   "metadata": {
    "slideshow": {
     "slide_type": "subslide"
    }
   },
   "outputs": [],
   "source": [
    "distance_between_cities = {frozenset((a, b)): km for a, b, km in edges}\n",
    "\n",
    "\n",
    "def print_flight_segments(path, distance_between_cities):\n",
    "    s = 0\n",
    "    for city_from, city_to in zip(path, path[1:]):\n",
    "        km = distance_between_cities[frozenset((city_from, city_to))]\n",
    "        s += km\n",
    "        print(f\"{city_from} -> {city_to}: {km:.02f} kilometers\")\n",
    "    \n",
    "    print(\"---\")\n",
    "    print(f\"Total distance: {s:.02f} km\")"
   ]
  },
  {
   "cell_type": "code",
   "execution_count": null,
   "id": "6198584d",
   "metadata": {
    "slideshow": {
     "slide_type": "subslide"
    }
   },
   "outputs": [],
   "source": [
    "print_flight_segments(debrecen_kathmandu, distance_between_cities)"
   ]
  },
  {
   "cell_type": "code",
   "execution_count": null,
   "id": "aaee082f",
   "metadata": {
    "slideshow": {
     "slide_type": "subslide"
    }
   },
   "outputs": [],
   "source": [
    "print_flight_segments(honolulu_kathmandu, distance_between_cities)"
   ]
  },
  {
   "cell_type": "code",
   "execution_count": null,
   "id": "f3149361",
   "metadata": {
    "slideshow": {
     "slide_type": "subslide"
    }
   },
   "outputs": [],
   "source": [
    "print(distance_between_cities[frozenset(('Honolulu|United States', 'Seoul|South Korea'))])\n",
    "                        \n",
    "print(distance_between_cities[frozenset(('Seoul|South Korea', 'Kathmandu|Nepal'))])\n",
    "\n",
    "# Ez 11331.7 km, azaz 5 atszallassal sikerult 9 km-rel kevesebbet utazni :D"
   ]
  },
  {
   "cell_type": "markdown",
   "id": "1d65d242",
   "metadata": {
    "slideshow": {
     "slide_type": "subslide"
    }
   },
   "source": [
    "**HF**: A Debrecenből legkevesebb átszállással Katmanduba vezető út mennyivel hosszabb, mint a legrövidebb út?"
   ]
  }
 ],
 "metadata": {
  "celltoolbar": "Slideshow",
  "kernelspec": {
   "display_name": "Python 3 (ipykernel)",
   "language": "python",
   "name": "python3"
  },
  "language_info": {
   "codemirror_mode": {
    "name": "ipython",
    "version": 3
   },
   "file_extension": ".py",
   "mimetype": "text/x-python",
   "name": "python",
   "nbconvert_exporter": "python",
   "pygments_lexer": "ipython3",
   "version": "3.9.12"
  }
 },
 "nbformat": 4,
 "nbformat_minor": 5
}
