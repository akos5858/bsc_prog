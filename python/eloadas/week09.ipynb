{
 "cells": [
  {
   "cell_type": "markdown",
   "id": "322f8c44",
   "metadata": {
    "slideshow": {
     "slide_type": "slide"
    }
   },
   "source": [
    "# Lineáris algebra alkalmazásai (Linear algebra and its applications)"
   ]
  },
  {
   "cell_type": "markdown",
   "id": "ca7d470f",
   "metadata": {
    "slideshow": {
     "slide_type": "slide"
    }
   },
   "source": [
    "Mátrixok és vektorok a matematika minden ágában előfordulnak, valamint rengeteg alkalmazásuk van:\n",
    "\n",
    "* képfeldolgozás\n",
    "    * képtömörítés, szűrés (blurring, sharpening, etc)\n",
    "    * objektum detekció \n",
    "    * szegmentáció\n",
    "* jelfeldolgozás, idősorok elemzése \n",
    "    * tőzsdei árfolyamok\n",
    "    * vízszintingadozás\n",
    "    * elektrofiziológiai jelek elemzése\n",
    "    * egérmozgás alapján felhasználó azonosítása\n",
    "    * szállodai szobák kihasználtsága\n",
    "    * trendek, szezonalitás vizsgálata\n",
    "\n",
    "Ez a lista lényegében a végtelenségig folytatható."
   ]
  },
  {
   "cell_type": "code",
   "execution_count": null,
   "id": "e629d92b",
   "metadata": {
    "slideshow": {
     "slide_type": "subslide"
    }
   },
   "outputs": [],
   "source": [
    "import matplotlib.image as im\n",
    "import matplotlib.pyplot as plt\n",
    "import numpy as np"
   ]
  },
  {
   "cell_type": "code",
   "execution_count": null,
   "id": "453398b3",
   "metadata": {
    "slideshow": {
     "slide_type": "subslide"
    }
   },
   "outputs": [],
   "source": [
    "image = im.imread(\"img/parrots.png\")\n",
    "\n",
    "image.shape"
   ]
  },
  {
   "cell_type": "code",
   "execution_count": null,
   "id": "2ac4009d",
   "metadata": {
    "slideshow": {
     "slide_type": "fragment"
    }
   },
   "outputs": [],
   "source": [
    "image[0, 0, :]"
   ]
  },
  {
   "cell_type": "code",
   "execution_count": null,
   "id": "224ffe0a",
   "metadata": {
    "slideshow": {
     "slide_type": "subslide"
    }
   },
   "outputs": [],
   "source": [
    "255 * image[0, 0, :]"
   ]
  },
  {
   "cell_type": "code",
   "execution_count": null,
   "id": "0e0ed738",
   "metadata": {
    "slideshow": {
     "slide_type": "subslide"
    }
   },
   "outputs": [],
   "source": [
    "plt.figure(figsize=(16, 10))\n",
    "plt.imshow(image)\n",
    "plt.show()"
   ]
  },
  {
   "cell_type": "code",
   "execution_count": null,
   "id": "e83fded5",
   "metadata": {
    "slideshow": {
     "slide_type": "subslide"
    }
   },
   "outputs": [],
   "source": [
    "# fliplr (flip left-right) felcseréli az oszlopok sorrendjét\n",
    "\n",
    "plt.figure(figsize=(16, 10))\n",
    "plt.imshow(np.fliplr(image))\n",
    "plt.show()"
   ]
  },
  {
   "cell_type": "code",
   "execution_count": null,
   "id": "6e6c0c01",
   "metadata": {
    "slideshow": {
     "slide_type": "subslide"
    }
   },
   "outputs": [],
   "source": [
    "# Kiátlagoljuk a színeket és a kapott képet szürkeként ábrázoljuk\n",
    "\n",
    "plt.figure(figsize=(16, 10))\n",
    "plt.imshow(np.mean(image, axis=-1), cmap=plt.get_cmap(\"gray\"))\n",
    "plt.show()"
   ]
  },
  {
   "cell_type": "code",
   "execution_count": null,
   "id": "67b70289",
   "metadata": {
    "slideshow": {
     "slide_type": "subslide"
    }
   },
   "outputs": [],
   "source": [
    "# Azonban a valódi szürkeárnyalatos kép a színeknek egy súlyozott átlaga\n",
    "\n",
    "grayscale_image = np.dot(image, [0.299 , 0.587, 0.114])\n",
    "\n",
    "plt.figure(figsize=(16, 10))\n",
    "plt.imshow(grayscale_image, cmap=plt.get_cmap('gray'))\n",
    "plt.show()"
   ]
  },
  {
   "cell_type": "markdown",
   "id": "db55f2a7",
   "metadata": {
    "slideshow": {
     "slide_type": "slide"
    }
   },
   "source": [
    "# Táblázatos adatok kezelése (pandas - tabular datasets in Python)"
   ]
  },
  {
   "cell_type": "markdown",
   "id": "08c2f18c",
   "metadata": {
    "slideshow": {
     "slide_type": "subslide"
    }
   },
   "source": [
    "<table border=\"1\" class=\"dataframe\">\n",
    "    <thead>\n",
    "        <tr style=\"text-align: right;\">\n",
    "            <th></th>\n",
    "            <th>name</th>\n",
    "            <th>age</th>\n",
    "            <th>average</th>\n",
    "        </tr>\n",
    "    </thead>\n",
    "    <tbody>\n",
    "        <tr>\n",
    "            <th>0</th>\n",
    "            <td>Anna</td>\n",
    "            <td>20</td>\n",
    "            <td>4.5</td>\n",
    "        </tr>\n",
    "        <tr>\n",
    "            <th>1</th>\n",
    "            <td>Bob</td>\n",
    "            <td>19</td>\n",
    "            <td>3.9</td>\n",
    "        </tr>\n",
    "        <tr>\n",
    "            <th>2</th>\n",
    "            <td>Cecil</td>\n",
    "            <td>22</td>\n",
    "            <td>4.1</td>\n",
    "        </tr>\n",
    "    </tbody>\n",
    "</table>"
   ]
  },
  {
   "cell_type": "markdown",
   "id": "281dd235",
   "metadata": {
    "slideshow": {
     "slide_type": "subslide"
    }
   },
   "source": [
    "A `pandas` könyvtár az alábbi feladatokra kínál megoldást:\n",
    "* táblázatos adatok kezelése\n",
    "* műveletek, csoportok képzése, statisztikák számolása\n",
    "* idősoros adatok kezelése\n",
    "* hiányzó adatok kezelése\n",
    "* adatok összefésülése SQL-szerű műveletekkel\n",
    "* sokféle input és output formátum támogatása"
   ]
  },
  {
   "cell_type": "code",
   "execution_count": null,
   "id": "e3b775c8",
   "metadata": {
    "slideshow": {
     "slide_type": "subslide"
    }
   },
   "outputs": [],
   "source": [
    "import matplotlib as mpl\n",
    "import matplotlib.pyplot as plt\n",
    "import numpy as np\n",
    "import pandas as pd"
   ]
  },
  {
   "cell_type": "code",
   "execution_count": null,
   "id": "d5ddb4f3",
   "metadata": {
    "slideshow": {
     "slide_type": "subslide"
    }
   },
   "outputs": [],
   "source": [
    "df = pd.DataFrame(\n",
    "    [[\"Anna\", 20, 4.5], [\"Bob\", 19, 3.9], [\"Cecil\", 22, 4.1]],\n",
    "    columns=[\"name\", \"age\", \"average\"]\n",
    ")\n",
    "\n",
    "df"
   ]
  },
  {
   "cell_type": "code",
   "execution_count": null,
   "id": "db1f0e03",
   "metadata": {
    "slideshow": {
     "slide_type": "subslide"
    }
   },
   "outputs": [],
   "source": [
    "df = pd.DataFrame(\n",
    "    [[\"Anna\", 20, 4.5], [\"Bob\", 19, 3.9], [\"Cecil\", 22, 4.1]],\n",
    "    columns=[\"name\", \"age\", \"average\"],\n",
    "    index=[\"one\", \"two\", \"three\"]\n",
    ")\n",
    "\n",
    "df"
   ]
  },
  {
   "cell_type": "code",
   "execution_count": null,
   "id": "b52672de",
   "metadata": {
    "slideshow": {
     "slide_type": "subslide"
    }
   },
   "outputs": [],
   "source": [
    "df[\"name\"]"
   ]
  },
  {
   "cell_type": "code",
   "execution_count": null,
   "id": "0be93a9f",
   "metadata": {
    "slideshow": {
     "slide_type": "subslide"
    }
   },
   "outputs": [],
   "source": [
    "df.loc[[\"one\", \"two\"]]"
   ]
  },
  {
   "cell_type": "code",
   "execution_count": null,
   "id": "374fd5da",
   "metadata": {
    "slideshow": {
     "slide_type": "subslide"
    }
   },
   "outputs": [],
   "source": [
    "df.loc[[\"one\", \"two\"], [\"name\", \"age\"]]"
   ]
  },
  {
   "cell_type": "code",
   "execution_count": null,
   "id": "5a08ee4f",
   "metadata": {
    "slideshow": {
     "slide_type": "subslide"
    }
   },
   "outputs": [],
   "source": [
    "df[[\"name\", \"age\"]]"
   ]
  },
  {
   "cell_type": "code",
   "execution_count": null,
   "id": "48f3a594",
   "metadata": {
    "slideshow": {
     "slide_type": "subslide"
    }
   },
   "outputs": [],
   "source": [
    "df[df[\"average\"] >= 4.0]"
   ]
  },
  {
   "cell_type": "markdown",
   "id": "420c2ce0",
   "metadata": {
    "slideshow": {
     "slide_type": "slide"
    }
   },
   "source": [
    "## A világ népessége"
   ]
  },
  {
   "cell_type": "code",
   "execution_count": null,
   "id": "54e2dd6e",
   "metadata": {
    "slideshow": {
     "slide_type": "subslide"
    }
   },
   "outputs": [],
   "source": [
    "df = pd.read_csv(\"data/population/world_population.csv\")"
   ]
  },
  {
   "cell_type": "code",
   "execution_count": null,
   "id": "8a4c1a36",
   "metadata": {
    "slideshow": {
     "slide_type": "fragment"
    }
   },
   "outputs": [],
   "source": [
    "df.shape"
   ]
  },
  {
   "cell_type": "code",
   "execution_count": null,
   "id": "e7aaed81",
   "metadata": {
    "slideshow": {
     "slide_type": "subslide"
    }
   },
   "outputs": [],
   "source": [
    "df.head()"
   ]
  },
  {
   "cell_type": "code",
   "execution_count": null,
   "id": "94ec9e59",
   "metadata": {
    "slideshow": {
     "slide_type": "subslide"
    }
   },
   "outputs": [],
   "source": [
    "df.columns"
   ]
  },
  {
   "cell_type": "code",
   "execution_count": null,
   "id": "91f39f1b",
   "metadata": {
    "slideshow": {
     "slide_type": "subslide"
    }
   },
   "outputs": [],
   "source": [
    "columns = []\n",
    "for colname in df.columns:\n",
    "    if colname.startswith(\"Area \"):\n",
    "        columns.append(\"Area\")\n",
    "    elif colname.startswith(\"Density \"):\n",
    "        columns.append(\"Density\")\n",
    "    else:\n",
    "        columns.append(colname)\n",
    "\n",
    "df.columns = columns"
   ]
  },
  {
   "cell_type": "code",
   "execution_count": null,
   "id": "0ce100e6",
   "metadata": {
    "slideshow": {
     "slide_type": "subslide"
    }
   },
   "outputs": [],
   "source": [
    "df.columns = columns"
   ]
  },
  {
   "cell_type": "code",
   "execution_count": null,
   "id": "eed86777",
   "metadata": {
    "slideshow": {
     "slide_type": "fragment"
    }
   },
   "outputs": [],
   "source": [
    "df.head()"
   ]
  },
  {
   "cell_type": "code",
   "execution_count": null,
   "id": "9c170dc6",
   "metadata": {
    "slideshow": {
     "slide_type": "subslide"
    }
   },
   "outputs": [],
   "source": [
    "#df.rename?"
   ]
  },
  {
   "cell_type": "code",
   "execution_count": null,
   "id": "8fc9a23e",
   "metadata": {
    "slideshow": {
     "slide_type": "subslide"
    }
   },
   "outputs": [],
   "source": [
    "df.rename(\n",
    "    columns={\"2022 Population\": \"2022\", \n",
    "        \"2020 Population\": \"2020\", \n",
    "        \"2015 Population\": \"2015\",\n",
    "        \"2010 Population\": \"2010\",\n",
    "        \"2000 Population\": \"2000\",\n",
    "        \"1990 Population\": \"1990\",\n",
    "        \"1980 Population\": \"1980\",\n",
    "        \"1970 Population\": \"1970\"}, \n",
    "    inplace=True\n",
    ")"
   ]
  },
  {
   "cell_type": "code",
   "execution_count": null,
   "id": "c247281a",
   "metadata": {
    "slideshow": {
     "slide_type": "subslide"
    }
   },
   "outputs": [],
   "source": [
    "df.head()"
   ]
  },
  {
   "cell_type": "code",
   "execution_count": null,
   "id": "069d8ac6",
   "metadata": {
    "slideshow": {
     "slide_type": "subslide"
    }
   },
   "outputs": [],
   "source": [
    "df.drop(columns=[\"CCA3\", \"Capital\"], inplace=True)"
   ]
  },
  {
   "cell_type": "code",
   "execution_count": null,
   "id": "5f3a68a0",
   "metadata": {
    "slideshow": {
     "slide_type": "fragment"
    }
   },
   "outputs": [],
   "source": [
    "df.head()"
   ]
  },
  {
   "cell_type": "code",
   "execution_count": null,
   "id": "a05e6641",
   "metadata": {
    "slideshow": {
     "slide_type": "subslide"
    }
   },
   "outputs": [],
   "source": [
    "df[df[\"Continent\"]==\"Europe\"].head()"
   ]
  },
  {
   "cell_type": "code",
   "execution_count": null,
   "id": "914d4e8a",
   "metadata": {
    "slideshow": {
     "slide_type": "subslide"
    }
   },
   "outputs": [],
   "source": [
    "df[df[\"Area\"] <= 10]"
   ]
  },
  {
   "cell_type": "code",
   "execution_count": null,
   "id": "a505fe6b",
   "metadata": {
    "slideshow": {
     "slide_type": "subslide"
    }
   },
   "outputs": [],
   "source": [
    "df[(df[\"Continent\"]!=\"Europe\") & (df[\"Area\"] <= 100)]"
   ]
  },
  {
   "cell_type": "code",
   "execution_count": null,
   "id": "ac172561",
   "metadata": {
    "slideshow": {
     "slide_type": "subslide"
    }
   },
   "outputs": [],
   "source": [
    "sorted_by_rank_df = df.sort_values(by=\"Rank\")\n",
    "\n",
    "sorted_by_rank_df.head(n=10)"
   ]
  },
  {
   "cell_type": "code",
   "execution_count": null,
   "id": "c5ac98c1",
   "metadata": {
    "slideshow": {
     "slide_type": "subslide"
    }
   },
   "outputs": [],
   "source": [
    "sorted_by_rank_df[sorted_by_rank_df[\"Continent\"]==\"Europe\"].head(n=10)"
   ]
  },
  {
   "cell_type": "code",
   "execution_count": null,
   "id": "f55c817e",
   "metadata": {
    "slideshow": {
     "slide_type": "subslide"
    }
   },
   "outputs": [],
   "source": [
    "europe_sorted_df = sorted_by_rank_df[sorted_by_rank_df[\"Continent\"]==\"Europe\"]\n",
    "\n",
    "k = 10"
   ]
  },
  {
   "cell_type": "code",
   "execution_count": null,
   "id": "181d7f8e",
   "metadata": {
    "slideshow": {
     "slide_type": "subslide"
    }
   },
   "outputs": [],
   "source": [
    "# Ábra készítése plt-vel. Ez a legegyszerűbb, ha csak egyetlen ábránk lesz\n",
    "\n",
    "plt.figure(figsize=(16, 6))\n",
    "plt.bar(range(k), europe_sorted_df[\"2022\"][:k])\n",
    "plt.title(\"Countries in Europe with the largest population\")\n",
    "plt.xticks(range(10), labels=europe_sorted_df[\"Country\"][:k], rotation=45, fontsize=14)\n",
    "plt.show()"
   ]
  },
  {
   "cell_type": "code",
   "execution_count": null,
   "id": "0b4b2f05",
   "metadata": {
    "slideshow": {
     "slide_type": "subslide"
    }
   },
   "outputs": [],
   "source": [
    "# Ábra készítése az Axis objektummal.\n",
    "\n",
    "fig, ax = plt.subplots(figsize=(16, 6))\n",
    "ax.bar(range(k), europe_sorted_df[\"2022\"][:k])\n",
    "ax.set_title(\"Countries in Europe with the largest population\")\n",
    "ax.set_xticks(range(10), labels=europe_sorted_df[\"Country\"][:k], rotation=45, fontsize=14)\n",
    "ax.yaxis.set_major_formatter(mpl.ticker.StrMethodFormatter('{x:,.0f}'))\n",
    "plt.show()"
   ]
  },
  {
   "cell_type": "markdown",
   "id": "c09ba0ee",
   "metadata": {
    "slideshow": {
     "slide_type": "subslide"
    }
   },
   "source": [
    "* Melyik ország lakossága növekedett a legnagyobb mértékben 1970 és 2022 között?\n",
    "* Melyik ország lakossága csökkent a legnagyobb mértékben 1970 és 2022 között?\n",
    "* Földrészenként melyik a legnépesebb ország?\n",
    "* A világ népességének mi a százalékos megoszlása földrészenként?"
   ]
  },
  {
   "cell_type": "code",
   "execution_count": null,
   "id": "0d603c38",
   "metadata": {
    "slideshow": {
     "slide_type": "subslide"
    }
   },
   "outputs": [],
   "source": [
    "ratio = (df[\"2022\"] / df[\"1970\"]).sort_values(ascending=False)"
   ]
  },
  {
   "cell_type": "code",
   "execution_count": null,
   "id": "c2c32939",
   "metadata": {
    "slideshow": {
     "slide_type": "fragment"
    }
   },
   "outputs": [],
   "source": [
    "ratio.head()"
   ]
  },
  {
   "cell_type": "code",
   "execution_count": null,
   "id": "a353b523",
   "metadata": {
    "slideshow": {
     "slide_type": "subslide"
    }
   },
   "outputs": [],
   "source": [
    "country_name = df.loc[ratio.index[0], \"Country\"]\n",
    "\n",
    "country_name"
   ]
  },
  {
   "cell_type": "code",
   "execution_count": null,
   "id": "89d4a76b",
   "metadata": {
    "slideshow": {
     "slide_type": "fragment"
    }
   },
   "outputs": [],
   "source": [
    "df[df[\"Country\"]==country_name]"
   ]
  },
  {
   "cell_type": "code",
   "execution_count": null,
   "id": "66d4a710",
   "metadata": {
    "slideshow": {
     "slide_type": "subslide"
    }
   },
   "outputs": [],
   "source": [
    "ratio.tail()"
   ]
  },
  {
   "cell_type": "code",
   "execution_count": null,
   "id": "fee14bae",
   "metadata": {
    "slideshow": {
     "slide_type": "subslide"
    }
   },
   "outputs": [],
   "source": [
    "country_name = df.loc[ratio.index[-1], \"Country\"]\n",
    "\n",
    "country_name"
   ]
  },
  {
   "cell_type": "code",
   "execution_count": null,
   "id": "01a23b2c",
   "metadata": {
    "slideshow": {
     "slide_type": "fragment"
    }
   },
   "outputs": [],
   "source": [
    "df[df[\"Country\"]==country_name]"
   ]
  },
  {
   "cell_type": "code",
   "execution_count": null,
   "id": "354ef124",
   "metadata": {
    "slideshow": {
     "slide_type": "subslide"
    }
   },
   "outputs": [],
   "source": [
    "grouped = df.groupby([\"Continent\"])"
   ]
  },
  {
   "cell_type": "code",
   "execution_count": null,
   "id": "7c1aa9e6",
   "metadata": {
    "slideshow": {
     "slide_type": "subslide"
    }
   },
   "outputs": [],
   "source": [
    "df.loc[grouped[\"2022\"].idxmax(), [\"Continent\", \"Country\", \"2022\"]]"
   ]
  },
  {
   "cell_type": "code",
   "execution_count": null,
   "id": "a6bbf1d9",
   "metadata": {
    "slideshow": {
     "slide_type": "subslide"
    }
   },
   "outputs": [],
   "source": [
    "percentage = grouped[\"World Population Percentage\"].aggregate(sum)\n",
    "\n",
    "percentage"
   ]
  },
  {
   "cell_type": "code",
   "execution_count": null,
   "id": "a8aad501",
   "metadata": {
    "slideshow": {
     "slide_type": "subslide"
    }
   },
   "outputs": [],
   "source": [
    "fig1, ax = plt.subplots(figsize=(10, 10))\n",
    "ax.pie(\n",
    "    percentage, \n",
    "    labels=percentage.index, \n",
    "    explode=(0, 0, 0.1, 0, 0, 0), \n",
    "    textprops={\"fontsize\": 14}, \n",
    "    autopct=\"%1.1f%%\")\n",
    "plt.show()"
   ]
  },
  {
   "cell_type": "markdown",
   "id": "3c33981b",
   "metadata": {
    "slideshow": {
     "slide_type": "slide"
    }
   },
   "source": [
    "#### A földrészek népességének változása 1970-től 2022-ig"
   ]
  },
  {
   "cell_type": "code",
   "execution_count": null,
   "id": "76a2a2dd",
   "metadata": {
    "slideshow": {
     "slide_type": "subslide"
    }
   },
   "outputs": [],
   "source": [
    "grouped = df.groupby([\"Continent\"])\n",
    "years = [\"1970\", \"1980\", \"1990\", \"2000\", \"2010\", \"2015\", \"2020\", \"2022\"]\n",
    "\n",
    "\n",
    "df_contient_populations = grouped[years].sum()"
   ]
  },
  {
   "cell_type": "code",
   "execution_count": null,
   "id": "e26b698c",
   "metadata": {
    "slideshow": {
     "slide_type": "subslide"
    }
   },
   "outputs": [],
   "source": [
    "df_contient_populations"
   ]
  },
  {
   "cell_type": "code",
   "execution_count": null,
   "id": "e4aa8f02",
   "metadata": {
    "slideshow": {
     "slide_type": "subslide"
    }
   },
   "outputs": [],
   "source": [
    "# Kijavitottam, hogy ne legyen egyenletes az x-tengely cimkeje, mivel maguk az evek sem egyenletesen vannak megadva\n",
    "\n",
    "df_tr = df_contient_populations.transpose()\n",
    "df_tr.index = pd.to_numeric(df_tr.index)\n",
    "\n",
    "df_tr.plot(figsize=(16, 8), xticks=df_tr.index, linewidth=3)\n",
    "plt.show()"
   ]
  },
  {
   "cell_type": "markdown",
   "id": "20cfd556",
   "metadata": {
    "slideshow": {
     "slide_type": "subslide"
    }
   },
   "source": [
    "**HF**\n",
    "* Melyek a Föld legsűrűbben lakott országai?\n",
    "* Melyek a legritkábban lakott országok?\n",
    "* Földrészenként melyik a három legritkábban lakott ország?\n",
    "* Melyik földrész népessége nőtt a legtöbbet 1970 óta?"
   ]
  },
  {
   "cell_type": "markdown",
   "id": "614fbc50",
   "metadata": {
    "slideshow": {
     "slide_type": "slide"
    }
   },
   "source": [
    "### Időjárás Szegeden"
   ]
  },
  {
   "cell_type": "code",
   "execution_count": null,
   "id": "54c6e00d",
   "metadata": {
    "slideshow": {
     "slide_type": "subslide"
    }
   },
   "outputs": [],
   "source": [
    "# Download data from:\n",
    "# https://www.kaggle.com/datasets/budincsevity/szeged-weather/download?datasetVersionNumber=1\n",
    "\n",
    "path = \"data/weatherHistory.csv\""
   ]
  },
  {
   "cell_type": "code",
   "execution_count": null,
   "id": "a5ae02c8",
   "metadata": {
    "slideshow": {
     "slide_type": "subslide"
    }
   },
   "outputs": [],
   "source": [
    "!head -n 5 $path"
   ]
  },
  {
   "cell_type": "code",
   "execution_count": null,
   "id": "dae38460",
   "metadata": {
    "slideshow": {
     "slide_type": "fragment"
    }
   },
   "outputs": [],
   "source": [
    "df = pd.read_csv(path)"
   ]
  },
  {
   "cell_type": "code",
   "execution_count": null,
   "id": "61ba1954",
   "metadata": {
    "slideshow": {
     "slide_type": "subslide"
    }
   },
   "outputs": [],
   "source": [
    "df.head()"
   ]
  },
  {
   "cell_type": "code",
   "execution_count": null,
   "id": "bb8ed638",
   "metadata": {
    "slideshow": {
     "slide_type": "subslide"
    }
   },
   "outputs": [],
   "source": [
    "df.dtypes"
   ]
  },
  {
   "cell_type": "code",
   "execution_count": null,
   "id": "42d310c9",
   "metadata": {
    "slideshow": {
     "slide_type": "subslide"
    }
   },
   "outputs": [],
   "source": [
    "df = pd.read_csv(\n",
    "    path, \n",
    "    index_col=\"Formatted Date\", \n",
    "    parse_dates=[\"Formatted Date\"],\n",
    "    converters={\"Formatted Date\": lambda x: pd.to_datetime(x, utc=True, format=\"%Y-%m-%d %H:%M:%S.%f %z\")}\n",
    ")\n",
    "\n",
    "\n",
    "df.sort_index(inplace=True)"
   ]
  },
  {
   "cell_type": "code",
   "execution_count": null,
   "id": "e6e05489",
   "metadata": {
    "slideshow": {
     "slide_type": "fragment"
    }
   },
   "outputs": [],
   "source": [
    "df.head()"
   ]
  },
  {
   "cell_type": "code",
   "execution_count": null,
   "id": "96770ddd",
   "metadata": {
    "slideshow": {
     "slide_type": "subslide"
    }
   },
   "outputs": [],
   "source": [
    "df.info()"
   ]
  },
  {
   "cell_type": "code",
   "execution_count": null,
   "id": "231f5368",
   "metadata": {
    "slideshow": {
     "slide_type": "subslide"
    }
   },
   "outputs": [],
   "source": [
    "df.index[0]"
   ]
  },
  {
   "cell_type": "code",
   "execution_count": null,
   "id": "b89a75aa",
   "metadata": {
    "slideshow": {
     "slide_type": "subslide"
    }
   },
   "outputs": [],
   "source": [
    "df.describe()"
   ]
  },
  {
   "cell_type": "code",
   "execution_count": null,
   "id": "8ccff0d1",
   "metadata": {
    "slideshow": {
     "slide_type": "subslide"
    }
   },
   "outputs": [],
   "source": [
    "df.drop(columns=[\"Loud Cover\"], inplace=True)"
   ]
  },
  {
   "cell_type": "code",
   "execution_count": null,
   "id": "e1f521b7",
   "metadata": {
    "slideshow": {
     "slide_type": "fragment"
    }
   },
   "outputs": [],
   "source": [
    "df.head()"
   ]
  },
  {
   "cell_type": "code",
   "execution_count": null,
   "id": "63f8bc32",
   "metadata": {
    "slideshow": {
     "slide_type": "subslide"
    }
   },
   "outputs": [],
   "source": [
    "df[\"Temperature (C)\"].plot(figsize=(16, 6))\n",
    "plt.show()"
   ]
  },
  {
   "cell_type": "code",
   "execution_count": null,
   "id": "5df51328",
   "metadata": {
    "slideshow": {
     "slide_type": "subslide"
    }
   },
   "outputs": [],
   "source": [
    "df[\"Temperature (C)\"].iloc[:14*24].plot(figsize=(16, 6))\n",
    "plt.show()"
   ]
  },
  {
   "cell_type": "code",
   "execution_count": null,
   "id": "1d6938b9",
   "metadata": {
    "slideshow": {
     "slide_type": "subslide"
    }
   },
   "outputs": [],
   "source": [
    "from datetime import datetime\n",
    "import pytz\n",
    "\n",
    "UTC = pytz.timezone(\"UTC\")\n",
    "\n",
    "year = df.index.to_series().between(datetime(2011, 3, 1, tzinfo=UTC), datetime(2012, 2, 28, tzinfo=UTC))\n",
    "\n",
    "df_one_year = df.loc[year]"
   ]
  },
  {
   "cell_type": "code",
   "execution_count": null,
   "id": "4f99e920",
   "metadata": {
    "slideshow": {
     "slide_type": "subslide"
    }
   },
   "outputs": [],
   "source": [
    "df_one_year.head()"
   ]
  },
  {
   "cell_type": "code",
   "execution_count": null,
   "id": "c70d124e",
   "metadata": {
    "slideshow": {
     "slide_type": "subslide"
    }
   },
   "outputs": [],
   "source": [
    "df_one_year[\"Temperature (C)\"].plot(figsize=(16, 6))\n",
    "plt.show()"
   ]
  },
  {
   "cell_type": "code",
   "execution_count": null,
   "id": "275b276f",
   "metadata": {
    "slideshow": {
     "slide_type": "subslide"
    }
   },
   "outputs": [],
   "source": [
    "df_one_year['Temperature (C)'].resample('M').apply(np.mean).plot(kind=\"barh\")\n",
    "plt.show()"
   ]
  },
  {
   "cell_type": "code",
   "execution_count": null,
   "id": "5f2ce776",
   "metadata": {
    "slideshow": {
     "slide_type": "subslide"
    }
   },
   "outputs": [],
   "source": [
    "df['Temperature (C)'].resample(\"Y\").apply(np.mean).plot(kind=\"barh\")\n",
    "plt.show()"
   ]
  },
  {
   "cell_type": "code",
   "execution_count": null,
   "id": "dd1ce682",
   "metadata": {
    "slideshow": {
     "slide_type": "subslide"
    }
   },
   "outputs": [],
   "source": [
    "df_one_year.resample('3M')['Temperature (C)'].agg(['min','max', 'mean'])"
   ]
  },
  {
   "cell_type": "markdown",
   "id": "b17a83ba",
   "metadata": {
    "slideshow": {
     "slide_type": "subslide"
    }
   },
   "source": [
    "**HF**: \n",
    "* Keressünk gyanús adapontokat. Nézzük meg a légnyomás oszlopot. Mi a mérési értékek eloszlása?\n",
    "* Hány napon havazott?\n",
    "* Mikor volt köd? Melyik a legködösebb hónap?"
   ]
  }
 ],
 "metadata": {
  "celltoolbar": "Slideshow",
  "kernelspec": {
   "display_name": "Python 3.9.12 ('base')",
   "language": "python",
   "name": "python3"
  },
  "language_info": {
   "codemirror_mode": {
    "name": "ipython",
    "version": 3
   },
   "file_extension": ".py",
   "mimetype": "text/x-python",
   "name": "python",
   "nbconvert_exporter": "python",
   "pygments_lexer": "ipython3",
   "version": "3.9.12"
  },
  "vscode": {
   "interpreter": {
    "hash": "9429e3d8733c1ac76f5c3b0c6cdd2706acd1fd7b4f8c91f27a242412c8600fc4"
   }
  }
 },
 "nbformat": 4,
 "nbformat_minor": 5
}
