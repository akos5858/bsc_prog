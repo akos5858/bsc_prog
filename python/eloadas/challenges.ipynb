{
 "cells": [
  {
   "cell_type": "markdown",
   "id": "f9a32526",
   "metadata": {},
   "source": [
    "A következő feladatok azoknak szólnak, akik számára nem jelent kihívást a reguláris óra anyaga."
   ]
  },
  {
   "cell_type": "markdown",
   "id": "ff78dfd9",
   "metadata": {},
   "source": [
    "#### A megadott fájlban melyik sornak felel meg a legnagyobb szám?\n",
    "\n",
    "A mellékelt `data/bases_and_exponents.txt` fájlban minden sorban két pozitív egész szám szerepel, vesszővel elválasztva, például az első sorban az áll, hogy\n",
    "```\n",
    "519432,525806\n",
    "```\n",
    "\n",
    "Ez azt jelenti, hogy a szám, amiről szó van, az a $519432^{525806}$, azaz az első szám az alap, a második a kitevő. Mi annak a sornak az (1-alapú) indexe, amelyik a legnagyobb számnak felel meg?"
   ]
  },
  {
   "cell_type": "markdown",
   "id": "313842f2",
   "metadata": {},
   "source": [
    "#### Szuperképességű királynők a sakktáblán\n",
    "\n",
    "\n",
    "Tegyük fel, hogy létezik egy olyan sakkfigura, ami egyesíti egy királynő (vezér) és egy ló (huszár) tulajdonságait, azaz a vele azonos sorban, vagy azonos oszlopban vagy azonos átlóban álló figurákat üti, emellett L-alakban is tud ütni, mint egy ló.\n",
    "\n",
    "Ha van egy $n\\times n$-es sakktáblánk, ahol $8\\leq n < 15$, akkor hányféleképpen tudunk letenni $n$ szuperkirálynőt erre a táblára úgy, hogy azok ne üssék egymást?\n",
    "\n",
    "Példa. Ha $n=10$, akkor $4$-féleképpen lehet letenni $10$ szuperkirálynőt a táblára. \n",
    "\n",
    "Egy lehetséges elhelyezés: `(10, 8), (9, 5), (8, 2), (7, 10), (6, 7), (5, 4), (4, 1), (3, 9), (2, 6), (1, 3)`,\n",
    "ahol az első elem a sorindex $1$ és $10$ között, a második az oszlopindex. A többi lehetséges elhelyezés:\n",
    "\n",
    "`(10,7), (9,3), (8,10), (7,6), (6,2), (5,9), (4,5), (3,1), (2,8), (1,4)`, \n",
    "\n",
    "`(10,4), (9,8), (8,1), (7,5), (6,9), (5,2), (4,6), (3,10), (2,3), (1,7)`, \n",
    "\n",
    "`(10,3), (9,6), (8,9), (7,1), (6,4), (5,7), (4,10), (3,2), (2,5), (1,8)`\n",
    "\n",
    "(A forgatással és/vagy tükrözéssel kapott elrendezéseket is mind különbözőeknek tekintjük.)"
   ]
  },
  {
   "cell_type": "markdown",
   "id": "14375900",
   "metadata": {},
   "source": [
    "#### Hányszor lesz az $\\binom{n}{k}$ binomiális együttható értéke $1\\,000\\,000$-nál nagyobb?\n",
    "\n",
    "Ha $1\\leq n\\leq 100$, akkor az \n",
    "$$\n",
    "\\binom{n}{k} = \\frac{n!}{k!(n - k)!}\\quad (0\\leq k\\leq n)\n",
    "$$ binomiális együttható értéke hány esetben lesz egymilliónál nagyobb? Az első $n$ érték, amelyhez tartozó valamelyik binomiális együttható meghaladja az egymilliót, az $n=23$, ugyanis $\\binom{23}{10} = 1144066$."
   ]
  },
  {
   "cell_type": "markdown",
   "id": "32c7d67c",
   "metadata": {},
   "source": [
    "#### Mi az első nem-ismétlődő karakter egy stringben?\n",
    "\n",
    "Írjunk egy függvényt, amely egy stringet vár inputként és visszadja az első olyan karakterét, amelyik a stringben sehol máshol nincs jelen. A kis- és nagybetűk ismétlődés szempontjából azonosak számítanak, azonban a függvény a karakter helyes alakját kell hogy visszaadja.\n",
    "\n",
    "Például az `s = \"Hello, world!\"` stringben a `\"H\"` az első nem ismétlődő karakter. Az `s = \"stReSs\"` stringben a `t` az első nem ismétlődő karakter. Ha a stringben minden karakter ismétlődik, akkor adjunk vissza `None`-t."
   ]
  },
  {
   "attachments": {},
   "cell_type": "markdown",
   "id": "f7986d7b",
   "metadata": {},
   "source": [
    "#### Egyszerű számológép\n",
    "\n",
    "Van egy számológépünk, amivel 3 dolgot tudunk az éppen aktuális $x$ értékkel csinálni: megszorozhatjuk kettővel, megszorozhatjuk hárommal, vagy hozzáadhatunk egyet.\n",
    "\n",
    "Az a kérdés, hogy adott $n$ pozitív természetes számhoz mennyi az a legkevesebb lépésszám, amellyel az $1$-től eljutunk az $n$-hez ezen három lehetséges művelet egymásutáni alkamazásával?\n",
    "\n",
    "Például ha $n=5$, akkor három lépés alatt lehet eljutni az $5$-höz:\n",
    "$$\n",
    "1 \\xrightarrow{\\times 2} 2 \\xrightarrow{\\times 2} 4 \\xrightarrow{+ 1} 5.\n",
    "$$\n",
    "Egy másik lehetséges, szintén három lépéses út az \n",
    "$$\n",
    "1 \\xrightarrow{\\times 3} 3 \\xrightarrow{+1} 4 \\xrightarrow{+ 1} 5.\n",
    "$$\n",
    "\n",
    "További segítség: az $n = 96234$ számhoz $14$ lépésben vezet a legrövidebb út."
   ]
  },
  {
   "cell_type": "markdown",
   "id": "db1d3b50",
   "metadata": {},
   "source": [
    "#### Óriási Fibonacci számok osztási maradékai\n",
    "\n",
    "Adott $1 \\leq n \\leq 10^{18}$ és $2 \\leq m \\leq 10^5$ esetén számoljuk ki $f_n\\ (\\text{mod}\\ m)$ értékét ($f_0 = 1, f_1 = 1$ a kezdőértékek). Például $f_{238} = 161 \\ (\\text{mod}\\ 1000)$, vagy $f_{123456789} = 22 \\ (\\text{mod}\\ 77)$."
   ]
  }
 ],
 "metadata": {
  "kernelspec": {
   "display_name": "Python 3 (ipykernel)",
   "language": "python",
   "name": "python3"
  },
  "language_info": {
   "codemirror_mode": {
    "name": "ipython",
    "version": 3
   },
   "file_extension": ".py",
   "mimetype": "text/x-python",
   "name": "python",
   "nbconvert_exporter": "python",
   "pygments_lexer": "ipython3",
   "version": "3.9.12"
  }
 },
 "nbformat": 4,
 "nbformat_minor": 5
}
