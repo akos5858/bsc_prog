{
 "cells": [
  {
   "cell_type": "markdown",
   "id": "d5038b2d",
   "metadata": {
    "slideshow": {
     "slide_type": "slide"
    }
   },
   "source": [
    "# Problémamegoldás I. (Problem solving - part 1)"
   ]
  },
  {
   "cell_type": "markdown",
   "id": "05998c79",
   "metadata": {
    "slideshow": {
     "slide_type": "subslide"
    }
   },
   "source": [
    "Az elmúlt hetekben megismerkedtünk a Python programozási nyelv alapjaival. Ez a tudás elegendő ahhoz, hogy önállóan el tudjatok kezdeni különféle algoritmikus problémákat megoldani, akár a matematikán belül, akár azon kívül.\n",
    "\n",
    "A következőkben más tantárgyakból tanult fogalmakat, algoritmusokat fogunk átnézni és implementálni, hogy azonnal alkalmazni tudjátok, amit eddig tanultatok az első félévben."
   ]
  },
  {
   "cell_type": "markdown",
   "id": "7a410a1b",
   "metadata": {
    "slideshow": {
     "slide_type": "slide"
    }
   },
   "source": [
    "## Algebra és számelmélet (algebra and number theory)\n",
    "\n",
    "* oszthatóság\n",
    "* prímszámok\n",
    "* számelméleti függvények\n",
    "___   \n",
    "* négyzetes mátrixok determinánsa \n",
    "* kifejtési tétel\n",
    "* lineáris egyenletrendszerek megoldása\n",
    "___\n",
    "\n",
    "Ez utóbbiakra láttunk példát a Numpy beépített függvényei közül."
   ]
  },
  {
   "cell_type": "markdown",
   "id": "5c81e616",
   "metadata": {
    "slideshow": {
     "slide_type": "subslide"
    }
   },
   "source": [
    "### Legnagyobb közös osztó keresése"
   ]
  },
  {
   "cell_type": "markdown",
   "id": "b3c3b52e",
   "metadata": {
    "slideshow": {
     "slide_type": "fragment"
    }
   },
   "source": [
    "**Euklideszi algoritmus**: Ha $a$ és $b$ nemnegatív egész számok, akkor $a = kb + m$, ahol $m < b$. Ekkor $a$ és $b$ közös osztóinak halmaza megegyezik $b$ és $m$ közös osztóinak halmazával.\n",
    "\n",
    "$$\n",
    "a = kb + m \\\\\n",
    "b = k_1m + m_1 \\\\\n",
    "m = k_2m_1 + m_2 \\\\\n",
    "\\vdots\n",
    "$$\n",
    "\n",
    "Mivel minden lépésben az $m_i$ maradék csökken, véges sok lépésben nulla lesz. Ekkor $a$ és $b$ közös osztói ugyanazok, mint $b$ és $m$ közös osztói, melyek ugyanazok, mint $m$ és $m_1$ közös osztói, stb., végül azok ugyanazok, mint $m_k$ közös osztói (valamilyen $k$-ra, ahok $m_{k+1}=0$)."
   ]
  },
  {
   "cell_type": "code",
   "execution_count": 1,
   "id": "2bd91e58",
   "metadata": {
    "slideshow": {
     "slide_type": "subslide"
    }
   },
   "outputs": [],
   "source": [
    "# Euklideszi algoritmus legnagyobb közös osztó keresésre (greatest common divisor)\n",
    "\n",
    "def calc_gcd(a, b):\n",
    "    while b > 0:\n",
    "        pass"
   ]
  },
  {
   "cell_type": "code",
   "execution_count": 2,
   "id": "9e592a5e",
   "metadata": {
    "slideshow": {
     "slide_type": "subslide"
    }
   },
   "outputs": [
    {
     "name": "stdout",
     "output_type": "stream",
     "text": [
      "6\n",
      "1\n"
     ]
    }
   ],
   "source": [
    "def calc_gcd(a, b):\n",
    "    while b > 0:\n",
    "        a, b = b, a % b\n",
    "    \n",
    "    return a\n",
    "\n",
    "\n",
    "print(calc_gcd(2022, 12))\n",
    "\n",
    "print(calc_gcd(13, 21))"
   ]
  },
  {
   "cell_type": "markdown",
   "id": "a31214a1",
   "metadata": {
    "slideshow": {
     "slide_type": "subslide"
    }
   },
   "source": [
    "### Legkisebb közös többszörös\n",
    "\n",
    "Adott $a$ és $b$ nemnegatív egészek, a legkisebb közös többszörös az a legkisebb nemnegatív egész szám, amelynek $a$ és $b$ is osztója."
   ]
  },
  {
   "cell_type": "code",
   "execution_count": 3,
   "id": "82dd80c6",
   "metadata": {
    "slideshow": {
     "slide_type": "fragment"
    }
   },
   "outputs": [],
   "source": [
    "def calc_lcm(a, b):\n",
    "    pass"
   ]
  },
  {
   "cell_type": "code",
   "execution_count": 4,
   "id": "21dc58e0",
   "metadata": {
    "slideshow": {
     "slide_type": "fragment"
    }
   },
   "outputs": [],
   "source": [
    "def calc_lcm(a, b):\n",
    "    gcd = calc_gcd(a, b)\n",
    "    return (a // gcd) * b"
   ]
  },
  {
   "cell_type": "code",
   "execution_count": 5,
   "id": "d92b760c",
   "metadata": {
    "slideshow": {
     "slide_type": "fragment"
    }
   },
   "outputs": [
    {
     "data": {
      "text/plain": [
       "30"
      ]
     },
     "execution_count": 5,
     "metadata": {},
     "output_type": "execute_result"
    }
   ],
   "source": [
    "calc_lcm(10, 15)"
   ]
  },
  {
   "cell_type": "code",
   "execution_count": 6,
   "id": "d74a363a",
   "metadata": {
    "slideshow": {
     "slide_type": "slide"
    }
   },
   "outputs": [],
   "source": [
    "def nr_gcd_steps(a, b):\n",
    "    steps = 0\n",
    "    while b > 0:\n",
    "        a, b = b, a % b\n",
    "        steps += 1\n",
    "    \n",
    "    return steps"
   ]
  },
  {
   "cell_type": "code",
   "execution_count": 7,
   "id": "262eb5f0",
   "metadata": {
    "slideshow": {
     "slide_type": "slide"
    }
   },
   "outputs": [
    {
     "name": "stdout",
     "output_type": "stream",
     "text": [
      "The most steps required for the pair (8, 5): 4.\n"
     ]
    }
   ],
   "source": [
    "limit = 10\n",
    "\n",
    "max_step = 0\n",
    "max_a, max_b = 0, 0\n",
    "for a in range(2, limit+1):\n",
    "    for b in range(1, a):\n",
    "        nr_steps = nr_gcd_steps(a, b)\n",
    "        if nr_steps > max_step:\n",
    "            max_step = nr_steps\n",
    "            max_a = a\n",
    "            max_b = b\n",
    "\n",
    "\n",
    "print(f\"The most steps required for the pair ({max_a}, {max_b}): {max_step}.\")"
   ]
  },
  {
   "cell_type": "markdown",
   "id": "fbb558ee",
   "metadata": {
    "slideshow": {
     "slide_type": "fragment"
    }
   },
   "source": [
    "**Állítás**: Ha az euklideszi algoritmus $n$ lépés alatt fejeződik be egy $a > b > 0$ számpárra, akkor $a\\geq f_{n+1}$ és $b\\geq f_{n}$, ahol $f_0 = 0$, $f_1 = 1$ és $f_{n} = f_{n-1} + f_{n-2}$ a Fibonacci-sorozat elemei."
   ]
  },
  {
   "cell_type": "markdown",
   "id": "4ead9dc6",
   "metadata": {
    "slideshow": {
     "slide_type": "subslide"
    }
   },
   "source": [
    "Mindkét függvény már implementálva van a `math` könyvtárban.\n",
    "\n",
    "```python\n",
    "import math\n",
    "\n",
    "math.gcd()\n",
    "math.lcm()\n",
    "```"
   ]
  },
  {
   "cell_type": "markdown",
   "id": "5bb83ce3",
   "metadata": {
    "slideshow": {
     "slide_type": "slide"
    }
   },
   "source": [
    "### Prímszámok\n",
    "\n",
    "Néhány prímekkel kapcsolatos lehetséges kérdés:\n",
    "\n",
    "* döntsük el, hogy egy pozitív szám prím-e\n",
    "* állítsuk elő $N$-ig a prímszámokat\n",
    "* számoljuk ki $n$ pozitív osztóinak számát - $d(n)$\n",
    "* számoljuk ki az $n$ pozitív osztóinak összegét - $\\sigma(n)$\n",
    "* hány olyan $1\\leq a \\leq n$ tulajdonságú $a$ szám van, melyre $(a, n) = 1$?  - $\\varphi(n)$"
   ]
  },
  {
   "cell_type": "code",
   "execution_count": 8,
   "id": "f85fd0b5",
   "metadata": {
    "slideshow": {
     "slide_type": "subslide"
    }
   },
   "outputs": [],
   "source": [
    "def is_prime(n):\n",
    "    pass"
   ]
  },
  {
   "cell_type": "code",
   "execution_count": 9,
   "id": "ac251de9",
   "metadata": {
    "slideshow": {
     "slide_type": "subslide"
    }
   },
   "outputs": [],
   "source": [
    "def is_prime(n):\n",
    "    if n == 2:\n",
    "        return True\n",
    "    \n",
    "    pass"
   ]
  },
  {
   "cell_type": "code",
   "execution_count": 10,
   "id": "57df958c",
   "metadata": {
    "slideshow": {
     "slide_type": "subslide"
    }
   },
   "outputs": [],
   "source": [
    "def is_prime(n):\n",
    "    if n == 2:\n",
    "        return True\n",
    "    \n",
    "    if n == 1 or n % 2 == 0:\n",
    "        return False\n",
    "    \n",
    "    # ha egyik sem, akkor azt kell megnézni, hogy 1 és n között egyik szám sem osztója n-nek\n",
    "    pass"
   ]
  },
  {
   "cell_type": "code",
   "execution_count": 11,
   "id": "1ceef76b",
   "metadata": {
    "slideshow": {
     "slide_type": "subslide"
    }
   },
   "outputs": [],
   "source": [
    "def is_prime(n):\n",
    "    if n == 2:\n",
    "        return True\n",
    "    \n",
    "    if n == 1 or n % 2 == 0:\n",
    "        return False\n",
    "    \n",
    "    # ha egyik sem, akkor azt kell megnézni, hogy 1 és n között egyik szám sem osztója n-nek\n",
    "    for k in range(2, n):\n",
    "        if n % k == 0:\n",
    "            # k osztója n-nek, tehát n nem prím\n",
    "            return False\n",
    "        \n",
    "    return True    "
   ]
  },
  {
   "cell_type": "markdown",
   "id": "a4c965c9",
   "metadata": {
    "slideshow": {
     "slide_type": "fragment"
    }
   },
   "source": [
    "Tudunk-e javítani\n",
    "\n",
    "* az algoritmuson?\n",
    "* a kódon?"
   ]
  },
  {
   "cell_type": "code",
   "execution_count": 12,
   "id": "5e96bfb9",
   "metadata": {
    "slideshow": {
     "slide_type": "subslide"
    }
   },
   "outputs": [],
   "source": [
    "# Elég sqrt{n}-ig megnézni, hogy van-e osztó\n",
    "import math\n",
    "\n",
    "\n",
    "def is_prime(n):\n",
    "    if n == 2:\n",
    "        return True\n",
    "    \n",
    "    if n == 1 or n % 2 == 0:\n",
    "        return False\n",
    "    \n",
    "    limit = math.floor(math.sqrt(n))   # int(math.sqrt(n)) is lehetne itt\n",
    "    for k in range(2, limit+1):\n",
    "        if n % k == 0:\n",
    "            return False\n",
    "        \n",
    "    return True"
   ]
  },
  {
   "cell_type": "code",
   "execution_count": 13,
   "id": "508c92fe",
   "metadata": {
    "slideshow": {
     "slide_type": "subslide"
    }
   },
   "outputs": [],
   "source": [
    "import math\n",
    "\n",
    "\n",
    "def is_prime(n):\n",
    "    if n == 2:\n",
    "        return True\n",
    "    \n",
    "    if n == 1 or n % 2 == 0:\n",
    "        return False\n",
    "    \n",
    "    limit = math.floor(math.sqrt(n))\n",
    "    return all(n % k != 0 for k in range(2, limit+1))"
   ]
  },
  {
   "cell_type": "code",
   "execution_count": 14,
   "id": "83b6500e",
   "metadata": {
    "slideshow": {
     "slide_type": "subslide"
    }
   },
   "outputs": [
    {
     "name": "stdout",
     "output_type": "stream",
     "text": [
      "1 is not prime!\n",
      "2 is prime!\n",
      "3 is prime!\n",
      "4 is not prime!\n",
      "5 is prime!\n",
      "6 is not prime!\n",
      "7 is prime!\n",
      "8 is not prime!\n",
      "9 is not prime!\n",
      "10 is not prime!\n",
      "11 is prime!\n",
      "12 is not prime!\n",
      "13 is prime!\n",
      "14 is not prime!\n"
     ]
    }
   ],
   "source": [
    "for k in range(1, 15):\n",
    "    if is_prime(k):\n",
    "        print(f\"{k} is prime!\")\n",
    "    else:\n",
    "        print(f\"{k} is not prime!\")"
   ]
  },
  {
   "cell_type": "markdown",
   "id": "28540cc3",
   "metadata": {
    "slideshow": {
     "slide_type": "subslide"
    }
   },
   "source": [
    "Ennek a függvénynek a segítségével előállíthatjuk az összes prímet adott $N$-ig, vagy akár az első $n$ prímet is. \n",
    "\n",
    "Ennél lehet hatékonyabb megoldást is írni, hiszen ha a 2 prímszám, akkor ennek a többszörösei biztosan nem azok, tehát felesleges leellenőrizni, hogy a 4, 6, 8, stb. számok prímek-e."
   ]
  },
  {
   "cell_type": "code",
   "execution_count": 15,
   "id": "1c6f40ab",
   "metadata": {
    "slideshow": {
     "slide_type": "fragment"
    }
   },
   "outputs": [
    {
     "name": "stdout",
     "output_type": "stream",
     "text": [
      "2, 3, 5, 7, 11, 13, 17, 19, 23, 29, 31, 37, 41, 43, 47, 53, 59, 61, 67, 71, 73, 79, 83, 89, 97\n"
     ]
    }
   ],
   "source": [
    "n = 100\n",
    "\n",
    "primes = [k for k in range(n) if is_prime(k)]\n",
    "\n",
    "print(\", \".join(map(str, primes)))"
   ]
  },
  {
   "cell_type": "markdown",
   "id": "cd28d615",
   "metadata": {
    "slideshow": {
     "slide_type": "slide"
    }
   },
   "source": [
    "### Számelméleti függvények"
   ]
  },
  {
   "cell_type": "markdown",
   "id": "33954bf5",
   "metadata": {
    "slideshow": {
     "slide_type": "subslide"
    }
   },
   "source": [
    "$d(n)$ jelöli az $n$ pozitív egész szám osztóinak számát. Ha\n",
    "\n",
    "$$\n",
    "n = p_1^{\\alpha_1}p_2^{\\alpha_2}\\cdots p_k^{\\alpha_k},\n",
    "$$\n",
    "akkor\n",
    "$$\n",
    "d(n) = (\\alpha_1 + 1)(\\alpha_2 + 1)\\cdots(\\alpha_k + 1)\n",
    "$$"
   ]
  },
  {
   "cell_type": "markdown",
   "id": "08b88299",
   "metadata": {
    "slideshow": {
     "slide_type": "subslide"
    }
   },
   "source": [
    "$\\sigma(n)$ jelöli az $n$ pozitív egész oszóinak összegét. Ha\n",
    "\n",
    "$$\n",
    "n = p_1^{\\alpha_1}p_2^{\\alpha_2}\\cdots p_k^{\\alpha_k},\n",
    "$$\n",
    "akkor\n",
    "$$\n",
    "\\sigma(n) = \\frac{p_1^{\\alpha_1 + 1} - 1}{p_1 - 1}\\cdot \\frac{p_2^{\\alpha_2+1} - 1}{p_2 - 1}\\cdots \\frac{p_k^{\\alpha_k+1} - 1}{p_k - 1}\n",
    "$$"
   ]
  },
  {
   "cell_type": "markdown",
   "id": "e6507a0a",
   "metadata": {
    "slideshow": {
     "slide_type": "subslide"
    }
   },
   "source": [
    "$\\varphi(n)$ jelöli az $1\\leq a\\leq n$, $(a, n) = 1$ tulajdonságú $a$ számok számát (Euler-féle $\\varphi$-függvény). Ha\n",
    "\n",
    "$$\n",
    "n = p_1^{\\alpha_1}p_2^{\\alpha_2}\\cdots p_k^{\\alpha_k},\n",
    "$$\n",
    "akkor\n",
    "$$\n",
    "\\varphi(n) = n \\left(1 - \\frac{1}{p_1} \\right)\\left(1 - \\frac{1}{p_2} \\right)\\cdots\\left(1 - \\frac{1}{p_k}\\right).\n",
    "$$"
   ]
  },
  {
   "cell_type": "markdown",
   "id": "cc59b59c",
   "metadata": {
    "slideshow": {
     "slide_type": "slide"
    }
   },
   "source": [
    "Nézzünk néhány feladatot, ahol ezen függvények valamelyikének ismerete jól jöhet. Mindhárom esetben fontos volt, hogy ismerjük egy $n$ természetes szám prímtényezős felbontását.\n",
    "\n",
    "Azokat a számpárokat, amelyekre igaz, hogy az egyik szám önmagánál kisebb osztóinak összege a másik számmal egyenlő és fordítva, **barátságos számok**nak hívjuk. Például a (220, 284) számpár barátságos számpár, mert 220 önmagánál kisebb osztói $1, 2, 4, 5, 10, 11, 20, 22, 44, 55, 110$, ezek összege $284$, illetve fordítva, a $284$ önmagánál kisebb osztói $2, 4, 71, 142$, melyek összege éppen $220$.\n",
    "\n",
    "**Feladat**: Keressük meg az összes barátságos $(a, b)$ számpárt, ahol $a, b < 10000$."
   ]
  },
  {
   "cell_type": "markdown",
   "id": "fdc462d2",
   "metadata": {
    "slideshow": {
     "slide_type": "slide"
    }
   },
   "source": [
    "A fenti feladat megoldást bontsuk fel az alábbi lépésekre\n",
    "\n",
    "* állítsuk elő az $n$ természetes prímtényezős felbontását\n",
    "* számoljuk ki egy $n$ természetes szám önmagánál kisebb osztóinak összegét\n",
    "* számoljuk ki az összes természetes szám önmagánál kisebb osztóinak összegét 1 és 10000 között és tároljuk el\n",
    "* keressünk meg az összes (a, b) barátságos számpárt"
   ]
  },
  {
   "cell_type": "markdown",
   "id": "8c887fb3",
   "metadata": {
    "slideshow": {
     "slide_type": "subslide"
    }
   },
   "source": [
    "**Feladat**: állítsuk elő az 𝑛 természetes prímtényezős felbontását\n",
    "\n",
    "\n",
    "Hogy tároljuk el a prímtényezős felbontást? Talán a legegyszerűbb egy `dictionary` lenne megfelelő erre a célra:\n",
    "```python\n",
    "prime_factorization = {p_1: alpha_1, p_2: alpha_2, ...}\n",
    "```"
   ]
  },
  {
   "cell_type": "markdown",
   "id": "040d35ed",
   "metadata": {
    "slideshow": {
     "slide_type": "subslide"
    }
   },
   "source": [
    "Ha $n$ egy szám, akkor $p$-t hogyan tudjuk eltüntetni $n$-ből? Meg kell keresni $p$ legmagasabb olyan hatványát, ami osztja $n$-et."
   ]
  },
  {
   "cell_type": "code",
   "execution_count": 16,
   "id": "04e542da",
   "metadata": {
    "slideshow": {
     "slide_type": "fragment"
    }
   },
   "outputs": [],
   "source": [
    "def extract_prime_factor(n, p, factorization):\n",
    "    while n % p == 0:\n",
    "        pass"
   ]
  },
  {
   "cell_type": "code",
   "execution_count": 17,
   "id": "0e4c0fbd",
   "metadata": {
    "slideshow": {
     "slide_type": "subslide"
    }
   },
   "outputs": [],
   "source": [
    "def extract_prime_factor(n, p, factorization):\n",
    "    while n % p == 0:\n",
    "        n = n // p\n",
    "        factorization[p] += 1\n",
    "    return n  "
   ]
  },
  {
   "cell_type": "code",
   "execution_count": 18,
   "id": "ad46c3fe",
   "metadata": {
    "slideshow": {
     "slide_type": "subslide"
    }
   },
   "outputs": [],
   "source": [
    "import math\n",
    "from collections import defaultdict\n",
    "\n",
    "\n",
    "def extract_prime_factor(n, p, factorization):\n",
    "    while n % p == 0:\n",
    "        n = n // p\n",
    "        factorization[p] += 1\n",
    "    return n"
   ]
  },
  {
   "cell_type": "markdown",
   "id": "fdbbe788",
   "metadata": {
    "slideshow": {
     "slide_type": "subslide"
    }
   },
   "source": [
    "```python\n",
    "def calc_prime_factorization(n):\n",
    "    factorization = defaultdict(int)\n",
    "    limit = int(math.sqrt(n))\n",
    "    \n",
    "    n = extract_prime_factor(n, 2, factorization)\n",
    "    for p in range(???, ???, ???):\n",
    "        pass\n",
    "        \n",
    "    pass\n",
    "    return dict(factorization)\n",
    "```"
   ]
  },
  {
   "cell_type": "code",
   "execution_count": 19,
   "id": "ed466edf",
   "metadata": {
    "slideshow": {
     "slide_type": "subslide"
    }
   },
   "outputs": [],
   "source": [
    "def calc_prime_factorization(n):\n",
    "    factorization = defaultdict(int)\n",
    "    limit = int(math.sqrt(n))\n",
    "    \n",
    "    n = extract_prime_factor(n, 2, factorization)\n",
    "    for p in range(3, limit+1, 2):\n",
    "        n = extract_prime_factor(n, p, factorization)\n",
    "        \n",
    "    # Készen vagyunk?    \n",
    "    \n",
    "    return dict(factorization)"
   ]
  },
  {
   "cell_type": "code",
   "execution_count": 20,
   "id": "3a2acd4c",
   "metadata": {
    "slideshow": {
     "slide_type": "fragment"
    }
   },
   "outputs": [
    {
     "name": "stdout",
     "output_type": "stream",
     "text": [
      "{2: 2, 3: 2}\n",
      "{3: 1}\n"
     ]
    }
   ],
   "source": [
    "print(calc_prime_factorization(36))\n",
    "\n",
    "print(calc_prime_factorization(15))"
   ]
  },
  {
   "cell_type": "code",
   "execution_count": 21,
   "id": "c07073d1",
   "metadata": {
    "slideshow": {
     "slide_type": "subslide"
    }
   },
   "outputs": [],
   "source": [
    "def calc_prime_factorization(n):\n",
    "    factorization = defaultdict(int)\n",
    "    limit = int(math.sqrt(n))\n",
    "    \n",
    "    n = extract_prime_factor(n, 2, factorization)\n",
    "    for p in range(3, limit+1, 2):\n",
    "        n = extract_prime_factor(n, p, factorization)\n",
    "        \n",
    "    if n > 1:\n",
    "        factorization[n] = 1\n",
    "    \n",
    "    return dict(factorization)"
   ]
  },
  {
   "cell_type": "code",
   "execution_count": 22,
   "id": "3b30bd46",
   "metadata": {
    "slideshow": {
     "slide_type": "subslide"
    }
   },
   "outputs": [
    {
     "data": {
      "text/plain": [
       "{2: 2, 3: 1, 5: 2, 7: 1, 13: 2}"
      ]
     },
     "execution_count": 22,
     "metadata": {},
     "output_type": "execute_result"
    }
   ],
   "source": [
    "calc_prime_factorization(354900)"
   ]
  },
  {
   "cell_type": "markdown",
   "id": "5927aeff",
   "metadata": {
    "slideshow": {
     "slide_type": "fragment"
    }
   },
   "source": [
    "**Feladat**: Számoljuk ki egy $n$ szám önmagánál kisebb osztóinak összegét!"
   ]
  },
  {
   "cell_type": "code",
   "execution_count": 23,
   "id": "694dc57e",
   "metadata": {
    "slideshow": {
     "slide_type": "fragment"
    }
   },
   "outputs": [],
   "source": [
    "def calc_sum_of_divisors(n):\n",
    "    prime_factorization = calc_prime_factorization(n)\n",
    "    s = 1\n",
    "    for p, exponent in prime_factorization.items():\n",
    "        s *= ((p ** (exponent + 1) - 1) // (p - 1))\n",
    "    return s - n"
   ]
  },
  {
   "cell_type": "code",
   "execution_count": 24,
   "id": "6a03340d",
   "metadata": {
    "slideshow": {
     "slide_type": "fragment"
    }
   },
   "outputs": [
    {
     "name": "stdout",
     "output_type": "stream",
     "text": [
      "284\n",
      "220\n"
     ]
    }
   ],
   "source": [
    "print(calc_sum_of_divisors(220))\n",
    "\n",
    "print(calc_sum_of_divisors(284))"
   ]
  },
  {
   "cell_type": "markdown",
   "id": "54092bf8",
   "metadata": {
    "slideshow": {
     "slide_type": "subslide"
    }
   },
   "source": [
    "**Feladat**: keressük meg az összes barátságos számpárt $1$ és $10000$ között."
   ]
  },
  {
   "cell_type": "code",
   "execution_count": 25,
   "id": "4de4b51f",
   "metadata": {
    "slideshow": {
     "slide_type": "fragment"
    }
   },
   "outputs": [],
   "source": [
    "def amicable_pairs(upper_limit):\n",
    "    sum_of_divisors = [calc_sum_of_divisors(n) for n in range(1, upper_limit+1)]\n",
    "    pairs = []\n",
    "    for a in range(2, upper_limit+1):\n",
    "        divisor_sum_of_a = sum_of_divisors[a-1]\n",
    "        for b in range(2, a):\n",
    "            divisor_sum_of_b = sum_of_divisors[b-1]\n",
    "            if divisor_sum_of_a == b and divisor_sum_of_b == a:\n",
    "                pairs.append((a, b))\n",
    "    \n",
    "    return pairs            "
   ]
  },
  {
   "cell_type": "code",
   "execution_count": 26,
   "id": "8face3ac",
   "metadata": {
    "slideshow": {
     "slide_type": "fragment"
    }
   },
   "outputs": [
    {
     "name": "stdout",
     "output_type": "stream",
     "text": [
      "(284, 220)\n",
      "(1210, 1184)\n",
      "(2924, 2620)\n",
      "(5564, 5020)\n",
      "(6368, 6232)\n"
     ]
    }
   ],
   "source": [
    "for pair in amicable_pairs(10000):\n",
    "    print(pair)"
   ]
  },
  {
   "cell_type": "markdown",
   "id": "7f8871c7",
   "metadata": {
    "slideshow": {
     "slide_type": "slide"
    }
   },
   "source": [
    "### Mátrix determinánsa\n",
    "\n",
    "Lineáris algebrából ismert fogalom egy négyzetes mátrix determinánsa, amely a mátrix oszlopvektorai által kifeszített $n$-dimenziós parallelepipedon előjeles térfogata. Szokás egy bonyolult definíciót is adni a determinánsra, ugyanakkor a kiszámolásához a kifejtési tételnek nevezett eljárást is használhatnánk:\n",
    "\n",
    "Ha $A\\in\\mathbb{R}^{n\\times n}$, $1\\leq i\\leq n$ rögzített sorindex, akkor\n",
    "\n",
    "$$\n",
    "\\det(A) = \\sum_{j=1}^n(-1)^{i+j}a_{ij} A_{ij},\n",
    "$$\n",
    "ahol $A_{ij}$ az $A$ mátrix $i$-edik sorának és $j$-edik oszlopának elhagyásával keletkező részmátrix determinánsa."
   ]
  },
  {
   "cell_type": "code",
   "execution_count": 27,
   "id": "78c0e724",
   "metadata": {
    "slideshow": {
     "slide_type": "subslide"
    }
   },
   "outputs": [
    {
     "data": {
      "text/plain": [
       "array([[  4,   0,   9,   8],\n",
       "       [  8,   3,  18,  23],\n",
       "       [ -4,   9,  -7,  13],\n",
       "       [ -8,  -9, -18, -36]])"
      ]
     },
     "execution_count": 27,
     "metadata": {},
     "output_type": "execute_result"
    }
   ],
   "source": [
    "import numpy as np\n",
    "import numpy.linalg as lg\n",
    "import time\n",
    "\n",
    "A = np.array([\n",
    "    [4, 0, 9, 8], \n",
    "    [8, 3, 18, 23],\n",
    "    [-4, 9, -7, 13],\n",
    "    [-8, -9, -18, -36]\n",
    "])\n",
    "\n",
    "A"
   ]
  },
  {
   "cell_type": "code",
   "execution_count": 28,
   "id": "cce8dd31",
   "metadata": {
    "slideshow": {
     "slide_type": "subslide"
    }
   },
   "outputs": [],
   "source": [
    "def calc_determinant(A, ix=None):    \n",
    "    pass"
   ]
  },
  {
   "cell_type": "code",
   "execution_count": 29,
   "id": "5de31217",
   "metadata": {
    "slideshow": {
     "slide_type": "fragment"
    }
   },
   "outputs": [],
   "source": [
    "def calc_determinant(A, ix=None):\n",
    "    if len(A) == 1:\n",
    "        return A[0, 0]\n",
    "    \n",
    "    pass"
   ]
  },
  {
   "cell_type": "code",
   "execution_count": 30,
   "id": "0af315cd",
   "metadata": {
    "slideshow": {
     "slide_type": "subslide"
    }
   },
   "outputs": [],
   "source": [
    "def calc_determinant(A, ix=None):\n",
    "    if len(A) == 1:\n",
    "        return A[0, 0]\n",
    "    \n",
    "    if ix is None:\n",
    "        # Fejtsük ki a nulladik sor szerint, de később megkereshetjük a legtöbb nullát tartalmazó sor indexét\n",
    "        ix = 0\n",
    "    \n",
    "    pass"
   ]
  },
  {
   "cell_type": "code",
   "execution_count": 31,
   "id": "0c39da55",
   "metadata": {
    "slideshow": {
     "slide_type": "subslide"
    }
   },
   "outputs": [],
   "source": [
    "def calc_determinant(A, ix=None):\n",
    "    if len(A) == 1:\n",
    "        return A[0, 0]\n",
    "    \n",
    "    if ix is None:\n",
    "        # Fejtsük ki a nulladik sor szerint, de később megkereshetjük a legtöbb nullát tartalmazó sor indexét\n",
    "        ix = 0\n",
    "    \n",
    "    pass"
   ]
  },
  {
   "cell_type": "code",
   "execution_count": 32,
   "id": "136aac6d",
   "metadata": {
    "slideshow": {
     "slide_type": "subslide"
    }
   },
   "outputs": [],
   "source": [
    "def calc_determinant(A, ix=None):\n",
    "    if len(A) == 1:\n",
    "        return A[0, 0]\n",
    "    \n",
    "    if ix is None:\n",
    "        ix = 0\n",
    "    \n",
    "    det = 0\n",
    "    for jy, a in enumerate(A[ix, :]):\n",
    "        pass"
   ]
  },
  {
   "cell_type": "code",
   "execution_count": 33,
   "id": "dc6bedbb",
   "metadata": {
    "slideshow": {
     "slide_type": "subslide"
    }
   },
   "outputs": [],
   "source": [
    "def calc_determinant(A, ix=None):\n",
    "    if len(A) == 1:\n",
    "        return A[0, 0]\n",
    "    \n",
    "    if ix is None:\n",
    "        ix = 0\n",
    "    \n",
    "    row_indices = [i != ix for i in range(n)]\n",
    "    \n",
    "    det = 0\n",
    "    for jy, a in enumerate(A[ix, :]):\n",
    "        sign = 1 if (ix + jy) % 2 == 0 else -1\n",
    "        column_indices = [j != jy for j in range(n)]\n",
    "        pass"
   ]
  },
  {
   "cell_type": "code",
   "execution_count": 34,
   "id": "71a418ed",
   "metadata": {
    "slideshow": {
     "slide_type": "subslide"
    }
   },
   "outputs": [],
   "source": [
    "def calc_determinant(A, ix=None):\n",
    "    n = len(A)\n",
    "    if n == 1:\n",
    "        return A[0, 0]\n",
    "    \n",
    "    if ix is None:\n",
    "        ix = 0\n",
    "    \n",
    "    row_indices = [i != ix for i in range(n)]\n",
    "    \n",
    "    det = 0\n",
    "    for jy, a in enumerate(A[ix, :]):\n",
    "        sign = 1 if (ix + jy) % 2 == 0 else -1\n",
    "        column_indices = [j != jy for j in range(n)]\n",
    "        submatrix = A[np.ix_(row_indices, column_indices)]\n",
    "        pass"
   ]
  },
  {
   "cell_type": "code",
   "execution_count": 35,
   "id": "234a6eb3",
   "metadata": {
    "slideshow": {
     "slide_type": "subslide"
    }
   },
   "outputs": [],
   "source": [
    "def calc_determinant(A, ix=None):\n",
    "    n = len(A)\n",
    "    if n == 1:\n",
    "        return A[0, 0]\n",
    "    \n",
    "    if ix is None:\n",
    "        ix = 0\n",
    "    \n",
    "    row_indices = [i != ix for i in range(n)]\n",
    "    \n",
    "    det = 0\n",
    "    for jy, a in enumerate(A[ix, :]):\n",
    "        sign = 1 if (ix + jy) % 2 == 0 else -1\n",
    "        column_indices = [j != jy for j in range(n)]\n",
    "        submatrix = A[np.ix_(row_indices, column_indices)]\n",
    "        det += (sign * a * calc_determinant(submatrix))\n",
    "    \n",
    "    return det"
   ]
  },
  {
   "cell_type": "code",
   "execution_count": 36,
   "id": "93e9ea65",
   "metadata": {
    "slideshow": {
     "slide_type": "subslide"
    }
   },
   "outputs": [
    {
     "name": "stdout",
     "output_type": "stream",
     "text": [
      "24\n"
     ]
    },
    {
     "data": {
      "text/plain": [
       "23.99999999999997"
      ]
     },
     "execution_count": 36,
     "metadata": {},
     "output_type": "execute_result"
    }
   ],
   "source": [
    "print(calc_determinant(A))\n",
    "\n",
    "lg.det(A)"
   ]
  },
  {
   "cell_type": "code",
   "execution_count": 37,
   "id": "4d0bb141",
   "metadata": {
    "slideshow": {
     "slide_type": "subslide"
    }
   },
   "outputs": [
    {
     "data": {
      "text/plain": [
       "array([[-0.8459141 , -3.00575034,  4.14027845, -0.95080311, -0.48915319],\n",
       "       [ 1.14094135, -4.54538617,  4.47072789,  4.95654141,  2.76665974],\n",
       "       [-3.80698857, -2.37007451,  2.951365  , -2.32934736, -1.92141372],\n",
       "       [ 4.02738811, -4.45638946, -1.11487451, -4.78910053, -1.44167819],\n",
       "       [-1.38543145, -3.29559716,  4.38692633,  3.34218261,  1.3770551 ]])"
      ]
     },
     "execution_count": 37,
     "metadata": {},
     "output_type": "execute_result"
    }
   ],
   "source": [
    "B = 10 * np.random.random_sample((5, 5)) - 5\n",
    "\n",
    "B"
   ]
  },
  {
   "cell_type": "code",
   "execution_count": 38,
   "id": "1497e6b1",
   "metadata": {
    "slideshow": {
     "slide_type": "subslide"
    }
   },
   "outputs": [
    {
     "name": "stdout",
     "output_type": "stream",
     "text": [
      "-16.15205146741749\n"
     ]
    },
    {
     "data": {
      "text/plain": [
       "-16.152051467417028"
      ]
     },
     "execution_count": 38,
     "metadata": {},
     "output_type": "execute_result"
    }
   ],
   "source": [
    "print(calc_determinant(B))\n",
    "\n",
    "lg.det(B)"
   ]
  },
  {
   "cell_type": "code",
   "execution_count": 39,
   "id": "78d36d84",
   "metadata": {
    "slideshow": {
     "slide_type": "fragment"
    }
   },
   "outputs": [
    {
     "name": "stdout",
     "output_type": "stream",
     "text": [
      "63412998.771399215\n",
      "48.85027742385864\n",
      "\n",
      "63412998.7713992\n",
      "0.0\n"
     ]
    }
   ],
   "source": [
    "B = 10 * np.random.random_sample((10, 10)) - 5\n",
    "\n",
    "t = time.time()\n",
    "print(calc_determinant(B))\n",
    "print(time.time() - t)\n",
    "print()\n",
    "\n",
    "t = time.time()\n",
    "print(lg.det(B))\n",
    "print(time.time() - t)"
   ]
  },
  {
   "cell_type": "markdown",
   "id": "cc4e518e",
   "metadata": {
    "slideshow": {
     "slide_type": "slide"
    }
   },
   "source": [
    "## Analízis (Analysis)"
   ]
  },
  {
   "cell_type": "markdown",
   "id": "448843ca",
   "metadata": {
    "slideshow": {
     "slide_type": "subslide"
    }
   },
   "source": [
    "Analízisből elsősorban numerikus számításokhoz kapcsolódó algoritmusokat lehet írni, ezekről azonban majd később fogtok tanulni.\n",
    "\n",
    "* határérték, gyökkeresés\n",
    "___\n",
    "* numerikus deriválás\n",
    "* numerikus integrálás (területszámítás)\n",
    "* differenciálegyenletek numerikus megoldása"
   ]
  },
  {
   "cell_type": "markdown",
   "id": "595e2264",
   "metadata": {
    "slideshow": {
     "slide_type": "subslide"
    }
   },
   "source": [
    "### A babiloni módszer\n",
    "\n",
    "Adott $n$ természetes számra szeretnénk $\\sqrt{n}$-et kiszámolni.\n",
    "\n",
    "* legyen $x_0$ egy első közelítése $\\sqrt{n}$-nek\n",
    "* ha $\\epsilon$ hibát vétettünk, akkor nem $x_0^2 =n$ lesz igaz, hanem $(x_0 + \\epsilon)^2 = n$ teljesül.\n",
    "* ez utóbbit kifejtve $n = x_0^2 + \\epsilon(2x_0 + \\epsilon)$, azaz\n",
    "$$\n",
    "x_0 + \\epsilon = x_0 + \\frac{n - x_0^2}{2x_0 + \\epsilon}\\approx x_0 + \\frac{n-x_0^2}{2x_0} = \\frac{\\frac{n}{x_0} + x_0}{2}\n",
    "$$\n",
    "* a következő közelítés legyen $x_1 := \\frac{\\frac{n}{x_0} + x_0}{2}$."
   ]
  },
  {
   "cell_type": "code",
   "execution_count": 40,
   "id": "4910c6f3",
   "metadata": {
    "slideshow": {
     "slide_type": "subslide"
    }
   },
   "outputs": [],
   "source": [
    "def babylonian_method(n, initial_guess=1):\n",
    "    def good_enough(x):\n",
    "        return abs(x ** 2 - n) < 1e-4\n",
    "    \n",
    "    x = initial_guess\n",
    "    while not good_enough(x):\n",
    "        x = (n / x + x) / 2\n",
    "    \n",
    "    return x"
   ]
  },
  {
   "cell_type": "code",
   "execution_count": 41,
   "id": "8355f50d",
   "metadata": {
    "slideshow": {
     "slide_type": "fragment"
    }
   },
   "outputs": [
    {
     "name": "stdout",
     "output_type": "stream",
     "text": [
      "1.4142135623730951\n"
     ]
    },
    {
     "data": {
      "text/plain": [
       "1.4142156862745097"
      ]
     },
     "execution_count": 41,
     "metadata": {},
     "output_type": "execute_result"
    }
   ],
   "source": [
    "print(math.sqrt(2))\n",
    "\n",
    "babylonian_method(2)"
   ]
  },
  {
   "cell_type": "code",
   "execution_count": 42,
   "id": "a52b1c1d",
   "metadata": {
    "slideshow": {
     "slide_type": "subslide"
    }
   },
   "outputs": [
    {
     "name": "stdout",
     "output_type": "stream",
     "text": [
      "48.425200051213004\n"
     ]
    },
    {
     "data": {
      "text/plain": [
       "48.42520011448305"
      ]
     },
     "execution_count": 42,
     "metadata": {},
     "output_type": "execute_result"
    }
   ],
   "source": [
    "print(math.sqrt(2345))\n",
    "\n",
    "babylonian_method(2345)"
   ]
  },
  {
   "cell_type": "code",
   "execution_count": 43,
   "id": "61596a85",
   "metadata": {
    "slideshow": {
     "slide_type": "fragment"
    }
   },
   "outputs": [
    {
     "data": {
      "text/plain": [
       "0.007811500042664063"
      ]
     },
     "execution_count": 43,
     "metadata": {},
     "output_type": "execute_result"
    }
   ],
   "source": [
    "t = 0.000001\n",
    "\n",
    "result = babylonian_method(t**2)\n",
    "\n",
    "abs(t - result)"
   ]
  },
  {
   "cell_type": "code",
   "execution_count": 44,
   "id": "e3a156c9",
   "metadata": {
    "slideshow": {
     "slide_type": "subslide"
    }
   },
   "outputs": [],
   "source": [
    "def babylonian_method(n, initial_guess=1):\n",
    "    def good_enough(x):\n",
    "        return abs(x ** 2 - n) / n < 1e-4\n",
    "    \n",
    "    x = initial_guess\n",
    "    while not good_enough(x):\n",
    "        x = (n / x + x) / 2\n",
    "    \n",
    "    return x"
   ]
  },
  {
   "cell_type": "code",
   "execution_count": 45,
   "id": "ba4df255",
   "metadata": {
    "slideshow": {
     "slide_type": "fragment"
    }
   },
   "outputs": [
    {
     "name": "stdout",
     "output_type": "stream",
     "text": [
      "1.4142135623730951\n"
     ]
    },
    {
     "data": {
      "text/plain": [
       "1.4142156862745097"
      ]
     },
     "execution_count": 45,
     "metadata": {},
     "output_type": "execute_result"
    }
   ],
   "source": [
    "print(math.sqrt(2))\n",
    "\n",
    "babylonian_method(2)"
   ]
  },
  {
   "cell_type": "code",
   "execution_count": 46,
   "id": "29712cf7",
   "metadata": {
    "slideshow": {
     "slide_type": "subslide"
    }
   },
   "outputs": [
    {
     "name": "stdout",
     "output_type": "stream",
     "text": [
      "48.425200051213004\n"
     ]
    },
    {
     "data": {
      "text/plain": [
       "48.42520011448305"
      ]
     },
     "execution_count": 46,
     "metadata": {},
     "output_type": "execute_result"
    }
   ],
   "source": [
    "print(math.sqrt(2345))\n",
    "\n",
    "babylonian_method(2345)"
   ]
  },
  {
   "cell_type": "code",
   "execution_count": 47,
   "id": "6558cdfb",
   "metadata": {
    "slideshow": {
     "slide_type": "fragment"
    }
   },
   "outputs": [
    {
     "data": {
      "text/plain": [
       "1.0000001034612418e-06"
      ]
     },
     "execution_count": 47,
     "metadata": {},
     "output_type": "execute_result"
    }
   ],
   "source": [
    "t = 0.000001\n",
    "\n",
    "babylonian_method(t**2)"
   ]
  },
  {
   "cell_type": "markdown",
   "id": "9eca71d9",
   "metadata": {
    "slideshow": {
     "slide_type": "slide"
    }
   },
   "source": [
    "**Feladat**: Adott $n<=12$-re számoljuk ki és nyomtassuk ki a Pascal-háromszög első $n$ sorát. A Pascal-háromszög $n$-edik sorának $k$-adik eleme definíció szerint\n",
    "$$\n",
    "P_{n, k} = \\binom{n}{k} = \\frac{n!}{k!(n-k)!}\n",
    "$$\n",
    "\n",
    "pl. $n = 3$-ra ez legyen az output:\n",
    "\n",
    "1\\\n",
    "1 1\\\n",
    "1 2 1\\\n",
    "1 3 3 1"
   ]
  }
 ],
 "metadata": {
  "celltoolbar": "Slideshow",
  "kernelspec": {
   "display_name": "Python 3.9.12 ('base')",
   "language": "python",
   "name": "python3"
  },
  "language_info": {
   "codemirror_mode": {
    "name": "ipython",
    "version": 3
   },
   "file_extension": ".py",
   "mimetype": "text/x-python",
   "name": "python",
   "nbconvert_exporter": "python",
   "pygments_lexer": "ipython3",
   "version": "3.9.12"
  },
  "vscode": {
   "interpreter": {
    "hash": "9429e3d8733c1ac76f5c3b0c6cdd2706acd1fd7b4f8c91f27a242412c8600fc4"
   }
  }
 },
 "nbformat": 4,
 "nbformat_minor": 5
}
