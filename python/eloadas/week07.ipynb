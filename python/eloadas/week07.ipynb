{
 "cells": [
  {
   "cell_type": "markdown",
   "id": "2d4c65e7",
   "metadata": {
    "slideshow": {
     "slide_type": "slide"
    }
   },
   "source": [
    "# OOP - öröklődés (inheritance)"
   ]
  },
  {
   "cell_type": "markdown",
   "id": "a94ab761",
   "metadata": {
    "slideshow": {
     "slide_type": "slide"
    }
   },
   "source": [
    "Ezt a témát csak röviden érintjük. A nagy OOP nyelvekben az öröklődés egy központi jelentőségű téma, de itt most ezen az órán csak érintőlegesen beszélünk róla.\n",
    "\n",
    "Gyakran fordul elő olyan helyzet, amikor valamilyen hierarchiába rendezhető osztályaink vannak. Pl. lehet egy `Person` osztályunk, amely emberekről tárol valamilyen attribútumokat, és lehet egy `Student` osztály is, amely hallgatók adatait tárolja. Mivel minden `Student` egyben egy `Person` is, ezért a `Person`-ban definiált attribútumok, metódusok egyben minden `Student` számára értelmesek, és ezeket nem kell újra definiálnunk, hanem megmondhatjuk, hogy a `Student` osztály örökölje meg a `Person` osztály metódusait.\n",
    "\n",
    "Arra is van lehetőség, hogy a megörökölt metódusokat az adott al-osztályban (subclass) felülírjuk (override)."
   ]
  },
  {
   "cell_type": "markdown",
   "id": "338c598e",
   "metadata": {
    "slideshow": {
     "slide_type": "slide"
    }
   },
   "source": [
    "Az első rövid példánkban a téglalapokat tároló `Rectangle` osztályt definiáljuk, melynek van egy `area` property-je. Minden négyzet egyben egy téglalap, ezért a négyzeteket tároló `Square` osztály leszármazik a `Rectangle` osztályból."
   ]
  },
  {
   "cell_type": "code",
   "execution_count": null,
   "id": "f2f67274",
   "metadata": {
    "slideshow": {
     "slide_type": "subslide"
    }
   },
   "outputs": [],
   "source": [
    "class Rectangle:\n",
    "    def __init__(self, width, height):\n",
    "        self.width = width\n",
    "        self.height = height\n",
    "        \n",
    "    @property\n",
    "    def area(self):\n",
    "        return self.width * self.height\n",
    "    \n",
    "    \n",
    "    \n",
    "class Square(Rectangle):\n",
    "    def __init__(self, side_length):\n",
    "        pass"
   ]
  },
  {
   "cell_type": "code",
   "execution_count": null,
   "id": "cbb3d455",
   "metadata": {
    "slideshow": {
     "slide_type": "subslide"
    }
   },
   "outputs": [],
   "source": [
    "s = Square(10)\n",
    "\n",
    "s.area"
   ]
  },
  {
   "cell_type": "code",
   "execution_count": null,
   "id": "35f854f3",
   "metadata": {
    "slideshow": {
     "slide_type": "subslide"
    }
   },
   "outputs": [],
   "source": [
    "# Meg kell hívni az ős-osztály __init__ metódusát\n",
    "\n",
    "class Square(Rectangle):\n",
    "    def __init__(self, side_length):\n",
    "        super().__init__(side_length, side_length)"
   ]
  },
  {
   "cell_type": "code",
   "execution_count": null,
   "id": "803eb02a",
   "metadata": {
    "slideshow": {
     "slide_type": "fragment"
    }
   },
   "outputs": [],
   "source": [
    "s = Square(10)\n",
    "\n",
    "s.area"
   ]
  },
  {
   "cell_type": "code",
   "execution_count": null,
   "id": "8672c79a",
   "metadata": {
    "slideshow": {
     "slide_type": "subslide"
    }
   },
   "outputs": [],
   "source": [
    "class Rectangle:\n",
    "    def __init__(self, width, height):\n",
    "        self.width = width\n",
    "        self.height = height\n",
    "        \n",
    "    def __repr__(self):\n",
    "        return f\"Rectangle({self.width}, {self.height})\"\n",
    "        \n",
    "    @property\n",
    "    def area(self):\n",
    "        return self.width * self.height\n",
    "    \n",
    "    \n",
    "    \n",
    "class Square(Rectangle):\n",
    "    def __init__(self, side_length):\n",
    "        super().__init__(side_length, side_length)"
   ]
  },
  {
   "cell_type": "code",
   "execution_count": null,
   "id": "6590d7fc",
   "metadata": {
    "slideshow": {
     "slide_type": "subslide"
    }
   },
   "outputs": [],
   "source": [
    "s = Square(10)\n",
    "\n",
    "s"
   ]
  },
  {
   "cell_type": "code",
   "execution_count": null,
   "id": "943044af",
   "metadata": {
    "slideshow": {
     "slide_type": "slide"
    }
   },
   "outputs": [],
   "source": [
    "class Rectangle:\n",
    "    def __init__(self, width, height):\n",
    "        self.width = width\n",
    "        self.height = height\n",
    "        \n",
    "    def __repr__(self):\n",
    "        return f\"Rectangle({self.width}, {self.height})\"\n",
    "        \n",
    "    @property\n",
    "    def area(self):\n",
    "        return self.width * self.height\n",
    "    \n",
    "    \n",
    "\n",
    "class Square(Rectangle):\n",
    "    def __init__(self, side_length):\n",
    "        super().__init__(side_length, side_length)\n",
    "        \n",
    "    def __repr__(self):\n",
    "        return f\"Square({self.width})\""
   ]
  },
  {
   "cell_type": "code",
   "execution_count": null,
   "id": "12ca147b",
   "metadata": {
    "slideshow": {
     "slide_type": "subslide"
    }
   },
   "outputs": [],
   "source": [
    "r = Rectangle(10, 20)\n",
    "print(r.area)\n",
    "print(r)\n",
    "\n",
    "\n",
    "s = Square(10)\n",
    "print(s.area)\n",
    "print(s)"
   ]
  },
  {
   "cell_type": "code",
   "execution_count": null,
   "id": "6156ce67",
   "metadata": {
    "slideshow": {
     "slide_type": "subslide"
    }
   },
   "outputs": [],
   "source": [
    "print(type(s))\n",
    "\n",
    "print(isinstance(s, Square))\n",
    "print(isinstance(s, Rectangle))\n",
    "\n",
    "print(issubclass(Square, Rectangle))"
   ]
  },
  {
   "cell_type": "markdown",
   "id": "0d2b8c1b",
   "metadata": {
    "slideshow": {
     "slide_type": "slide"
    }
   },
   "source": [
    "A beépített adatszerkezeteknél is láthatunk öröklődést. Például a korábban látott `Counter` osztály definíciója így kezdődik:\n",
    "```python\n",
    "class Counter(dict):\n",
    "    pass\n",
    "```\n",
    "azaz a `Counter` osztály leszármazik a `dict` osztályból, vagyis egy Counter egyben egy `dict` is. Pythonban lehetséges a többszörös öröklődés is, azonban ebbe az irányba már nem megyünk tovább."
   ]
  },
  {
   "cell_type": "markdown",
   "id": "f7517666",
   "metadata": {
    "slideshow": {
     "slide_type": "slide"
    }
   },
   "source": [
    "# Funkcionális programozás - FP (Functional programming)"
   ]
  },
  {
   "cell_type": "markdown",
   "id": "e8e37a41",
   "metadata": {
    "slideshow": {
     "slide_type": "subslide"
    }
   },
   "source": [
    "A funkcionális programozás egy másik programozási paradigma, amelyet a Python támogat (pontosabban szólva megtűr :). Ez a paradigma a (matematikai értelemben vett) függvény fogalmát helyezi középpontba. Az adatot függvények sorozatának alkalmazásával transzformáljuk, míg el nem jutunk a végeredményhez.\n",
    "\n",
    "Tisztán funkcionális nyelvekben a feladatmegoldás az alábbi alapfogalmak köré csoportosul: értékek (és nem változók), kifejezések (és nem utasítások), mellékhatás-mentes függvények.\n",
    "\n",
    "Pythonban vannak bizonyos nyelvi elemek, melyeket a funkcionális nyelvek inspiráltak, ezek közül tekintünk most át néhányat."
   ]
  },
  {
   "cell_type": "markdown",
   "id": "d5dac67b",
   "metadata": {
    "slideshow": {
     "slide_type": "subslide"
    }
   },
   "source": [
    "A funkcionális nyelvek egyidősek a jelenlegi legrégebb óta létező programozási nyelvekkel, ugyanakkor mindig is inkább afféle akadémiai, kutatóintézeti különlegességekként voltak kezelve. Az utóbbi években, évtizedekben azonban a funkcionális nyelvekben már régóta létező feature-ök elkezdtek átszivárogni a leggyakrabban használt mainstream nyelvekbe.\n",
    "\n",
    "Pythonban is viszonylag régóta a nyelv részét képezik bizonyos FP-konstrukciók, és a legutóbbi alkalommal, a Python 3.10 megjelenésével is került be lényeges új szintaxis, a mintaillesztés (pattern matching), amelyek FP-nyelvekben már régóta jelen vannak.\n",
    "\n",
    "A jelenlegi FP-nyelvek egyik őse az ML-nyelvcsalád volt az 1980-as években, amelyekből sok modern FP-nyelv merített ötleteket. Ha a nagy imperatív nyelveket felsoroltam korábban (C, C++, Java, C#), akkor álljon itt néhány ismertebb FP-nyelv is: SML, OCaml, Haskell, Scala, Erlang, Elixir, F#, Elm, Lisp, Clojure, Scheme."
   ]
  },
  {
   "cell_type": "markdown",
   "id": "08a5b112",
   "metadata": {
    "slideshow": {
     "slide_type": "slide"
    }
   },
   "source": [
    "## map és filter"
   ]
  },
  {
   "cell_type": "markdown",
   "id": "788f7281",
   "metadata": {
    "slideshow": {
     "slide_type": "subslide"
    }
   },
   "source": [
    "A `map` és a `filter` függvények úgynevezett magasabb rendű függvények (higher order function), mert az első paraméter, amit várnak, egy függvény.\n",
    "\n",
    "```\n",
    "map(f, xs) -> [f(x) for x in xs]\n",
    "```\n",
    "\n",
    "```\n",
    "filter(p, xs) -> [x for x in xs if p(x)]\n",
    "```\n",
    "\n",
    "A `map` egy függvényt vár, amit a másik paraméter elemeire tudunk alkalmazni, a `filter` pedig egy úgynevezett predikátumot vár, ami a második paraméter elemeihez igaz/hamis értékeket tud rendelni. "
   ]
  },
  {
   "cell_type": "code",
   "execution_count": null,
   "id": "5193cd82",
   "metadata": {
    "slideshow": {
     "slide_type": "subslide"
    }
   },
   "outputs": [],
   "source": [
    "lst = [1, 2, 3]\n",
    "\n",
    "double_lst = [2*x for x in lst]\n",
    "\n",
    "double_lst"
   ]
  },
  {
   "cell_type": "code",
   "execution_count": null,
   "id": "8ba48bde",
   "metadata": {
    "slideshow": {
     "slide_type": "fragment"
    }
   },
   "outputs": [],
   "source": [
    "result = map(lambda x: 2*x, lst)"
   ]
  },
  {
   "cell_type": "code",
   "execution_count": null,
   "id": "c0beb742",
   "metadata": {
    "slideshow": {
     "slide_type": "subslide"
    }
   },
   "outputs": [],
   "source": [
    "for y in result:\n",
    "    print(y)"
   ]
  },
  {
   "cell_type": "code",
   "execution_count": null,
   "id": "0dca4d87",
   "metadata": {
    "slideshow": {
     "slide_type": "subslide"
    }
   },
   "outputs": [],
   "source": [
    "for y in result:\n",
    "    print(y)"
   ]
  },
  {
   "cell_type": "code",
   "execution_count": null,
   "id": "3af7bae5",
   "metadata": {
    "slideshow": {
     "slide_type": "fragment"
    }
   },
   "outputs": [],
   "source": [
    "list(result)"
   ]
  },
  {
   "cell_type": "code",
   "execution_count": null,
   "id": "a7cbba02",
   "metadata": {
    "slideshow": {
     "slide_type": "subslide"
    }
   },
   "outputs": [],
   "source": [
    "# Az eredmény egy olyan objektum, amin végig lehet iterálni, de csak egyszer\n",
    "result = map(lambda x: 2*x, lst)\n",
    "\n",
    "\n",
    "# El tudjuk tenni az eredményt listába, ha akarjuk\n",
    "result = list(map(lambda x: 2*x, lst))\n",
    "\n",
    "result"
   ]
  },
  {
   "cell_type": "code",
   "execution_count": null,
   "id": "10083cf1",
   "metadata": {
    "slideshow": {
     "slide_type": "slide"
    }
   },
   "outputs": [],
   "source": [
    "even_numbers = [x for x in lst if x % 2 == 1]\n",
    "\n",
    "even_numbers"
   ]
  },
  {
   "cell_type": "code",
   "execution_count": null,
   "id": "51d33208",
   "metadata": {
    "slideshow": {
     "slide_type": "fragment"
    }
   },
   "outputs": [],
   "source": [
    "result = filter(lambda x: x % 2 == 1, lst)"
   ]
  },
  {
   "cell_type": "code",
   "execution_count": null,
   "id": "62d499ea",
   "metadata": {
    "slideshow": {
     "slide_type": "subslide"
    }
   },
   "outputs": [],
   "source": [
    "for y in result:\n",
    "    print(y)"
   ]
  },
  {
   "cell_type": "code",
   "execution_count": null,
   "id": "7a1be25a",
   "metadata": {
    "slideshow": {
     "slide_type": "fragment"
    }
   },
   "outputs": [],
   "source": [
    "# Ismét kimerítettük a keletkező objektumot.\n",
    "\n",
    "for y in result:\n",
    "    print(y)"
   ]
  },
  {
   "cell_type": "code",
   "execution_count": null,
   "id": "e03ba853",
   "metadata": {
    "slideshow": {
     "slide_type": "subslide"
    }
   },
   "outputs": [],
   "source": [
    "# Természetesen lambda-függvény helyett lehet névvel definiált függvényt használni.\n",
    "\n",
    "\n",
    "def is_odd(n):\n",
    "    return n % 2 == 1\n",
    "\n",
    "\n",
    "list(filter(is_odd, lst))"
   ]
  },
  {
   "cell_type": "markdown",
   "id": "d9649eb3",
   "metadata": {
    "slideshow": {
     "slide_type": "slide"
    }
   },
   "source": [
    "Feladat: Printeljük ki 1-10-ig a számokat \n",
    "\n",
    "* (a) függőlegesen, mindet új sorba; \n",
    "* (b) vízszintesen, egy sorba, vesszővel elválasztva."
   ]
  },
  {
   "cell_type": "code",
   "execution_count": null,
   "id": "37b26b9c",
   "metadata": {
    "slideshow": {
     "slide_type": "subslide"
    }
   },
   "outputs": [],
   "source": [
    "for k in range(1, 11):\n",
    "    print(k)"
   ]
  },
  {
   "cell_type": "code",
   "execution_count": null,
   "id": "643f3018",
   "metadata": {
    "slideshow": {
     "slide_type": "fragment"
    }
   },
   "outputs": [],
   "source": [
    "\",\".join(map(lambda x: str(x), range(1, 11)))"
   ]
  },
  {
   "cell_type": "code",
   "execution_count": null,
   "id": "579b91c0",
   "metadata": {
    "slideshow": {
     "slide_type": "fragment"
    }
   },
   "outputs": [],
   "source": [
    "\",\".join(map(str, range(1, 11)))"
   ]
  },
  {
   "cell_type": "markdown",
   "id": "027c027f",
   "metadata": {
    "slideshow": {
     "slide_type": "slide"
    }
   },
   "source": [
    "Az FP-paradigma főbb alapelvei: \n",
    "    \n",
    "* használjuk matematika értelemben vett, mellékhatások nélküli függvényeket\n",
    "* az adat legyen immutable\n",
    "* az adatot függvényekkel transzformáljuk (és nem felülírjuk / módosítjuk)\n",
    "* a nevekhez egyszer társítsunk értéket (azaz a \"változó\" ne változzon!)\n",
    "\n",
    "\n",
    "Ehhez a Python viszonylag kevés támogatást ad, de ettől még ezek az alapelvek hasznosak tudnak lenni, mert csökkenti a hibalehetőségek számát."
   ]
  },
  {
   "cell_type": "code",
   "execution_count": null,
   "id": "f5771770",
   "metadata": {
    "slideshow": {
     "slide_type": "subslide"
    }
   },
   "outputs": [],
   "source": [
    "# pl. állítsuk elő 2 függvény kompzícióját\n",
    "\n",
    "def compose(f, g):\n",
    "    def helper(x):\n",
    "        return f(g(x))\n",
    "    \n",
    "    return helper\n",
    "\n",
    "\n",
    "# vagy:\n",
    "# def compose(f, g):\n",
    "#     return lambda x: f(g(x))"
   ]
  },
  {
   "cell_type": "code",
   "execution_count": null,
   "id": "05161730",
   "metadata": {
    "slideshow": {
     "slide_type": "subslide"
    }
   },
   "outputs": [],
   "source": [
    "def f(x):\n",
    "    return x + 1\n",
    "\n",
    "\n",
    "def g(x):\n",
    "    return 2*x\n",
    "\n",
    "\n",
    "h = compose(f, g)\n",
    "\n",
    "h(10)"
   ]
  },
  {
   "cell_type": "markdown",
   "id": "a44ebf7a",
   "metadata": {
    "slideshow": {
     "slide_type": "slide"
    }
   },
   "source": [
    "## Generátorok (generators)"
   ]
  },
  {
   "cell_type": "markdown",
   "id": "882b86a3",
   "metadata": {
    "slideshow": {
     "slide_type": "subslide"
    }
   },
   "source": [
    "A generátorok olyan \"adatszerkezetek\", amelyek nem állítják elő az adatot (a listával ellentétben), hanem eltárolják azt a módot, ahogy a kért adat legenerálható, és kérésre újabb és újabb elemet készít el és ad vissza nekünk."
   ]
  },
  {
   "cell_type": "code",
   "execution_count": null,
   "id": "61968326",
   "metadata": {
    "slideshow": {
     "slide_type": "subslide"
    }
   },
   "outputs": [],
   "source": [
    "lst = [1, 2, 3]\n",
    "\n",
    "result = [2*x for x in lst]\n",
    "print(result)\n",
    "\n",
    "def double(lst):\n",
    "    result = []\n",
    "    for x in lst:\n",
    "        result.append(2*x)\n",
    "    return result\n",
    "\n",
    "double(lst)"
   ]
  },
  {
   "cell_type": "code",
   "execution_count": null,
   "id": "462ee6c5",
   "metadata": {
    "slideshow": {
     "slide_type": "subslide"
    }
   },
   "outputs": [],
   "source": [
    "lst = [1, 2, 3]\n",
    "\n",
    "# Ez nem tuple-comprehension!\n",
    "result = (2*x for x in lst)\n",
    "\n",
    "result"
   ]
  },
  {
   "cell_type": "code",
   "execution_count": null,
   "id": "9ac81778",
   "metadata": {
    "slideshow": {
     "slide_type": "subslide"
    }
   },
   "outputs": [],
   "source": [
    "def generate_doubles(lst):\n",
    "    for x in lst:\n",
    "        yield 2*x\n",
    "        \n",
    "        \n",
    "result = generate_doubles(lst)\n",
    "result"
   ]
  },
  {
   "cell_type": "code",
   "execution_count": null,
   "id": "790958f9",
   "metadata": {
    "slideshow": {
     "slide_type": "fragment"
    }
   },
   "outputs": [],
   "source": [
    "for y in result:\n",
    "    print(y)"
   ]
  },
  {
   "cell_type": "code",
   "execution_count": null,
   "id": "6d684d25",
   "metadata": {
    "slideshow": {
     "slide_type": "subslide"
    }
   },
   "outputs": [],
   "source": [
    "result = generate_doubles(lst)\n",
    "\n",
    "while True:\n",
    "    y = next(result)\n",
    "    print(y)"
   ]
  },
  {
   "cell_type": "code",
   "execution_count": null,
   "id": "338b010e",
   "metadata": {
    "slideshow": {
     "slide_type": "subslide"
    }
   },
   "outputs": [],
   "source": [
    "result = generate_doubles(lst)\n",
    "\n",
    "while True:\n",
    "    try:\n",
    "        y = next(result)\n",
    "        print(y)\n",
    "    except StopIteration:\n",
    "        break"
   ]
  },
  {
   "cell_type": "code",
   "execution_count": null,
   "id": "385bb59f",
   "metadata": {
    "slideshow": {
     "slide_type": "fragment"
    }
   },
   "outputs": [],
   "source": [
    "result = generate_doubles(lst)\n",
    "\n",
    "while (y := next(result, None)) is not None:\n",
    "    print(y)"
   ]
  },
  {
   "cell_type": "markdown",
   "id": "1c728db0",
   "metadata": {
    "slideshow": {
     "slide_type": "slide"
    }
   },
   "source": [
    "A generátor objektum tehát a `next` függvényhívás során legenerálja a következő elemet, egészen addig, amíg el nem \"fogy\". Ha nincs több elem, amit generálhatna, de mi mégis meghívnánk a következő elemet, akkor egy `StopIteration` hibát dob.\n",
    "\n",
    "Egy `for` ciklussal egyszerűen végigiterálhatunk egy generátor elemein, amennyiben az véget ér. Lehet ugyanis olyan generátort csinálni, ami végtelen sok elemet képes generálni."
   ]
  },
  {
   "cell_type": "code",
   "execution_count": null,
   "id": "49264d0c",
   "metadata": {
    "slideshow": {
     "slide_type": "subslide"
    }
   },
   "outputs": [],
   "source": [
    "def generate_natural_numbers():\n",
    "    n = 0\n",
    "    while True:\n",
    "        yield n\n",
    "        n += 1\n",
    "        \n",
    "        \n",
    "numbers = generate_natural_numbers()\n",
    "\n",
    "numbers"
   ]
  },
  {
   "cell_type": "code",
   "execution_count": null,
   "id": "f8376e71",
   "metadata": {
    "slideshow": {
     "slide_type": "subslide"
    }
   },
   "outputs": [],
   "source": [
    "for k in numbers:\n",
    "    print(k)\n",
    "    if k >= 5:\n",
    "        break"
   ]
  },
  {
   "cell_type": "code",
   "execution_count": null,
   "id": "3a605f75",
   "metadata": {
    "slideshow": {
     "slide_type": "subslide"
    }
   },
   "outputs": [],
   "source": [
    "def generate_fibonacci_numbers():\n",
    "    a = 1\n",
    "    b = 1\n",
    "    while True:\n",
    "        yield a\n",
    "        a, b = b, a + b"
   ]
  },
  {
   "cell_type": "code",
   "execution_count": null,
   "id": "925fae80",
   "metadata": {
    "slideshow": {
     "slide_type": "subslide"
    }
   },
   "outputs": [],
   "source": [
    "fibonacci_numbers = generate_fibonacci_numbers()\n",
    "\n",
    "small_fibs = []\n",
    "for f in fibonacci_numbers:\n",
    "    if f > 1000:\n",
    "        break\n",
    "        \n",
    "    small_fibs.append(f)\n",
    "\n",
    "small_fibs"
   ]
  },
  {
   "cell_type": "markdown",
   "id": "0ec0f3d3",
   "metadata": {
    "slideshow": {
     "slide_type": "subslide"
    }
   },
   "source": [
    "Az `itertools` könyvtárban sok olyan érdekes függvény van, ami ilyen véges vagy végtelen generátorok kezelésére van kitalálva."
   ]
  },
  {
   "cell_type": "code",
   "execution_count": null,
   "id": "a6b6020c",
   "metadata": {
    "slideshow": {
     "slide_type": "subslide"
    }
   },
   "outputs": [],
   "source": [
    "import itertools as it"
   ]
  },
  {
   "cell_type": "code",
   "execution_count": null,
   "id": "9689e7be",
   "metadata": {
    "slideshow": {
     "slide_type": "subslide"
    }
   },
   "outputs": [],
   "source": [
    "counter = it.count(0, 9)\n",
    "\n",
    "for k in counter:\n",
    "    if k >= 100:\n",
    "        break\n",
    "        \n",
    "    print(k)"
   ]
  },
  {
   "cell_type": "code",
   "execution_count": null,
   "id": "d806635b",
   "metadata": {
    "slideshow": {
     "slide_type": "subslide"
    }
   },
   "outputs": [],
   "source": [
    "for ix, x in enumerate(it.cycle([1, 2, 3])):\n",
    "    if ix >= 10: \n",
    "        break\n",
    "        \n",
    "    print(x)"
   ]
  },
  {
   "cell_type": "code",
   "execution_count": null,
   "id": "70a8ad69",
   "metadata": {
    "slideshow": {
     "slide_type": "subslide"
    }
   },
   "outputs": [],
   "source": [
    "lst = [[1, 2, 3], [4], [], [5, 6]]\n",
    "\n",
    "for x in it.chain.from_iterable(lst):\n",
    "    print(x)"
   ]
  },
  {
   "cell_type": "code",
   "execution_count": null,
   "id": "9b1c490e",
   "metadata": {
    "slideshow": {
     "slide_type": "subslide"
    }
   },
   "outputs": [],
   "source": [
    "lst = [\"Hel\", \"lo\", \" w\", \"\", \"\", \"orld!\"]\n",
    "\n",
    "for x in it.chain.from_iterable(lst):\n",
    "    print(x)"
   ]
  },
  {
   "cell_type": "code",
   "execution_count": null,
   "id": "61eda07a",
   "metadata": {
    "slideshow": {
     "slide_type": "subslide"
    }
   },
   "outputs": [],
   "source": [
    "for x in it.product([1, 2, 3], repeat=2):\n",
    "    print(x)"
   ]
  },
  {
   "cell_type": "code",
   "execution_count": null,
   "id": "aa0d232a",
   "metadata": {
    "slideshow": {
     "slide_type": "subslide"
    }
   },
   "outputs": [],
   "source": [
    "fibonacci_numbers = generate_fibonacci_numbers()\n",
    "\n",
    "\n",
    "list(it.takewhile(lambda x: x <= 1000, fibonacci_numbers))"
   ]
  },
  {
   "cell_type": "markdown",
   "id": "27f78cd8",
   "metadata": {
    "slideshow": {
     "slide_type": "slide"
    }
   },
   "source": [
    "**Feladat**: van egy [szám](https://en.wikipedia.org/wiki/Champernowne_constant), ami így van definiálva: 0.12345678910111213141516.... Mi ennek a számnak az egymilliomodik számjegye? (Az első számjegy $0$, a második $1$, stb.)"
   ]
  },
  {
   "cell_type": "markdown",
   "id": "29c22b37",
   "metadata": {
    "slideshow": {
     "slide_type": "fragment"
    }
   },
   "source": [
    "Ötlet: ahogy jönnek a számok egymás után (0, 1, 2, ..., 10, 11, 12, ..., 100, 101, 102, ...), mikor érjük el az $n$-edik számjegyet?"
   ]
  },
  {
   "cell_type": "code",
   "execution_count": null,
   "id": "20607353",
   "metadata": {
    "slideshow": {
     "slide_type": "subslide"
    }
   },
   "outputs": [],
   "source": [
    "# Imperatív stílusú megoldás\n",
    "\n",
    "def calc_digit_imperative(nr_digits):\n",
    "    counted_digits = 0\n",
    "    n = 0\n",
    "    while True:\n",
    "        s = str(n)\n",
    "        if len(s) + counted_digits > nr_digits:\n",
    "            return int(s[nr_digits-counted_digits])\n",
    "        \n",
    "        counted_digits += len(s)\n",
    "        n += 1\n",
    "\n",
    "\n",
    "calc_digit_imperative(999999)"
   ]
  },
  {
   "cell_type": "markdown",
   "id": "0df37e89",
   "metadata": {
    "slideshow": {
     "slide_type": "subslide"
    }
   },
   "source": [
    "Hogy oldottuk meg?\n",
    "\n",
    "* bevezettük egy $n$ **változót** az egész számokra, amelyet folyamatosan növeltünk\n",
    "* egy végtelen **while ciklus**ban iteráltunk, amíg el nem értük a keresett számjegyet\n",
    "* egy **változóban** tároltuk, hogy eddig hány számjegyet láttunk\n",
    "* egy **if feltétel**lel megnéztük, hogy elértük-e már a keresett számjegyet"
   ]
  },
  {
   "cell_type": "code",
   "execution_count": null,
   "id": "2affc803",
   "metadata": {
    "slideshow": {
     "slide_type": "subslide"
    }
   },
   "outputs": [],
   "source": [
    "# Funkcionális stílusú megoldás\n",
    "\n",
    "def calc_digit_functional(nr_digits):\n",
    "    numbers = it.count(0)   # 0, 1, 2, 3, ...\n",
    "    number_strings = map(str, numbers)    # \"0\", \"1\", ... , \"10\", \"11\", ...\n",
    "    digits = it.chain.from_iterable(number_strings)  # \"0\", \"1\", ..., \"1\", \"0\", \"1\", \"1\", ...\n",
    "    result = next(it.islice(digits, nr_digits, nr_digits + 1))\n",
    "    return int(result)\n",
    "\n",
    "\n",
    "calc_digit_functional(999999)"
   ]
  },
  {
   "cell_type": "markdown",
   "id": "608d0f4e",
   "metadata": {
    "slideshow": {
     "slide_type": "subslide"
    }
   },
   "source": [
    "A fenti megoldásban\n",
    "    \n",
    "* nem volt változó\n",
    "* nem volt for/while ciklus\n",
    "* nem volt if-feltétel"
   ]
  },
  {
   "cell_type": "markdown",
   "id": "33e35840",
   "metadata": {
    "slideshow": {
     "slide_type": "subslide"
    }
   },
   "source": [
    "Csak érdekességképpen, a fenti feladat így oldható meg a tisztán funkcionális Haskell nyelven:\n",
    "\n",
    "```Haskell\n",
    "import Data.Char (digitToInt)\n",
    "\n",
    "calcDigit :: Int -> Int\n",
    "calcDigit nrDigits = digitToInt $ concatMap show [0..] !! nrDigits\n",
    "```"
   ]
  },
  {
   "cell_type": "markdown",
   "id": "3f2de6f5",
   "metadata": {
    "slideshow": {
     "slide_type": "slide"
    }
   },
   "source": [
    "## Az iterálható objektumok (Iterables)"
   ]
  },
  {
   "cell_type": "markdown",
   "id": "8ec8aad1",
   "metadata": {
    "slideshow": {
     "slide_type": "subslide"
    }
   },
   "source": [
    "Egy `iterable` olyan Python objektum, amin végig lehet iterálni egy `for` ciklussal.\n",
    "\n",
    "```python\n",
    "class Set:\n",
    "    def __init__(self, *args):\n",
    "        s = []\n",
    "        for x in args:\n",
    "            if x not in s:\n",
    "                s.append(x)\n",
    "        \n",
    "        self._set = s\n",
    "```"
   ]
  },
  {
   "cell_type": "code",
   "execution_count": null,
   "id": "df273597",
   "metadata": {
    "slideshow": {
     "slide_type": "subslide"
    }
   },
   "outputs": [],
   "source": [
    "class Set:\n",
    "    def __init__(self, *args):\n",
    "        s = []\n",
    "        for x in args:\n",
    "            if x not in s:\n",
    "                s.append(x)\n",
    "        \n",
    "        self._set = s\n",
    "        \n",
    "        \n",
    "s = Set(1, 2, 3, 1, 1, 1, 2, 1)        "
   ]
  },
  {
   "cell_type": "code",
   "execution_count": null,
   "id": "c30b0bbd",
   "metadata": {
    "slideshow": {
     "slide_type": "fragment"
    }
   },
   "outputs": [],
   "source": [
    "for x in s:\n",
    "    print(x)"
   ]
  },
  {
   "cell_type": "code",
   "execution_count": null,
   "id": "334aa35d",
   "metadata": {
    "slideshow": {
     "slide_type": "subslide"
    }
   },
   "outputs": [],
   "source": [
    "class Set:\n",
    "    def __init__(self, *args):\n",
    "        s = []\n",
    "        for x in args:\n",
    "            if x not in s:\n",
    "                s.append(x)\n",
    "        \n",
    "        self._set = s\n",
    "        \n",
    "    def __iter__(self):\n",
    "        for x in self._set:\n",
    "            yield x"
   ]
  },
  {
   "cell_type": "code",
   "execution_count": null,
   "id": "c24869c6",
   "metadata": {
    "slideshow": {
     "slide_type": "subslide"
    }
   },
   "outputs": [],
   "source": [
    "s = Set(1, 2, 3, 1, 1, 1, 2, 1)       \n",
    "\n",
    "for x in s:\n",
    "    print(x)"
   ]
  },
  {
   "cell_type": "code",
   "execution_count": null,
   "id": "b14da2ac",
   "metadata": {
    "slideshow": {
     "slide_type": "subslide"
    }
   },
   "outputs": [],
   "source": [
    "class Set:\n",
    "    def __init__(self, *args):\n",
    "        s = []\n",
    "        for x in args:\n",
    "            if x not in s:\n",
    "                s.append(x)\n",
    "        \n",
    "        self._set = s\n",
    "        \n",
    "    def __iter__(self):\n",
    "        return iter(self._set)"
   ]
  },
  {
   "cell_type": "code",
   "execution_count": null,
   "id": "5907d264",
   "metadata": {
    "slideshow": {
     "slide_type": "subslide"
    }
   },
   "outputs": [],
   "source": [
    "s = Set(1, 2, 3, 1, 1, 1, 2, 1)       \n",
    "\n",
    "for x in s:\n",
    "    print(x)"
   ]
  },
  {
   "cell_type": "markdown",
   "id": "14efd48d",
   "metadata": {
    "slideshow": {
     "slide_type": "slide"
    }
   },
   "source": [
    "**HF**: Írjuk egy függvényt, mely adott $I=[a, b]\\ (a \\leq b)$ intervallum esetén visszaadja azon Fibonacci számokat, melyek az $I$ intervallumba esnek.\n",
    "\n",
    "```python\n",
    "def calc_fibonacci_numbers_in_interval(a, b):\n",
    "    pass\n",
    "```\n",
    "\n",
    "**HF** Egy adott sztringből távolítsuk el az egymás mellett álló ismétlődő karatereket. Példa: \"kukkkuuuurrrriiiikuuuuuuuu\" -> \"kukuriku\". (Ez már volt korábban. Most keressünk elegánsabb megoldást, pl. az itertools könyvtár függvényeinek segítségével.)\n",
    "\n",
    "```python\n",
    "def remove_consecutive_duplicates(string):\n",
    "    pass\n",
    "```"
   ]
  },
  {
   "cell_type": "markdown",
   "id": "e6c97c44",
   "metadata": {
    "slideshow": {
     "slide_type": "slide"
    }
   },
   "source": [
    "**HF**: Írjunk egy `Polynomial` osztályt, ahol a polinomot tároljuk el, mint az együtthatóinak listáját.\n",
    "```Python\n",
    "class Polynomial:\n",
    "    def __init__(self, *coefficients):\n",
    "        self.coefficients = coefficients\n",
    "\n",
    "p = Polynomial(1, 0, -3)    # -> x^2 - 3\n",
    "q = Polynomial(2, 0, 3, 1)  # -> 2x^3 + 3x + 1\n",
    "```\n",
    "\n",
    "Implementáljuk két ilyen polinom összeadását (azaz írjuk meg az `__add__` metódust, valamint az `__str__`-t is, hogy lássuk, mi egy ilyen osztálypéldány tartalma)."
   ]
  }
 ],
 "metadata": {
  "celltoolbar": "Slideshow",
  "kernelspec": {
   "display_name": "Python 3 (ipykernel)",
   "language": "python",
   "name": "python3"
  },
  "language_info": {
   "codemirror_mode": {
    "name": "ipython",
    "version": 3
   },
   "file_extension": ".py",
   "mimetype": "text/x-python",
   "name": "python",
   "nbconvert_exporter": "python",
   "pygments_lexer": "ipython3",
   "version": "3.9.12"
  }
 },
 "nbformat": 4,
 "nbformat_minor": 5
}
